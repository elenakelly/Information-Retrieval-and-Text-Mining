{
  "cells": [
    {
      "cell_type": "markdown",
      "metadata": {
        "id": "view-in-github",
        "colab_type": "text"
      },
      "source": [
        "<a href=\"https://colab.research.google.com/github/elenakelly/Information-Retrieval-and-Text-Mining/blob/main/Information_Extraction.ipynb\" target=\"_parent\"><img src=\"https://colab.research.google.com/assets/colab-badge.svg\" alt=\"Open In Colab\"/></a>"
      ]
    },
    {
      "cell_type": "markdown",
      "metadata": {
        "id": "m7tNwXXJ_BBb"
      },
      "source": [
        "## Start by copying this into your Google Drive!!"
      ]
    },
    {
      "cell_type": "markdown",
      "metadata": {
        "id": "UIBbWrF5_DXC"
      },
      "source": [
        "![Maastricht_University_logo.svg](data:image/svg+xml;base64,PD94bWwgdmVyc2lvbj0iMS4wIiBlbmNvZGluZz0iVVRGLTgiIHN0YW5kYWxvbmU9Im5vIj8+CjxzdmcgeG1sbnM9Imh0dHA6Ly93d3cudzMub3JnLzIwMDAvc3ZnIiBoZWlnaHQ9IjEzN3B4IiB3aWR0aD0iNjYwcHgiIHZlcnNpb249IjEuMSIgeG1sbnM6eGxpbms9Imh0dHA6Ly93d3cudzMub3JnLzE5OTkveGxpbmsiIHZpZXdCb3g9IjAgMCA2NjAgMTM3Ij4KIDxyZWN0IHk9Ii4yNDkyMiIgeD0iLjI1IiBoZWlnaHQ9IjEzNi41IiB3aWR0aD0iNjU5LjUiIGZpbGw9IiNmZmYiLz4KIDxwYXRoIGQ9Im0yMy4wMDEgMjMuMTAydjU0LjEyNGw1NS41OC0yNS4yNzUtNTUuNTgtMjguODQ5em02Ni44ODkgMzYuOTgzdjUzLjkwNWwtNTUuNTY2LTI1LjMzOSA1NS41NjYtMjguNTY2em04MS4wNSAyOC42ODlsLTUuNzMtMzYuODU0aC04LjI0bC02LjM0IDE5LjA1NWMtMC45MiAyLjczLTEuNTMgNC44MDUtMi4wNyA3LjY0NGgtMC4xMWMtMC40OS0yLjYyMS0xLjE1LTUuMTMyLTIuMDItNy43NTNsLTYuMTctMTguOTQ2aC04LjNsLTUuNjggMzYuODU0aDcuMjFsMi4wNy0xNi45OGMwLjQ0LTMuMjIxIDAuODItNi4xMTUgMS4wNC05LjM5MWgwLjExYzAuNDQgMi45NDggMS4zNyA2LjI3OSAyLjM1IDkuMjgybDUuNjIgMTcuMDg5aDcuMDVsNS44NC0xOC41MDljMC45My0yLjg5NCAxLjUzLTUuNTE0IDIuMDItNy44NjJoMC4xMWMwLjI3IDIuNTY2IDAuNiA1LjI5NiAxLjE0IDguNzlsMi42MiAxNy41ODFoNy40OHptMjYuNTYgMGMtMC4xMS0yLjIzOC0wLjE2LTQuODA0LTAuMTYtNi45ODh2LTExLjMwMmMwLTUuODk3LTIuNDYtOS40NDYtMTEuMTktOS40NDYtMy41IDAtNi45OSAwLjcxLTkuNzIgMS42OTNsMC42IDUuODQyYzIuMjktMS4zMTEgNS41Ny0yLjEzIDguMDItMi4xMyAzLjkzIDAgNS4zIDEuNDc0IDUuMyA0LjMxNHYxLjQ3NGMtOS4yMyAwLTE1LjY3IDMuNDQtMTUuNjcgOS45MzcgMCA0LjM2OCAyLjg0IDcuMTUyIDcuNzUgNy4xNTIgNC4wNCAwIDcuMzctMi4xMjkgOC42OC01LjE4N2wwLjA2IDAuMDU1Yy0wLjIyIDEuNDItMC4yNyAzLjAwMy0wLjI3IDQuNTg2aDYuNnptLTcuMTUtMTEuMzU2YzAgMy4yNzYtMi4zNSA2LjU1Mi01Ljc5IDYuNTUyLTIuMDIgMC0zLjIyLTEuMTQ3LTMuMjItMi44OTQgMC0yLjE4NCAxLjY0LTQuMzEzIDkuMDEtNC4zMTN2MC42NTV6bTM1LjczIDExLjM1NmMtMC4xMS0yLjIzOC0wLjE2LTQuODA0LTAuMTYtNi45ODh2LTExLjMwMmMwLTUuODk3LTIuNDYtOS40NDYtMTEuMi05LjQ0Ni0zLjQ5IDAtNi45OSAwLjcxLTkuNzIgMS42OTNsMC42MSA1Ljg0MmMyLjI5LTEuMzExIDUuNTYtMi4xMyA4LjAyLTIuMTMgMy45MyAwIDUuMyAxLjQ3NCA1LjMgNC4zMTR2MS40NzRjLTkuMjMgMC0xNS42NyAzLjQ0LTE1LjY3IDkuOTM3IDAgNC4zNjggMi44NCA3LjE1MiA3Ljc1IDcuMTUyIDQuMDQgMCA3LjM3LTIuMTI5IDguNjgtNS4xODdsMC4wNiAwLjA1NWMtMC4yMiAxLjQyLTAuMjggMy4wMDMtMC4yOCA0LjU4Nmg2LjYxem0tNy4xNS0xMS4zNTZjMCAzLjI3Ni0yLjM1IDYuNTUyLTUuNzkgNi41NTItMi4wMiAwLTMuMjItMS4xNDctMy4yMi0yLjg5NCAwLTIuMTg0IDEuNjQtNC4zMTMgOS4wMS00LjMxM3YwLjY1NXptMzEuNDEgMi45NDhjMC04Ljc5LTExLjEzLTYuODI1LTExLjEzLTExLjI0NyAwLTEuNjkzIDEuMzEtMi43ODUgNC4wNC0yLjc4NSAxLjY5IDAgMy40OSAwLjI3MyA1LjAyIDAuNzFsMC4yMi01LjUxNWMtMS42NC0wLjI3My0zLjM5LTAuNDkxLTQuOTctMC40OTEtNy42NCAwLTExLjUyIDMuOTMxLTExLjUyIDguNjgxIDAgOS4yMjcgMTAuOTcgNi40OTggMTAuOTcgMTEuMzAyIDAgMS44MDItMS43NCAyLjg5NC00LjQyIDIuODk0LTIuMDcgMC00LjE1LTAuMzgyLTUuODQtMC44MTlsLTAuMTYgNS43MzNjMS43NCAwLjI3MyAzLjcxIDAuNDkxIDUuNjcgMC40OTEgNy40MyAwIDEyLjEyLTMuNjAzIDEyLjEyLTguOTU0em0yMC43MiA4LjI0NXYtNS42MjRjLTAuOTggMC4yNzMtMi4yNCAwLjQzNy0zLjM4IDAuNDM3LTIuNDEgMC0zLjIzLTAuOTgzLTMuMjMtNC40Nzh2LTExLjkwMmg2LjYxdi01LjQwNWgtNi42MXYtMTAuMjFsLTYuOTggMS44NTZ2OC4zNTRoLTQuNjV2NS40MDVoNC43djEzLjc1OWMwIDYuMzMzIDEuODYgOC41MTcgNy44NiA4LjUxNyAxLjkxIDAgMy45My0wLjI3MyA1LjY4LTAuNzA5em0yMC41LTI3LjU3M2MtNC43LTAuMzgyLTcuMzIgMi42MjEtOC42MyA2LjA2aC0wLjExYzAuMzMtMS45MSAwLjQ5LTQuMDk0IDAuNDktNS40NTloLTYuNnYyNy4xMzVoNi45OXYtMTEuMDgzYzAtNy41MzUgMi41MS0xMC44MTEgNy41My05Ljc3NGwwLjMzLTYuODc5em0xMi4zNi03LjE1MmMwLTIuMzQ4LTEuOTctNC4yMDUtNC4zNy00LjIwNXMtNC4zMSAxLjkxMS00LjMxIDQuMjA1YzAgMi4zNDcgMS45MSA0LjI1OCA0LjMxIDQuMjU4czQuMzctMS45MTEgNC4zNy00LjI1OHptLTAuODcgMzQuODg4di0yNy4xMzVoLTYuOTl2MjcuMTM1aDYuOTl6bTI1LjI0LTAuNzY0bC0wLjU0LTUuOTUxYy0xLjQ4IDAuNzY0LTMuNSAxLjE0Ni01LjM1IDEuMTQ2LTQuNjQgMC02LjQ1LTMuMTY3LTYuNDUtNy44MDcgMC01LjEzMyAyLjI0LTguNDA5IDYuNjctOC40MDkgMS43NCAwIDMuNDQgMC40MzcgNC45MSAwLjk4M2wwLjcxLTYuMDZjLTEuNzUtMC40OTItMy43MS0wLjc2NS01LjU3LTAuNzY1LTkuNjEgMC0xNC4wMyA2LjQ5Ny0xNC4wMyAxNC45NiAwIDkuMjI4IDQuNjkgMTMuMTU5IDEyLjIzIDEzLjE1OSAyLjg5IDAgNS41Ny0wLjU0NiA3LjQyLTEuMjU2em0yOS4wMiAwLjc2NHYtMTkuMDU1YzAtNC43NS0xLjk3LTguNjgxLTguMDgtOC42ODEtNC4yMSAwLTcuMzIgMi4wMi04LjkgNS4wNzhsLTAuMTEtMC4wNTVjMC4zOC0xLjU4MyAwLjQ5LTMuODc2IDAuNDktNS41MTR2LTExLjYzaC02Ljk5djM5Ljg1N2g2Ljk5di0xMy4xMDNjMC00Ljc1MSAyLjc4LTguNzkxIDYuMzMtOC43OTEgMi41NyAwIDMuMzMgMS42OTMgMy4zMyA0LjUzMnYxNy4zNjJoNi45NHptMjIuMzUtMC4xNjN2LTUuNjI0Yy0wLjk4IDAuMjczLTIuMjQgMC40MzctMy4zOCAwLjQzNy0yLjQxIDAtMy4yMi0wLjk4My0zLjIyLTQuNDc4di0xMS45MDJoNi42di01LjQwNWgtNi42di0xMC4yMWwtNi45OSAxLjg1NnY4LjM1NGgtNC42NHY1LjQwNWg0LjY5djEzLjc1OWMwIDYuMzMzIDEuODYgOC41MTcgNy44NiA4LjUxNyAxLjkxIDAgMy45My0wLjI3MyA1LjY4LTAuNzA5em00Ny45My0xNC4xNDJ2LTIyLjU0OWgtNy4wNHYyMi45ODZjMCA2LjI3OS0yLjMgOC41NzItNy43NiA4LjU3Mi02LjExIDAtNy42NC0zLjI3Ni03LjY0LTcuOTE3di0yMy42NDFoLTcuMXYyNC4wNzhjMCA3LjA0MyAyLjYyIDEzLjM3NyAxNC4yNSAxMy4zNzcgOS43MiAwIDE1LjI5LTQuODA1IDE1LjI5LTE0LjkwNnptMzEuMTUgMTQuMzA1di0xOS4wNTVjMC00Ljc1LTEuOTctOC42ODEtOC4wOS04LjY4MS00LjQyIDAtNy41OCAyLjIzOS05LjIyIDUuNDZsLTAuMDYtMC4wNTVjMC4yOC0xLjQxOSAwLjM4LTMuNTQ5IDAuMzgtNC44MDRoLTYuNnYyNy4xMzVoNi45OXYtMTMuMTAzYzAtNC43NTEgMi43OC04Ljc5MSA2LjMzLTguNzkxIDIuNTcgMCAzLjMzIDEuNjkzIDMuMzMgNC41MzJ2MTcuMzYyaDYuOTR6bTE1LjQxLTM0Ljg4OGMwLTIuMzQ4LTEuOTYtNC4yMDUtNC4zNi00LjIwNS0yLjQxIDAtNC4zMiAxLjkxMS00LjMyIDQuMjA1IDAgMi4zNDcgMS45MSA0LjI1OCA0LjMyIDQuMjU4IDIuNCAwIDQuMzYtMS45MTEgNC4zNi00LjI1OHptLTAuODcgMzQuODg4di0yNy4xMzVoLTYuOTl2MjcuMTM1aDYuOTl6bTMxLjItMjcuMTM1aC03LjQzbC00LjM2IDEyLjQ0OGMtMC42NiAxLjg1Ny0xLjIgMy45MzEtMS42NCA1Ljc4OGgtMC4xMWMtMC40OS0xLjk2Ni0xLjE1LTQuMTUtMS44LTYuMDA2bC00LjMyLTEyLjIzaC03LjY0bDEwLjA1IDI3LjEzNWg3LjA5bDEwLjE2LTI3LjEzNXptMjYuMTIgMTEuNTJjMC02LjcxNi0zLjQ5LTEyLjEyMS0xMS40MS0xMi4xMjEtOC4xNCAwLTEyLjcyIDYuMTE1LTEyLjcyIDE0LjQxNCAwIDkuNTU1IDQuOCAxMy44NjggMTMuNDMgMTMuODY4IDMuMzggMCA2LjgyLTAuNiA5LjcyLTEuNzQ3bC0wLjY2LTUuNDA1Yy0yLjM0IDEuMDkyLTUuMjQgMS42OTItNy45MSAxLjY5Mi01LjAzIDAtNy41NC0yLjQ1Ny03LjQ4LTcuNTM0aDE2LjgxYzAuMTctMS4xNDcgMC4yMi0yLjIzOSAwLjIyLTMuMTY3em0tNi45My0xLjU4M2gtOS45OWMwLjM4LTMuMjc2IDIuNC01LjQwNiA1LjI5LTUuNDA2IDIuOTUgMCA0LjgxIDIuMDIgNC43IDUuNDA2em0yNy41OS0xMC41MzhjLTQuNjktMC4zODItNy4zMSAyLjYyMS04LjYyIDYuMDZoLTAuMTFjMC4zMi0xLjkxIDAuNDktNC4wOTQgMC40OS01LjQ1OWgtNi42MXYyNy4xMzVoNi45OXYtMTEuMDgzYzAtNy41MzUgMi41MS0xMC44MTEgNy41My05Ljc3NGwwLjMzLTYuODc5em0yMS4zMiAxOS4zMjhjMC04Ljc5LTExLjE0LTYuODI1LTExLjE0LTExLjI0NyAwLTEuNjkzIDEuMzEtMi43ODUgNC4wNC0yLjc4NSAxLjY5IDAgMy40OSAwLjI3MyA1LjAyIDAuNzFsMC4yMi01LjUxNWMtMS42NC0wLjI3My0zLjM4LTAuNDkxLTQuOTctMC40OTEtNy42NCAwLTExLjUyIDMuOTMxLTExLjUyIDguNjgxIDAgOS4yMjcgMTAuOTggNi40OTggMTAuOTggMTEuMzAyIDAgMS44MDItMS43NSAyLjg5NC00LjQzIDIuODk0LTIuMDcgMC00LjE0LTAuMzgyLTUuODQtMC44MTlsLTAuMTYgNS43MzNjMS43NSAwLjI3MyAzLjcxIDAuNDkxIDUuNjggMC40OTEgNy40MiAwIDEyLjEyLTMuNjAzIDEyLjEyLTguOTU0em0xMy43OC0yNi40OGMwLTIuMzQ4LTEuOTctNC4yMDUtNC4zNy00LjIwNXMtNC4zMSAxLjkxMS00LjMxIDQuMjA1YzAgMi4zNDcgMS45MSA0LjI1OCA0LjMxIDQuMjU4czQuMzctMS45MTEgNC4zNy00LjI1OHptLTAuODcgMzQuODg4di0yNy4xMzVoLTYuOTl2MjcuMTM1aDYuOTl6bTIyLjMtMC4xNjN2LTUuNjI0Yy0wLjk5IDAuMjczLTIuMjQgMC40MzctMy4zOSAwLjQzNy0yLjQgMC0zLjIyLTAuOTgzLTMuMjItNC40Nzh2LTExLjkwMmg2LjYxdi01LjQwNWgtNi42MXYtMTAuMjFsLTYuOTkgMS44NTZ2OC4zNTRoLTQuNjR2NS40MDVoNC42OXYxMy43NTljMCA2LjMzMyAxLjg2IDguNTE3IDcuODcgOC41MTcgMS45MSAwIDMuOTMtMC4yNzMgNS42OC0wLjcwOXptMjkuMTItMjYuOTcyaC03LjQ4bC0zLjIyIDkuMjI3Yy0wLjg4IDIuNTY2LTIuMDIgNi4xNy0yLjYyIDguNjI2aC0wLjA2Yy0wLjYtMi40NTYtMS4zMS01LjEzMi0yLjEzLTcuNDhsLTMuNjUtMTAuMzczaC03Ljc2bDkuOTkgMjcuMTM1LTAuOTIgMi42MjFjLTEuNDIgNC4wNC0yLjk1IDUuMDc4LTUuMjUgNS4wNzgtMS4zMSAwLTIuNDUtMC4yMTktMy43MS0wLjYwMWwtMC40NCA2LjAwOGMxLjE1IDAuMjcgMi42MyAwLjQzIDMuODMgMC40MyA2LjIyIDAgOS4wNi0yLjU2MSAxMi4yOC0xMS4wMjRsMTEuMTQtMjkuNjQ3eiIgZmlsbD0iIzAwMUMzRCIvPgogPHBhdGggZD0ibTQ3LjEzNiA1Mi45MTN2LTExLjMwNmgtNS4xMTF2MTEuNTgzYzAgMi4zMzQtMC42NjcgMy4yMjMtMi43NSAzLjIyMy0yLjEzOSAwLTIuNzUtMS4wODQtMi43NS0zLjA4NHYtMTEuNzIyaC01LjE2N3YxMS45NzJjMCAzLjk3MyAxLjU4MyA3LjE2NyA3LjYxMSA3LjE2NyA1LjAyOCAwIDguMTY3LTIuMzg5IDguMTY3LTcuODMzem0zOC45ODMgNDMuNTI0bC0zLjgwMS0xOC43NWgtNS42NzRsLTMuNDQ3IDEzLjQ1OS0zLjEzOS0xMy40NTloLTUuMzk4bC00LjYzIDE4Ljc1aDQuNjNsMi43NDktMTMuNDM3IDMuMjQ3IDEzLjQzN2g1LjE1N2wzLjM4NS0xMy40MzcgMi40MDUgMTMuNDM3aDQuNTE2eiIgZmlsbD0iI2ZmZiIvPgo8L3N2Zz4K)\n",
        "\n",
        "# Information Retrieval and Text Mining Course - Tutorial Information Extraction\n",
        "Author: Jan Scholtes and Gijs Wijngaard\n",
        "\n",
        "\n"
      ]
    },
    {
      "cell_type": "markdown",
      "metadata": {
        "id": "14xe-BeO_G34"
      },
      "source": [
        "Welcome to the tutorial on Information Extraction. In this notebook you will learn several methods for information extraction. We will start with Named Entity Recognition in NLTK. Next we will look at BERT and Context Sensitive Embeddings, then move on to Sentiment Analysis with BERT and finally return to NER with BERT."
      ]
    },
    {
      "cell_type": "markdown",
      "source": [
        "# NTLK and Named Entity Extraction\n",
        "\n"
      ],
      "metadata": {
        "id": "3JM-ZSJfCLsB"
      }
    },
    {
      "cell_type": "markdown",
      "source": [
        "Named-entity recognition (NER) is a problem that has a goal to locate and classify named entities mentioned in unstructured text into pre-defined categories such as person names, organizations, locations, medical codes, time expressions, etc.\n",
        "\n",
        "NER is used in many fields in NPL and it can help to answer some questions such as:\n",
        "Which companies and persons are mentioned in the documents?\n",
        "In which articles or posts is specified product mentioned?\n",
        "Does the article contain medical terms and which ones?\n",
        "State-of-the-art NER systems for English produce near-human performance where the best system scored 93.39% of F-measure while human annotators have a score around 97%.\n",
        "\n",
        "Named-entity recognition is often broken down into two distinct problems:\n",
        "Detection of names\n",
        "Classification of the names by the type of entity they refer to (person, organization or location)\n",
        "Detection of names is typical simplified to a segmentation problem where a single name might be constructed of several substrings. For example \"Bank of America\" is a single name despite that the substring \"America\" is itself a name. Classification of names requires choosing an ontology by which to organize categories of things.\n",
        "\n",
        "While doing NER, besides the correct and incorrect predicted terms, we'll probably face some \"partially correct\" predictions. For example:\n",
        "Uncomplete names (missing the last token of \"John Smith, M.D.\")\n",
        "Names with more tokens (including the \"mr.\" token in \"mr. John Smith\")\n",
        "Partitioning adjacent entities differently (treating two names as one \"Hans, Jones Blick\")\n",
        "Assigning related but inexact type (for example, \"substance\" vs. \"drug\", or \"school\" vs. \"organization\")\n",
        "Correctly identifying an entity, when what the user wanted was a smaller- or larger-scope entity (for example, identifying \"James Madison\" as a personal name, when it's part of \"James Madison University\")"
      ],
      "metadata": {
        "id": "RNt6BSrGDD4O"
      }
    },
    {
      "cell_type": "markdown",
      "source": [
        "### Applications of Named Entity Extraction\n",
        "\n",
        "NER can be appllied in many real-world situations when analyzing a large quantity of text is helpful. Some examples of NER includes:\n",
        "Improve customer support by categorizing and filtering user requests, complaints, and questions. It can help businesses obtain insights about their customers.\n",
        "Help categorize applicants’ CVs and speed up the process.\n",
        "Improve search and recommendation engines using recognized entities.\n",
        "Search and extract useful information from documents and blog posts."
      ],
      "metadata": {
        "id": "VYv9k8V6DI8v"
      }
    },
    {
      "cell_type": "markdown",
      "source": [
        "##NLTK"
      ],
      "metadata": {
        "id": "3UwFZCA4CPvx"
      }
    },
    {
      "cell_type": "markdown",
      "source": [
        "POS Tagging (Parts of Speech Tagging) is a process to mark up the words in text format for a particular part of a speech based on its definition and context. It is responsible for text reading in a language and assigning some specific token (Parts of Speech) to each word. It is also called grammatical tagging."
      ],
      "metadata": {
        "id": "Yd6a-MnEDW3X"
      }
    },
    {
      "cell_type": "code",
      "source": [
        "import numpy as np\n",
        "import pandas as pd\n",
        "import os\n",
        "import nltk\n",
        "nltk.download('punkt')\n",
        "nltk.download('averaged_perceptron_tagger')\n",
        "from nltk import word_tokenize, pos_tag, sent_tokenize\n",
        "ex = 'Experts in France begin examining airplane debris found on Reunion Island: French air accident experts stated last Wednesday'\n",
        "# tokenize the sencence and apply POS tagging\n",
        "sent = pos_tag(word_tokenize(ex))\n",
        "sent"
      ],
      "metadata": {
        "id": "247RdenzDZgI",
        "colab": {
          "base_uri": "https://localhost:8080/"
        },
        "outputId": "9604e535-d7f3-47c9-b4f0-36c0b7c07d26"
      },
      "execution_count": null,
      "outputs": [
        {
          "output_type": "stream",
          "name": "stderr",
          "text": [
            "[nltk_data] Downloading package punkt to /root/nltk_data...\n",
            "[nltk_data]   Unzipping tokenizers/punkt.zip.\n",
            "[nltk_data] Downloading package averaged_perceptron_tagger to\n",
            "[nltk_data]     /root/nltk_data...\n",
            "[nltk_data]   Unzipping taggers/averaged_perceptron_tagger.zip.\n"
          ]
        },
        {
          "output_type": "execute_result",
          "data": {
            "text/plain": [
              "[('Experts', 'NNS'),\n",
              " ('in', 'IN'),\n",
              " ('France', 'NNP'),\n",
              " ('begin', 'VB'),\n",
              " ('examining', 'VBG'),\n",
              " ('airplane', 'JJ'),\n",
              " ('debris', 'NN'),\n",
              " ('found', 'VBD'),\n",
              " ('on', 'IN'),\n",
              " ('Reunion', 'NNP'),\n",
              " ('Island', 'NNP'),\n",
              " (':', ':'),\n",
              " ('French', 'JJ'),\n",
              " ('air', 'NN'),\n",
              " ('accident', 'NN'),\n",
              " ('experts', 'NNS'),\n",
              " ('stated', 'VBN'),\n",
              " ('last', 'JJ'),\n",
              " ('Wednesday', 'NNP')]"
            ]
          },
          "metadata": {},
          "execution_count": 1
        }
      ]
    },
    {
      "cell_type": "markdown",
      "source": [
        "### Chunking \n",
        "Chunking in NLP is a process of grouping small pieces of information into large units. The primary use of Chunking is making groups of \"noun phrases.\" It is used to add structure to the sentence by following POS tagging combined with regular expressions. The resulted group of words are called \"chunks.\" There are no pre-defined rules for Chunking, but we can made according to our needs. Thus, if we want to chunk only 'NN' tags, we need to use pattern.\n",
        "\n",
        "\n",
        "`mychunk:{<NN>}`\n",
        "\n",
        "but if we need to chunk all types of tags which start with 'NN', we'll use\n",
        "\n",
        "`mychunk:{<NN.*>}`.\n",
        "\n",
        "More about regex patterns can be found here"
      ],
      "metadata": {
        "id": "jLBEwWh0DiYj"
      }
    },
    {
      "cell_type": "code",
      "source": [
        "!pip install svgling"
      ],
      "metadata": {
        "id": "NN4pYSxTD0P1",
        "colab": {
          "base_uri": "https://localhost:8080/"
        },
        "outputId": "5c814b05-72ba-42e7-8577-2447421adb8d"
      },
      "execution_count": null,
      "outputs": [
        {
          "output_type": "stream",
          "name": "stdout",
          "text": [
            "Looking in indexes: https://pypi.org/simple, https://us-python.pkg.dev/colab-wheels/public/simple/\n",
            "Collecting svgling\n",
            "  Downloading svgling-0.3.1-py3-none-any.whl (21 kB)\n",
            "Collecting svgwrite (from svgling)\n",
            "  Downloading svgwrite-1.4.3-py3-none-any.whl (67 kB)\n",
            "\u001b[2K     \u001b[90m━━━━━━━━━━━━━━━━━━━━━━━━━━━━━━━━━━━━━━━━\u001b[0m \u001b[32m67.1/67.1 kB\u001b[0m \u001b[31m7.2 MB/s\u001b[0m eta \u001b[36m0:00:00\u001b[0m\n",
            "\u001b[?25hInstalling collected packages: svgwrite, svgling\n",
            "Successfully installed svgling-0.3.1 svgwrite-1.4.3\n"
          ]
        }
      ]
    },
    {
      "cell_type": "code",
      "source": [
        "from nltk import RegexpParser\n",
        "from nltk.draw.tree import TreeView\n",
        "from IPython.display import Image\n",
        "import svgling\n",
        "\n",
        "# chunk all adjacence nouns\n",
        "patterns= \"\"\"mychunk:{<NN.*>+}\"\"\"\n",
        "chunker = RegexpParser(patterns)\n",
        "output = chunker.parse(sent)\n",
        "print(\"After Chunking\",output)\n",
        "svgling.draw_tree(output)"
      ],
      "metadata": {
        "id": "sV7yEKmPD217",
        "colab": {
          "base_uri": "https://localhost:8080/",
          "height": 498
        },
        "outputId": "0b48b94d-e3f3-4b4d-b703-ad143b846226"
      },
      "execution_count": null,
      "outputs": [
        {
          "output_type": "stream",
          "name": "stdout",
          "text": [
            "After Chunking (S\n",
            "  (mychunk Experts/NNS)\n",
            "  in/IN\n",
            "  (mychunk France/NNP)\n",
            "  begin/VB\n",
            "  examining/VBG\n",
            "  airplane/JJ\n",
            "  (mychunk debris/NN)\n",
            "  found/VBD\n",
            "  on/IN\n",
            "  (mychunk Reunion/NNP Island/NNP)\n",
            "  :/:\n",
            "  French/JJ\n",
            "  (mychunk air/NN accident/NN experts/NNS)\n",
            "  stated/VBN\n",
            "  last/JJ\n",
            "  (mychunk Wednesday/NNP))\n"
          ]
        },
        {
          "output_type": "execute_result",
          "data": {
            "text/plain": [
              "TreeLayout(Tree('S', [Tree('mychunk', [('Experts', 'NNS')]), ('in', 'IN'), Tree('mychunk', [('France', 'NNP')]), ('begin', 'VB'), ('examining', 'VBG'), ('airplane', 'JJ'), Tree('mychunk', [('debris', 'NN')]), ('found', 'VBD'), ('on', 'IN'), Tree('mychunk', [('Reunion', 'NNP'), ('Island', 'NNP')]), (':', ':'), ('French', 'JJ'), Tree('mychunk', [('air', 'NN'), ('accident', 'NN'), ('experts', 'NNS')]), ('stated', 'VBN'), ('last', 'JJ'), Tree('mychunk', [('Wednesday', 'NNP')])]))"
            ],
            "image/svg+xml": "<svg baseProfile=\"full\" height=\"168px\" preserveAspectRatio=\"xMidYMid meet\" style=\"font-family: times, serif; font-weight:normal; font-style: normal; font-size: 16px;\" version=\"1.1\" viewBox=\"0,0,1176.0,168.0\" width=\"1176px\" xmlns=\"http://www.w3.org/2000/svg\" xmlns:ev=\"http://www.w3.org/2001/xml-events\" xmlns:xlink=\"http://www.w3.org/1999/xlink\"><defs /><svg width=\"100%\" x=\"0\" y=\"0em\"><defs /><text text-anchor=\"middle\" x=\"50%\" y=\"1em\">S</text></svg><svg width=\"6.12245%\" x=\"0%\" y=\"3em\"><defs /><svg width=\"100%\" x=\"0\" y=\"0em\"><defs /><text text-anchor=\"middle\" x=\"50%\" y=\"1em\">mychunk</text></svg><svg width=\"100%\" x=\"0%\" y=\"3em\"><defs /><svg width=\"100%\" x=\"0\" y=\"0em\"><defs /><text text-anchor=\"middle\" x=\"50%\" y=\"1em\">Experts</text></svg><svg width=\"100%\" x=\"0%\" y=\"3em\"><defs /><svg width=\"100%\" x=\"0\" y=\"0em\"><defs /><text text-anchor=\"middle\" x=\"50%\" y=\"1em\">NNS</text></svg></svg><line stroke=\"black\" x1=\"50%\" x2=\"50%\" y1=\"1.2em\" y2=\"3em\" /></svg><line stroke=\"black\" x1=\"50%\" x2=\"50%\" y1=\"1.2em\" y2=\"3em\" /></svg><line stroke=\"black\" x1=\"50%\" x2=\"3.06122%\" y1=\"1.2em\" y2=\"3em\" /><svg width=\"2.72109%\" x=\"6.12245%\" y=\"3em\"><defs /><svg width=\"100%\" x=\"0\" y=\"0em\"><defs /><text text-anchor=\"middle\" x=\"50%\" y=\"1em\">in</text></svg><svg width=\"100%\" x=\"0%\" y=\"3em\"><defs /><svg width=\"100%\" x=\"0\" y=\"0em\"><defs /><text text-anchor=\"middle\" x=\"50%\" y=\"1em\">IN</text></svg></svg><line stroke=\"black\" x1=\"50%\" x2=\"50%\" y1=\"1.2em\" y2=\"3em\" /></svg><line stroke=\"black\" x1=\"50%\" x2=\"7.48299%\" y1=\"1.2em\" y2=\"3em\" /><svg width=\"6.12245%\" x=\"8.84354%\" y=\"3em\"><defs /><svg width=\"100%\" x=\"0\" y=\"0em\"><defs /><text text-anchor=\"middle\" x=\"50%\" y=\"1em\">mychunk</text></svg><svg width=\"100%\" x=\"0%\" y=\"3em\"><defs /><svg width=\"100%\" x=\"0\" y=\"0em\"><defs /><text text-anchor=\"middle\" x=\"50%\" y=\"1em\">France</text></svg><svg width=\"100%\" x=\"0%\" y=\"3em\"><defs /><svg width=\"100%\" x=\"0\" y=\"0em\"><defs /><text text-anchor=\"middle\" x=\"50%\" y=\"1em\">NNP</text></svg></svg><line stroke=\"black\" x1=\"50%\" x2=\"50%\" y1=\"1.2em\" y2=\"3em\" /></svg><line stroke=\"black\" x1=\"50%\" x2=\"50%\" y1=\"1.2em\" y2=\"3em\" /></svg><line stroke=\"black\" x1=\"50%\" x2=\"11.9048%\" y1=\"1.2em\" y2=\"3em\" /><svg width=\"4.7619%\" x=\"14.966%\" y=\"3em\"><defs /><svg width=\"100%\" x=\"0\" y=\"0em\"><defs /><text text-anchor=\"middle\" x=\"50%\" y=\"1em\">begin</text></svg><svg width=\"100%\" x=\"0%\" y=\"3em\"><defs /><svg width=\"100%\" x=\"0\" y=\"0em\"><defs /><text text-anchor=\"middle\" x=\"50%\" y=\"1em\">VB</text></svg></svg><line stroke=\"black\" x1=\"50%\" x2=\"50%\" y1=\"1.2em\" y2=\"3em\" /></svg><line stroke=\"black\" x1=\"50%\" x2=\"17.3469%\" y1=\"1.2em\" y2=\"3em\" /><svg width=\"7.48299%\" x=\"19.7279%\" y=\"3em\"><defs /><svg width=\"100%\" x=\"0\" y=\"0em\"><defs /><text text-anchor=\"middle\" x=\"50%\" y=\"1em\">examining</text></svg><svg width=\"100%\" x=\"0%\" y=\"3em\"><defs /><svg width=\"100%\" x=\"0\" y=\"0em\"><defs /><text text-anchor=\"middle\" x=\"50%\" y=\"1em\">VBG</text></svg></svg><line stroke=\"black\" x1=\"50%\" x2=\"50%\" y1=\"1.2em\" y2=\"3em\" /></svg><line stroke=\"black\" x1=\"50%\" x2=\"23.4694%\" y1=\"1.2em\" y2=\"3em\" /><svg width=\"6.80272%\" x=\"27.2109%\" y=\"3em\"><defs /><svg width=\"100%\" x=\"0\" y=\"0em\"><defs /><text text-anchor=\"middle\" x=\"50%\" y=\"1em\">airplane</text></svg><svg width=\"100%\" x=\"0%\" y=\"3em\"><defs /><svg width=\"100%\" x=\"0\" y=\"0em\"><defs /><text text-anchor=\"middle\" x=\"50%\" y=\"1em\">JJ</text></svg></svg><line stroke=\"black\" x1=\"50%\" x2=\"50%\" y1=\"1.2em\" y2=\"3em\" /></svg><line stroke=\"black\" x1=\"50%\" x2=\"30.6122%\" y1=\"1.2em\" y2=\"3em\" /><svg width=\"6.12245%\" x=\"34.0136%\" y=\"3em\"><defs /><svg width=\"100%\" x=\"0\" y=\"0em\"><defs /><text text-anchor=\"middle\" x=\"50%\" y=\"1em\">mychunk</text></svg><svg width=\"100%\" x=\"0%\" y=\"3em\"><defs /><svg width=\"100%\" x=\"0\" y=\"0em\"><defs /><text text-anchor=\"middle\" x=\"50%\" y=\"1em\">debris</text></svg><svg width=\"100%\" x=\"0%\" y=\"3em\"><defs /><svg width=\"100%\" x=\"0\" y=\"0em\"><defs /><text text-anchor=\"middle\" x=\"50%\" y=\"1em\">NN</text></svg></svg><line stroke=\"black\" x1=\"50%\" x2=\"50%\" y1=\"1.2em\" y2=\"3em\" /></svg><line stroke=\"black\" x1=\"50%\" x2=\"50%\" y1=\"1.2em\" y2=\"3em\" /></svg><line stroke=\"black\" x1=\"50%\" x2=\"37.0748%\" y1=\"1.2em\" y2=\"3em\" /><svg width=\"4.7619%\" x=\"40.1361%\" y=\"3em\"><defs /><svg width=\"100%\" x=\"0\" y=\"0em\"><defs /><text text-anchor=\"middle\" x=\"50%\" y=\"1em\">found</text></svg><svg width=\"100%\" x=\"0%\" y=\"3em\"><defs /><svg width=\"100%\" x=\"0\" y=\"0em\"><defs /><text text-anchor=\"middle\" x=\"50%\" y=\"1em\">VBD</text></svg></svg><line stroke=\"black\" x1=\"50%\" x2=\"50%\" y1=\"1.2em\" y2=\"3em\" /></svg><line stroke=\"black\" x1=\"50%\" x2=\"42.517%\" y1=\"1.2em\" y2=\"3em\" /><svg width=\"2.72109%\" x=\"44.898%\" y=\"3em\"><defs /><svg width=\"100%\" x=\"0\" y=\"0em\"><defs /><text text-anchor=\"middle\" x=\"50%\" y=\"1em\">on</text></svg><svg width=\"100%\" x=\"0%\" y=\"3em\"><defs /><svg width=\"100%\" x=\"0\" y=\"0em\"><defs /><text text-anchor=\"middle\" x=\"50%\" y=\"1em\">IN</text></svg></svg><line stroke=\"black\" x1=\"50%\" x2=\"50%\" y1=\"1.2em\" y2=\"3em\" /></svg><line stroke=\"black\" x1=\"50%\" x2=\"46.2585%\" y1=\"1.2em\" y2=\"3em\" /><svg width=\"11.5646%\" x=\"47.619%\" y=\"3em\"><defs /><svg width=\"100%\" x=\"0\" y=\"0em\"><defs /><text text-anchor=\"middle\" x=\"50%\" y=\"1em\">mychunk</text></svg><svg width=\"52.9412%\" x=\"0%\" y=\"3em\"><defs /><svg width=\"100%\" x=\"0\" y=\"0em\"><defs /><text text-anchor=\"middle\" x=\"50%\" y=\"1em\">Reunion</text></svg><svg width=\"100%\" x=\"0%\" y=\"3em\"><defs /><svg width=\"100%\" x=\"0\" y=\"0em\"><defs /><text text-anchor=\"middle\" x=\"50%\" y=\"1em\">NNP</text></svg></svg><line stroke=\"black\" x1=\"50%\" x2=\"50%\" y1=\"1.2em\" y2=\"3em\" /></svg><line stroke=\"black\" x1=\"50%\" x2=\"26.4706%\" y1=\"1.2em\" y2=\"3em\" /><svg width=\"47.0588%\" x=\"52.9412%\" y=\"3em\"><defs /><svg width=\"100%\" x=\"0\" y=\"0em\"><defs /><text text-anchor=\"middle\" x=\"50%\" y=\"1em\">Island</text></svg><svg width=\"100%\" x=\"0%\" y=\"3em\"><defs /><svg width=\"100%\" x=\"0\" y=\"0em\"><defs /><text text-anchor=\"middle\" x=\"50%\" y=\"1em\">NNP</text></svg></svg><line stroke=\"black\" x1=\"50%\" x2=\"50%\" y1=\"1.2em\" y2=\"3em\" /></svg><line stroke=\"black\" x1=\"50%\" x2=\"76.4706%\" y1=\"1.2em\" y2=\"3em\" /></svg><line stroke=\"black\" x1=\"50%\" x2=\"53.4014%\" y1=\"1.2em\" y2=\"3em\" /><svg width=\"2.04082%\" x=\"59.1837%\" y=\"3em\"><defs /><svg width=\"100%\" x=\"0\" y=\"0em\"><defs /><text text-anchor=\"middle\" x=\"50%\" y=\"1em\">:</text></svg><svg width=\"100%\" x=\"0%\" y=\"3em\"><defs /><svg width=\"100%\" x=\"0\" y=\"0em\"><defs /><text text-anchor=\"middle\" x=\"50%\" y=\"1em\">:</text></svg></svg><line stroke=\"black\" x1=\"50%\" x2=\"50%\" y1=\"1.2em\" y2=\"3em\" /></svg><line stroke=\"black\" x1=\"50%\" x2=\"60.2041%\" y1=\"1.2em\" y2=\"3em\" /><svg width=\"5.44218%\" x=\"61.2245%\" y=\"3em\"><defs /><svg width=\"100%\" x=\"0\" y=\"0em\"><defs /><text text-anchor=\"middle\" x=\"50%\" y=\"1em\">French</text></svg><svg width=\"100%\" x=\"0%\" y=\"3em\"><defs /><svg width=\"100%\" x=\"0\" y=\"0em\"><defs /><text text-anchor=\"middle\" x=\"50%\" y=\"1em\">JJ</text></svg></svg><line stroke=\"black\" x1=\"50%\" x2=\"50%\" y1=\"1.2em\" y2=\"3em\" /></svg><line stroke=\"black\" x1=\"50%\" x2=\"63.9456%\" y1=\"1.2em\" y2=\"3em\" /><svg width=\"16.3265%\" x=\"66.6667%\" y=\"3em\"><defs /><svg width=\"100%\" x=\"0\" y=\"0em\"><defs /><text text-anchor=\"middle\" x=\"50%\" y=\"1em\">mychunk</text></svg><svg width=\"20.8333%\" x=\"0%\" y=\"3em\"><defs /><svg width=\"100%\" x=\"0\" y=\"0em\"><defs /><text text-anchor=\"middle\" x=\"50%\" y=\"1em\">air</text></svg><svg width=\"100%\" x=\"0%\" y=\"3em\"><defs /><svg width=\"100%\" x=\"0\" y=\"0em\"><defs /><text text-anchor=\"middle\" x=\"50%\" y=\"1em\">NN</text></svg></svg><line stroke=\"black\" x1=\"50%\" x2=\"50%\" y1=\"1.2em\" y2=\"3em\" /></svg><line stroke=\"black\" x1=\"50%\" x2=\"10.4167%\" y1=\"1.2em\" y2=\"3em\" /><svg width=\"41.6667%\" x=\"20.8333%\" y=\"3em\"><defs /><svg width=\"100%\" x=\"0\" y=\"0em\"><defs /><text text-anchor=\"middle\" x=\"50%\" y=\"1em\">accident</text></svg><svg width=\"100%\" x=\"0%\" y=\"3em\"><defs /><svg width=\"100%\" x=\"0\" y=\"0em\"><defs /><text text-anchor=\"middle\" x=\"50%\" y=\"1em\">NN</text></svg></svg><line stroke=\"black\" x1=\"50%\" x2=\"50%\" y1=\"1.2em\" y2=\"3em\" /></svg><line stroke=\"black\" x1=\"50%\" x2=\"41.6667%\" y1=\"1.2em\" y2=\"3em\" /><svg width=\"37.5%\" x=\"62.5%\" y=\"3em\"><defs /><svg width=\"100%\" x=\"0\" y=\"0em\"><defs /><text text-anchor=\"middle\" x=\"50%\" y=\"1em\">experts</text></svg><svg width=\"100%\" x=\"0%\" y=\"3em\"><defs /><svg width=\"100%\" x=\"0\" y=\"0em\"><defs /><text text-anchor=\"middle\" x=\"50%\" y=\"1em\">NNS</text></svg></svg><line stroke=\"black\" x1=\"50%\" x2=\"50%\" y1=\"1.2em\" y2=\"3em\" /></svg><line stroke=\"black\" x1=\"50%\" x2=\"81.25%\" y1=\"1.2em\" y2=\"3em\" /></svg><line stroke=\"black\" x1=\"50%\" x2=\"74.8299%\" y1=\"1.2em\" y2=\"3em\" /><svg width=\"5.44218%\" x=\"82.9932%\" y=\"3em\"><defs /><svg width=\"100%\" x=\"0\" y=\"0em\"><defs /><text text-anchor=\"middle\" x=\"50%\" y=\"1em\">stated</text></svg><svg width=\"100%\" x=\"0%\" y=\"3em\"><defs /><svg width=\"100%\" x=\"0\" y=\"0em\"><defs /><text text-anchor=\"middle\" x=\"50%\" y=\"1em\">VBN</text></svg></svg><line stroke=\"black\" x1=\"50%\" x2=\"50%\" y1=\"1.2em\" y2=\"3em\" /></svg><line stroke=\"black\" x1=\"50%\" x2=\"85.7143%\" y1=\"1.2em\" y2=\"3em\" /><svg width=\"4.08163%\" x=\"88.4354%\" y=\"3em\"><defs /><svg width=\"100%\" x=\"0\" y=\"0em\"><defs /><text text-anchor=\"middle\" x=\"50%\" y=\"1em\">last</text></svg><svg width=\"100%\" x=\"0%\" y=\"3em\"><defs /><svg width=\"100%\" x=\"0\" y=\"0em\"><defs /><text text-anchor=\"middle\" x=\"50%\" y=\"1em\">JJ</text></svg></svg><line stroke=\"black\" x1=\"50%\" x2=\"50%\" y1=\"1.2em\" y2=\"3em\" /></svg><line stroke=\"black\" x1=\"50%\" x2=\"90.4762%\" y1=\"1.2em\" y2=\"3em\" /><svg width=\"7.48299%\" x=\"92.517%\" y=\"3em\"><defs /><svg width=\"100%\" x=\"0\" y=\"0em\"><defs /><text text-anchor=\"middle\" x=\"50%\" y=\"1em\">mychunk</text></svg><svg width=\"100%\" x=\"0%\" y=\"3em\"><defs /><svg width=\"100%\" x=\"0\" y=\"0em\"><defs /><text text-anchor=\"middle\" x=\"50%\" y=\"1em\">Wednesday</text></svg><svg width=\"100%\" x=\"0%\" y=\"3em\"><defs /><svg width=\"100%\" x=\"0\" y=\"0em\"><defs /><text text-anchor=\"middle\" x=\"50%\" y=\"1em\">NNP</text></svg></svg><line stroke=\"black\" x1=\"50%\" x2=\"50%\" y1=\"1.2em\" y2=\"3em\" /></svg><line stroke=\"black\" x1=\"50%\" x2=\"50%\" y1=\"1.2em\" y2=\"3em\" /></svg><line stroke=\"black\" x1=\"50%\" x2=\"96.2585%\" y1=\"1.2em\" y2=\"3em\" /></svg>"
          },
          "metadata": {},
          "execution_count": 3
        }
      ]
    },
    {
      "cell_type": "markdown",
      "source": [
        "Similarly as part-of-speech tags, IOB tags are a slightly different way for representing chunk structures. This format can denote the inside, outside, and beginning of a chunk."
      ],
      "metadata": {
        "id": "6wa2py3hD7nb"
      }
    },
    {
      "cell_type": "code",
      "source": [
        "from nltk.chunk import conlltags2tree, tree2conlltags\n",
        "from pprint import pprint\n",
        "\n",
        "iob_tagged = tree2conlltags(output)\n",
        "iob_tagged"
      ],
      "metadata": {
        "id": "siOpL8frD9Z7",
        "colab": {
          "base_uri": "https://localhost:8080/"
        },
        "outputId": "3b2ffcad-17fc-48a3-9c42-89a66de58912"
      },
      "execution_count": null,
      "outputs": [
        {
          "output_type": "execute_result",
          "data": {
            "text/plain": [
              "[('Experts', 'NNS', 'B-mychunk'),\n",
              " ('in', 'IN', 'O'),\n",
              " ('France', 'NNP', 'B-mychunk'),\n",
              " ('begin', 'VB', 'O'),\n",
              " ('examining', 'VBG', 'O'),\n",
              " ('airplane', 'JJ', 'O'),\n",
              " ('debris', 'NN', 'B-mychunk'),\n",
              " ('found', 'VBD', 'O'),\n",
              " ('on', 'IN', 'O'),\n",
              " ('Reunion', 'NNP', 'B-mychunk'),\n",
              " ('Island', 'NNP', 'I-mychunk'),\n",
              " (':', ':', 'O'),\n",
              " ('French', 'JJ', 'O'),\n",
              " ('air', 'NN', 'B-mychunk'),\n",
              " ('accident', 'NN', 'I-mychunk'),\n",
              " ('experts', 'NNS', 'I-mychunk'),\n",
              " ('stated', 'VBN', 'O'),\n",
              " ('last', 'JJ', 'O'),\n",
              " ('Wednesday', 'NNP', 'B-mychunk')]"
            ]
          },
          "metadata": {},
          "execution_count": 4
        }
      ]
    },
    {
      "cell_type": "markdown",
      "source": [
        "### NER\n",
        "\n",
        "Recognizing a named entity is a specific kind of chunk extraction that uses entity tags along with chunk tags. Common entity tags include PERSON, LOCATION, and ORGANIZATION. NLTK has already a pre-trained named entity chunker which can be used using ne_chunk() method in the nltk.chunk module."
      ],
      "metadata": {
        "id": "9IaMt_20D_1E"
      }
    },
    {
      "cell_type": "code",
      "source": [
        "nltk.download('maxent_ne_chunker')\n",
        "nltk.download('words')\n",
        "from nltk.chunk import ne_chunk\n",
        "\n",
        "def extract_ne(trees, labels):\n",
        "    \n",
        "    ne_list = []\n",
        "    for tree in ne_res:\n",
        "        if hasattr(tree, 'label'):\n",
        "            if tree.label() in labels:\n",
        "                ne_list.append(tree)\n",
        "    \n",
        "    return ne_list\n",
        "            \n",
        "ne_res = ne_chunk(pos_tag(word_tokenize(ex)))\n",
        "labels = ['ORGANIZATION']\n",
        "\n",
        "print(extract_ne(ne_res, labels))"
      ],
      "metadata": {
        "id": "7wXUliteEE1Y",
        "colab": {
          "base_uri": "https://localhost:8080/"
        },
        "outputId": "13c6c5e9-afa5-455a-a29e-3b08f443c25e"
      },
      "execution_count": null,
      "outputs": [
        {
          "output_type": "stream",
          "name": "stderr",
          "text": [
            "[nltk_data] Downloading package maxent_ne_chunker to\n",
            "[nltk_data]     /root/nltk_data...\n",
            "[nltk_data]   Unzipping chunkers/maxent_ne_chunker.zip.\n"
          ]
        },
        {
          "output_type": "stream",
          "name": "stdout",
          "text": [
            "[Tree('ORGANIZATION', [('Reunion', 'NNP'), ('Island', 'NNP')])]\n"
          ]
        },
        {
          "output_type": "stream",
          "name": "stderr",
          "text": [
            "[nltk_data] Downloading package words to /root/nltk_data...\n",
            "[nltk_data]   Unzipping corpora/words.zip.\n"
          ]
        }
      ]
    },
    {
      "cell_type": "markdown",
      "source": [
        "Now let's try a larger text."
      ],
      "metadata": {
        "id": "4MycXWMRGDFQ"
      }
    },
    {
      "cell_type": "code",
      "source": [
        "article = 'Bill Gates ia one of the founders from Microsoft Corporation. Bill Gates lives in Seattle in the Washington State. I wrote all of this myself!! Special Chair of Text-Mining Jan Scholtes on how ChatGPT actually works, why it’s an amazing achievement and where we should probably exercise a bit of caution. “My students were very excited! We had discussed the mathematics of a previous GPT-version just the week before so they knew exactly how it worked. Within 24 hours of the release, they were using it to answer questions in the tutorial of my course on advanced natural language processing.” Thus Jan Scholtes, Special Chair of Text-Mining at the Faculty of Science and Engineering’s Department of Advanced Computing Sciences, on the release of AI chatbot ChatGPT last December. “The reason it was such a success is because it’s the first computational linguistic model that takes all characteristics, problems and features of natural language seriously. So far, all of them have taken shortcuts due to the complexity of human language.” Scholtes points out that GPT even passed a draft exam for his course Advanced Natural Language Processing with excellent grades. The transformer model The GPT models are based on Google’s transformer architecture, which was introduced in 2017. “The original transformer includes an encoder and a decoder, designed to deal with complex sequence-to-sequence patterns that are both left- and right-side context-sensitive.” The latter refers to the meaning of a word only becoming evident from the context, i.e. preceding and following words. Both the encoder and decoder have several layers of self-attention, in the case the large version of GPT-3, which is the architecture used for ChatGPT, a full 96, which is how it can deal with linguistic complexity and master phenomena from punctuation, to morphology, to syntax, to semantics, to more complex relations. In the case of Google Translate that would mean, for example, that the encoder creates a numeric representation of a sentence and extracts its features, and the decoder uses those features to generate an output sentence, i.e. the translation. Having been trained on vast amounts of text in the target language, the decoder predicts e.g. the most likely word order of the translation stochastically. The translation is created iteratively, i.e. word by word, with each next-word suggestion (similar to predictive texting) from the decoder going through the self-attention loops to improve the level of disambiguation (e.g. whether ‘piano piece’ implies ‘mechanical part’ or ‘musical composition’). “This is a fantastic model in many ways and close to natural language but the full encoder-decoder architecture is overly complex and requires huge computational resources. Training e.g. Google Translate does more environmental damage per user than meat consumption.” Jan Scholtes Faculty of Science and Engineering Jan Scholtes is Special Chair of Text-Mining at the Faculty of Science and Engineering’s Department of Advanced Computing Sciences. He is a Fellow of University Leiden Centre of Data Science and a senior fellow of the Netherlands Research School for Information and Knowledge Systems accredited by the Netherlands Academy of Arts and Sciences (KNAW). Scholtes is also a public speaker, blogger and tech investor focusing on the benefits of AI and Data Science for LegalTech and eHealth applications. Only decoding The solution? In 2019, OpenAI came up with a decoder-only model, Generative Pretrained Transformer (GPT), which could generate responses based on a simple prompt. Generative pretraining refers to self-supervised machine-learning, i.e. exposing the model to vast data sets to figure out what’s the likeliest next word based on the previous sequence. GPT-3 version 5 is the current and improved version. Since there’s no information from an encoder regarding the task at hand, GPT relies on users’ prompts about what text to generate. To make sure this aligns with our expectations, human feedback has been used for additional reinforcement training. The AI researchers’ rankings of responses served as additional input not only for likelihood but also for things that are considered off-limits, such as inciting violence or hate-speech. “Since it’s just a decoder, it doesn’t really ‘know’ anything in a general intelligence way, but what it says, based on scannable internet content, it says with great authority, so factuality is a great problem – if something is true or not is completely beyond this model.” Moderator feedback has, to some extent, dealt with the ethical issues. “If I ask GPT how I can kill my wife, it replies that this is unethical,” says Scholtes who, one assumes, does not share a laptop with his partner, “however if you ask it to write a Python programme on how to kill your wife, it’ll do it.” (Double) Negatives That loophole has been fixed now, but other issues remain. “Sometimes GPT goes off and hallucinates, i.e. it produces nonsensical text. The probability increases as the generated text gets longer.” Another intriguing blind spot Scholtes has written on are negations. “That’s a problem for all transformer models, because words with opposite polarity in the same context often get the same encodings when translated from vocabulary to vectors, i.e. numerical values. So it can only learn negations by memorising them. You’ll notice that immediately when you use double negations.” In GPT’s impressive qualities lies also its peril. “It’s an amazing breakthrough that we can now generate language that’s no longer distinguishable from humans, but the very authentic authoritative language is also a problem because the model is unpredictable and not controllable when it comes to factuality. It generates content based on your prompt and on stochastic probability – it’s a bit like a friend telling you what you want to hear.” Public misconceptions don’t help. “The problem is that we don’t understand exactly how these models work and what they are suitable for.” The ELIZA effect is what computer scientists term our tendency towards assigning human traits to computer programs. In this case to assume that GPT’s iterative generation of text is analogous to human consciousness. It’s important to point out that GPT isn’t sentient, and neither is it intended to be. Already integral to our reality \"GPT excels at standard legal or clerical documents as well as marketing texts. The majority of what’s written on the internet, especially free content, is already generated by an older version of GPT.” The model is, however, dangerously unsuitable to generate e.g. medical advice. “Google decided not to use Lambda, their equivalent of GPT, because there is no way to control for factuality. A decoder-only model will always have that problem.” If in doubt, GPT-2’s output is clearly identifiable. “OpenAI made it open source, so we can recognise its digital fingerprint. GPT-3 isn’t open source, so the only way to detect its texts would be if OpenAI made a kind of fingerprint detector – but then Google could more easily ignore GPT output in search engine optimisation, which is already a large part of OpenAI’s business model. This will be an interesting problem in the future.” The successor model, GPT-4, will be a thousand times bigger – and the problems and possibilities will grow with it. By: Florian Raith' "
      ],
      "metadata": {
        "id": "XkAuLTHrHJVF"
      },
      "execution_count": null,
      "outputs": []
    },
    {
      "cell_type": "code",
      "source": [
        "\n",
        "# Tokenize the article into sentences: sentences\n",
        "print(article)\n",
        "sentences = sent_tokenize(article)\n",
        "\n",
        "# Tokenize each sentence into words: token_sentences\n",
        "token_sentences = [word_tokenize(sent) for sent in sentences]\n",
        "\n",
        "# Tag each tokenized sentence into parts of speech: pos_sentences\n",
        "pos_sentences = [nltk.pos_tag(sent) for sent in token_sentences]\n",
        "\n",
        "# Create the named entity chunks: chunked_sentences\n",
        "chunked_sentences = nltk.ne_chunk_sents(pos_sentences, binary=True)\n",
        "\n",
        "# ner_categories = defaultdict(int)\n",
        "# print(ner_categories)\n",
        "\n",
        "# Test for stems of the tree with 'NE' tags\n",
        "for sent in chunked_sentences:\n",
        "    for chunk in sent:\n",
        "        if hasattr(chunk, \"label\"):\n",
        "            print(chunk) \n",
        "\n",
        "           "
      ],
      "metadata": {
        "id": "LFgCDIERGFuw",
        "colab": {
          "base_uri": "https://localhost:8080/"
        },
        "outputId": "42ab8f76-e890-465f-a266-ae710ca0991b"
      },
      "execution_count": null,
      "outputs": [
        {
          "output_type": "stream",
          "name": "stdout",
          "text": [
            "Bill Gates ia one of the founders from Microsoft Corporation. Bill Gates lives in Seattle in the Washington State. I wrote all of this myself!! Special Chair of Text-Mining Jan Scholtes on how ChatGPT actually works, why it’s an amazing achievement and where we should probably exercise a bit of caution. “My students were very excited! We had discussed the mathematics of a previous GPT-version just the week before so they knew exactly how it worked. Within 24 hours of the release, they were using it to answer questions in the tutorial of my course on advanced natural language processing.” Thus Jan Scholtes, Special Chair of Text-Mining at the Faculty of Science and Engineering’s Department of Advanced Computing Sciences, on the release of AI chatbot ChatGPT last December. “The reason it was such a success is because it’s the first computational linguistic model that takes all characteristics, problems and features of natural language seriously. So far, all of them have taken shortcuts due to the complexity of human language.” Scholtes points out that GPT even passed a draft exam for his course Advanced Natural Language Processing with excellent grades. The transformer model The GPT models are based on Google’s transformer architecture, which was introduced in 2017. “The original transformer includes an encoder and a decoder, designed to deal with complex sequence-to-sequence patterns that are both left- and right-side context-sensitive.” The latter refers to the meaning of a word only becoming evident from the context, i.e. preceding and following words. Both the encoder and decoder have several layers of self-attention, in the case the large version of GPT-3, which is the architecture used for ChatGPT, a full 96, which is how it can deal with linguistic complexity and master phenomena from punctuation, to morphology, to syntax, to semantics, to more complex relations. In the case of Google Translate that would mean, for example, that the encoder creates a numeric representation of a sentence and extracts its features, and the decoder uses those features to generate an output sentence, i.e. the translation. Having been trained on vast amounts of text in the target language, the decoder predicts e.g. the most likely word order of the translation stochastically. The translation is created iteratively, i.e. word by word, with each next-word suggestion (similar to predictive texting) from the decoder going through the self-attention loops to improve the level of disambiguation (e.g. whether ‘piano piece’ implies ‘mechanical part’ or ‘musical composition’). “This is a fantastic model in many ways and close to natural language but the full encoder-decoder architecture is overly complex and requires huge computational resources. Training e.g. Google Translate does more environmental damage per user than meat consumption.” Jan Scholtes Faculty of Science and Engineering Jan Scholtes is Special Chair of Text-Mining at the Faculty of Science and Engineering’s Department of Advanced Computing Sciences. He is a Fellow of University Leiden Centre of Data Science and a senior fellow of the Netherlands Research School for Information and Knowledge Systems accredited by the Netherlands Academy of Arts and Sciences (KNAW). Scholtes is also a public speaker, blogger and tech investor focusing on the benefits of AI and Data Science for LegalTech and eHealth applications. Only decoding The solution? In 2019, OpenAI came up with a decoder-only model, Generative Pretrained Transformer (GPT), which could generate responses based on a simple prompt. Generative pretraining refers to self-supervised machine-learning, i.e. exposing the model to vast data sets to figure out what’s the likeliest next word based on the previous sequence. GPT-3 version 5 is the current and improved version. Since there’s no information from an encoder regarding the task at hand, GPT relies on users’ prompts about what text to generate. To make sure this aligns with our expectations, human feedback has been used for additional reinforcement training. The AI researchers’ rankings of responses served as additional input not only for likelihood but also for things that are considered off-limits, such as inciting violence or hate-speech. “Since it’s just a decoder, it doesn’t really ‘know’ anything in a general intelligence way, but what it says, based on scannable internet content, it says with great authority, so factuality is a great problem – if something is true or not is completely beyond this model.” Moderator feedback has, to some extent, dealt with the ethical issues. “If I ask GPT how I can kill my wife, it replies that this is unethical,” says Scholtes who, one assumes, does not share a laptop with his partner, “however if you ask it to write a Python programme on how to kill your wife, it’ll do it.” (Double) Negatives That loophole has been fixed now, but other issues remain. “Sometimes GPT goes off and hallucinates, i.e. it produces nonsensical text. The probability increases as the generated text gets longer.” Another intriguing blind spot Scholtes has written on are negations. “That’s a problem for all transformer models, because words with opposite polarity in the same context often get the same encodings when translated from vocabulary to vectors, i.e. numerical values. So it can only learn negations by memorising them. You’ll notice that immediately when you use double negations.” In GPT’s impressive qualities lies also its peril. “It’s an amazing breakthrough that we can now generate language that’s no longer distinguishable from humans, but the very authentic authoritative language is also a problem because the model is unpredictable and not controllable when it comes to factuality. It generates content based on your prompt and on stochastic probability – it’s a bit like a friend telling you what you want to hear.” Public misconceptions don’t help. “The problem is that we don’t understand exactly how these models work and what they are suitable for.” The ELIZA effect is what computer scientists term our tendency towards assigning human traits to computer programs. In this case to assume that GPT’s iterative generation of text is analogous to human consciousness. It’s important to point out that GPT isn’t sentient, and neither is it intended to be. Already integral to our reality \"GPT excels at standard legal or clerical documents as well as marketing texts. The majority of what’s written on the internet, especially free content, is already generated by an older version of GPT.” The model is, however, dangerously unsuitable to generate e.g. medical advice. “Google decided not to use Lambda, their equivalent of GPT, because there is no way to control for factuality. A decoder-only model will always have that problem.” If in doubt, GPT-2’s output is clearly identifiable. “OpenAI made it open source, so we can recognise its digital fingerprint. GPT-3 isn’t open source, so the only way to detect its texts would be if OpenAI made a kind of fingerprint detector – but then Google could more easily ignore GPT output in search engine optimisation, which is already a large part of OpenAI’s business model. This will be an interesting problem in the future.” The successor model, GPT-4, will be a thousand times bigger – and the problems and possibilities will grow with it. By: Florian Raith\n",
            "(NE Bill/NNP Gates/NNP)\n",
            "(NE Microsoft/NNP Corporation/NNP)\n",
            "(NE Bill/NNP Gates/NNP)\n",
            "(NE Seattle/NNP)\n",
            "(NE Washington/NNP State/NNP)\n",
            "(NE ChatGPT/NNP)\n",
            "(NE Special/NNP Chair/NNP)\n",
            "(NE Science/NNP)\n",
            "(NE Advanced/NNP Computing/NNP Sciences/NNPS)\n",
            "(NE ChatGPT/NNP)\n",
            "(NE Scholtes/NNP)\n",
            "(NE GPT/NNP)\n",
            "(NE Advanced/NNP Natural/NNP)\n",
            "(NE GPT/NNP)\n",
            "(NE Google/NNP)\n",
            "(NE ChatGPT/NNP)\n",
            "(NE Google/NNP)\n",
            "(NE Google/NNP Translate/NNP)\n",
            "(NE Science/NNP)\n",
            "(NE Science/NNP)\n",
            "(NE Advanced/NNP Computing/NNP Sciences/NNPS)\n",
            "(NE University/NNP Leiden/NNP Centre/NNP)\n",
            "(NE Data/NNP Science/NNP)\n",
            "(NE Netherlands/NNP Research/NNP School/NNP)\n",
            "(NE Knowledge/NNP Systems/NNP)\n",
            "(NE Netherlands/NNP Academy/NNP)\n",
            "(NE Arts/NNP)\n",
            "(NE KNAW/NNP)\n",
            "(NE Data/NNP Science/NNP)\n",
            "(NE LegalTech/NNP)\n",
            "(NE eHealth/NN)\n",
            "(NE OpenAI/NNP)\n",
            "(NE Generative/NNP)\n",
            "(NE GPT/NNP)\n",
            "(NE GPT/NNP)\n",
            "(NE GPT/NNP)\n",
            "(NE Python/NNP)\n",
            "(NE Double/NNP)\n",
            "(NE GPT/NNP)\n",
            "(NE Scholtes/NNP)\n",
            "(NE GPT/NNP)\n",
            "(NE ELIZA/NNP)\n",
            "(NE GPT/NNP)\n",
            "(NE GPT/NNP)\n",
            "(NE Google/NNP)\n",
            "(NE Lambda/NNP)\n",
            "(NE GPT/NNP)\n",
            "(NE OpenAI/NNP)\n",
            "(NE OpenAI/NNP)\n",
            "(NE Google/NNP)\n",
            "(NE GPT/NNP)\n",
            "(NE OpenAI/NNP)\n",
            "(NE Florian/JJ Raith/NNP)\n"
          ]
        }
      ]
    },
    {
      "cell_type": "markdown",
      "source": [
        "As you see, here, we have only recognized that a text phrase is a Named Entity (NE), but not which one. We can now classify them into the categories known to NLTL: PERSON (Per) ORGANIZATION (Org) Geographical Entity (Geo) and Geopolitical Entity (GPE), which is everything with a governing body like cities and countries."
      ],
      "metadata": {
        "id": "Me8z3XgGPCc8"
      }
    },
    {
      "cell_type": "code",
      "source": [
        "chunked_sentences = nltk.ne_chunk_sents(pos_sentences, binary=False)"
      ],
      "metadata": {
        "id": "KcoddOxXOdB-"
      },
      "execution_count": null,
      "outputs": []
    },
    {
      "cell_type": "markdown",
      "source": [
        "We can also categorize extracted named entities."
      ],
      "metadata": {
        "id": "yem8MyAGGexj"
      }
    },
    {
      "cell_type": "code",
      "source": [
        "from pprint import pprint\n",
        "import matplotlib.pyplot as plt\n",
        "from collections import defaultdict\n",
        "\n",
        "# Create the defaultdict: ner_categories\n",
        "ner_categories = defaultdict(int)\n",
        "\n",
        "# Create the nested for loop\n",
        "for sent in chunked_sentences:\n",
        "    for chunk in sent:\n",
        "        if hasattr(chunk, 'label'):\n",
        "            ner_categories[chunk.label()] += 1\n",
        "            print(chunk)\n",
        "            \n",
        "# Create a list from the dictionary keys for the cart labels: labels\n",
        "labels = list(ner_categories.keys())\n",
        "\n",
        "# Create a list of the values: values\n",
        "values = [ner_categories.get(l) for l in labels]\n",
        "\n",
        "# Create the pie chart\n",
        "fig = plt.figure(figsize=(8, 8))\n",
        "plt.pie(values, labels=labels, autopct='%1.1f%%', startangle=140);"
      ],
      "metadata": {
        "id": "qB9p7N9HGpfL",
        "colab": {
          "base_uri": "https://localhost:8080/",
          "height": 1000
        },
        "outputId": "a6467dac-b9a7-4777-ad56-110255cb511c"
      },
      "execution_count": null,
      "outputs": [
        {
          "output_type": "stream",
          "name": "stdout",
          "text": [
            "(PERSON Bill/NNP)\n",
            "(GPE Gates/NNP)\n",
            "(ORGANIZATION Microsoft/NNP Corporation/NNP)\n",
            "(PERSON Bill/NNP)\n",
            "(GPE Gates/NNP)\n",
            "(GPE Seattle/NNP)\n",
            "(ORGANIZATION Washington/NNP State/NNP)\n",
            "(ORGANIZATION ChatGPT/NNP)\n",
            "(PERSON Special/NNP Chair/NNP)\n",
            "(ORGANIZATION Faculty/NN of/IN Science/NNP)\n",
            "(ORGANIZATION Department/NNP)\n",
            "(ORGANIZATION Advanced/NNP Computing/NNP Sciences/NNPS)\n",
            "(ORGANIZATION AI/NNP)\n",
            "(ORGANIZATION ChatGPT/NNP)\n",
            "(PERSON Scholtes/NNP)\n",
            "(ORGANIZATION GPT/NNP)\n",
            "(PERSON Advanced/NNP Natural/NNP Language/NNP)\n",
            "(ORGANIZATION GPT/NNP)\n",
            "(PERSON Google/NNP)\n",
            "(ORGANIZATION ChatGPT/NNP)\n",
            "(PERSON Google/NNP Translate/NNP)\n",
            "(PERSON Google/NNP)\n",
            "(ORGANIZATION Translate/NNP)\n",
            "(GPE Science/NNP)\n",
            "(ORGANIZATION Faculty/NN of/IN Science/NNP)\n",
            "(ORGANIZATION Department/NNP)\n",
            "(ORGANIZATION Advanced/NNP Computing/NNP Sciences/NNPS)\n",
            "(ORGANIZATION University/NNP Leiden/NNP Centre/NNP)\n",
            "(PERSON Data/NNP Science/NNP)\n",
            "(ORGANIZATION Netherlands/NNP Research/NNP School/NNP)\n",
            "(ORGANIZATION Information/NNP)\n",
            "(PERSON Knowledge/NNP Systems/NNP)\n",
            "(ORGANIZATION Netherlands/NNP Academy/NNP)\n",
            "(GPE Arts/NNP)\n",
            "(GPE Sciences/NNPS)\n",
            "(ORGANIZATION KNAW/NNP)\n",
            "(ORGANIZATION AI/NNP)\n",
            "(PERSON Data/NNP Science/NNP)\n",
            "(ORGANIZATION LegalTech/NNP)\n",
            "(ORGANIZATION eHealth/NN)\n",
            "(ORGANIZATION OpenAI/NNP)\n",
            "(PERSON Generative/NNP)\n",
            "(GPE Transformer/NNP)\n",
            "(ORGANIZATION GPT/NNP)\n",
            "(ORGANIZATION GPT/NNP)\n",
            "(ORGANIZATION AI/NNP)\n",
            "(ORGANIZATION GPT/NNP)\n",
            "(GPE Python/NNP)\n",
            "(ORGANIZATION Double/NNP)\n",
            "(ORGANIZATION GPT/NNP)\n",
            "(PERSON Scholtes/NNP)\n",
            "(ORGANIZATION GPT/NNP)\n",
            "(ORGANIZATION ELIZA/NNP)\n",
            "(ORGANIZATION GPT/NNP)\n",
            "(ORGANIZATION GPT/NNP)\n",
            "(PERSON Google/NNP)\n",
            "(PERSON Lambda/NNP)\n",
            "(ORGANIZATION GPT/NNP)\n",
            "(ORGANIZATION OpenAI/NNP)\n",
            "(ORGANIZATION OpenAI/NNP)\n",
            "(PERSON Google/NNP)\n",
            "(ORGANIZATION GPT/NNP)\n",
            "(ORGANIZATION OpenAI/NNP)\n",
            "(PERSON Florian/JJ Raith/NNP)\n"
          ]
        },
        {
          "output_type": "display_data",
          "data": {
            "text/plain": [
              "<Figure size 800x800 with 1 Axes>"
            ],
            "image/png": "[encoded data removed]"
          },
          "metadata": {}
        }
      ]
    },
    {
      "cell_type": "markdown",
      "source": [
        "Exercise 1: \n",
        "\n",
        "1. What do you observe with respect to th quality of the NE detection and the classification?\n",
        "\n",
        "2. How could we improve on that?"
      ],
      "metadata": {
        "id": "gj2PSDO_QbAA"
      }
    },
    {
      "cell_type": "markdown",
      "source": [
        "1. NE Detection: The NE detection using NLTK's pre-trained named entity chunker seems to be working well overall. It has correctly identified named entities in the given text, such as names (e.g., Bill Gates), organizations (e.g., Microsoft Corporation), locations (e.g., Seattle, Washington State), and specific terms (e.g., ChatGPT). However, there are a few instances where the detection could be improved, such as recognizing \"Jan Scholtes\" as a person's name instead of categorizing \"Special Chair\" and \"Text-Mining\" as separate organizations.\n",
        "\n",
        "  NE Classification: The NE classification is not explicitly performed in the provided text. The named entities are simply recognized, but they are not assigned specific entity tags like PERSON, ORGANIZATION, GEO, or GPE.\n",
        "\n",
        "2. To enhance the quality, consider improving the training data, exploring different model architectures, fine-tuning and transfer learning, using active learning techniques, employing post-processing and ensemble methods, and maintaining a continuous evaluation and feedback loop."
      ],
      "metadata": {
        "id": "It0u6x0YRnUH"
      }
    },
    {
      "cell_type": "markdown",
      "source": [
        "For this notebook we would need our GPU again (in the end). You can activate your GPU by clicking on Runtime, then Change runtime type and pressing GPU. If you hit the Google's GPU limits for usage, you can use other free GPU services such as Kaggle GPU's (recommended), Amazon's GPU's or Paperspace Gradient or of course your local GPU on your computer (if you have one)."
      ],
      "metadata": {
        "id": "jqxiBArNRtFW"
      }
    },
    {
      "cell_type": "markdown",
      "source": [
        "#BERT and Huggingface\n",
        "\n",
        "So far, we have worked with a various amount of BERT models. BERT has a lot to offer:\n",
        "\n",
        "a) pretrained models\n",
        "\n",
        "b) bi-directional word embeddings\n",
        "\n",
        "c) ability to deal with out-of vacabulairy words using sub-words (including byte pair enciding, byte-level byte pairing and the WordPiece tokenizer)\n",
        "\n",
        "d) mask language modeling\n",
        "\n",
        "e) next sentence prediction\n",
        "\n",
        "Remember, there are 1000's of different BERT models, varying in size (different number of encoding layers L, different number of attention heads A, different number of hidden units H), and with different pre-training data."
      ],
      "metadata": {
        "id": "OwuWa6ewCScL"
      }
    },
    {
      "cell_type": "markdown",
      "metadata": {
        "id": "zjTrV91KLrSC"
      },
      "source": [
        "Hugging Face is an organization that is behind the very popular open-source library `transformers`. It is very useful and powerful for several NLP and NLU tasks. Transformers models work well when already pretrained, and the `transformers` library includes thousands of pre-trained models in about 100+ natural languages. Its ease of use and extendability is also a plus. You can run state-of-the-art models with just a few lines of code.\n",
        "\n",
        "We can install `transformers` (and the `datasets` library) directly using pip as shown in the following: \n"
      ]
    },
    {
      "cell_type": "code",
      "execution_count": null,
      "metadata": {
        "collapsed": true,
        "id": "o7PQZSHt_FKT",
        "colab": {
          "base_uri": "https://localhost:8080/"
        },
        "outputId": "717090eb-be87-4576-a331-3a933dca9bf3"
      },
      "outputs": [
        {
          "output_type": "stream",
          "name": "stdout",
          "text": [
            "\u001b[2K     \u001b[90m━━━━━━━━━━━━━━━━━━━━━━━━━━━━━━━━━━━━━━━━\u001b[0m \u001b[32m7.0/7.0 MB\u001b[0m \u001b[31m91.8 MB/s\u001b[0m eta \u001b[36m0:00:00\u001b[0m\n",
            "\u001b[2K     \u001b[90m━━━━━━━━━━━━━━━━━━━━━━━━━━━━━━━━━━━━━━\u001b[0m \u001b[32m474.6/474.6 kB\u001b[0m \u001b[31m48.9 MB/s\u001b[0m eta \u001b[36m0:00:00\u001b[0m\n",
            "\u001b[2K     \u001b[90m━━━━━━━━━━━━━━━━━━━━━━━━━━━━━━━━━━━━━━\u001b[0m \u001b[32m224.5/224.5 kB\u001b[0m \u001b[31m28.8 MB/s\u001b[0m eta \u001b[36m0:00:00\u001b[0m\n",
            "\u001b[2K     \u001b[90m━━━━━━━━━━━━━━━━━━━━━━━━━━━━━━━━━━━━━━━━\u001b[0m \u001b[32m7.8/7.8 MB\u001b[0m \u001b[31m107.8 MB/s\u001b[0m eta \u001b[36m0:00:00\u001b[0m\n",
            "\u001b[2K     \u001b[90m━━━━━━━━━━━━━━━━━━━━━━━━━━━━━━━━━━━━━━\u001b[0m \u001b[32m110.5/110.5 kB\u001b[0m \u001b[31m14.9 MB/s\u001b[0m eta \u001b[36m0:00:00\u001b[0m\n",
            "\u001b[2K     \u001b[90m━━━━━━━━━━━━━━━━━━━━━━━━━━━━━━━━━━━━━━\u001b[0m \u001b[32m212.5/212.5 kB\u001b[0m \u001b[31m28.3 MB/s\u001b[0m eta \u001b[36m0:00:00\u001b[0m\n",
            "\u001b[2K     \u001b[90m━━━━━━━━━━━━━━━━━━━━━━━━━━━━━━━━━━━━━━\u001b[0m \u001b[32m134.3/134.3 kB\u001b[0m \u001b[31m19.6 MB/s\u001b[0m eta \u001b[36m0:00:00\u001b[0m\n",
            "\u001b[2K     \u001b[90m━━━━━━━━━━━━━━━━━━━━━━━━━━━━━━━━━━━━━━━━\u001b[0m \u001b[32m1.0/1.0 MB\u001b[0m \u001b[31m76.8 MB/s\u001b[0m eta \u001b[36m0:00:00\u001b[0m\n",
            "\u001b[2K     \u001b[90m━━━━━━━━━━━━━━━━━━━━━━━━━━━━━━━━━━━━━━\u001b[0m \u001b[32m114.5/114.5 kB\u001b[0m \u001b[31m16.2 MB/s\u001b[0m eta \u001b[36m0:00:00\u001b[0m\n",
            "\u001b[2K     \u001b[90m━━━━━━━━━━━━━━━━━━━━━━━━━━━━━━━━━━━━━━\u001b[0m \u001b[32m268.8/268.8 kB\u001b[0m \u001b[31m32.6 MB/s\u001b[0m eta \u001b[36m0:00:00\u001b[0m\n",
            "\u001b[2K     \u001b[90m━━━━━━━━━━━━━━━━━━━━━━━━━━━━━━━━━━━━━━\u001b[0m \u001b[32m149.6/149.6 kB\u001b[0m \u001b[31m21.0 MB/s\u001b[0m eta \u001b[36m0:00:00\u001b[0m\n",
            "\u001b[?25h"
          ]
        }
      ],
      "source": [
        "!pip install -qq transformers==4.28.0 datasets"
      ]
    },
    {
      "cell_type": "markdown",
      "source": [
        "Lets make sure we get the same results every time we run the same code in the notebook (reproducability). We can do this by setting the seeds of the packages we use. Like this:"
      ],
      "metadata": {
        "id": "fHnYEcQFQq4C"
      }
    },
    {
      "cell_type": "code",
      "source": [
        "import random\n",
        "import numpy as np\n",
        "import matplotlib.pyplot as plt\n",
        "import torch\n",
        "SEED = 1234\n",
        "\n",
        "random.seed(SEED)\n",
        "np.random.seed(SEED)\n",
        "torch.manual_seed(SEED)\n",
        "torch.backends.cudnn.deterministic = True"
      ],
      "metadata": {
        "id": "miUHuY2hQqK1"
      },
      "execution_count": null,
      "outputs": []
    },
    {
      "cell_type": "markdown",
      "source": [
        "## Vocabulary and Tokenizers"
      ],
      "metadata": {
        "id": "21r9pHeldV4J"
      }
    },
    {
      "cell_type": "markdown",
      "source": [
        "We can tokenize a piece of text by importing the tokenizer from the `transformers` library. Then to tokenize we use the `tokenize()` function. This function splits the texts based on the items in the vocabulary."
      ],
      "metadata": {
        "id": "IkUZmXK1epUF"
      }
    },
    {
      "cell_type": "code",
      "source": [
        "from transformers import BertTokenizer, BertModel\n",
        "tokenizer = BertTokenizer.from_pretrained('bert-base-uncased')"
      ],
      "metadata": {
        "id": "p_hMv2uZe35T",
        "colab": {
          "base_uri": "https://localhost:8080/",
          "height": 113,
          "referenced_widgets": [
            "b7af5cd7dd1745e9bedaab7ece8d06b4",
            "88b66cc8c0e5425bb5e08a5907f81a1b",
            "1135666858fd4888888cb2b41bc8d434",
            "6dca46fd369c4e9eac0875d171c2753a",
            "2d3a0bec218643f3a87041cfb23d3e67",
            "24facc5a2ee94610b63fb1d937d70d75",
            "e1cfcd0703ae469287080122e15c3677",
            "6177f1aa1c0944768e21dce9ae211f79",
            "b8d1520d90e34115a7f9cce980260f99",
            "00065ce715a744eaaf3af7814cab77e8",
            "047c2cab0f434ca09c3586ab697f22de",
            "99d74ae460934b70b67369a69715bf14",
            "000d10875a8b459a8aabb527b9d316f9",
            "8cb9936294e44e7aa38ef01ffeb8f3d0",
            "bfa930cec3dc4dd2918c24fa47716b33",
            "d138393d65f84e9786142da47f6a5894",
            "3a0f9200c3504d678843f4a800155b4e",
            "e46e6330af904e5998e9ae71b6b9646f",
            "388d4d8d20aa4284a7630ab5a310176f",
            "50a07007b40c48a8a294d7378c796ad2",
            "683f2edaa4e44348b1efb3ef960fc6cc",
            "828a3f201fe9489c92071565ad59a6e5",
            "931888f89f974f2e8c93c352d4eeffb0",
            "b11fce96f1f6400dad8424308638b1f6",
            "40d3c5389e0b4d78820d684479f0ae17",
            "4fcd8230899c44c686ff8b09a1b14c8f",
            "6876951942374a93b073a1db66265a99",
            "308986bb81434dfeb0fb6c5a1ef6e00e",
            "5d83700becad496d8be2dde4c779d3ac",
            "82f872026f5f42f39e00d5ba295aa26e",
            "b17e6dd2495c4bd599b391e65e7dca4d",
            "318974ca60ef48a89a4912c5e92d4874",
            "a5c1e5d1b2494f59b5a637e5ad0b619a"
          ]
        },
        "outputId": "e141fba3-4444-4955-c3d7-1a0d8fda28e0"
      },
      "execution_count": null,
      "outputs": [
        {
          "output_type": "display_data",
          "data": {
            "text/plain": [
              "Downloading (…)solve/main/vocab.txt:   0%|          | 0.00/232k [00:00<?, ?B/s]"
            ],
            "application/vnd.jupyter.widget-view+json": {
              "version_major": 2,
              "version_minor": 0,
              "model_id": "b7af5cd7dd1745e9bedaab7ece8d06b4"
            }
          },
          "metadata": {}
        },
        {
          "output_type": "display_data",
          "data": {
            "text/plain": [
              "Downloading (…)okenizer_config.json:   0%|          | 0.00/28.0 [00:00<?, ?B/s]"
            ],
            "application/vnd.jupyter.widget-view+json": {
              "version_major": 2,
              "version_minor": 0,
              "model_id": "99d74ae460934b70b67369a69715bf14"
            }
          },
          "metadata": {}
        },
        {
          "output_type": "display_data",
          "data": {
            "text/plain": [
              "Downloading (…)lve/main/config.json:   0%|          | 0.00/570 [00:00<?, ?B/s]"
            ],
            "application/vnd.jupyter.widget-view+json": {
              "version_major": 2,
              "version_minor": 0,
              "model_id": "931888f89f974f2e8c93c352d4eeffb0"
            }
          },
          "metadata": {}
        }
      ]
    },
    {
      "cell_type": "markdown",
      "source": [
        "BERT also has extra tokens involved, for example:\n",
        "\n",
        "1. The classification token `[CLS]`. This token is for classification of the transformer. We attend to this token and we can take an embedding representation of a whole sentence by just using this token. \n",
        "2. The separation token `[SEP]`. This token is to let the model know we have separate sentences within a full text we pass to the model. "
      ],
      "metadata": {
        "id": "AQq9S2rm11jD"
      }
    },
    {
      "cell_type": "code",
      "source": [
        "text = \"Here is the sentence I want embeddings for.\"\n",
        "marked_text = \"[CLS] \" + text + \" [SEP]\"\n",
        "\n",
        "# Tokenize our sentence with the BERT tokenizer.\n",
        "tokenized_text = tokenizer.tokenize(marked_text)\n",
        "\n",
        "# Print out the tokens.\n",
        "tokenized_text"
      ],
      "metadata": {
        "id": "xM7H5JkefIRR",
        "colab": {
          "base_uri": "https://localhost:8080/"
        },
        "outputId": "412640ac-0197-451a-d22a-d794212d48d1"
      },
      "execution_count": null,
      "outputs": [
        {
          "output_type": "execute_result",
          "data": {
            "text/plain": [
              "['[CLS]',\n",
              " 'here',\n",
              " 'is',\n",
              " 'the',\n",
              " 'sentence',\n",
              " 'i',\n",
              " 'want',\n",
              " 'em',\n",
              " '##bed',\n",
              " '##ding',\n",
              " '##s',\n",
              " 'for',\n",
              " '.',\n",
              " '[SEP]']"
            ]
          },
          "metadata": {},
          "execution_count": 13
        }
      ]
    },
    {
      "cell_type": "markdown",
      "source": [
        "This text is not yet something we can pass through our model yet. For that, we need it converted to integers (ids). We can do this with the `convert_tokens_to_ids` function:"
      ],
      "metadata": {
        "id": "Nk4bnxAd1mmN"
      }
    },
    {
      "cell_type": "code",
      "source": [
        "tokenizer.convert_tokens_to_ids(tokenized_text)"
      ],
      "metadata": {
        "id": "mICf1JCk1ebY",
        "colab": {
          "base_uri": "https://localhost:8080/"
        },
        "outputId": "38904959-602f-4f73-b9ce-5766bece68e5"
      },
      "execution_count": null,
      "outputs": [
        {
          "output_type": "execute_result",
          "data": {
            "text/plain": [
              "[101,\n",
              " 2182,\n",
              " 2003,\n",
              " 1996,\n",
              " 6251,\n",
              " 1045,\n",
              " 2215,\n",
              " 7861,\n",
              " 8270,\n",
              " 4667,\n",
              " 2015,\n",
              " 2005,\n",
              " 1012,\n",
              " 102]"
            ]
          },
          "metadata": {},
          "execution_count": 14
        }
      ]
    },
    {
      "cell_type": "markdown",
      "source": [
        "This function just looks up the tokens in the vocabulary. For example, the id 5000 means `knight`, because it is the 5000th index in the vocabulary:"
      ],
      "metadata": {
        "id": "CflPdyWr3zqg"
      }
    },
    {
      "cell_type": "code",
      "source": [
        "list(tokenizer.vocab.keys())[5000:5020]"
      ],
      "metadata": {
        "id": "ZRywEv0Z3zJo",
        "colab": {
          "base_uri": "https://localhost:8080/"
        },
        "outputId": "74bd9349-ce5e-4bfb-d09a-87faf66485b1"
      },
      "execution_count": null,
      "outputs": [
        {
          "output_type": "execute_result",
          "data": {
            "text/plain": [
              "['knight',\n",
              " 'lap',\n",
              " 'survey',\n",
              " 'ma',\n",
              " '##ow',\n",
              " 'noise',\n",
              " 'billy',\n",
              " '##ium',\n",
              " 'shooting',\n",
              " 'guide',\n",
              " 'bedroom',\n",
              " 'priest',\n",
              " 'resistance',\n",
              " 'motor',\n",
              " 'homes',\n",
              " 'sounded',\n",
              " 'giant',\n",
              " '##mer',\n",
              " '150',\n",
              " 'scenes']"
            ]
          },
          "metadata": {},
          "execution_count": 15
        }
      ]
    },
    {
      "cell_type": "markdown",
      "source": [
        "We can convert ids back to tokens with the `convert_ids_to_tokens` function:"
      ],
      "metadata": {
        "id": "4qy-eYrP5eky"
      }
    },
    {
      "cell_type": "code",
      "source": [
        "ids = tokenizer.convert_tokens_to_ids(tokenized_text)\n",
        "tokenizer.convert_ids_to_tokens(ids)"
      ],
      "metadata": {
        "id": "i2wULAmP5PvT",
        "colab": {
          "base_uri": "https://localhost:8080/"
        },
        "outputId": "e67d87eb-7a3c-4c8f-eb46-f91a88a14e38"
      },
      "execution_count": null,
      "outputs": [
        {
          "output_type": "execute_result",
          "data": {
            "text/plain": [
              "['[CLS]',\n",
              " 'here',\n",
              " 'is',\n",
              " 'the',\n",
              " 'sentence',\n",
              " 'i',\n",
              " 'want',\n",
              " 'em',\n",
              " '##bed',\n",
              " '##ding',\n",
              " '##s',\n",
              " 'for',\n",
              " '.',\n",
              " '[SEP]']"
            ]
          },
          "metadata": {},
          "execution_count": 16
        }
      ]
    },
    {
      "cell_type": "markdown",
      "source": [
        "Normally, we would just use `encode` or `encode_plus`. `encode` adds the `CLS` and `SEP`, add the `convert_tokens_to_ids` and `tokenize` steps into one step. `encode_plus` does this and also appends a `attention_mask` and `token_type_ids`. "
      ],
      "metadata": {
        "id": "GOQcC1RU2-IZ"
      }
    },
    {
      "cell_type": "code",
      "source": [
        "tokenizer.encode(text)"
      ],
      "metadata": {
        "id": "p7a4dC1O3b8t",
        "colab": {
          "base_uri": "https://localhost:8080/"
        },
        "outputId": "6f52d27e-4e99-4c45-e9b7-88a38873105e"
      },
      "execution_count": null,
      "outputs": [
        {
          "output_type": "execute_result",
          "data": {
            "text/plain": [
              "[101,\n",
              " 2182,\n",
              " 2003,\n",
              " 1996,\n",
              " 6251,\n",
              " 1045,\n",
              " 2215,\n",
              " 7861,\n",
              " 8270,\n",
              " 4667,\n",
              " 2015,\n",
              " 2005,\n",
              " 1012,\n",
              " 102]"
            ]
          },
          "metadata": {},
          "execution_count": 17
        }
      ]
    },
    {
      "cell_type": "markdown",
      "metadata": {
        "id": "kQhSjlX8LrSF"
      },
      "source": [
        "## BERT Models\n",
        "In this section, we will learn how to extract embeddings from the pre-trained BERT. Consider the sentence 'I love Maastricht'. Let's see how to obtain the contextualized word embedding of all the words in the sentence using the pre-trained BERT model with Hugging Face's transformer library. "
      ]
    },
    {
      "cell_type": "markdown",
      "metadata": {
        "id": "u_k8AHt0LrSH"
      },
      "source": [
        "Lets consider the `HuggingFace` library. We can check all the available pre-trained models [here](https://huggingface.co/models). For BERT, these models we can filter down on the `bert` [tag](https://huggingface.co/models?other=bert). For now, we use the [bert-base-uncased](https://huggingface.co/bert-base-uncased) model. As the name suggests, it a BERT with 12 encoders and it is trained with uncased tokens. The representation size will be 768. The `uncased` means that we have only lowercase letters in our tokenizer. \n",
        "\n",
        "We can download and load the pretrained model like this. Lets look how the model is implemented. Can you notice the 12 layers/encoders of the model? Also notice the different type of inputs we have in the embedding layer. The word embedding, that converts the token ids we have (30522 of them) into 768. Same holds for the position embeddings and the token_type_embeddings we could put in. "
      ]
    },
    {
      "cell_type": "code",
      "execution_count": null,
      "metadata": {
        "id": "swqqjz08_FKj",
        "colab": {
          "base_uri": "https://localhost:8080/",
          "height": 817,
          "referenced_widgets": [
            "a5657636b0a54bbf8477e08b271c8ae5",
            "130a00e3bf5248e6a44c3902c4f1864b",
            "9cda80ee2189496895b042ae2c3c0885",
            "5f4a87f4b4a543d9b18c1cfe4b3ab35d",
            "021fa32c2bc94a9c97288542b6f66c73",
            "75728dd773484fe5b58411eb337f9ebb",
            "bd0a5ddc62af441abe2345ba2cd26958",
            "14c4560493c94057bfe239c1fbcbdd3b",
            "74cba58870ee4cbc968115fadaa00340",
            "fa7cfa3171444a82a3557e0563256527",
            "437113b3e45f40e787917b6fffcda26f"
          ]
        },
        "outputId": "6a8a7d82-4338-4e6c-d701-997fbaeb124b"
      },
      "outputs": [
        {
          "output_type": "display_data",
          "data": {
            "text/plain": [
              "Downloading pytorch_model.bin:   0%|          | 0.00/440M [00:00<?, ?B/s]"
            ],
            "application/vnd.jupyter.widget-view+json": {
              "version_major": 2,
              "version_minor": 0,
              "model_id": "a5657636b0a54bbf8477e08b271c8ae5"
            }
          },
          "metadata": {}
        },
        {
          "output_type": "stream",
          "name": "stderr",
          "text": [
            "Some weights of the model checkpoint at bert-base-uncased were not used when initializing BertModel: ['cls.seq_relationship.bias', 'cls.predictions.transform.LayerNorm.weight', 'cls.predictions.transform.LayerNorm.bias', 'cls.predictions.bias', 'cls.predictions.transform.dense.bias', 'cls.predictions.decoder.weight', 'cls.seq_relationship.weight', 'cls.predictions.transform.dense.weight']\n",
            "- This IS expected if you are initializing BertModel from the checkpoint of a model trained on another task or with another architecture (e.g. initializing a BertForSequenceClassification model from a BertForPreTraining model).\n",
            "- This IS NOT expected if you are initializing BertModel from the checkpoint of a model that you expect to be exactly identical (initializing a BertForSequenceClassification model from a BertForSequenceClassification model).\n"
          ]
        },
        {
          "output_type": "execute_result",
          "data": {
            "text/plain": [
              "BertModel(\n",
              "  (embeddings): BertEmbeddings(\n",
              "    (word_embeddings): Embedding(30522, 768, padding_idx=0)\n",
              "    (position_embeddings): Embedding(512, 768)\n",
              "    (token_type_embeddings): Embedding(2, 768)\n",
              "    (LayerNorm): LayerNorm((768,), eps=1e-12, elementwise_affine=True)\n",
              "    (dropout): Dropout(p=0.1, inplace=False)\n",
              "  )\n",
              "  (encoder): BertEncoder(\n",
              "    (layer): ModuleList(\n",
              "      (0-11): 12 x BertLayer(\n",
              "        (attention): BertAttention(\n",
              "          (self): BertSelfAttention(\n",
              "            (query): Linear(in_features=768, out_features=768, bias=True)\n",
              "            (key): Linear(in_features=768, out_features=768, bias=True)\n",
              "            (value): Linear(in_features=768, out_features=768, bias=True)\n",
              "            (dropout): Dropout(p=0.1, inplace=False)\n",
              "          )\n",
              "          (output): BertSelfOutput(\n",
              "            (dense): Linear(in_features=768, out_features=768, bias=True)\n",
              "            (LayerNorm): LayerNorm((768,), eps=1e-12, elementwise_affine=True)\n",
              "            (dropout): Dropout(p=0.1, inplace=False)\n",
              "          )\n",
              "        )\n",
              "        (intermediate): BertIntermediate(\n",
              "          (dense): Linear(in_features=768, out_features=3072, bias=True)\n",
              "          (intermediate_act_fn): GELUActivation()\n",
              "        )\n",
              "        (output): BertOutput(\n",
              "          (dense): Linear(in_features=3072, out_features=768, bias=True)\n",
              "          (LayerNorm): LayerNorm((768,), eps=1e-12, elementwise_affine=True)\n",
              "          (dropout): Dropout(p=0.1, inplace=False)\n",
              "        )\n",
              "      )\n",
              "    )\n",
              "  )\n",
              "  (pooler): BertPooler(\n",
              "    (dense): Linear(in_features=768, out_features=768, bias=True)\n",
              "    (activation): Tanh()\n",
              "  )\n",
              ")"
            ]
          },
          "metadata": {},
          "execution_count": 18
        }
      ],
      "source": [
        "model = BertModel.from_pretrained('bert-base-uncased')\n",
        "model"
      ]
    },
    {
      "cell_type": "markdown",
      "metadata": {
        "id": "j8El2dcG_FKs"
      },
      "source": [
        "## Preprocessing the input \n",
        "Define the sentence:"
      ]
    },
    {
      "cell_type": "code",
      "execution_count": null,
      "metadata": {
        "collapsed": true,
        "id": "8Hkc5o3B_FKu"
      },
      "outputs": [],
      "source": [
        "sentence = 'I love AI'"
      ]
    },
    {
      "cell_type": "markdown",
      "metadata": {
        "id": "FVn3-2XM_FKv"
      },
      "source": [
        "Tokenize the sentence and obtain the tokens:"
      ]
    },
    {
      "cell_type": "code",
      "execution_count": null,
      "metadata": {
        "collapsed": true,
        "id": "4Ui-3oWr_FKw"
      },
      "outputs": [],
      "source": [
        "tokens = tokenizer.tokenize(sentence)"
      ]
    },
    {
      "cell_type": "markdown",
      "metadata": {
        "id": "RSYRLcvV_FKy"
      },
      "source": [
        "Let's print the tokens:"
      ]
    },
    {
      "cell_type": "code",
      "execution_count": null,
      "metadata": {
        "id": "CGHtPj5H_FKz",
        "colab": {
          "base_uri": "https://localhost:8080/"
        },
        "outputId": "e4eef780-a0cc-4c46-ebd7-38c707012d1c"
      },
      "outputs": [
        {
          "output_type": "stream",
          "name": "stdout",
          "text": [
            "['i', 'love', 'ai']\n"
          ]
        }
      ],
      "source": [
        "print(tokens)"
      ]
    },
    {
      "cell_type": "markdown",
      "metadata": {
        "id": "rL8VgpcM_FK0"
      },
      "source": [
        "Now, we will add the `[CLS]` token at the beginning and `[SEP]` token at the end of the tokens list: "
      ]
    },
    {
      "cell_type": "code",
      "execution_count": null,
      "metadata": {
        "collapsed": true,
        "id": "3CpARvDc_FK0"
      },
      "outputs": [],
      "source": [
        "tokens = ['[CLS]'] + tokens + ['[SEP]']"
      ]
    },
    {
      "cell_type": "markdown",
      "metadata": {
        "id": "jbFEyrk7_FK2"
      },
      "source": [
        "Let's look at our updated tokens list:"
      ]
    },
    {
      "cell_type": "code",
      "execution_count": null,
      "metadata": {
        "id": "Uaf_JScw_FK3",
        "colab": {
          "base_uri": "https://localhost:8080/"
        },
        "outputId": "56ffda7d-524d-4cd6-d9c7-7822c6a21e56"
      },
      "outputs": [
        {
          "output_type": "stream",
          "name": "stdout",
          "text": [
            "['[CLS]', 'i', 'love', 'ai', '[SEP]']\n"
          ]
        }
      ],
      "source": [
        "print(tokens)"
      ]
    },
    {
      "cell_type": "markdown",
      "metadata": {
        "id": "wVD29L7A_FK3"
      },
      "source": [
        "As we can observe, we have `[CLS]` token at the beginning and sep token at the end of our tokens list. We can also observe that length of our tokens is 5.\n",
        "\n",
        "Say, we need to keep the length of our tokens list to 7, then, in that case, we will add two `[PAD]` tokens at the end as shown in the following:\n",
        "\n"
      ]
    },
    {
      "cell_type": "code",
      "execution_count": null,
      "metadata": {
        "collapsed": true,
        "id": "cqMI--rA_FK4"
      },
      "outputs": [],
      "source": [
        "tokens = tokens + ['[PAD]'] + ['[PAD]']"
      ]
    },
    {
      "cell_type": "markdown",
      "metadata": {
        "id": "XEEHs7CV_FK6"
      },
      "source": [
        "Let's print our updated tokens list:"
      ]
    },
    {
      "cell_type": "code",
      "execution_count": null,
      "metadata": {
        "id": "2tKmh_hk_FK6",
        "colab": {
          "base_uri": "https://localhost:8080/"
        },
        "outputId": "dc987a44-e6f9-4971-e442-335e90011057"
      },
      "outputs": [
        {
          "output_type": "stream",
          "name": "stdout",
          "text": [
            "['[CLS]', 'i', 'love', 'ai', '[SEP]', '[PAD]', '[PAD]']\n"
          ]
        }
      ],
      "source": [
        "print(tokens)"
      ]
    },
    {
      "cell_type": "markdown",
      "metadata": {
        "id": "aPd9TPWE_FK7"
      },
      "source": [
        "\n",
        "\n",
        "As we can observe, now we have the tokens list consists of `[PAD]` tokens and the length of our tokens list is 7. \n",
        "\n",
        "Next, we create the attention mask. The attention mask is there to let the model know which items should be taken into account when calculating the attentions. Since `[PAD]` tokens are just to pad the string and do not have any semantic meaning, we should let the model know not to take them into account. \n",
        "\n",
        "We set the attention mask value to 1 if the token is not a `[PAD]` token else we will set the attention mask to 0 as shown below:\n",
        "\n"
      ]
    },
    {
      "cell_type": "code",
      "execution_count": null,
      "metadata": {
        "collapsed": true,
        "id": "3SbiaBws_FK8"
      },
      "outputs": [],
      "source": [
        "attention_mask1 = [1 if i!= '[PAD]' else 0 for i in tokens]"
      ]
    },
    {
      "cell_type": "markdown",
      "metadata": {
        "id": "SELKgxsG_FK9"
      },
      "source": [
        "Let's print the attention_mask:"
      ]
    },
    {
      "cell_type": "code",
      "execution_count": null,
      "metadata": {
        "id": "NmtZKFFq_FK-",
        "colab": {
          "base_uri": "https://localhost:8080/"
        },
        "outputId": "585e3031-a998-4ca1-8d61-18ca8e9792b2"
      },
      "outputs": [
        {
          "output_type": "stream",
          "name": "stdout",
          "text": [
            "[1, 1, 1, 1, 1, 0, 0]\n"
          ]
        }
      ],
      "source": [
        "print(attention_mask1)"
      ]
    },
    {
      "cell_type": "markdown",
      "metadata": {
        "id": "qvtvC8HW_FK-"
      },
      "source": [
        "\n",
        "As we can observe, we have attention mask values 0 at the position where have `[PAD]` token and 1 at other positions. \n",
        "\n",
        "Next, we convert all the tokens to their token_ids as shown below: \n"
      ]
    },
    {
      "cell_type": "code",
      "execution_count": null,
      "metadata": {
        "collapsed": true,
        "id": "KGbsHfxL_FK_"
      },
      "outputs": [],
      "source": [
        "token_ids = tokenizer.convert_tokens_to_ids(tokens)"
      ]
    },
    {
      "cell_type": "markdown",
      "metadata": {
        "id": "zaQWwz_y_FK_"
      },
      "source": [
        "\n",
        "Let's have a look at the token_ids:"
      ]
    },
    {
      "cell_type": "code",
      "execution_count": null,
      "metadata": {
        "id": "iih_wWeT_FLA",
        "colab": {
          "base_uri": "https://localhost:8080/"
        },
        "outputId": "55ea2df7-0f1c-49b7-a2f5-6275b6f0fe5a"
      },
      "outputs": [
        {
          "output_type": "stream",
          "name": "stdout",
          "text": [
            "[101, 1045, 2293, 9932, 102, 0, 0]\n"
          ]
        }
      ],
      "source": [
        "print(token_ids)"
      ]
    },
    {
      "cell_type": "markdown",
      "metadata": {
        "id": "S9RL1cBs_FLA"
      },
      "source": [
        "\n",
        "From the above output, we can observe that each token is mapped to a unique token id.\n",
        "\n",
        "Now, we convert the token_ids and attention_mask to tensors as shown below:"
      ]
    },
    {
      "cell_type": "code",
      "execution_count": null,
      "metadata": {
        "collapsed": true,
        "id": "KQzsDUez_FLB"
      },
      "outputs": [],
      "source": [
        "token_ids = torch.tensor(token_ids).unsqueeze(0)\n",
        "attention_mask1 = torch.tensor(attention_mask1).unsqueeze(0)"
      ]
    },
    {
      "cell_type": "markdown",
      "metadata": {
        "id": "pQn5de_a_FLC"
      },
      "source": [
        "\n",
        "That's it. Next, we feed the token_ids and attention_mask to the pre-trained BERT model and get the embedding. "
      ]
    },
    {
      "cell_type": "markdown",
      "metadata": {
        "id": "qYIDWAO-_FLD"
      },
      "source": [
        "## Getting the embedding \n",
        "\n",
        "As shown in the following code, we feed the token_ids, and attention_mask to the model and get the output of the model:"
      ]
    },
    {
      "cell_type": "code",
      "execution_count": null,
      "metadata": {
        "collapsed": true,
        "id": "Rh-Ohh71_FLE",
        "colab": {
          "base_uri": "https://localhost:8080/"
        },
        "outputId": "29f92267-6982-4988-b28f-63d3d51c496c"
      },
      "outputs": [
        {
          "output_type": "stream",
          "name": "stdout",
          "text": [
            "tensor([[ 101, 1045, 2293, 9932,  102,    0,    0]])\n",
            "tensor([[1, 1, 1, 1, 1, 0, 0]])\n"
          ]
        }
      ],
      "source": [
        "print(token_ids)\n",
        "print(attention_mask1)\n",
        "last_hidden_state, pooler_output = model(token_ids, attention_mask = attention_mask1).to_tuple()"
      ]
    },
    {
      "cell_type": "markdown",
      "metadata": {
        "id": "F3Kfvd3F_FLF"
      },
      "source": [
        "This output contains two keys or more keys, depending on the task at hand. In the case of `bert-base-uncased`, we get "
      ]
    },
    {
      "cell_type": "code",
      "execution_count": null,
      "metadata": {
        "id": "Gx1RfsaU_FLF",
        "colab": {
          "base_uri": "https://localhost:8080/"
        },
        "outputId": "ef499516-9846-4efc-aeb7-61df6ff2d8b2"
      },
      "outputs": [
        {
          "output_type": "execute_result",
          "data": {
            "text/plain": [
              "(torch.Size([1, 7, 768]), torch.Size([1, 768]))"
            ]
          },
          "metadata": {},
          "execution_count": 32
        }
      ],
      "source": [
        "last_hidden_state.shape, pooler_output.shape"
      ]
    },
    {
      "cell_type": "markdown",
      "source": [
        "The `pooler_output` is basically the `last_hidden_state`'s `[CLS]` token through the pooling module (linear layer + activation) at the end:"
      ],
      "metadata": {
        "id": "9Dsj4xWesaSz"
      }
    },
    {
      "cell_type": "code",
      "source": [
        "torch.allclose(pooler_output, model.pooler(last_hidden_state))"
      ],
      "metadata": {
        "id": "C4IjdcYzs6HX",
        "colab": {
          "base_uri": "https://localhost:8080/"
        },
        "outputId": "060eaa3d-1c7d-4406-af96-65acbbbf8952"
      },
      "execution_count": null,
      "outputs": [
        {
          "output_type": "execute_result",
          "data": {
            "text/plain": [
              "True"
            ]
          },
          "metadata": {},
          "execution_count": 33
        }
      ]
    },
    {
      "cell_type": "markdown",
      "metadata": {
        "id": "zWxFowIS_FLG"
      },
      "source": [
        "The size `[1,7,768]` indicates the `[batch_size, sequence_length, hidden_size]`.\n",
        "\n",
        "Our batch size is 1, the sequence length is the token length, since we have 7 tokens, the sequence length is 7, and the hidden size is the representation (embedding) size and it is 768 for the BERT-base model. \n",
        "\n",
        "We can obtain the representation of each token as: \n",
        "\n",
        "- `output.last_hidden_state[0][0]` gives the representation of the first token which is `[CLS]`\n",
        "- `output.last_hidden_state[0][1]` gives the representation of the second token which is 'I' \n",
        "- `output.last_hidden_state[0][2]` gives the representation of the third token which is 'love'.\n",
        "\n",
        "We can also index it with `output.last_hidden_state[:, 0, :]`. In this way, we specify that we want to have the zeroth element on the second index, we get a matrix in return with both the batch size and the embedding size (since we put a colon there).\n",
        "\n",
        "In this way, we can obtain the contextual representation of all the tokens. This is basically the contextualized word embeddings of all the words in the given sentence. "
      ]
    },
    {
      "cell_type": "markdown",
      "source": [
        "### Exercise 1\n",
        "1. Now write your own code. Put the following text (the one defined under here with three times `bank` in it) to the tokenizer, add `[CLS]` and `[SEP]` values to it and pass it through the model. Get the vector representations of each of the three tokens of `bank` in the sentence and compare them. \n",
        "2. How does this differ from putting the text through a Word2Vec model? \n",
        "2. Put a string with only \"bank\" (add `[CLS]` and `[SEP]`) through the tokenizer and model. How does this vector of the word \"bank\" differ from the other \"bank\" vectors?"
      ],
      "metadata": {
        "id": "zzsYzhiRaW1L"
      }
    },
    {
      "cell_type": "code",
      "source": [
        "# Define a new example sentence with multiple meanings of the word \"bank\"\n",
        "text = \"After stealing money from the bank vault, the bank robber was seen \" \n",
        "       \"fishing on the Mississippi river bank.\"\n",
        "\n",
        "# Tokenize the text and add [CLS] and [SEP] tokens\n",
        "tokens = tokenizer.tokenize(text)\n",
        "tokens = ['[CLS]'] + tokens + ['[SEP]']\n",
        "\n",
        "# Convert tokens to token IDs\n",
        "token_ids = tokenizer.convert_tokens_to_ids(tokens)\n",
        "\n",
        "# Convert token IDs to tensors\n",
        "token_ids = torch.tensor(token_ids).unsqueeze(0)\n",
        "\n",
        "# Get the embeddings\n",
        "outputs = model(token_ids)\n",
        "last_hidden_state = outputs.last_hidden_state\n",
        "\n",
        "# Extract the embeddings of each \"bank\" token\n",
        "bank_1_index = tokens.index('bank')\n",
        "bank_2_index = tokens.index('bank', bank_1_index + 1)\n",
        "bank_3_index = tokens.index('bank', bank_2_index + 1)\n",
        "\n",
        "bank_1_embedding = last_hidden_state[0][bank_1_index]\n",
        "bank_2_embedding = last_hidden_state[0][bank_2_index]\n",
        "bank_3_embedding = last_hidden_state[0][bank_3_index]\n",
        "\n",
        "# Compare the embeddings\n",
        "print(\"Embedding of 'bank' (1st occurrence):\", bank_1_embedding)\n",
        "print(\"Embedding of 'bank' (2nd occurrence):\", bank_2_embedding)\n",
        "print(\"Embedding of 'bank' (3rd occurrence):\", bank_3_embedding)\n",
        "\n"
      ],
      "metadata": {
        "colab": {
          "base_uri": "https://localhost:8080/"
        },
        "id": "dlVMS9ihc2dr",
        "outputId": "c1c33ae0-d277-45e9-828b-0fb942d1ec3d"
      },
      "execution_count": null,
      "outputs": [
        {
          "output_type": "stream",
          "name": "stdout",
          "text": [
            "Embedding of 'bank' (1st occurrence): tensor([ 9.0011e-01, -5.3804e-01, -1.6691e-01,  2.2416e-01,  6.8966e-01,\n",
            "         2.2239e-01, -7.5662e-01,  5.5740e-01, -1.1601e-01, -6.2012e-01,\n",
            "         2.0005e-01, -6.1009e-01,  1.4025e-01,  5.3221e-01, -1.2143e+00,\n",
            "        -1.0615e-01,  4.0229e-02,  6.4241e-01,  7.8007e-01,  2.7558e-01,\n",
            "        -5.7204e-01, -3.8174e-02,  3.9406e-01,  8.2755e-01,  1.9285e-01,\n",
            "         2.1723e-01,  6.5400e-01,  1.7280e-01,  7.9459e-02,  2.7785e-01,\n",
            "         7.0442e-01,  2.7436e-01,  2.4882e-01,  6.8314e-02,  9.5232e-02,\n",
            "        -1.5155e-01, -4.5490e-01,  2.6293e-01, -6.8863e-01,  4.4840e-01,\n",
            "        -3.9642e-01, -4.6336e-01, -3.9680e-01,  3.3889e-01, -1.5197e-01,\n",
            "        -8.6917e-02, -5.6280e-01,  2.2296e-01, -6.4025e-01, -4.3513e-02,\n",
            "        -2.7076e-01,  1.0632e+00, -1.3607e+00, -7.3166e-01, -3.9044e-02,\n",
            "         6.4996e-01, -8.0023e-01, -8.0387e-01,  4.4192e-02, -5.7023e-01,\n",
            "         8.5878e-01,  3.2322e-01,  6.6702e-01, -1.1536e+00, -2.2098e-01,\n",
            "        -5.6660e-01,  6.4410e-01,  1.3307e-01, -1.9538e-01,  2.4807e-01,\n",
            "        -1.6572e-02,  1.4869e+00, -8.8976e-01, -8.2635e-01,  1.1448e-01,\n",
            "         5.2192e-01, -1.1281e-01,  3.8549e-01,  1.4185e-01, -2.1363e-01,\n",
            "        -2.2953e-01, -3.9185e-01, -2.9765e-01,  2.3584e-01,  1.4992e-01,\n",
            "        -1.1353e-01,  4.2794e-01,  2.7255e-01,  1.9069e-01,  4.4444e-01,\n",
            "        -2.2417e-01,  4.1887e-01, -5.0887e-01,  5.9886e-02, -7.3409e-01,\n",
            "         4.7422e-01, -2.4486e-01,  9.4720e-02, -4.9827e-01,  1.2579e-01,\n",
            "         1.6274e-01, -1.4490e+00,  6.5354e-02,  3.5408e-01, -1.0734e-01,\n",
            "        -3.6862e-01, -5.2666e-01, -1.3009e-01, -4.4646e-01,  8.1266e-02,\n",
            "         7.5999e-01, -6.5375e-01,  1.2303e-01, -8.2848e-01,  7.9699e-02,\n",
            "        -3.8083e-01,  5.9318e-01, -1.1084e+00, -2.3330e-01, -8.3949e-01,\n",
            "         3.3832e-02,  6.6896e-01,  4.0524e-01,  1.1844e+00,  1.1596e-01,\n",
            "         2.8832e-01, -1.2872e-01,  8.4680e-01, -9.9776e-02, -1.9407e-03,\n",
            "         7.4285e-01,  2.7424e-01, -4.8908e-01, -1.6395e-01,  5.1048e-01,\n",
            "         2.2479e-01, -3.5053e-01, -5.5864e-01, -6.3801e-01, -1.7700e-03,\n",
            "         3.6809e-01,  1.8846e-02,  1.9302e-02,  1.3395e+00,  3.5208e-01,\n",
            "         4.3840e-01, -4.0367e-02, -2.3911e-01, -5.3891e-02,  4.5658e-01,\n",
            "         2.2084e-01,  2.1463e-01, -2.6362e-01, -3.4372e-01,  7.2808e-01,\n",
            "        -2.4393e-01, -8.3685e-01,  1.7710e-01, -4.7095e-01, -8.9676e-02,\n",
            "         2.9059e-01,  1.6786e-01,  1.8279e-01,  1.7230e-01, -1.2151e+00,\n",
            "        -9.3092e-01,  3.8466e-01,  3.3923e-01, -7.3304e-01, -2.9934e-01,\n",
            "        -1.0209e-01, -2.8038e-01,  6.7686e-01,  1.0063e-01,  8.8539e-01,\n",
            "         3.2228e-01, -3.3539e-01, -8.2910e-01,  9.1322e-02, -2.8845e-01,\n",
            "         3.7380e-02,  9.8030e-01,  6.9152e-01,  8.4141e-01,  7.1699e-01,\n",
            "        -4.4253e-01,  1.6595e+00,  2.5132e-01,  2.1889e-01, -1.6482e-01,\n",
            "        -4.7230e-01, -1.0475e+00, -2.7655e-01,  1.4195e-01, -2.9058e-01,\n",
            "        -3.5677e-01, -2.3366e-01, -4.1350e-01, -8.1898e-01, -1.8578e-01,\n",
            "        -3.1256e-01, -1.4995e-01, -4.9976e-01, -1.7726e-01, -5.2954e-01,\n",
            "        -1.2148e-03,  8.8290e-02,  4.7922e-01,  7.6793e-01,  5.7678e-02,\n",
            "        -1.1186e-01,  1.2653e-01, -3.2557e-01,  5.4532e-01, -3.5787e-01,\n",
            "         4.6855e-01, -3.6212e-01, -8.1876e-01, -2.1438e-01, -1.8290e-01,\n",
            "        -3.4701e-01, -1.0669e-01, -1.0650e-01,  3.6348e-01, -1.4727e-01,\n",
            "         6.4516e-01,  5.8966e-01, -4.1716e-01, -6.8816e-01,  5.5480e-01,\n",
            "        -4.0230e-01,  6.5102e-01,  5.5980e-01, -2.6512e-01,  4.0528e-01,\n",
            "        -1.1023e-01, -1.4187e+00,  4.0581e-02, -4.7545e-02,  3.8553e-01,\n",
            "        -3.7661e-01,  2.8351e-01,  6.7449e-01, -3.6192e-01,  2.6555e-01,\n",
            "         5.4732e-01, -1.7068e-01, -3.3748e-01, -7.5081e-01,  6.1052e-02,\n",
            "        -3.8185e-01, -5.7596e-01, -7.9530e-01, -5.2547e-01,  6.1761e-01,\n",
            "        -1.0124e-01,  1.3509e-01, -2.1551e-01, -6.6138e-01,  4.5929e-01,\n",
            "         1.0703e+00,  3.5303e-01, -2.4171e-01,  2.7030e-01, -4.1708e-01,\n",
            "        -7.0469e-01,  2.7074e-01,  6.6735e-01,  1.6349e-01,  6.6055e-01,\n",
            "         3.3599e-01,  5.8847e-01, -2.1043e-02,  1.3324e+00,  4.9288e-01,\n",
            "        -2.1782e-01, -7.8579e-02, -3.6004e-03,  5.8924e-01,  6.3887e-01,\n",
            "         2.7798e-01,  4.1811e-01,  8.0780e-02, -5.1233e-01,  4.2102e-01,\n",
            "        -2.8143e-01,  9.3915e-02,  1.6820e+00, -2.7434e-01, -6.1880e-01,\n",
            "        -1.0950e-03,  1.0595e-02, -2.3738e-01, -5.0143e-02, -1.3254e-01,\n",
            "         3.6953e-01,  5.3557e-01,  1.5963e+00,  7.9291e-01, -1.8403e-01,\n",
            "         5.9066e-01, -2.9154e-02,  4.0978e-01, -5.5812e-01, -5.5052e-01,\n",
            "         3.3081e-01, -1.1863e-01, -3.2650e-01, -3.8681e+00,  1.6346e+00,\n",
            "         1.9031e-01, -4.9669e-01,  3.8748e-01,  1.2367e-01,  1.9889e-01,\n",
            "        -4.2761e-01, -9.8127e-01,  1.1150e-01, -6.3244e-01, -7.3542e-01,\n",
            "         6.6551e-01, -1.0042e-01, -6.1538e-02, -8.1005e-01, -2.3227e-01,\n",
            "         3.2077e-01, -6.5587e-02,  2.9822e-02, -1.6374e-01, -8.4467e-01,\n",
            "        -1.6955e-01,  3.1949e-01,  7.8097e-01,  6.7038e-01, -7.5207e-01,\n",
            "         1.8381e-02,  1.3739e-01,  2.6898e-01, -1.0125e-01, -4.8185e-04,\n",
            "        -1.0549e-02,  8.1631e-02, -8.5134e-02, -5.4949e-01, -4.6755e-01,\n",
            "        -4.3205e-01,  1.1050e-01, -5.4491e-01,  7.8194e-02,  3.9950e-01,\n",
            "        -5.2085e-01,  4.8551e-01,  1.1881e+00, -3.8366e-01, -1.7349e-01,\n",
            "         2.0693e-01, -4.4335e-02,  6.6827e-01,  2.4809e-01, -2.2141e-01,\n",
            "         1.1987e-01, -1.8847e-01,  3.7164e-01,  6.6873e-01, -4.8662e-02,\n",
            "         3.6450e-01,  4.5502e-01, -3.2063e-01, -4.7292e-01, -2.9671e-02,\n",
            "         2.6990e-01, -9.9401e-02, -1.1520e-01, -1.4262e-01, -1.3591e+00,\n",
            "        -6.3007e-01,  6.4383e-02, -2.9572e-01, -2.2858e-01,  3.2162e-01,\n",
            "        -1.2396e-01, -1.1694e+00, -1.1705e-01, -4.2240e-01,  9.0017e-01,\n",
            "        -6.3259e-01, -5.3106e-01,  3.7895e-01,  6.5874e-01, -8.6304e-03,\n",
            "         3.9477e-01, -7.5980e-02,  2.3109e-01,  1.6663e-01, -4.3698e-01,\n",
            "         5.6856e-01, -1.2730e+00, -6.0860e-01,  8.5459e-01,  1.3438e+00,\n",
            "         1.6509e-01, -7.1293e-01,  1.7879e-01,  2.4570e-01, -5.3044e-01,\n",
            "        -1.0186e-01,  4.3344e-01, -5.0117e-02, -1.3088e-01,  7.0338e-01,\n",
            "         9.0921e-01, -2.1891e-01, -4.8702e-01, -4.5067e-01, -1.5816e-01,\n",
            "        -3.7856e-01, -1.1722e+00,  1.1838e+00,  6.8541e-01, -8.3445e-01,\n",
            "         9.6870e-01, -6.0453e-01, -1.5470e-01,  5.6600e-01,  1.8835e-01,\n",
            "        -4.3600e-01,  2.0065e-01, -3.3878e-01, -5.2755e-01,  3.1173e-01,\n",
            "        -7.6879e-01, -1.2613e+00,  2.9093e-02,  2.3980e-01, -1.5701e-01,\n",
            "        -4.3059e-01, -4.0436e-01, -3.4398e-01,  6.2146e-01, -2.5416e-01,\n",
            "        -3.0936e-01,  6.3953e-01,  5.3234e-01,  3.5416e-02,  5.1336e-01,\n",
            "        -6.6226e-01, -2.2310e-01, -3.5583e-02,  8.6447e-02,  5.7009e-01,\n",
            "        -1.8376e-01, -5.2460e-01, -2.0663e-01, -4.6081e-01, -5.6882e-01,\n",
            "         2.6017e-01,  2.6901e-01, -3.8413e-01, -3.3155e-01,  9.8528e-02,\n",
            "         4.1918e-01, -5.7183e-01,  4.8158e-01,  1.0466e+00,  1.0024e+00,\n",
            "        -3.4464e-01, -7.9185e-01, -7.3688e-01,  3.3877e-01, -3.1974e-01,\n",
            "         1.1195e+00,  2.2474e-01, -1.5790e+00,  2.9790e-01, -1.1609e+00,\n",
            "        -3.1025e-01, -3.3587e-01,  6.6582e-01,  1.8773e-01, -5.0258e-01,\n",
            "         6.1216e-02,  3.5835e-01, -3.8160e-01,  5.8507e-01,  9.5615e-02,\n",
            "        -8.2231e-01,  4.2191e-02,  3.1886e-01, -2.5825e-01,  6.9381e-01,\n",
            "         3.7953e-01, -3.8627e-01,  3.9070e-01,  7.6546e-01,  4.2431e-01,\n",
            "         7.2811e-01, -2.0907e-01, -1.4490e-01, -5.5726e-01,  7.3623e-01,\n",
            "         2.8346e-02,  2.5472e-01, -8.0654e-01, -8.3043e-01,  2.3039e-01,\n",
            "         3.9054e-01,  9.7599e-02,  3.0573e-01, -7.0948e-01,  2.5036e-01,\n",
            "        -3.8200e-02, -2.4736e-01,  1.5874e-01, -1.5298e-01,  3.1658e-01,\n",
            "         2.4134e-01, -8.3705e-01,  7.2256e-01, -7.5466e-01, -2.4248e-01,\n",
            "        -1.3021e+00, -6.1231e-01,  3.8812e-01, -5.2319e-01,  4.2446e-01,\n",
            "         1.0198e-01, -2.9520e-01, -1.2665e-01,  5.6195e-02, -1.1773e-01,\n",
            "        -4.6482e-02, -3.3939e-01, -1.0429e+00,  6.3120e-02,  6.7346e-02,\n",
            "         8.5105e-01, -4.5268e-01,  3.8102e-01, -1.9332e-01, -6.7399e-01,\n",
            "        -3.2931e-02, -2.0182e-01, -1.7153e-01, -1.8393e-02, -1.9160e-01,\n",
            "        -1.7641e+00,  3.0962e-02, -3.4297e-01, -1.7445e-01,  2.4446e-01,\n",
            "        -1.1938e-02,  1.4068e-03,  2.1921e-01,  8.5377e-01,  5.7428e-01,\n",
            "         6.9272e-01,  1.2410e-02,  4.0248e-01,  3.7609e-01, -4.1824e-01,\n",
            "        -1.0757e-01,  2.4552e-01, -8.7335e-01,  6.1194e-01,  3.2554e-01,\n",
            "         2.3042e-01, -1.3376e-01,  4.9792e-01,  3.3962e-01, -7.3448e-01,\n",
            "        -4.3754e-01,  2.5533e-01,  4.3267e-01,  2.8025e-01,  2.7068e-01,\n",
            "         6.2173e-01,  5.2804e-01, -3.1883e-01,  1.0686e+00, -1.3955e+00,\n",
            "         3.9637e-01, -3.1723e-01, -3.4131e-01,  8.9807e-01, -1.0714e+00,\n",
            "        -1.4577e+00,  5.9842e-01, -3.4519e-01, -5.4266e-01,  5.8715e-01,\n",
            "         8.4775e-02, -5.8589e-02,  4.5114e-02, -1.0202e-01, -8.1715e-01,\n",
            "         1.7269e-02, -4.7971e-01, -1.0461e+00,  6.6943e-01,  1.1979e-01,\n",
            "         3.5892e-01, -1.9028e-01, -2.9392e-01,  9.1336e-01,  4.9086e-01,\n",
            "         1.7960e-01,  4.4866e-01,  5.8266e-01,  2.7910e-01, -2.6617e-01,\n",
            "         4.1010e-01,  4.2228e-01,  2.8204e-01, -1.4047e-02, -4.5258e-01,\n",
            "        -1.3025e-01, -9.3620e-02, -2.6085e-01, -6.4960e-01, -1.5457e+00,\n",
            "         5.8230e-01,  8.0785e-01, -1.2841e+00, -2.0676e-02, -1.2206e-01,\n",
            "        -5.3668e-01, -9.0251e-01, -6.5840e-02, -3.7614e-01,  3.1007e-01,\n",
            "         3.1742e-01,  3.8406e-01, -1.0457e-01,  4.3120e-01,  1.0833e-01,\n",
            "        -3.2822e-01,  2.2149e-01,  3.6712e-01, -5.3632e-01,  1.0905e+00,\n",
            "        -5.6383e-01,  1.8165e-01,  3.4610e-01,  1.3899e-01, -4.3090e-01,\n",
            "        -3.1184e-01,  3.1048e-01, -5.0119e-01,  7.4320e-02, -6.0604e-01,\n",
            "         4.4814e-02,  1.7774e+00,  1.9823e-01, -1.4639e-01, -8.0052e-02,\n",
            "        -2.8206e-01,  6.5486e-01,  1.0509e+00, -7.7031e-02, -1.7082e-01,\n",
            "        -7.9237e-01, -8.9490e-01,  5.7831e-01,  4.9195e-01,  2.3598e-01,\n",
            "         1.3094e-01, -1.8494e-01,  3.8825e-01, -1.7599e-01, -1.0828e-01,\n",
            "         4.0704e-01, -3.5931e-01, -1.1318e-01,  6.7687e-01, -3.9760e-01,\n",
            "        -7.2481e-01, -7.3162e-02, -2.2912e-01, -3.1156e-01, -2.5598e-01,\n",
            "         5.4563e-01,  6.0133e-01, -5.5728e-02,  2.7766e-01, -1.0933e+00,\n",
            "         6.0971e-01,  3.1396e-01, -7.1449e-01, -2.0838e-01, -6.8115e-01,\n",
            "        -5.3977e-01, -5.4842e-01, -5.3542e-01, -4.0668e-01,  5.8974e-01,\n",
            "         1.5462e-01, -2.1807e-02, -7.2322e-01,  7.9589e-01,  2.5166e-02,\n",
            "         1.6842e-01,  3.1779e-01,  4.7834e-01, -8.1078e-01,  3.8568e-01,\n",
            "         4.6134e-01,  4.9164e-01,  4.9853e-02,  8.8006e-01, -4.2916e-01,\n",
            "         1.0739e-01, -3.7523e-01,  1.0466e-01,  9.0581e-02,  4.3347e-01,\n",
            "        -2.3212e-01, -5.3976e-01,  2.2003e-01, -4.5238e-01, -6.1850e-02,\n",
            "        -5.0207e-01,  7.5483e-01, -4.7562e-01, -7.4743e-01,  2.1490e-01,\n",
            "         1.2006e-01, -1.8960e-01,  1.8841e-01, -2.4225e-01, -1.2344e-01,\n",
            "         1.4291e-01, -1.1375e-01, -4.9599e-01, -3.2772e-01, -7.4547e-03,\n",
            "        -2.5194e-01, -4.2787e-02,  4.0699e-01, -4.5323e-01,  1.8545e-01,\n",
            "         6.3753e-01,  9.8327e-01, -2.4707e-02, -4.1833e-01,  2.7819e-01,\n",
            "         2.9203e-01, -6.4676e-01, -2.3164e-02,  9.0709e-01,  1.2653e-01,\n",
            "        -4.1535e-01,  4.8973e-01,  9.3325e-01, -6.0926e-02, -4.4154e-01,\n",
            "        -4.3746e-01, -3.5120e-01,  5.2922e-01, -2.9628e-01, -1.9933e-01,\n",
            "        -9.8194e-02, -3.9710e-01,  5.6238e-02, -6.5838e-01, -1.4961e-01,\n",
            "        -3.7590e-04, -2.2546e-01,  3.8761e-01], grad_fn=<SelectBackward0>)\n",
            "Embedding of 'bank' (2nd occurrence): tensor([ 7.9771e-01, -5.2173e-01, -1.9837e-01,  1.8899e-01,  5.9409e-01,\n",
            "         4.4755e-01, -7.4726e-01,  2.5399e-01,  1.3313e-01, -4.4459e-01,\n",
            "         1.9580e-01, -3.0257e-01,  1.3828e-01,  6.4979e-01, -1.2821e+00,\n",
            "        -7.9042e-02,  1.9326e-01,  5.9325e-01,  4.4390e-01,  4.1395e-01,\n",
            "        -7.9905e-01, -1.6796e-02,  6.3689e-02,  8.5615e-01,  3.6431e-01,\n",
            "         1.9180e-01,  5.8806e-01,  5.4311e-01,  1.7639e-01,  5.1074e-02,\n",
            "         7.0797e-01,  3.6089e-01,  3.6883e-01,  4.2085e-01,  1.9456e-01,\n",
            "        -2.6096e-01, -4.9795e-01,  1.6113e-01, -6.2823e-01,  3.9373e-01,\n",
            "        -5.0803e-01, -9.2726e-01, -3.2573e-01,  3.4496e-01, -4.1025e-01,\n",
            "         1.1019e-01, -3.1826e-01,  1.4067e-01, -1.0587e+00, -6.5456e-02,\n",
            "        -2.1318e-01,  8.7778e-01, -1.2566e+00, -5.1550e-01, -7.7588e-02,\n",
            "         6.6274e-01, -1.0376e+00, -9.3347e-01,  2.4576e-01, -4.8985e-01,\n",
            "         7.4696e-01,  3.7480e-01,  7.0219e-01, -1.1374e+00, -1.2730e-01,\n",
            "        -4.2890e-01,  4.9645e-01,  1.0609e-01, -1.8976e-01,  9.7829e-02,\n",
            "         1.7413e-01,  1.3449e+00, -9.0325e-01, -8.9057e-01,  2.5301e-01,\n",
            "         5.2281e-01,  3.2080e-02,  4.1868e-01, -4.3735e-02, -3.4416e-01,\n",
            "        -2.9444e-01, -1.2971e-01,  1.8859e-01,  3.3994e-01,  1.9711e-01,\n",
            "        -9.0405e-02,  1.8726e-01,  1.4020e-01,  2.3164e-01,  3.4023e-01,\n",
            "        -4.2277e-01,  3.4218e-01, -2.7510e-01,  3.2644e-02, -6.2728e-01,\n",
            "         2.6949e-01, -1.5455e-01,  2.0437e-02, -3.5051e-01,  9.3544e-02,\n",
            "         2.6858e-01, -1.1055e+00,  3.1887e-01,  4.1340e-01,  6.1975e-02,\n",
            "        -3.6974e-01, -5.5871e-01,  4.0677e-02, -2.8001e-01, -3.0119e-01,\n",
            "         5.8153e-01, -4.5535e-01, -5.3268e-02, -6.4300e-01,  1.7893e-01,\n",
            "        -1.7594e-01,  5.9850e-01, -9.5153e-01, -5.5378e-01, -8.4613e-01,\n",
            "        -1.8053e-01,  5.0311e-01,  4.0014e-01,  1.2359e+00, -6.0410e-02,\n",
            "         3.3791e-02, -1.3128e-01,  7.8537e-01,  1.9992e-02, -8.2417e-03,\n",
            "         8.1126e-01,  4.4446e-01, -5.5403e-01, -2.0219e-01,  2.2058e-01,\n",
            "         1.1635e-01, -2.9099e-01, -5.2443e-01, -4.7750e-01,  1.3883e-01,\n",
            "         3.7646e-01, -9.6329e-02, -5.1690e-02,  1.3267e+00, -1.5020e-02,\n",
            "         3.9982e-01, -2.3792e-01,  1.0055e-01, -1.9287e-01,  1.9650e-01,\n",
            "         1.9862e-01,  2.5955e-01, -1.9463e-01, -3.6432e-01,  9.5231e-01,\n",
            "         1.4878e-01, -6.4818e-01,  2.1267e-01, -5.0672e-01,  1.7142e-01,\n",
            "         5.2351e-01,  1.5876e-01,  1.2722e-01,  1.3392e-01, -1.0434e+00,\n",
            "        -9.4020e-01,  3.2475e-01,  3.8080e-01, -7.1903e-01, -1.9303e-01,\n",
            "        -1.2195e-01, -1.7358e-01,  6.8690e-01, -6.9661e-02,  1.1006e+00,\n",
            "         4.3339e-01, -5.5850e-01, -7.1321e-01,  3.6087e-02, -3.4792e-02,\n",
            "        -2.6867e-02,  1.1531e+00,  6.5239e-01,  1.0387e+00,  6.2237e-01,\n",
            "        -4.2186e-01,  1.4035e+00,  2.0509e-01, -2.2462e-02, -2.6270e-01,\n",
            "        -3.3321e-01, -1.0928e+00, -2.4187e-01,  1.4785e-01, -3.5011e-01,\n",
            "         9.8090e-02, -8.9949e-02, -1.8252e-01, -8.7662e-01, -2.3151e-01,\n",
            "        -3.7111e-01, -7.8304e-02, -3.2425e-01, -2.3126e-01, -3.8799e-01,\n",
            "        -4.8325e-02,  2.7735e-01,  3.7542e-01,  7.6548e-01, -7.4191e-02,\n",
            "        -1.2644e-01,  2.3427e-01, -4.9662e-01,  5.6560e-01, -1.3483e-01,\n",
            "         5.1377e-01, -3.1558e-01, -4.3990e-01, -7.0625e-02, -2.3307e-01,\n",
            "        -3.2348e-01,  7.0409e-03, -3.2808e-01,  4.8114e-01, -7.2509e-02,\n",
            "         8.7850e-01,  6.5412e-01, -1.8093e-01, -5.7429e-01,  4.5677e-01,\n",
            "        -1.6520e-01,  5.8113e-01,  5.7567e-01, -1.8135e-01,  5.2204e-01,\n",
            "        -1.2640e-01, -1.2262e+00, -7.1773e-03, -8.9474e-02,  2.9309e-01,\n",
            "        -2.9468e-01,  6.3846e-01,  5.8439e-01, -2.2823e-01,  6.2908e-02,\n",
            "         5.2380e-01, -1.0699e-01, -1.1984e-01, -8.5373e-01, -4.5971e-02,\n",
            "        -5.4680e-01, -7.6293e-01, -8.1922e-01, -5.8512e-01,  5.4611e-01,\n",
            "        -6.7506e-02,  9.3837e-02, -1.5679e-01, -7.9262e-01,  5.4219e-01,\n",
            "         1.1406e+00,  3.4841e-01, -1.9721e-01,  3.8999e-01, -3.3574e-01,\n",
            "        -7.8467e-01,  2.2293e-01,  6.4390e-01,  6.6108e-01,  9.4770e-01,\n",
            "         3.0021e-01,  4.7407e-01, -4.0654e-01,  1.2986e+00,  5.6975e-01,\n",
            "        -3.9304e-01, -1.6673e-01,  1.1138e-01,  4.7611e-01,  1.0076e+00,\n",
            "         2.2153e-01,  5.6756e-01,  1.5021e-01, -5.5612e-01, -1.9630e-02,\n",
            "        -2.5507e-01,  2.5981e-01,  1.8548e+00, -2.7090e-01, -5.2322e-01,\n",
            "        -2.8567e-02, -5.2108e-02, -1.6040e-01,  2.1729e-01, -2.9235e-01,\n",
            "         2.9596e-01,  3.9775e-01,  1.4361e+00,  1.1876e+00,  3.2936e-02,\n",
            "         6.2552e-01,  1.5101e-01,  3.5377e-01, -4.0430e-01, -5.5884e-01,\n",
            "         1.9262e-01,  2.9739e-03, -2.2215e-01, -4.0214e+00,  1.3210e+00,\n",
            "        -3.5023e-02, -5.9047e-01,  2.2800e-01,  4.8299e-02, -3.1246e-01,\n",
            "        -2.6303e-01, -8.8270e-01,  2.5447e-01, -3.1790e-01, -5.3994e-01,\n",
            "         5.9742e-01, -1.4713e-01, -9.5788e-03, -8.3095e-01, -6.9459e-02,\n",
            "         3.7676e-01,  1.9723e-01, -3.1828e-02, -1.1716e-01, -8.5129e-01,\n",
            "        -1.7355e-01,  3.5832e-01,  9.2965e-01,  7.1147e-01, -9.7964e-01,\n",
            "        -1.1883e-02,  2.3783e-01,  2.9192e-01, -2.9819e-01, -1.0998e-01,\n",
            "         3.0472e-02, -7.8869e-03, -7.5693e-02, -7.5320e-01, -5.2335e-01,\n",
            "        -2.5643e-01, -9.7235e-02, -4.9898e-01, -7.8922e-02,  1.4429e-01,\n",
            "        -3.6842e-01,  4.9930e-01,  1.1475e+00, -3.1776e-01, -5.8385e-02,\n",
            "         1.3889e-02,  9.8533e-02,  6.9511e-01,  2.0126e-01, -1.9776e-01,\n",
            "         8.5671e-02, -2.8594e-01,  5.6664e-01,  2.7653e-01, -3.5714e-01,\n",
            "         5.7836e-01,  1.8437e-01, -2.7001e-01, -7.3712e-01, -5.3796e-02,\n",
            "        -5.5269e-03, -3.6438e-01, -4.5685e-01,  3.2722e-01, -1.3100e+00,\n",
            "        -8.9583e-01,  2.6171e-01, -6.0120e-01, -2.1420e-01,  4.8775e-01,\n",
            "         2.2480e-02, -1.1881e+00, -2.4832e-01, -4.0168e-01,  7.9323e-01,\n",
            "        -4.1099e-01, -5.3163e-01,  1.8134e-01,  2.9293e-01, -2.3833e-01,\n",
            "         4.4897e-01,  1.2440e-04,  2.1632e-01, -4.7510e-02, -5.3380e-01,\n",
            "         5.2473e-01, -1.2583e+00, -5.3711e-01,  8.1678e-01,  9.7355e-01,\n",
            "         3.0131e-01, -6.4612e-01,  3.2428e-02,  1.1320e-01, -4.5710e-01,\n",
            "        -3.4116e-01,  2.4222e-01,  2.7039e-03, -4.0758e-01,  5.7275e-01,\n",
            "         5.9190e-01, -2.7665e-02, -2.5005e-01, -3.4086e-01, -2.1915e-01,\n",
            "        -3.9603e-01, -1.0511e+00,  1.1984e+00,  5.3547e-01, -8.0689e-01,\n",
            "         1.2254e+00, -5.1478e-01, -1.8723e-01,  4.7482e-01,  3.8916e-01,\n",
            "        -2.2089e-01,  1.4588e-01, -3.5069e-01, -2.4300e-01,  2.7855e-01,\n",
            "        -6.1287e-01, -1.0708e+00, -5.0590e-02,  2.6761e-01, -2.0842e-01,\n",
            "        -3.6195e-01, -4.0780e-01, -2.5349e-01,  4.9264e-01, -1.8598e-01,\n",
            "        -4.6477e-01,  4.0183e-01,  8.7560e-01, -3.2158e-02,  4.3773e-01,\n",
            "        -5.7119e-01, -1.8801e-01, -1.3249e-01, -4.4256e-03,  5.6577e-01,\n",
            "        -4.0877e-02, -1.5385e-01,  1.7602e-01, -4.4830e-01, -4.3285e-01,\n",
            "         3.5637e-01,  3.4241e-02, -2.0226e-01, -5.3082e-01,  2.4533e-01,\n",
            "         6.7874e-01, -5.8035e-01,  4.8471e-01,  1.1569e+00,  9.1106e-01,\n",
            "        -5.1676e-01, -7.7854e-01, -5.2688e-01,  5.0130e-01, -3.7316e-01,\n",
            "         9.8385e-01,  3.1820e-01, -1.4968e+00,  6.1971e-01, -1.3742e+00,\n",
            "        -5.5606e-01, -2.8544e-01,  6.5237e-01,  1.1951e-01, -4.7094e-01,\n",
            "         2.0775e-02,  3.8444e-01, -2.3537e-01,  2.1280e-01,  9.9595e-02,\n",
            "        -7.7537e-01,  1.1525e-02,  3.5261e-01, -6.0484e-02,  6.6207e-01,\n",
            "         5.0321e-01, -3.8377e-01,  5.2914e-01,  6.6193e-01,  2.8768e-01,\n",
            "         4.6997e-01, -2.3476e-01, -1.4597e-02, -6.7730e-01,  9.0340e-01,\n",
            "         3.2699e-02,  1.3928e-01, -8.5174e-01, -7.4958e-01,  4.1182e-01,\n",
            "         5.1742e-01,  1.3677e-01,  4.3814e-01, -5.5367e-01,  2.5586e-01,\n",
            "        -9.8689e-02, -1.0817e-01,  9.9965e-02, -2.4379e-01,  3.2010e-01,\n",
            "         1.0820e-01, -7.6663e-01,  6.6390e-01, -7.8105e-01, -2.0810e-01,\n",
            "        -1.4185e+00, -6.3824e-01,  6.1255e-01, -2.5766e-01,  8.3335e-01,\n",
            "         2.4118e-02, -1.2143e-01, -3.7666e-01,  1.8114e-01,  5.4911e-02,\n",
            "         6.3247e-02, -3.8807e-01, -8.3360e-01,  2.0792e-02, -1.5146e-01,\n",
            "         9.3823e-01, -5.3658e-01,  3.5043e-01, -1.2763e-01, -4.6630e-01,\n",
            "         1.6248e-01, -4.4344e-01, -1.0674e-02, -3.5870e-02,  1.8361e-01,\n",
            "        -1.8112e+00,  5.8711e-02, -4.3393e-01, -2.9121e-01,  1.5379e-01,\n",
            "         7.4754e-02, -2.0792e-01,  1.4541e-01,  8.2104e-01,  5.3966e-01,\n",
            "         6.2846e-01,  6.9083e-02,  3.8762e-01,  2.3731e-01, -3.7358e-01,\n",
            "        -5.2145e-02,  2.2859e-01, -8.4469e-01,  6.5764e-01,  7.5693e-02,\n",
            "        -8.8190e-02, -7.8356e-02,  4.4616e-01,  4.9992e-01, -8.3092e-01,\n",
            "        -5.2325e-01,  1.5597e-01,  2.6184e-01,  3.6781e-01,  1.8227e-01,\n",
            "         7.8758e-01,  2.1518e-01, -4.2704e-01,  5.8138e-01, -1.5438e+00,\n",
            "         4.2355e-01, -3.7721e-02, -3.1901e-01,  1.0346e+00, -8.7671e-01,\n",
            "        -1.2546e+00,  2.8933e-01, -3.9412e-01, -4.5384e-01,  5.4964e-01,\n",
            "         4.9846e-02, -1.7491e-01,  4.7180e-02,  1.6380e-01, -6.2985e-01,\n",
            "         6.5985e-02, -4.9141e-01, -1.2743e+00,  4.5561e-01,  3.1058e-01,\n",
            "         4.1721e-01, -1.3352e-01, -3.1341e-01,  1.1786e+00,  5.6082e-01,\n",
            "         2.0615e-01,  6.0321e-01,  4.6947e-01,  2.7017e-01, -1.6678e-01,\n",
            "         3.2585e-01,  3.9810e-01,  2.7193e-01, -1.0106e-01, -3.6478e-01,\n",
            "        -3.3974e-01, -1.5828e-01, -2.1458e-01, -6.2063e-01, -1.4514e+00,\n",
            "         5.2366e-01,  4.7543e-01, -1.1701e+00, -4.8477e-01, -3.0674e-01,\n",
            "        -5.2270e-01, -6.7435e-01, -2.3001e-03, -3.9569e-01,  3.6302e-01,\n",
            "         4.0526e-01,  4.4079e-01,  1.8220e-01,  3.5348e-01,  8.2470e-02,\n",
            "        -1.2092e-01,  2.8082e-01,  2.9562e-01, -2.9796e-01,  1.0524e+00,\n",
            "        -4.1839e-01,  4.8257e-01,  1.0990e-01,  8.9426e-02, -3.3719e-01,\n",
            "        -2.9412e-01, -5.9178e-03, -8.0040e-01, -9.0769e-02, -4.1081e-01,\n",
            "         5.2388e-02,  1.7846e+00,  1.7910e-01, -3.8437e-01, -7.7852e-02,\n",
            "        -2.5191e-01,  6.6317e-01,  7.9485e-01,  2.4872e-02,  2.2288e-02,\n",
            "        -4.7189e-01, -1.1917e+00,  8.7205e-01,  6.5397e-01,  7.5683e-02,\n",
            "         1.7368e-01, -5.4450e-01,  3.5442e-01, -1.2474e-01,  6.0034e-02,\n",
            "         2.5936e-01, -5.0644e-01, -1.3543e-01,  6.2439e-01, -4.9577e-01,\n",
            "        -6.5850e-01, -1.9037e-01, -3.0651e-01, -7.9553e-02, -1.2075e-01,\n",
            "         5.4580e-01,  3.2704e-01,  3.8675e-02,  3.5232e-01, -1.0786e+00,\n",
            "         3.8264e-01,  5.4208e-01, -5.6698e-01, -3.4593e-01, -6.2812e-01,\n",
            "        -4.8141e-01, -7.2362e-01, -5.7948e-01, -5.9404e-01,  4.5719e-01,\n",
            "        -1.9987e-01,  2.7279e-03, -4.8341e-01,  7.1077e-01, -1.3858e-01,\n",
            "        -3.8895e-01, -5.1988e-02,  2.5282e-01, -8.3864e-01, -8.8577e-02,\n",
            "         7.6267e-01,  4.9940e-01, -1.7890e-01,  9.7345e-01, -4.7037e-01,\n",
            "         1.1946e-01, -3.7082e-01,  3.3295e-01,  1.6930e-01,  2.8773e-01,\n",
            "        -2.7856e-01, -5.1017e-01,  4.0266e-01, -1.5347e-01, -1.5247e-01,\n",
            "        -4.8964e-01,  7.9357e-01, -1.9705e-01, -7.4003e-01, -1.4374e-01,\n",
            "         8.0033e-02, -1.2901e-01, -6.3717e-02, -2.9427e-01,  1.5868e-01,\n",
            "         3.0991e-01,  1.0409e-01, -4.6330e-01, -3.3757e-01, -2.7084e-01,\n",
            "        -2.5311e-01,  1.5888e-01,  4.6769e-01, -7.0692e-01, -6.6342e-02,\n",
            "         9.2901e-01,  4.9272e-01, -1.4946e-01, -6.1335e-01,  1.5248e-01,\n",
            "         5.3602e-01, -6.5626e-01, -1.2173e-01,  1.0534e+00, -1.6413e-01,\n",
            "        -4.7125e-01,  5.5820e-01,  6.3613e-01, -2.3237e-01, -5.0615e-01,\n",
            "        -2.4903e-01, -1.5967e-01,  6.1049e-01, -1.1745e-01, -2.9207e-01,\n",
            "        -2.9242e-01, -1.0811e-01, -2.1245e-01, -7.1441e-01, -3.8793e-01,\n",
            "        -3.2048e-02, -2.2107e-01,  3.6277e-01], grad_fn=<SelectBackward0>)\n",
            "Embedding of 'bank' (3rd occurrence): tensor([ 2.9609e-01, -2.8563e-01, -3.8182e-02,  1.6736e-01,  7.7126e-01,\n",
            "         2.4295e-01,  3.5882e-02,  1.0125e+00,  1.0963e-01, -6.3751e-01,\n",
            "         4.5582e-01, -1.5703e-01, -1.6258e-01,  4.3814e-01, -5.4798e-01,\n",
            "         3.0402e-01,  2.4396e-01,  2.4204e-01,  1.0473e+00,  1.8992e-01,\n",
            "         9.6374e-02, -1.1299e-01,  5.0226e-01,  5.0077e-01, -1.2659e-01,\n",
            "         4.2826e-01,  2.0853e-01,  4.3702e-01,  2.4707e-02, -2.0554e-01,\n",
            "         6.9428e-01,  3.4554e-01,  4.5546e-01,  3.9623e-01, -3.1357e-01,\n",
            "        -3.3173e-01, -4.7803e-01, -5.0154e-01,  2.8632e-01,  4.6735e-01,\n",
            "        -1.2656e-01, -2.2352e-01, -2.6695e-01,  1.0258e+00, -4.0124e-01,\n",
            "         8.4725e-02, -4.8248e-01, -5.7700e-01, -5.3110e-01,  3.2052e-01,\n",
            "        -4.3226e-01,  1.1206e+00, -1.0013e+00, -4.0933e-01, -1.3653e-01,\n",
            "         5.5004e-01, -5.7554e-01, -1.0264e+00,  6.9391e-02, -6.6284e-02,\n",
            "         8.1920e-01,  4.4997e-01,  3.7158e-01,  7.6635e-02, -4.5111e-02,\n",
            "        -1.4392e-01,  7.9183e-01, -3.6660e-01, -1.2391e-01, -3.0137e-01,\n",
            "         3.4034e-01,  1.1901e+00, -6.3366e-01, -4.6565e-01,  2.9099e-01,\n",
            "         4.4766e-01, -1.6657e-01,  5.3218e-03, -1.6817e-02,  5.8867e-01,\n",
            "         5.8245e-02, -1.2239e-01, -2.7511e-01,  2.2018e-01,  2.9761e-01,\n",
            "        -2.6998e-01,  4.5684e-01,  8.0401e-01, -8.4465e-01,  6.0943e-02,\n",
            "        -5.9086e-01,  9.9383e-02, -2.4418e-01, -3.3448e-02, -7.6189e-01,\n",
            "         9.1279e-02, -3.9367e-01,  1.0973e-01,  8.7733e-02,  2.8703e-01,\n",
            "        -2.3719e-02, -1.7112e+00,  4.0313e-01,  1.6107e-01, -9.7586e-01,\n",
            "        -1.1614e-01, -6.8551e-01,  2.2203e-01, -1.4471e-01, -3.6322e-01,\n",
            "         1.7026e-01, -2.1834e-01, -7.2408e-02, -2.6560e-01, -2.2410e-01,\n",
            "         2.0039e-01,  6.3692e-01, -4.7580e-01, -1.1996e-01, -9.6924e-01,\n",
            "         5.9365e-01,  1.4558e-01,  5.0890e-01,  5.4080e-01, -7.0695e-02,\n",
            "        -4.4753e-01,  2.0227e-01,  4.3551e-01,  5.1677e-02,  6.0455e-02,\n",
            "         6.8691e-01,  4.0106e-01, -2.4606e-02, -5.7098e-01, -4.7356e-03,\n",
            "         5.7595e-01,  1.6094e-01, -5.4036e-01,  2.5645e-01,  3.6646e-01,\n",
            "         2.8548e-01, -1.3976e-01, -2.8510e-01,  6.5915e-01,  1.8039e-01,\n",
            "         3.1296e-01,  5.1093e-02, -5.7975e-01, -2.1381e-01,  4.5080e-01,\n",
            "         2.6479e-01,  4.6824e-01, -2.0602e-01, -6.6383e-01,  7.1714e-01,\n",
            "         4.5212e-01,  6.1084e-02,  1.4177e-01, -1.1843e-01, -3.3920e-01,\n",
            "         5.2266e-01, -1.6529e-01,  3.0951e-01,  1.6828e-01, -4.2327e-01,\n",
            "        -1.0213e+00, -1.9930e-01,  1.6246e-02, -7.2386e-01,  5.4983e-01,\n",
            "        -5.1129e-01, -3.2664e-01,  5.2299e-01, -1.4002e-02,  4.6270e-01,\n",
            "         2.1502e-01, -2.7649e-01, -3.8609e-01, -3.9885e-02, -1.3876e-01,\n",
            "        -4.2319e-01,  2.4339e-01,  2.7114e-01,  2.7848e-01,  4.1202e-01,\n",
            "        -9.7136e-02,  7.6710e-01,  1.6811e-02,  3.6321e-01, -7.3013e-02,\n",
            "         1.9197e-01, -1.3143e+00, -4.6678e-01,  2.5052e-01, -6.0467e-01,\n",
            "        -8.6915e-01,  4.0878e-02, -5.6932e-01, -1.4158e-01, -1.3641e-01,\n",
            "         3.9127e-02, -3.3108e-01,  1.6775e-01,  9.5618e-02, -3.6205e-01,\n",
            "         1.8154e-01,  1.2882e-01,  4.3001e-01,  2.9437e-01, -2.5102e-01,\n",
            "        -8.7388e-02,  2.4268e-01, -4.3202e-02,  2.9525e-01, -1.0899e-01,\n",
            "         3.6196e-01,  2.2166e-02, -9.1354e-01, -9.1172e-02,  6.2440e-02,\n",
            "         5.5705e-02,  3.0374e-01,  2.1455e-01,  3.2546e-01,  3.8005e-01,\n",
            "         4.3340e-01, -3.6805e-01, -6.3973e-01, -1.0504e-01,  4.5995e-01,\n",
            "        -3.6788e-01,  6.9393e-01,  6.6124e-01, -3.5499e-01, -3.2851e-01,\n",
            "        -3.9556e-02, -6.1700e-01,  1.3354e-01, -2.2482e-01,  3.6560e-01,\n",
            "        -1.4893e-01,  3.2567e-01,  2.1121e-01, -3.7558e-01,  5.0145e-01,\n",
            "         3.5077e-01,  3.6389e-01, -3.8687e-01, -8.2825e-02, -1.1865e-01,\n",
            "        -3.3814e-01,  3.8260e-01, -2.7450e-01, -7.3879e-02,  5.4854e-01,\n",
            "        -1.8357e-03,  1.9835e-01, -5.3877e-02, -1.6726e-01,  1.5268e-01,\n",
            "         1.2167e+00, -1.6588e-01, -3.5095e-02, -5.5238e-03, -2.0427e-01,\n",
            "        -3.8967e-01,  4.6907e-02, -1.4625e-01,  6.4376e-01,  3.1109e-01,\n",
            "         9.4069e-02,  7.3801e-01, -1.8512e-01,  8.7192e-01, -3.1263e-01,\n",
            "         2.0795e-01, -5.0146e-02,  1.8362e-01, -3.7727e-02, -1.4592e-01,\n",
            "         5.0875e-01,  1.1173e+00, -4.2500e-01, -3.4607e-01,  3.0780e-01,\n",
            "        -6.4174e-01, -3.4115e-01,  1.7741e+00, -1.9029e-01, -8.6271e-02,\n",
            "         9.6395e-02,  1.7647e-01, -5.1138e-01,  1.8006e-01,  2.4665e-01,\n",
            "         4.8670e-01,  1.6809e-01,  3.9107e-01,  1.4223e+00, -2.6970e-01,\n",
            "         1.5727e-01,  6.6160e-01,  6.3147e-01, -2.8924e-01, -5.1357e-01,\n",
            "        -2.8823e-02,  3.0167e-01,  2.7139e-01, -5.0776e+00,  5.9287e-01,\n",
            "         4.1838e-01, -1.4754e-01,  3.9832e-01,  7.7713e-02,  1.1878e-01,\n",
            "        -4.2501e-01, -4.6489e-01,  3.3162e-01, -8.9007e-02, -4.0267e-01,\n",
            "         5.0930e-01,  2.0377e-01,  2.3519e-02, -5.5528e-01,  8.3533e-01,\n",
            "         6.0201e-02,  5.2330e-02, -1.3173e-01, -3.9625e-01, -5.7159e-01,\n",
            "        -5.1073e-01,  7.4700e-01,  8.8908e-02, -2.8391e-03, -1.3504e+00,\n",
            "        -2.4718e-01, -1.1475e-01, -3.3406e-01, -2.9296e-01, -9.0214e-02,\n",
            "        -3.4247e-02,  1.4145e-01,  5.1024e-01, -7.5187e-01, -3.2813e-01,\n",
            "         2.2789e-01,  2.4152e-01, -3.2035e-01, -1.8267e-01,  2.5249e-01,\n",
            "        -5.8948e-01,  5.6299e-01,  1.2273e+00, -3.0571e-01,  1.2644e-01,\n",
            "         4.9507e-01,  3.3467e-01,  5.1994e-01,  2.8583e-01,  4.0461e-01,\n",
            "        -1.0476e-01,  7.8865e-02,  3.3062e-01, -1.1343e-02,  1.9294e-01,\n",
            "         6.5669e-01,  5.6800e-01, -2.8149e-01, -1.2551e-01, -4.7030e-01,\n",
            "         3.1534e-01,  4.6108e-02, -4.6401e-01, -1.7843e-01, -8.0094e-01,\n",
            "        -2.7844e-01,  8.4735e-02,  3.1414e-01,  1.3608e-01,  4.9964e-01,\n",
            "        -5.2046e-01, -9.6509e-01, -5.5517e-01, -5.4532e-02,  8.5521e-01,\n",
            "        -3.8769e-01,  2.3798e-01, -2.7334e-01,  2.5045e-01,  1.3457e-01,\n",
            "         2.9428e-01,  4.6242e-02, -3.6704e-01, -5.5709e-01,  1.2965e-01,\n",
            "        -1.4113e-01, -1.0260e+00, -2.9178e-01,  1.9528e-01,  1.4006e-01,\n",
            "         1.4473e-01, -4.1129e-01, -2.9128e-02,  3.2328e-01, -6.4629e-01,\n",
            "        -1.7361e-01,  1.4593e-01, -8.6159e-02,  7.2498e-01,  6.1685e-01,\n",
            "        -1.0033e-01, -9.6605e-02, -5.5293e-01, -1.2673e-01, -1.5588e-01,\n",
            "        -2.6530e-01, -5.7031e-01,  6.7083e-01,  3.3362e-01, -7.1431e-01,\n",
            "         5.7039e-01, -9.8533e-01,  1.2697e-01,  3.3560e-01,  4.9430e-01,\n",
            "        -8.8226e-01,  2.5820e-01, -1.0874e-02, -9.3845e-01,  1.1200e-01,\n",
            "        -8.1380e-01, -9.9395e-01,  4.6006e-02,  2.9647e-01, -1.6603e-01,\n",
            "        -4.9056e-02, -4.6272e-01, -1.9352e-01,  8.8023e-01,  1.4649e-01,\n",
            "        -1.0844e-01, -1.7795e-01,  6.7295e-01, -8.1771e-02, -3.2600e-01,\n",
            "        -3.8510e-01,  3.8426e-02,  1.0667e-01, -2.6560e-01,  1.9186e-01,\n",
            "         2.4199e-01, -1.7728e-01, -3.2164e-01,  3.8955e-01, -5.2512e-01,\n",
            "         4.5401e-01,  2.3152e-01, -3.1074e-01, -2.4712e-01,  4.1312e-01,\n",
            "        -6.4451e-02, -1.1521e-01,  2.3951e-01,  5.9322e-01,  7.6805e-01,\n",
            "        -9.7431e-03, -6.6854e-01, -4.8446e-02,  7.4255e-01, -1.8104e-01,\n",
            "         1.1017e+00,  3.0301e-01, -1.1348e+00,  3.2796e-01, -1.1140e+00,\n",
            "        -1.6340e-01, -3.1425e-01, -3.4775e-01, -4.9875e-01, -2.3809e-02,\n",
            "         3.0980e-01,  7.2333e-01, -2.2332e-01,  9.2702e-01, -3.6177e-01,\n",
            "        -8.4459e-02,  3.2452e-01,  2.7946e-01,  6.9840e-02,  4.5086e-01,\n",
            "         5.4883e-01, -2.4797e-01, -5.7054e-01,  5.4432e-01,  2.9937e-01,\n",
            "        -2.7984e-02, -2.4680e-01,  1.1231e-01, -7.6817e-02,  4.3726e-01,\n",
            "         9.7898e-02,  5.7630e-01, -5.0358e-01, -8.0386e-01,  5.7086e-01,\n",
            "         7.1143e-02, -2.5158e-01,  5.9595e-01, -7.2039e-01,  1.0697e-01,\n",
            "        -4.3673e-01,  2.1627e-03,  2.8206e-02, -3.3427e-01,  2.9663e-01,\n",
            "         2.4682e-01, -9.3161e-01,  5.4130e-01, -5.6811e-02, -3.8950e-01,\n",
            "        -1.1851e+00, -6.4748e-01,  1.6265e-01, -2.7523e-01,  2.0856e-01,\n",
            "        -1.5492e-01,  1.9678e-02,  1.6440e-01, -3.0562e-01, -3.0993e-01,\n",
            "        -7.4950e-02, -5.2796e-02, -1.1157e+00,  7.3992e-01,  1.8854e-01,\n",
            "         2.3068e-01, -9.0124e-01,  7.8173e-01,  4.1819e-01, -3.0010e-01,\n",
            "        -7.9282e-02,  2.6307e-01,  8.5262e-01, -5.8024e-01, -8.9718e-04,\n",
            "        -8.0215e-01,  2.5385e-01, -5.7165e-01, -1.4839e-01,  2.5788e-02,\n",
            "        -2.2857e-01, -1.7755e-01,  1.8483e-01,  1.6840e-01, -5.7330e-01,\n",
            "         6.5388e-01, -4.7387e-01, -1.4360e-01,  6.0313e-01, -2.2316e-01,\n",
            "        -5.4683e-01,  4.7941e-01, -4.5027e-01,  4.1630e-01, -1.7107e-01,\n",
            "        -4.2149e-02, -2.3028e-01,  2.9545e-01, -7.5307e-04, -1.0626e+00,\n",
            "        -7.6729e-01,  6.2577e-01,  3.4493e-01,  6.4321e-02,  1.4913e-01,\n",
            "         6.6109e-02,  1.2501e-01, -2.8658e-01,  7.3605e-01, -8.2035e-01,\n",
            "        -3.9569e-01, -1.2822e-01, -6.0069e-01,  5.2961e-03, -6.9246e-01,\n",
            "        -5.9765e-01,  6.6699e-01, -7.5384e-01, -4.9631e-01,  1.1837e-01,\n",
            "         9.0620e-02, -6.8057e-02, -5.9517e-01,  1.0172e-01,  1.0703e-01,\n",
            "         1.1755e-01, -3.1054e-01, -8.9130e-01,  4.5420e-01,  7.2942e-02,\n",
            "         3.1999e-01, -2.2608e-01, -6.1573e-01,  4.9797e-01,  8.9296e-01,\n",
            "         7.7114e-01,  2.5179e-02,  1.9875e-01,  3.4644e-01,  4.6576e-01,\n",
            "         1.0933e-01, -6.8113e-02,  3.4470e-02,  2.8460e-01, -4.2369e-01,\n",
            "         1.4809e-01,  3.2929e-01,  2.7538e-01,  3.6745e-01, -6.8115e-01,\n",
            "         3.1915e-01,  2.4181e-01, -7.8614e-01, -2.0281e-01, -1.7084e-03,\n",
            "        -3.5270e-01, -1.0740e-01,  7.8462e-02,  2.1725e-01,  1.8147e-01,\n",
            "         8.3592e-02, -2.4787e-01,  3.2046e-01, -5.9240e-02, -1.2670e-01,\n",
            "        -5.8120e-01,  8.6700e-01,  2.1470e-01, -2.7047e-01,  2.3172e-01,\n",
            "        -5.8944e-01,  4.4563e-01,  1.1901e-02,  7.1854e-01, -5.9615e-01,\n",
            "        -5.2579e-01, -1.1403e-01, -1.1106e+00,  2.7063e-01, -9.8385e-01,\n",
            "        -1.1597e-01,  1.7782e-01,  6.4313e-01, -6.1206e-01, -1.6904e-01,\n",
            "        -4.5184e-01, -6.8729e-02,  1.7070e-01,  1.2294e-01, -1.8588e-01,\n",
            "        -3.9657e-01, -9.7521e-01,  8.4501e-01,  3.7794e-01,  2.2776e-01,\n",
            "        -5.0620e-01,  7.2485e-03,  5.7709e-01,  1.1790e-01,  2.4349e-01,\n",
            "         1.7201e-01, -5.3937e-01, -1.8326e-01,  2.7351e-01, -3.5524e-01,\n",
            "        -8.3933e-01,  1.1094e-01,  1.1852e-01,  1.7099e-01, -1.6685e-01,\n",
            "         1.1136e+00, -1.0965e-01,  4.6771e-01, -2.7030e-01, -3.9628e-01,\n",
            "         1.6983e-01, -8.7109e-02, -1.9311e-01, -5.4905e-02, -2.0123e-01,\n",
            "        -4.2373e-01, -5.2044e-01, -2.6338e-01, -8.6387e-01,  4.9413e-01,\n",
            "        -3.2320e-01, -5.6422e-01, -4.5864e-01,  2.8346e-01,  8.0277e-02,\n",
            "        -9.4199e-01,  4.5953e-01,  2.1799e-01, -4.6406e-01,  1.2024e-01,\n",
            "         2.7213e-01,  2.9351e-01,  3.8706e-01,  7.3249e-01, -1.0543e+00,\n",
            "         1.1126e-01, -5.2575e-02, -5.0845e-02, -4.8834e-01,  1.2526e-01,\n",
            "        -3.8678e-01,  1.3121e-01,  5.9885e-01,  6.9695e-01, -3.3213e-02,\n",
            "        -1.1581e-01,  9.6121e-01, -4.7393e-01, -6.3613e-01,  2.7929e-01,\n",
            "         2.4610e-01,  5.6343e-02, -5.6101e-01,  1.8130e-02,  7.5325e-02,\n",
            "        -2.6909e-01,  6.1580e-01, -6.7295e-01, -5.7674e-02, -2.7480e-01,\n",
            "        -1.9448e-01,  1.4473e-01, -2.6468e-01, -6.1338e-01, -1.2153e-01,\n",
            "         5.8950e-01,  8.6479e-01,  2.7347e-01, -5.8579e-01, -1.4812e-01,\n",
            "         3.1451e-01, -8.3735e-02,  6.7676e-02,  3.8291e-01,  2.8303e-01,\n",
            "        -2.2607e-02,  2.0172e-01, -7.3925e-02,  1.5042e-01, -5.6682e-01,\n",
            "        -1.3846e-01,  6.9553e-02, -3.3884e-01,  6.2029e-01, -7.1729e-02,\n",
            "        -1.6153e-01,  2.3171e-01, -2.4968e-01, -3.5624e-01,  3.5387e-02,\n",
            "        -6.0557e-01, -5.1633e-01,  2.0051e-01], grad_fn=<SelectBackward0>)\n"
          ]
        }
      ]
    },
    {
      "cell_type": "markdown",
      "source": [
        "BERT captures contextual information, resulting in different embeddings for each \"bank\" occurrence. Unlike Word2Vec, BERT considers surrounding words for contextualized embeddings. Even if the string has only \"bank\" with [CLS] and [SEP] tokens, the vector will differ due to BERT's contextual understanding of the word."
      ],
      "metadata": {
        "id": "m3u2M6MHe5Oy"
      }
    },
    {
      "cell_type": "markdown",
      "metadata": {
        "id": "zLbXrzA0_ndC"
      },
      "source": [
        "# Extracting embeddings from all encoder layers of BERT\n",
        "We learned how to extract the embedding from the pre-trained BERT in the previous section. We learned that they are the embeddings obtained from the final encoder layer. Now the question is should we consider the embedding obtained only from the final encoder layer (final hidden state), or should we also consider the embedding obtained from all the encoder layers (all hidden states)? Let's explore more about this. \n",
        "\n",
        "Instead of taking the embeddings (representation) only from the final encoder layer, the researchers of the BERT have experimented with taking embeddings from different encoder layers.\n",
        "\n",
        "For instance, for a named-entity recognition task, the researchers have used the pre-trained BERT for extracting features. Instead of using the embedding only from the final encoder layer (final hidden layer) as a feature, they have experimented using embedding  from other encoder layers (other hidden layers) as a feature and obtained the following F1 score: \n",
        "<a name=\"table\"></a>\n",
        "$$\n",
        "\\begin{array}{lll}\n",
        "\\textbf{Feature}                 & \\textbf{Notation} & \\textbf{F1 score} \\\\ \\hline\n",
        "\\text{Embeddings}                       & h_0              & 91.0             \\\\\n",
        "\\text{Second to last hidden}            & h_{11}         & 95.6             \\\\\n",
        "\\text{Last hidden}                      & h_{12}         & 94.9             \\\\\n",
        "\\text{Sum of last four hidden} & h_9\\text{ to }h_{12} & 95.9             \\\\\n",
        "\\text{Concat last four hidden}          & h_9\\text{ to }h_{12} & 96.1             \\\\\n",
        "\\text{Sum of all 12 layers}     & h_1\\text{ to }h_{12} & 95.5            \n",
        "\\end{array}\n",
        "$$\n",
        "\n",
        "As we can observe from the preceding table, concatenating the embeddings of the last 4 encoder layers (last 4 hidden layers) gives us a greater F1 score of 96.1% in the  NER task. Thus, instead of taking the embeddings only from the final encoder layer (final hidden layer), we can also use embeddings from the other encoder layers.\n",
        "\n",
        "Now, we will learn how to extract the embeddings from all the encoder layers using the transformers library. \n",
        "\n",
        "## Extracting the embeddings \n",
        "First, let us import the necessary modules: "
      ]
    },
    {
      "cell_type": "code",
      "execution_count": null,
      "metadata": {
        "collapsed": true,
        "id": "KSwq5tr9_ndJ"
      },
      "outputs": [],
      "source": [
        "from transformers import BertModel, BertTokenizer\n",
        "import torch"
      ]
    },
    {
      "cell_type": "markdown",
      "metadata": {
        "id": "oI91BJ8H_ndJ"
      },
      "source": [
        "\n",
        "Next, download the pre-trained BERT model and tokenizer. As we can notice while downloading the pre-trained BERT model. We need to set `output_hidden_states= True`. By setting this to true helps us to obtain embeddings from all the encoder layers: \n"
      ]
    },
    {
      "cell_type": "code",
      "execution_count": null,
      "metadata": {
        "id": "eM0UkRBp_ndK",
        "colab": {
          "base_uri": "https://localhost:8080/"
        },
        "outputId": "771d5b23-bae1-4e8f-8593-0b40dd1e1267"
      },
      "outputs": [
        {
          "output_type": "stream",
          "name": "stderr",
          "text": [
            "Some weights of the model checkpoint at bert-base-uncased were not used when initializing BertModel: ['cls.seq_relationship.bias', 'cls.predictions.transform.LayerNorm.weight', 'cls.predictions.transform.LayerNorm.bias', 'cls.predictions.bias', 'cls.predictions.transform.dense.bias', 'cls.predictions.decoder.weight', 'cls.seq_relationship.weight', 'cls.predictions.transform.dense.weight']\n",
            "- This IS expected if you are initializing BertModel from the checkpoint of a model trained on another task or with another architecture (e.g. initializing a BertForSequenceClassification model from a BertForPreTraining model).\n",
            "- This IS NOT expected if you are initializing BertModel from the checkpoint of a model that you expect to be exactly identical (initializing a BertForSequenceClassification model from a BertForSequenceClassification model).\n"
          ]
        }
      ],
      "source": [
        "model = BertModel.from_pretrained('bert-base-uncased', output_hidden_states = True)\n",
        "tokenizer = BertTokenizer.from_pretrained('bert-base-uncased')"
      ]
    },
    {
      "cell_type": "markdown",
      "metadata": {
        "id": "z6lcm9mn_ndK"
      },
      "source": [
        "\n",
        "Next, we preprocess the input before feeding it to the model. \n",
        "\n",
        "## Preprocess the input\n",
        "Let's consider the same sentence we saw in the previous section. First, we tokenize the sentence and add [CLS] token at the beginning and [SEP] token at the end: \n"
      ]
    },
    {
      "cell_type": "code",
      "execution_count": null,
      "metadata": {
        "collapsed": true,
        "id": "1-hLzFu6_ndL"
      },
      "outputs": [],
      "source": [
        "sentence = 'I love AI'\n",
        "tokens = tokenizer.tokenize(sentence)\n",
        "tokens = ['[CLS]'] + tokens + ['[SEP]']"
      ]
    },
    {
      "cell_type": "markdown",
      "metadata": {
        "id": "YUKVAdmT_ndL"
      },
      "source": [
        "\n",
        "Suppose, we need to keep the token length to 7. So, we add the [PAD] tokens and also define the attention mask: "
      ]
    },
    {
      "cell_type": "code",
      "execution_count": null,
      "metadata": {
        "collapsed": true,
        "id": "5OISI_-t_ndM"
      },
      "outputs": [],
      "source": [
        "tokens = tokens + ['[PAD]'] + ['[PAD]']\n",
        "attention_mask = [1 if i!= '[PAD]' else 0 for i in tokens]"
      ]
    },
    {
      "cell_type": "markdown",
      "metadata": {
        "id": "ic5yVHnB_ndM"
      },
      "source": [
        "\n",
        "Next, we convert the tokens to their token_ids:"
      ]
    },
    {
      "cell_type": "code",
      "execution_count": null,
      "metadata": {
        "collapsed": true,
        "id": "8YtAw5Gr_ndM"
      },
      "outputs": [],
      "source": [
        "token_ids = tokenizer.convert_tokens_to_ids(tokens)"
      ]
    },
    {
      "cell_type": "markdown",
      "metadata": {
        "id": "-MmpLWP6_ndN"
      },
      "source": [
        "\n",
        "\n",
        "\n",
        "Now, we convert the token_ids and attention_mask to tensor: "
      ]
    },
    {
      "cell_type": "code",
      "execution_count": null,
      "metadata": {
        "collapsed": true,
        "id": "lm7Nqj6w_ndN"
      },
      "outputs": [],
      "source": [
        "token_ids = torch.tensor(token_ids).unsqueeze(0)\n",
        "attention_mask = torch.tensor(attention_mask).unsqueeze(0)"
      ]
    },
    {
      "cell_type": "markdown",
      "metadata": {
        "id": "_FQ7RzxU_ndN"
      },
      "source": [
        "\n",
        "\n",
        "Now that we preprocessed the input, let's get the embedding. \n",
        "\n",
        "## Getting the embedding \n",
        "Since we set `output_hidden_states = True` while defining the model for getting the embeddings from all the encoder layers, now the model returns an output tuple with three values as shown below:\n"
      ]
    },
    {
      "cell_type": "code",
      "execution_count": null,
      "metadata": {
        "collapsed": true,
        "id": "DhmqjLG1_ndN",
        "colab": {
          "base_uri": "https://localhost:8080/"
        },
        "outputId": "4a647d0e-dfdb-4d50-9ba7-3b5e1d17ca6f"
      },
      "outputs": [
        {
          "output_type": "execute_result",
          "data": {
            "text/plain": [
              "torch.Size([1, 7, 768])"
            ]
          },
          "metadata": {},
          "execution_count": 42
        }
      ],
      "source": [
        "last_hidden_state, pooler_output, hidden_states = model(token_ids, attention_mask = attention_mask).to_tuple()\n",
        "last_hidden_state.shape"
      ]
    },
    {
      "cell_type": "markdown",
      "metadata": {
        "id": "BjN7Ojnh_ndO"
      },
      "source": [
        "Again, the first value `last_hidden_state` contains the representation of all the tokens obtained only from the final encoder layer (encoder 12). \n",
        "\n",
        "The `pooler_output` indicates the representation of the [CLS] token from the final encoder layer which is further processed by a linear and tanh activation function. \n",
        "\n",
        "`hidden_states` contains the representation of all the tokens obtained from all the final encoder layers. Lets look at this last one now specifically.\n"
      ]
    },
    {
      "cell_type": "code",
      "execution_count": null,
      "metadata": {
        "id": "yzF8Qtxu_ndP",
        "colab": {
          "base_uri": "https://localhost:8080/"
        },
        "outputId": "3ba8cb2a-f043-4c1b-80b5-bb4ebe8d7e29"
      },
      "outputs": [
        {
          "output_type": "execute_result",
          "data": {
            "text/plain": [
              "13"
            ]
          },
          "metadata": {},
          "execution_count": 43
        }
      ],
      "source": [
        "len(hidden_states)"
      ]
    },
    {
      "cell_type": "markdown",
      "metadata": {
        "id": "-ZBdQEeI_ndP"
      },
      "source": [
        "\n",
        "As we can notice, it contains 13 values holding the representation of all layers. Thus: \n",
        "\n",
        "- hidden_states[0] contains the representation of all the tokens obtained from the input embedding layer \n",
        "- hidden_states[1] contains the representation of all the tokens obtained from the first encoder layer \n",
        "- hidden_states[2] contains the representation of all the tokens obtained from the second encoder layer \n",
        "\n",
        "Similarly, hidden_states[12] contains the representation of all the tokens obtained from the final encoder layer \n",
        "Let's explore this more. First, let's print the shape of the hidden_states[0] which contains the representation of all the tokens obtained from the input embedding layer : \n"
      ]
    },
    {
      "cell_type": "code",
      "execution_count": null,
      "metadata": {
        "id": "CUT57PxO_ndQ",
        "colab": {
          "base_uri": "https://localhost:8080/"
        },
        "outputId": "5a3d00a9-2c7d-4d54-afc8-ab7dff401211"
      },
      "outputs": [
        {
          "output_type": "execute_result",
          "data": {
            "text/plain": [
              "torch.Size([1, 7, 768])"
            ]
          },
          "metadata": {},
          "execution_count": 44
        }
      ],
      "source": [
        "hidden_states[0].shape"
      ]
    },
    {
      "cell_type": "markdown",
      "metadata": {
        "id": "PPc_0HL3_ndQ"
      },
      "source": [
        "\n",
        "The size [1,7,768] indicates the[batch_size, sequence_length, hidden_size].\n",
        "\n",
        "Now, let's print the shape of hidden_states[1] which contains the representation of all tokens obtained from the first encoder layer : \n"
      ]
    },
    {
      "cell_type": "code",
      "execution_count": null,
      "metadata": {
        "id": "Xy_0LBQi_ndR",
        "colab": {
          "base_uri": "https://localhost:8080/"
        },
        "outputId": "bbd19701-30fe-4d0a-e17f-844aba68495b"
      },
      "outputs": [
        {
          "output_type": "execute_result",
          "data": {
            "text/plain": [
              "torch.Size([1, 7, 768])"
            ]
          },
          "metadata": {},
          "execution_count": 45
        }
      ],
      "source": [
        "hidden_states[1].shape"
      ]
    },
    {
      "cell_type": "markdown",
      "source": [
        "### Exercise 2\n",
        "Write down each of the 6 feature vectors from the [table](#table) in this section above only from the `hidden_states` of your model. Define one variable for each."
      ],
      "metadata": {
        "id": "9w5z06xFpIUg"
      }
    },
    {
      "cell_type": "code",
      "source": [
        "# Extracting the feature vectors from hidden_states\n",
        "embeddings = hidden_states[0]  # Feature: Embeddings\n",
        "second_last_hidden = hidden_states[11]  # Feature: Second to last hidden\n",
        "last_hidden = hidden_states[12]  # Feature: Last hidden\n",
        "sum_last_four_hidden = torch.cat(hidden_states[9:13], dim=2).sum(dim=2)  # Feature: Sum of last four hidden\n",
        "concat_last_four_hidden = torch.cat(hidden_states[9:13], dim=2)  # Feature: Concat last four hidden\n",
        "sum_all_layers = torch.cat(hidden_states[1:13], dim=2).sum(dim=2)  # Feature: Sum of all 12 layers\n",
        "\n",
        "# Print the shapes of the feature vectors\n",
        "print(\"Embeddings shape:\", embeddings.shape)\n",
        "print(\"Second to last hidden shape:\", second_last_hidden.shape)\n",
        "print(\"Last hidden shape:\", last_hidden.shape)\n",
        "print(\"Sum of last four hidden shape:\", sum_last_four_hidden.shape)\n",
        "print(\"Concat last four hidden shape:\", concat_last_four_hidden.shape)\n",
        "print(\"Sum of all 12 layers shape:\", sum_all_layers.shape)\n"
      ],
      "metadata": {
        "id": "1QNYK_6kqmVO",
        "colab": {
          "base_uri": "https://localhost:8080/"
        },
        "outputId": "c34a9bc0-408c-4694-a23e-c8a7408eb471"
      },
      "execution_count": null,
      "outputs": [
        {
          "output_type": "stream",
          "name": "stdout",
          "text": [
            "Embeddings shape: torch.Size([1, 7, 768])\n",
            "Second to last hidden shape: torch.Size([1, 7, 768])\n",
            "Last hidden shape: torch.Size([1, 7, 768])\n",
            "Sum of last four hidden shape: torch.Size([1, 7])\n",
            "Concat last four hidden shape: torch.Size([1, 7, 3072])\n",
            "Sum of all 12 layers shape: torch.Size([1, 7])\n"
          ]
        }
      ]
    },
    {
      "cell_type": "markdown",
      "metadata": {
        "id": "sQcW-cj9fowz"
      },
      "source": [
        "# Finetuning BERT for sentiment analysis \n",
        "\n",
        "Let's learn how to finetune the pre-trained BERT for text classification tasks. Say, we are performing sentiment analysis. In the sentiment analysis, our goal is to classify whether a sentence is positive or negative. Suppose, we have a dataset containing sentences along with their labels. \n",
        "\n",
        "Consider a sentence: `I love AI`. First, we tokenize the sentence, add the `[CLS]` token at the beginning, and `[SEP]` token at the end of the sentence. Then, we feed the tokens as an input to the pre-trained BERT and get the embeddings of all the tokens. \n",
        "\n",
        "Next, we ignore the embedding of all other tokens and take only the embedding of `[CLS]` token which is $R_{[CLS]}$. The embedding of the `[CLS]` token will hold the aggregate representation of the sentence. We feed $R_{[CLS]}$ to a classifier (feed-forward network with softmax function) and train the classifier to perform sentiment analysis. \n",
        "\n",
        "Wait! How does it differ from what we saw at the beginning of the section. How finetuning the pre-trained BERT differs from using the pre-trained BERT as a feature extractor?\n",
        "\n",
        "In the first section, we learned that after extracting the embedding $R_{[CLS]}$ of a sentence, we feed the $R_{[CLS]}$ to a classifier and train the classifier to perform classification. Similarly, during finetuning, we feed the embedding of $R_{[CLS]}$ to a classifier and train the classifier to perform classification.\n",
        "\n",
        "The difference is that when we finetune the pre-trained BERT, we can update the weights of the pre-trained BERT along with a classifier. But when we use the pre-trained BERT as a feature extractor, we can update only the weights of a classifier and not the pre-trained BERT. \n",
        "\n",
        "During finetuning, we can adjust the weights of the model in the following two ways:\n",
        "\n",
        "- Update the weights of the pre-trained BERT along with the classification layer \n",
        "- Update only the weights of the classification layer and not the pre-trained BERT. When we do this, it becomes the same as using the pre-trained BERT as a feature extractor\n",
        "\n",
        "The following figure shows how we finetune the pre-trained BERT for the sentiment analysis task:\n",
        "\n",
        "\n",
        "As we can observe from the preceding figure, we feed the tokens to the pre-trained BERT and get the embedding of all the tokens. We take the embedding of `[CLS]` token and feed it to a feedforward network with a softmax function and perform classification. \n",
        "\n",
        "Let's get a better understanding of how finetuning works by getting hands-on with finetuning the pre-trained BERT for sentiment analysis in the next section. "
      ]
    },
    {
      "cell_type": "markdown",
      "metadata": {
        "id": "Ph0nLMVFfow0"
      },
      "source": [
        "\n",
        "\n",
        "Import the necessary modules: "
      ]
    },
    {
      "cell_type": "code",
      "execution_count": null,
      "metadata": {
        "collapsed": true,
        "id": "xj3OKG3Pfow1"
      },
      "outputs": [],
      "source": [
        "from transformers import BertForSequenceClassification, BertTokenizerFast, Trainer, TrainingArguments\n",
        "import torch\n",
        "import numpy as np"
      ]
    },
    {
      "cell_type": "markdown",
      "metadata": {
        "id": "Z0hcjGwZfow2"
      },
      "source": [
        "\n",
        "Load the model and dataset. First, let's download and load the dataset using the `datasets` library. We only take the first 20 percent from the training set and the first 5 percent from the test set, otherwise the training will take too long."
      ]
    },
    {
      "cell_type": "code",
      "source": [
        "from datasets import load_dataset\n",
        "train_set = load_dataset(\"imdb\", split=\"train[:25%]\")\n",
        "test_set = load_dataset(\"imdb\", split=\"test[:10%]\")"
      ],
      "metadata": {
        "id": "4yV3HpnkvM6p",
        "colab": {
          "base_uri": "https://localhost:8080/",
          "height": 216,
          "referenced_widgets": [
            "b0c0ff8d4f9f4a0b8c078eeb255e995b",
            "5499ebd482b94e60a1798c2edb9a528c",
            "75080c0eb1db4a8db3170da08e0f18ba",
            "46f728328cf54e0c813a94feabdf6a3d",
            "763a8e5ac9904c5db024b7f72e3be0c0",
            "e10e32d3b4c84a91bbc5d3961d0cb3b2",
            "c04525ecbfe642a6842c5f16fe469889",
            "98c4d92afb8e417bad5a612780ba1956",
            "63e54dab498046aab7333ee392f34458",
            "71ace5bb8adf424290d5ed598e5c899d",
            "a350439030fa4b4c98a76a7ed2cf27fd",
            "91e869c60344410ca1982c91b55cb7c2",
            "cf4e91ca31354deea715424b65c44ef8",
            "0b974f7eeb4640cca6200dd53aa972f5",
            "4e87846f829846ca804b6322f75f44ea",
            "86b320d30d8c495286499e038f243a94",
            "24f41ba909ed4c9ca0e8d0a65ceff153",
            "7986408a5dc44559bd1a13ca48bbd2d9",
            "3f1ebaf342ec4294b6c0c1c64cfe9603",
            "66d7377007fa46088136fcaa074b9f2d",
            "f3caec0de71b41b1a35297454741bce7",
            "91ccb76f794c4bd4a31d03f7585e33b8",
            "1adf102b5198464b8b315447f60c74f0",
            "3b33b2c9291f4c9693d18651951e875b",
            "c915c7116d4a4d9fbfeaa767a48335b8",
            "bcb815e558184e74ba602be7905edb1f",
            "482e8b18f1a5408bb3b1a7e155498c9a",
            "6fa41a95d6f347e6b772558173eeac04",
            "d1e67dab7ccc4536bdf1c1d32815dc99",
            "9ef7fad250414d7aa762207cce780ed2",
            "e5dab037dfad480681076c6a9fb124e4",
            "8cc4b364539248c9b0d61f477b3c876c",
            "f225e3dc340e41848777684643b7c17b",
            "5e0dc1aba17c4c759ec9527a2a585bed",
            "b6888e8e924b42309de04aadde618539",
            "e060285cb1424ac88727ea053f8d79dc",
            "2a92c45afc77497e93e9da4cec468799",
            "387aaa8195f9471ea5e3c72c82cc1c10",
            "8b861454a9344002886258784fe412fd",
            "368a5cabdfd744eb9f3731d8fc10a6bf",
            "6110b7bcd13f4b9facd0e06962f1de1f",
            "a19f2ef17f7d4037a82a9aa6d2db8c96",
            "a874bf394d974dc28e56ee66517820d0",
            "82d51f595b7542c08f182d9a0e3af1eb",
            "8dfa52b09a1240959f8e8d1b10f27586",
            "2b13171b00e5456aadd7f24d9d8418b9",
            "de94640b18cf4d38b778761a82c18dab",
            "ed58b8cc90984206bdb2a3a2aa25e9e8",
            "fc2e07ede0df4f5eae841dc181b4a89e",
            "2b2a45387bfa4ce0a7a347465ddb15d4",
            "1129686182be4095a807fa7e6749b4f0",
            "717620858422461b9323c8fcb7c42824",
            "f22d6111b74846e28c784ce34a484966",
            "4b1ae9b09cd24964a7d715d787aa635a",
            "b62d4590e3794f2e90dff447f146679b",
            "50115663900549389fda110ebdb2f6ab",
            "ee1806a89f634018b2611d8605bac959",
            "e4a37ae385c54ec092658da3f42c1586",
            "a0979338924a4520a3b6a9b05d2c2eb9",
            "0ecdc0c95f3a4ed18031adda923284e9",
            "cbd90459e186411bb4a1003ef71a4613",
            "352bd1219d9e416a834d3c09d1eba2f6",
            "5fbcb8c082bd43ca882cb726c0824c17",
            "982cf546cd1d4ae78252f21437510eff",
            "940d5e05cf6b4c1e8706547860408df9",
            "450ed607f68440a09ed2152a7e6ccfa8",
            "8bee8d31389443b294ab06fffacddd84",
            "8a0f3bd40c0942eaa2c923e01436947c",
            "7855dbd35db84bc6b00e4007dc8b4196",
            "050455985c4648958abadedf27625910",
            "b49c628e5f0343708348fc9a34ee1a8d",
            "07ae690c33204ab69bb1f9ff19d031a9",
            "16f985f6079e4e9ca02b1d3440daaeda",
            "7c8a9063c6274ea1b389e05947b0e6fc",
            "e2805ca9809e4b08b519b0a65f997f2c",
            "cdfd2cbfa0e04321baecab623434aec1",
            "d16d8ec9d37842bbab09cb7350c78fc3"
          ]
        },
        "outputId": "289b711e-3644-4067-9a99-bb0bb865eafd"
      },
      "execution_count": null,
      "outputs": [
        {
          "output_type": "display_data",
          "data": {
            "text/plain": [
              "Downloading builder script:   0%|          | 0.00/4.31k [00:00<?, ?B/s]"
            ],
            "application/vnd.jupyter.widget-view+json": {
              "version_major": 2,
              "version_minor": 0,
              "model_id": "b0c0ff8d4f9f4a0b8c078eeb255e995b"
            }
          },
          "metadata": {}
        },
        {
          "output_type": "display_data",
          "data": {
            "text/plain": [
              "Downloading metadata:   0%|          | 0.00/2.17k [00:00<?, ?B/s]"
            ],
            "application/vnd.jupyter.widget-view+json": {
              "version_major": 2,
              "version_minor": 0,
              "model_id": "91e869c60344410ca1982c91b55cb7c2"
            }
          },
          "metadata": {}
        },
        {
          "output_type": "display_data",
          "data": {
            "text/plain": [
              "Downloading readme:   0%|          | 0.00/7.59k [00:00<?, ?B/s]"
            ],
            "application/vnd.jupyter.widget-view+json": {
              "version_major": 2,
              "version_minor": 0,
              "model_id": "1adf102b5198464b8b315447f60c74f0"
            }
          },
          "metadata": {}
        },
        {
          "output_type": "stream",
          "name": "stdout",
          "text": [
            "Downloading and preparing dataset imdb/plain_text to /root/.cache/huggingface/datasets/imdb/plain_text/1.0.0/d613c88cf8fa3bab83b4ded3713f1f74830d1100e171db75bbddb80b3345c9c0...\n"
          ]
        },
        {
          "output_type": "display_data",
          "data": {
            "text/plain": [
              "Downloading data:   0%|          | 0.00/84.1M [00:00<?, ?B/s]"
            ],
            "application/vnd.jupyter.widget-view+json": {
              "version_major": 2,
              "version_minor": 0,
              "model_id": "5e0dc1aba17c4c759ec9527a2a585bed"
            }
          },
          "metadata": {}
        },
        {
          "output_type": "display_data",
          "data": {
            "text/plain": [
              "Generating train split:   0%|          | 0/25000 [00:00<?, ? examples/s]"
            ],
            "application/vnd.jupyter.widget-view+json": {
              "version_major": 2,
              "version_minor": 0,
              "model_id": "8dfa52b09a1240959f8e8d1b10f27586"
            }
          },
          "metadata": {}
        },
        {
          "output_type": "display_data",
          "data": {
            "text/plain": [
              "Generating test split:   0%|          | 0/25000 [00:00<?, ? examples/s]"
            ],
            "application/vnd.jupyter.widget-view+json": {
              "version_major": 2,
              "version_minor": 0,
              "model_id": "50115663900549389fda110ebdb2f6ab"
            }
          },
          "metadata": {}
        },
        {
          "output_type": "display_data",
          "data": {
            "text/plain": [
              "Generating unsupervised split:   0%|          | 0/50000 [00:00<?, ? examples/s]"
            ],
            "application/vnd.jupyter.widget-view+json": {
              "version_major": 2,
              "version_minor": 0,
              "model_id": "8bee8d31389443b294ab06fffacddd84"
            }
          },
          "metadata": {}
        },
        {
          "output_type": "stream",
          "name": "stdout",
          "text": [
            "Dataset imdb downloaded and prepared to /root/.cache/huggingface/datasets/imdb/plain_text/1.0.0/d613c88cf8fa3bab83b4ded3713f1f74830d1100e171db75bbddb80b3345c9c0. Subsequent calls will reuse this data.\n"
          ]
        },
        {
          "output_type": "stream",
          "name": "stderr",
          "text": [
            "WARNING:datasets.builder:Found cached dataset imdb (/root/.cache/huggingface/datasets/imdb/plain_text/1.0.0/d613c88cf8fa3bab83b4ded3713f1f74830d1100e171db75bbddb80b3345c9c0)\n"
          ]
        }
      ]
    },
    {
      "cell_type": "markdown",
      "metadata": {
        "id": "NGrz_f_cfow-"
      },
      "source": [
        "\n",
        "Let's print the dataset:"
      ]
    },
    {
      "cell_type": "code",
      "execution_count": null,
      "metadata": {
        "id": "Vd-gEqVcfow_",
        "colab": {
          "base_uri": "https://localhost:8080/"
        },
        "outputId": "1fcb3f4e-47ed-4249-cd3b-fd7d1cf2d8f3"
      },
      "outputs": [
        {
          "output_type": "execute_result",
          "data": {
            "text/plain": [
              "Dataset({\n",
              "    features: ['text', 'label'],\n",
              "    num_rows: 6250\n",
              "})"
            ]
          },
          "metadata": {},
          "execution_count": 49
        }
      ],
      "source": [
        "train_set"
      ]
    },
    {
      "cell_type": "markdown",
      "source": [
        "And the test set:"
      ],
      "metadata": {
        "id": "2y0VIRPgAuXY"
      }
    },
    {
      "cell_type": "code",
      "source": [
        "test_set"
      ],
      "metadata": {
        "id": "5_japhwbAvzU",
        "colab": {
          "base_uri": "https://localhost:8080/"
        },
        "outputId": "b9210299-96d3-42a2-d39e-8da2795692bd"
      },
      "execution_count": null,
      "outputs": [
        {
          "output_type": "execute_result",
          "data": {
            "text/plain": [
              "Dataset({\n",
              "    features: ['text', 'label'],\n",
              "    num_rows: 2500\n",
              "})"
            ]
          },
          "metadata": {},
          "execution_count": 50
        }
      ]
    },
    {
      "cell_type": "markdown",
      "metadata": {
        "id": "mGi62VtxfoxA"
      },
      "source": [
        "\n",
        "Next, let's download and load the pre-trained BERT model. In this example, we use the pre-trained bert-base-uncased model. As we can observe below, since we are performing sequence classification, we use the BertForSequenceClassification class: \n"
      ]
    },
    {
      "cell_type": "code",
      "execution_count": null,
      "metadata": {
        "id": "yNoC_WX2foxB",
        "colab": {
          "base_uri": "https://localhost:8080/"
        },
        "outputId": "94f4ebba-bea2-4603-84f0-e56e3d34c271"
      },
      "outputs": [
        {
          "output_type": "stream",
          "name": "stderr",
          "text": [
            "Some weights of the model checkpoint at bert-base-uncased were not used when initializing BertForSequenceClassification: ['cls.seq_relationship.bias', 'cls.predictions.transform.LayerNorm.weight', 'cls.predictions.transform.LayerNorm.bias', 'cls.predictions.bias', 'cls.predictions.transform.dense.bias', 'cls.predictions.decoder.weight', 'cls.seq_relationship.weight', 'cls.predictions.transform.dense.weight']\n",
            "- This IS expected if you are initializing BertForSequenceClassification from the checkpoint of a model trained on another task or with another architecture (e.g. initializing a BertForSequenceClassification model from a BertForPreTraining model).\n",
            "- This IS NOT expected if you are initializing BertForSequenceClassification from the checkpoint of a model that you expect to be exactly identical (initializing a BertForSequenceClassification model from a BertForSequenceClassification model).\n",
            "Some weights of BertForSequenceClassification were not initialized from the model checkpoint at bert-base-uncased and are newly initialized: ['classifier.bias', 'classifier.weight']\n",
            "You should probably TRAIN this model on a down-stream task to be able to use it for predictions and inference.\n"
          ]
        }
      ],
      "source": [
        "model = BertForSequenceClassification.from_pretrained('bert-base-uncased')"
      ]
    },
    {
      "cell_type": "markdown",
      "metadata": {
        "id": "YW5wD22HfoxC"
      },
      "source": [
        "\n",
        "Next, we download and load the tokenizer which is used for pretraining the bert-base-uncased model.\n",
        "As we can observe, we create the tokenizer using the BertTokenizerFastclass instead of BertTokenizer. The BertTokenizerFast class has many advantages compared to BertTokenizer. We will learn about this in the next section: \n"
      ]
    },
    {
      "cell_type": "code",
      "execution_count": null,
      "metadata": {
        "id": "szVRFKRpfoxC",
        "colab": {
          "base_uri": "https://localhost:8080/",
          "height": 49,
          "referenced_widgets": [
            "5bd7c8e05d544cf0b76a248514ddd635",
            "378fa98f1ab242ae8f5bb919784e7622",
            "0d5ad89e2c894a17b3f35628908eb9bb",
            "b5fd14d38c6d4f5e8fe665a30f4e0ab3",
            "e0c0517a590c43878efbcdb2023ea4c4",
            "031dca7afdfe483296147e255eb23e12",
            "5623cbb7cb2b460387998e967182256c",
            "5c430af045fe4bcd87ad0c5281956055",
            "26e89d9fd4904181a9390440dbddf687",
            "7579226c18574146bd4199e753c79a65",
            "6d6988c31d574829bf1b301b6adec7aa"
          ]
        },
        "outputId": "036ae83f-35d6-43d5-b9d0-b32a1aab6786"
      },
      "outputs": [
        {
          "output_type": "display_data",
          "data": {
            "text/plain": [
              "Downloading (…)/main/tokenizer.json:   0%|          | 0.00/466k [00:00<?, ?B/s]"
            ],
            "application/vnd.jupyter.widget-view+json": {
              "version_major": 2,
              "version_minor": 0,
              "model_id": "5bd7c8e05d544cf0b76a248514ddd635"
            }
          },
          "metadata": {}
        }
      ],
      "source": [
        "tokenizer = BertTokenizerFast.from_pretrained('bert-base-uncased')"
      ]
    },
    {
      "cell_type": "markdown",
      "metadata": {
        "id": "i95cBPtjfoxC"
      },
      "source": [
        "\n",
        "Now that we loaded the dataset and model, next let's preprocess the dataset. "
      ]
    },
    {
      "cell_type": "markdown",
      "metadata": {
        "id": "poYE4BPPfoxD"
      },
      "source": [
        "## Preprocess the dataset\n",
        "We can preprocess the dataset in a quicker way using our tokenizer. For example, consider the sentence: 'I love AI'.  \n",
        "\n",
        "First, we tokenize the sentence and add the `[CLS]` token at the beginning and `[SEP]` token at the end as shown below: \n"
      ]
    },
    {
      "cell_type": "markdown",
      "metadata": {
        "collapsed": true,
        "id": "dHfQQv6pfoxD"
      },
      "source": [
        "```\n",
        "tokens = [ [CLS], I, love, AI, [SEP] ]\n",
        "```"
      ]
    },
    {
      "cell_type": "markdown",
      "metadata": {
        "id": "pHj9t1KrfoxE"
      },
      "source": [
        "\n",
        "Next, we map the tokens to the unique input ids (token ids). Suppose the following are the unique input ids (token ids):\n"
      ]
    },
    {
      "cell_type": "markdown",
      "metadata": {
        "collapsed": true,
        "id": "FzduZUwOfoxE"
      },
      "source": [
        "```\n",
        "input_ids = [101, 1045, 2293, 3000, 102]\n",
        "```"
      ]
    },
    {
      "cell_type": "markdown",
      "metadata": {
        "id": "CJpZf_A5foxE"
      },
      "source": [
        "Then, we need to add the segment ids (token type ids). Wait, what are segment ids? Suppose we have two sentences in the input. In that case, segment ids are used to distinguish one sentence from the other. All the tokens from the first sentence will be mapped to 0 and all the tokens from the second sentence will be mapped to 1. Since here we have only one sentence, all the tokens will be mapped to 0 as shown below:\n"
      ]
    },
    {
      "cell_type": "markdown",
      "metadata": {
        "collapsed": true,
        "id": "sLmIG0k3foxF"
      },
      "source": [
        "```\n",
        "token_type_ids = [0, 0, 0, 0, 0]\n",
        "```"
      ]
    },
    {
      "cell_type": "markdown",
      "metadata": {
        "id": "ai4H-92NfoxG"
      },
      "source": [
        "\n",
        "Now, we need to create the attention mask. We know that an attention mask is used to differentiate the actual tokens and `[PAD]` tokens. It will map all the actual tokens to 1 and the `[PAD]` tokens to 0. Suppose, our tokens length should be 5. Now, our tokens list has already 5 tokens. So, we don't have to add `[PAD]` token. Then our attention mask will become: \n"
      ]
    },
    {
      "cell_type": "markdown",
      "metadata": {
        "collapsed": true,
        "id": "aixDEWsTfoxH"
      },
      "source": [
        "```\n",
        "attention_mask = [1, 1, 1, 1, 1]\n",
        "```"
      ]
    },
    {
      "cell_type": "markdown",
      "metadata": {
        "id": "w6ULeBtifoxI"
      },
      "source": [
        "\n",
        "That's it. But instead of doing all the above steps manually, our tokenizer will do these steps for us. We just need to pass the sentence to the tokenizer as shown below:\n"
      ]
    },
    {
      "cell_type": "code",
      "execution_count": null,
      "metadata": {
        "id": "_EujRhGsfoxJ",
        "colab": {
          "base_uri": "https://localhost:8080/"
        },
        "outputId": "cea8e4ac-2097-4fdc-fc07-92a9f70d09a7"
      },
      "outputs": [
        {
          "output_type": "execute_result",
          "data": {
            "text/plain": [
              "{'input_ids': [101, 1045, 2293, 9932, 102], 'token_type_ids': [0, 0, 0, 0, 0], 'attention_mask': [1, 1, 1, 1, 1]}"
            ]
          },
          "metadata": {},
          "execution_count": 53
        }
      ],
      "source": [
        "tokenizer('I love AI')"
      ]
    },
    {
      "cell_type": "markdown",
      "metadata": {
        "id": "by2HeGksfoxN"
      },
      "source": [
        "\n",
        "With the tokenizer, we can also pass any number of sentences and perform padding dynamically. To do that, we need to set padding to True and also the maximum sequence length. For instance, as shown below, we pass three sentences and we set the maximum sequence length, max_length to 5:\n"
      ]
    },
    {
      "cell_type": "code",
      "execution_count": null,
      "metadata": {
        "id": "wwW-9n96foxN",
        "colab": {
          "base_uri": "https://localhost:8080/"
        },
        "outputId": "d2b3aa41-3bea-4e85-ea51-c505bd4dbd20"
      },
      "outputs": [
        {
          "output_type": "stream",
          "name": "stderr",
          "text": [
            "/usr/local/lib/python3.10/dist-packages/transformers/tokenization_utils_base.py:2372: UserWarning: `max_length` is ignored when `padding`=`True` and there is no truncation strategy. To pad to max length, use `padding='max_length'`.\n",
            "  warnings.warn(\n"
          ]
        },
        {
          "output_type": "execute_result",
          "data": {
            "text/plain": [
              "{'input_ids': [[101, 1045, 2293, 9932, 102], [101, 5055, 4875, 102, 0], [101, 4586, 2991, 102, 0]], 'token_type_ids': [[0, 0, 0, 0, 0], [0, 0, 0, 0, 0], [0, 0, 0, 0, 0]], 'attention_mask': [[1, 1, 1, 1, 1], [1, 1, 1, 1, 0], [1, 1, 1, 1, 0]]}"
            ]
          },
          "metadata": {},
          "execution_count": 54
        }
      ],
      "source": [
        "tokenizer(['I love AI', 'birds fly','snow fall'], padding = True, max_length=5)"
      ]
    },
    {
      "cell_type": "markdown",
      "metadata": {
        "id": "a2QyIyEefoxO"
      },
      "source": [
        "\n",
        "That's it, with the tokenizer, we can easily preprocess our dataset. So we define a function called preprocess for processing the dataset as shown below: \n"
      ]
    },
    {
      "cell_type": "code",
      "execution_count": null,
      "metadata": {
        "collapsed": true,
        "id": "TYpvRZcnfoxP"
      },
      "outputs": [],
      "source": [
        "def preprocess(data):\n",
        "    return tokenizer(data['text'], padding=True, truncation=True)\n",
        "    "
      ]
    },
    {
      "cell_type": "markdown",
      "metadata": {
        "id": "PwV4SLYDfoxP"
      },
      "source": [
        "\n",
        "Now, we preprocess the train and test set using the preprocess function. The dataset loader still shows 0/1 when its done, its a known [bug](https://github.com/huggingface/datasets/issues/5117) in the library. Your dataset is still preprocessed."
      ]
    },
    {
      "cell_type": "code",
      "execution_count": null,
      "metadata": {
        "id": "MUyB2AXKfoxQ",
        "colab": {
          "base_uri": "https://localhost:8080/",
          "height": 17,
          "referenced_widgets": [
            "81e2e814c40449cd92f665c770bd7a47",
            "e4e520282e5c454ba1436faad37fb69d",
            "fcc5dc618b6f46b6ac9986c4e5f84c9e",
            "5e02d52442c5481bbd18e53363f85bb5",
            "bf6b4b3a42454d158973b3613cea6db0",
            "5d1d6ceeb12344c6a4b3f09b20e12b59",
            "ce7befed2352440f89d88af3e36b655a",
            "06b024941b3b46b5a5995976f5cb6762",
            "85464e4c69604250a554e454fdb55713",
            "7759b4d58e91470c91a5a32c0332fc1a",
            "3ebfc324636a46aca0e99cc2143c2bdd",
            "07d618bf758a439683ba1bef7bb4747e",
            "4c7fd458fca74cb29f7d61ef4d884446",
            "26bb8fe8c3c4446f88fa9c2bab7c3919",
            "a1c80345674e419fa42ad1b1429fba69",
            "1f35313b58874ed6bcc869614edfb077",
            "22a9da9d20ff4fd3a3d4e9b48ee7b302",
            "0a921980e79643419dfc6bad92c8c225",
            "9bfe43a0dd6548fc9d755d9e18502341",
            "684692385d0f45deba3354f723fb2387",
            "abc903ac86424d04b484c3eaebc2d18f",
            "0d3c24ac6a3848c799e79cba530208b9"
          ]
        },
        "outputId": "07ffbb28-d119-42e3-a759-cab4cfc6cc76"
      },
      "outputs": [
        {
          "output_type": "display_data",
          "data": {
            "text/plain": [
              "Map:   0%|          | 0/6250 [00:00<?, ? examples/s]"
            ],
            "application/vnd.jupyter.widget-view+json": {
              "version_major": 2,
              "version_minor": 0,
              "model_id": "81e2e814c40449cd92f665c770bd7a47"
            }
          },
          "metadata": {}
        },
        {
          "output_type": "display_data",
          "data": {
            "text/plain": [
              "Map:   0%|          | 0/2500 [00:00<?, ? examples/s]"
            ],
            "application/vnd.jupyter.widget-view+json": {
              "version_major": 2,
              "version_minor": 0,
              "model_id": "07d618bf758a439683ba1bef7bb4747e"
            }
          },
          "metadata": {}
        }
      ],
      "source": [
        "train_set = train_set.map(preprocess, batched=True, batch_size=len(train_set))\n",
        "test_set = test_set.map(preprocess, batched=True, batch_size=len(train_set))"
      ]
    },
    {
      "cell_type": "code",
      "source": [
        "train_set[0].keys()"
      ],
      "metadata": {
        "id": "9gUgYFlL3XVr",
        "colab": {
          "base_uri": "https://localhost:8080/"
        },
        "outputId": "39bfeb6f-fc9a-497c-9fd8-602384522a95"
      },
      "execution_count": null,
      "outputs": [
        {
          "output_type": "execute_result",
          "data": {
            "text/plain": [
              "dict_keys(['text', 'label', 'input_ids', 'token_type_ids', 'attention_mask'])"
            ]
          },
          "metadata": {},
          "execution_count": 57
        }
      ]
    },
    {
      "cell_type": "markdown",
      "metadata": {
        "id": "YZHwUC-NfoxR"
      },
      "source": [
        "That's it. Now that we have the dataset ready, let's train the model. "
      ]
    },
    {
      "cell_type": "markdown",
      "metadata": {
        "id": "Fv67exnifoxR"
      },
      "source": [
        "## Training the model "
      ]
    },
    {
      "cell_type": "markdown",
      "metadata": {
        "id": "ih63Z2wqfoxS"
      },
      "source": [
        "\n",
        "Define the batch size and epoch size.\n",
        "\n",
        "Batch size is how many items we put in per loop. So a batch size of 8 means 8 items per rendering. We need to do this because of the memory allocation of the GPU, its impossible to do the whole dataset at once, because this otherwise wouldn't fit in the GPU.\n",
        "\n",
        "The number of epochs is how many times we loop over the whole dataset."
      ]
    },
    {
      "cell_type": "code",
      "execution_count": null,
      "metadata": {
        "collapsed": true,
        "id": "1NjA0cFGfoxT"
      },
      "outputs": [],
      "source": [
        "batch_size = 8\n",
        "epochs = 1"
      ]
    },
    {
      "cell_type": "markdown",
      "metadata": {
        "id": "eSLvaWr6foxT"
      },
      "source": [
        "\n",
        "Define the warmup steps and weight decay.\n",
        "\n",
        "Warmup steps means that in the beginning of training we set the learning to a really slow amount (slow learning rate). We let our network components kind of get used to our dataset, before we really move a lot in our optimization. \n",
        "\n",
        "We use weight decay to avoid overfitting by adding a penalty to our training function.\n",
        "\n"
      ]
    },
    {
      "cell_type": "code",
      "execution_count": null,
      "metadata": {
        "collapsed": true,
        "id": "6bLTXRGQfoxU"
      },
      "outputs": [],
      "source": [
        "warmup_steps = 500\n",
        "weight_decay = 0.01"
      ]
    },
    {
      "cell_type": "markdown",
      "metadata": {
        "id": "Brs5HIfufoxU"
      },
      "source": [
        "Lets first define what metrics we want to compute. We deal with binary classification, so it makes sense to include precision, recall, f1 and accuracy."
      ]
    },
    {
      "cell_type": "code",
      "source": [
        "from sklearn.metrics import precision_recall_fscore_support, accuracy_score\n",
        "def compute_metrics(pred):\n",
        "    labels = pred.label_ids\n",
        "    preds = pred.predictions.argmax(-1)\n",
        "    precision, recall, f1, _ = precision_recall_fscore_support(labels, preds)\n",
        "    acc = accuracy_score(labels, preds)\n",
        "    return {'accuracy': acc, 'f1': f1.item(), 'precision': precision.item(), 'recall': recall.item()}"
      ],
      "metadata": {
        "id": "CIxGbGDzRHWo"
      },
      "execution_count": null,
      "outputs": []
    },
    {
      "cell_type": "markdown",
      "source": [
        "This is how you would define your training loop in the `transformers` library: We can put things in like the number of training epochs, batch size, warmup steps and weight decay. Now lets define the training arguments:"
      ],
      "metadata": {
        "id": "rWalfyRTRNL2"
      }
    },
    {
      "cell_type": "code",
      "execution_count": null,
      "metadata": {
        "id": "06c9nd-DfoxU"
      },
      "outputs": [],
      "source": [
        "training_args = TrainingArguments(\n",
        "    output_dir='./results',\n",
        "    num_train_epochs=epochs,\n",
        "    per_device_train_batch_size=batch_size,\n",
        "    per_device_eval_batch_size=batch_size,\n",
        "    warmup_steps=warmup_steps,\n",
        "    weight_decay=weight_decay,\n",
        "    logging_dir='./logs',\n",
        ")"
      ]
    },
    {
      "cell_type": "markdown",
      "metadata": {
        "id": "VOqwu_F8foxV"
      },
      "source": [
        "\n",
        "\n",
        "Now define the trainer: "
      ]
    },
    {
      "cell_type": "code",
      "execution_count": null,
      "metadata": {
        "collapsed": true,
        "id": "EA70qZzsfoxV"
      },
      "outputs": [],
      "source": [
        "trainer = Trainer(\n",
        "    model=model,\n",
        "    args=training_args,\n",
        "    compute_metrics=compute_metrics,\n",
        "    train_dataset=train_set,\n",
        "    eval_dataset=test_set\n",
        ")"
      ]
    },
    {
      "cell_type": "markdown",
      "metadata": {
        "id": "EjOdmJKDfoxV"
      },
      "source": [
        "Start training the model. The training takes about 10 minutes in total!\n",
        "\n",
        "Please make sure you are on GPU, otherwise this takes even longer."
      ]
    },
    {
      "cell_type": "code",
      "execution_count": null,
      "metadata": {
        "id": "ce_yJaLwfoxW",
        "colab": {
          "base_uri": "https://localhost:8080/",
          "height": 211
        },
        "outputId": "93c835c7-1c2a-4f95-c621-06ace0848d56"
      },
      "outputs": [
        {
          "output_type": "stream",
          "name": "stderr",
          "text": [
            "/usr/local/lib/python3.10/dist-packages/transformers/optimization.py:391: FutureWarning: This implementation of AdamW is deprecated and will be removed in a future version. Use the PyTorch implementation torch.optim.AdamW instead, or set `no_deprecation_warning=True` to disable this warning\n",
            "  warnings.warn(\n"
          ]
        },
        {
          "output_type": "display_data",
          "data": {
            "text/plain": [
              "<IPython.core.display.HTML object>"
            ],
            "text/html": [
              "\n",
              "    <div>\n",
              "      \n",
              "      <progress value='782' max='782' style='width:300px; height:20px; vertical-align: middle;'></progress>\n",
              "      [782/782 09:46, Epoch 1/1]\n",
              "    </div>\n",
              "    <table border=\"1\" class=\"dataframe\">\n",
              "  <thead>\n",
              " <tr style=\"text-align: left;\">\n",
              "      <th>Step</th>\n",
              "      <th>Training Loss</th>\n",
              "    </tr>\n",
              "  </thead>\n",
              "  <tbody>\n",
              "    <tr>\n",
              "      <td>500</td>\n",
              "      <td>0.073300</td>\n",
              "    </tr>\n",
              "  </tbody>\n",
              "</table><p>"
            ]
          },
          "metadata": {}
        },
        {
          "output_type": "execute_result",
          "data": {
            "text/plain": [
              "TrainOutput(global_step=782, training_loss=0.04687434134175977, metrics={'train_runtime': 590.0437, 'train_samples_per_second': 10.592, 'train_steps_per_second': 1.325, 'total_flos': 1644444096000000.0, 'train_loss': 0.04687434134175977, 'epoch': 1.0})"
            ]
          },
          "metadata": {},
          "execution_count": 63
        }
      ],
      "source": [
        "trainer.train()"
      ]
    },
    {
      "cell_type": "markdown",
      "metadata": {
        "id": "at-qPxJIfoxW"
      },
      "source": [
        "\n",
        "After training we can evaluate the model using the evaluate function:"
      ]
    },
    {
      "cell_type": "code",
      "execution_count": null,
      "metadata": {
        "id": "u7sE13FDfoxW",
        "colab": {
          "base_uri": "https://localhost:8080/",
          "height": 190
        },
        "outputId": "07cdc8d2-811b-406a-afc7-320e0d9a5140"
      },
      "outputs": [
        {
          "output_type": "display_data",
          "data": {
            "text/plain": [
              "<IPython.core.display.HTML object>"
            ],
            "text/html": [
              "\n",
              "    <div>\n",
              "      \n",
              "      <progress value='313' max='313' style='width:300px; height:20px; vertical-align: middle;'></progress>\n",
              "      [313/313 01:20]\n",
              "    </div>\n",
              "    "
            ]
          },
          "metadata": {}
        },
        {
          "output_type": "execute_result",
          "data": {
            "text/plain": [
              "{'eval_loss': 2.920813494711183e-05,\n",
              " 'eval_accuracy': 1.0,\n",
              " 'eval_f1': 1.0,\n",
              " 'eval_precision': 1.0,\n",
              " 'eval_recall': 1.0,\n",
              " 'eval_runtime': 80.7307,\n",
              " 'eval_samples_per_second': 30.967,\n",
              " 'eval_steps_per_second': 3.877,\n",
              " 'epoch': 1.0}"
            ]
          },
          "metadata": {},
          "execution_count": 64
        }
      ],
      "source": [
        "trainer.evaluate()"
      ]
    },
    {
      "cell_type": "markdown",
      "source": [
        "### Exercise 3\n",
        "1. Instead of using the `Trainer` function from the `transfomers` library, now write your own training loop using **only PyTorch**. You should also implement weight decay and use a linear scheduler. Train for 1 epoch.\n",
        "2. Write an evaluation loop on your test data. Implement `f1`, `accuracy`, `precision` and `recall` and evaluate your model. "
      ],
      "metadata": {
        "id": "U3bgs1CD5kpd"
      }
    },
    {
      "cell_type": "code",
      "source": [
        "import torch\n",
        "from torch.utils.data import DataLoader\n",
        "\n",
        "# Set device\n",
        "device = torch.device(\"cuda\" if torch.cuda.is_available() else \"cpu\")\n",
        "\n",
        "# Define hyperparameters\n",
        "learning_rate = 2e-5\n",
        "weight_decay = 0.01\n",
        "warmup_steps = 500\n",
        "\n",
        "# Create data loaders\n",
        "train_loader = DataLoader(train_set, batch_size=batch_size, shuffle=True)\n",
        "test_loader = DataLoader(test_set, batch_size=batch_size)\n",
        "\n",
        "# Set up model and optimizer\n",
        "model = BertForSequenceClassification.from_pretrained('bert-base-uncased')\n",
        "model.to(device)\n",
        "optimizer = torch.optim.AdamW(model.parameters(), lr=learning_rate, weight_decay=weight_decay)\n",
        "scheduler = torch.optim.lr_scheduler.LinearLR(optimizer, warmup_steps=warmup_steps, total_steps=len(train_loader) * epochs)\n",
        "\n",
        "# Training loop\n",
        "model.train()\n",
        "for epoch in range(epochs):\n",
        "    total_loss = 0\n",
        "    correct = 0\n",
        "    total = 0\n",
        "    \n",
        "    for batch in train_loader:\n",
        "        input_ids = batch['input_ids'].to(device)\n",
        "        attention_mask = batch['attention_mask'].to(device)\n",
        "        labels = batch['label'].to(device)\n",
        "        \n",
        "        optimizer.zero_grad()\n",
        "        \n",
        "        outputs = model(input_ids=input_ids, attention_mask=attention_mask, labels=labels)\n",
        "        loss = outputs.loss\n",
        "        logits = outputs.logits\n",
        "        \n",
        "        loss.backward()\n",
        "        optimizer.step()\n",
        "        scheduler.step()\n",
        "        \n",
        "        total_loss += loss.item()\n",
        "        _, predicted = torch.max(logits, 1)\n",
        "        correct += (predicted == labels).sum().item()\n",
        "        total += labels.size(0)\n",
        "    \n",
        "    train_loss = total_loss / len(train_loader)\n",
        "    train_accuracy = correct / total\n",
        "    \n",
        "    print(f\"Epoch {epoch + 1}/{epochs}\")\n",
        "    print(f\"Train Loss: {train_loss:.4f} Train Accuracy: {train_accuracy:.4f}\")\n",
        "    print()\n",
        "    \n",
        "# Evaluation loop\n",
        "model.eval()\n",
        "total_loss = 0\n",
        "correct = 0\n",
        "total = 0\n",
        "predictions = []\n",
        "true_labels = []\n",
        "\n",
        "with torch.no_grad():\n",
        "    for batch in test_loader:\n",
        "        input_ids = batch['input_ids'].to(device)\n",
        "        attention_mask = batch['attention_mask'].to(device)\n",
        "        labels = batch['label'].to(device)\n",
        "        \n",
        "        outputs = model(input_ids=input_ids, attention_mask=attention_mask, labels=labels)\n",
        "        loss = outputs.loss\n",
        "        logits = outputs.logits\n",
        "        \n",
        "        total_loss += loss.item()\n",
        "        _, predicted = torch.max(logits, 1)\n",
        "        correct += (predicted == labels).sum().item()\n",
        "        total += labels.size(0)\n",
        "        \n",
        "        predictions.extend(predicted.cpu().tolist())\n",
        "        true_labels.extend(labels.cpu().tolist())\n",
        "\n",
        "test_loss = total_loss / len(test_loader)\n",
        "test_accuracy = correct / total\n",
        "\n",
        "# Calculate precision, recall, and F1-score\n",
        "from sklearn.metrics import precision_recall_fscore_support, accuracy_score\n",
        "\n",
        "precision, recall, f1, _ = precision_recall_fscore_support(true_labels, predictions)\n",
        "test_precision = precision[1]  # Positive class precision\n",
        "test_recall = recall[1]  # Positive class recall\n",
        "test_f1 = f1[1]  # Positive class F1-score\n",
        "\n",
        "print(f\"Test Loss: {test_loss:.4f} Test Accuracy: {test_accuracy:.4f}\")\n",
        "print(f\"Test Precision: {test_precision:.4f} Test Recall: {test_recall:.4f} Test F1-score: {test_f1:.4f}\")\n"
      ],
      "metadata": {
        "id": "xQpR0an2MtKZ"
      },
      "execution_count": null,
      "outputs": []
    },
    {
      "cell_type": "markdown",
      "metadata": {
        "id": "zrlTQ4RsXU-V"
      },
      "source": [
        "# Fine-tuning Pretrained Transformers for Named Entity Recognition\n",
        "\n",
        "In the previous section we worked on sentiment prediction with just two classes using BERT. In this notebook we'll be using BERT-based models for Named Entity Recognition. Again, exactly the same model, but now we train it for a different dataset. Lets see if we can tag some sentences.\n",
        "\n",
        "One thing to notice is that we now have a different class type within Bert that we going to use. Notice that instead of BertForSequenceClassification we now use BertForTokenClassification. The former we use for predicting labels from a whole piece of text (e.g. sentences). Now we want to classify per token basis. \n",
        "\n",
        "We should reimport the model first, otherwise it is still finetuned on the previous task. That knowledge does not make sense anymore for this task."
      ]
    },
    {
      "cell_type": "code",
      "metadata": {
        "id": "nS2XMkfxXU-f",
        "colab": {
          "base_uri": "https://localhost:8080/"
        },
        "outputId": "59457ec1-572b-48c3-8aae-c0c2fa2fc73d"
      },
      "source": [
        "from transformers import BertForTokenClassification, AutoTokenizer\n",
        "model = BertForTokenClassification.from_pretrained('bert-base-uncased')\n",
        "tokenizer = AutoTokenizer.from_pretrained('bert-base-uncased')"
      ],
      "execution_count": null,
      "outputs": [
        {
          "output_type": "stream",
          "name": "stderr",
          "text": [
            "Some weights of the model checkpoint at bert-base-uncased were not used when initializing BertForTokenClassification: ['cls.seq_relationship.bias', 'cls.predictions.transform.LayerNorm.weight', 'cls.predictions.transform.LayerNorm.bias', 'cls.predictions.bias', 'cls.predictions.transform.dense.bias', 'cls.predictions.decoder.weight', 'cls.seq_relationship.weight', 'cls.predictions.transform.dense.weight']\n",
            "- This IS expected if you are initializing BertForTokenClassification from the checkpoint of a model trained on another task or with another architecture (e.g. initializing a BertForSequenceClassification model from a BertForPreTraining model).\n",
            "- This IS NOT expected if you are initializing BertForTokenClassification from the checkpoint of a model that you expect to be exactly identical (initializing a BertForSequenceClassification model from a BertForSequenceClassification model).\n",
            "Some weights of BertForTokenClassification were not initialized from the model checkpoint at bert-base-uncased and are newly initialized: ['classifier.bias', 'classifier.weight']\n",
            "You should probably TRAIN this model on a down-stream task to be able to use it for predictions and inference.\n"
          ]
        }
      ]
    },
    {
      "cell_type": "markdown",
      "source": [
        "## Preparing the data\n",
        "Now let's also import a new dataset. This time we are going to work on a PoS dataset. We will be using CoNLL. This dataset contains news stories from Reuters, and contains 3 tasks: part of speech tagging (POS), named entity recognition (NER) and chunking. We import it with the `dataset` library."
      ],
      "metadata": {
        "id": "Eg29QtlmXx2_"
      }
    },
    {
      "cell_type": "code",
      "source": [
        "from datasets import load_dataset\n",
        "\n",
        "dataset = load_dataset(\"conll2003\")"
      ],
      "metadata": {
        "id": "Dm6uhuPrXvt0",
        "colab": {
          "base_uri": "https://localhost:8080/",
          "height": 231,
          "referenced_widgets": [
            "026e75ed4c174862a360e4906ebcf733",
            "890bbf6e504a45dc9093fdb29f6b3a32",
            "290ea8f0e55245a293b1329bdf6fde2d",
            "bd500fd4ae454123b2f6a34981ff8f2c",
            "680ce956ed084122980d9ea1c17a7b7d",
            "eab79648409f40ed9bf09b7210165720",
            "74f4ee1478ac422c8a8e10f6cefca4be",
            "d6d6c2da805348f29c99c26de7738347",
            "7b23e53ff508451193cc30e4c5f04cac",
            "a1f9730c68ee40688b84a34e258e2df0",
            "0ec1a9126b12493c968aaaed2751310f",
            "7a709e11503648398bd7747e71318bcc",
            "8b840d3f5f85453980c48de5869eefff",
            "78be5884453a429491b8bb7b921c69b2",
            "d4a2d03613504bb98121e0b81f42cc8b",
            "f907051be45b43c8bc5313164fa9b40a",
            "0c8777ec12ac47379843528e6a28ea87",
            "dcef10e267654262af586e05c5d76ec5",
            "a40da394494e41ef86ee575d2e76b249",
            "7542fe75020943f8976b6e57794a56fb",
            "55c92e384f794008a03587327c44cd4f",
            "2cbc5c199b8645b09367cd2859fbe816",
            "5537790a8e384c8e9406e69f8b8093dc",
            "a65562dd5f5a4f5faee6e4f7409973c6",
            "5b479642df774930b11e3b3c6b7ab853",
            "298c4e5a500f4b21a23269fea9e90947",
            "f56b8488862d4a2fbb58d30fa0003f4d",
            "296533797c0848ce80bc88c6a64fcd7c",
            "c2e4830369974bb18cbdaee5422f4fac",
            "c79c64b98b854ccc82194b1f33de75f3",
            "a1b65c87002f486691b8dfa4aac99917",
            "ec2b576b95854e248623e523c77fa315",
            "b3f955e4e9884b6085e79de8e8c0b8b3",
            "b700cfc6aa384b66879bcd069e9fd0bf",
            "7f8dacf2ae6542d09ed4129ba45d44e6",
            "6f073dc911df467fa57b75e4c6d663c7",
            "cd0a110f6c1847d1b15862ef1ab65eb7",
            "a5dc5bbf29644c0d95253c71e39c5ad2",
            "d570cde7e3cf4cbcbc01b05f660aa5ff",
            "ce99926790494194863720c1a4c0b10d",
            "9c4768b6aa7542b29c4ef62eb0123983",
            "e9ba36c6fd3c445fb8ee5089957ddca6",
            "4b20d64cdeac423680698c36c8e5e0d8",
            "58ff7f2af7854305b013b6675f674d30",
            "04cabf0f28e94754a376bdcd519826e4",
            "258505c84ea94ce4b1d86e454d9330b4",
            "515817ee584747b4b53e900c37452cf5",
            "44ebf137cdd8441189d22da364ca9dad",
            "57ec12b8a3f14d5b860e7357a424ebbd",
            "f48c45f390964318af48306d45add798",
            "82189f3efb5547fcaabcc0aaf5cac51c",
            "0e1de789116b4d6b99abf6bd39d5c003",
            "605814adef284d4b85740fabce6c315d",
            "491971abac924b5d9d904a81bc295e1a",
            "1abb47d2f4f24c4797cf41e8eea35c7c",
            "f41475e1cae746269cadab465089ea4a",
            "69e960b0370142d389cee7c68a83ec42",
            "bab1e53623444b7eb2cea3ae2afeb4a3",
            "44ea828f286f423eace6253a9f979bce",
            "569c56ca47394d6db8ccf25de17092a1",
            "93a2e66cd8254fa2954508cbe0240f6f",
            "d5c11501e809491792a8c051f8352e62",
            "d003012da5764e71942033aaf6562850",
            "6b8c9c4ea44640518c12618806c7caad",
            "02cfde49b6c54bc58decb5b62a728e11",
            "82eac52b4fba4fb5b30c7eb6acdc204c",
            "cb461e9300904e558d95c607ac034077",
            "5a4a31a396d3445b88a29255325a4eb1",
            "e37fee1d21624d97893c4eedcd4e9ec3",
            "f54d7f4a343c4c1fbc32831a5b71fe60",
            "56f0666ae158432ca5116dec8c295dd1",
            "fe88896c3ee34e2fbce7c3642282e852",
            "7ac32af335a94590a3cb8e5c4ae2b88a",
            "e6b01ecb509e4660b846a8457e5d61cb",
            "cec274a774ec4365ab32bbaf5f712713",
            "1617f491622c4b42bd5f30c8df600623",
            "94e793962ddf4c57a0fe40f5d4ced861",
            "04b6723c0ba14a2ab3654f155eb8a50a",
            "be2087b1fcb947bda79536b6701bd38b",
            "ab4fe1841ef24be19bc48c55169e5f63",
            "9e1569ab3d6746b197228fff8803f3cd",
            "942fa74599224aa195feb9c7ccb1b8e7",
            "c34c0ddb4a584ab18876604566a4a550",
            "4ac87da526ca4517b5a89684f16bfd6f",
            "11a34921112140ffa13807d30e87bfd4",
            "65439c263aac4fec94b616058c99111d",
            "b575a760297a47069acb764e942b1d25",
            "2c6f0349b7cf4a9ea77f3e3624fd7b71"
          ]
        },
        "outputId": "598b5675-c0b0-42a5-e1f5-cb6ab9e5ebd0"
      },
      "execution_count": null,
      "outputs": [
        {
          "output_type": "display_data",
          "data": {
            "text/plain": [
              "Downloading builder script:   0%|          | 0.00/9.57k [00:00<?, ?B/s]"
            ],
            "application/vnd.jupyter.widget-view+json": {
              "version_major": 2,
              "version_minor": 0,
              "model_id": "026e75ed4c174862a360e4906ebcf733"
            }
          },
          "metadata": {}
        },
        {
          "output_type": "display_data",
          "data": {
            "text/plain": [
              "Downloading metadata:   0%|          | 0.00/3.73k [00:00<?, ?B/s]"
            ],
            "application/vnd.jupyter.widget-view+json": {
              "version_major": 2,
              "version_minor": 0,
              "model_id": "7a709e11503648398bd7747e71318bcc"
            }
          },
          "metadata": {}
        },
        {
          "output_type": "display_data",
          "data": {
            "text/plain": [
              "Downloading readme:   0%|          | 0.00/12.3k [00:00<?, ?B/s]"
            ],
            "application/vnd.jupyter.widget-view+json": {
              "version_major": 2,
              "version_minor": 0,
              "model_id": "5537790a8e384c8e9406e69f8b8093dc"
            }
          },
          "metadata": {}
        },
        {
          "output_type": "stream",
          "name": "stdout",
          "text": [
            "Downloading and preparing dataset conll2003/conll2003 to /root/.cache/huggingface/datasets/conll2003/conll2003/1.0.0/9a4d16a94f8674ba3466315300359b0acd891b68b6c8743ddf60b9c702adce98...\n"
          ]
        },
        {
          "output_type": "display_data",
          "data": {
            "text/plain": [
              "Downloading data:   0%|          | 0.00/983k [00:00<?, ?B/s]"
            ],
            "application/vnd.jupyter.widget-view+json": {
              "version_major": 2,
              "version_minor": 0,
              "model_id": "b700cfc6aa384b66879bcd069e9fd0bf"
            }
          },
          "metadata": {}
        },
        {
          "output_type": "display_data",
          "data": {
            "text/plain": [
              "Generating train split:   0%|          | 0/14041 [00:00<?, ? examples/s]"
            ],
            "application/vnd.jupyter.widget-view+json": {
              "version_major": 2,
              "version_minor": 0,
              "model_id": "04cabf0f28e94754a376bdcd519826e4"
            }
          },
          "metadata": {}
        },
        {
          "output_type": "display_data",
          "data": {
            "text/plain": [
              "Generating validation split:   0%|          | 0/3250 [00:00<?, ? examples/s]"
            ],
            "application/vnd.jupyter.widget-view+json": {
              "version_major": 2,
              "version_minor": 0,
              "model_id": "f41475e1cae746269cadab465089ea4a"
            }
          },
          "metadata": {}
        },
        {
          "output_type": "display_data",
          "data": {
            "text/plain": [
              "Generating test split:   0%|          | 0/3453 [00:00<?, ? examples/s]"
            ],
            "application/vnd.jupyter.widget-view+json": {
              "version_major": 2,
              "version_minor": 0,
              "model_id": "cb461e9300904e558d95c607ac034077"
            }
          },
          "metadata": {}
        },
        {
          "output_type": "stream",
          "name": "stdout",
          "text": [
            "Dataset conll2003 downloaded and prepared to /root/.cache/huggingface/datasets/conll2003/conll2003/1.0.0/9a4d16a94f8674ba3466315300359b0acd891b68b6c8743ddf60b9c702adce98. Subsequent calls will reuse this data.\n"
          ]
        },
        {
          "output_type": "display_data",
          "data": {
            "text/plain": [
              "  0%|          | 0/3 [00:00<?, ?it/s]"
            ],
            "application/vnd.jupyter.widget-view+json": {
              "version_major": 2,
              "version_minor": 0,
              "model_id": "04b6723c0ba14a2ab3654f155eb8a50a"
            }
          },
          "metadata": {}
        }
      ]
    },
    {
      "cell_type": "markdown",
      "source": [
        "Lets visualise the structure:"
      ],
      "metadata": {
        "id": "t_UDrabsY4GF"
      }
    },
    {
      "cell_type": "code",
      "source": [
        "dataset"
      ],
      "metadata": {
        "id": "gb2cIFdOY3eS",
        "colab": {
          "base_uri": "https://localhost:8080/"
        },
        "outputId": "8ec39b94-7ccd-44a5-b5dd-a4216050aa90"
      },
      "execution_count": null,
      "outputs": [
        {
          "output_type": "execute_result",
          "data": {
            "text/plain": [
              "DatasetDict({\n",
              "    train: Dataset({\n",
              "        features: ['id', 'tokens', 'pos_tags', 'chunk_tags', 'ner_tags'],\n",
              "        num_rows: 14041\n",
              "    })\n",
              "    validation: Dataset({\n",
              "        features: ['id', 'tokens', 'pos_tags', 'chunk_tags', 'ner_tags'],\n",
              "        num_rows: 3250\n",
              "    })\n",
              "    test: Dataset({\n",
              "        features: ['id', 'tokens', 'pos_tags', 'chunk_tags', 'ner_tags'],\n",
              "        num_rows: 3453\n",
              "    })\n",
              "})"
            ]
          },
          "metadata": {},
          "execution_count": 76
        }
      ]
    },
    {
      "cell_type": "markdown",
      "source": [
        "This is how a token looks like:"
      ],
      "metadata": {
        "id": "glHgqmuuZN8k"
      }
    },
    {
      "cell_type": "code",
      "source": [
        "dataset[\"train\"][0][\"tokens\"]"
      ],
      "metadata": {
        "id": "NPl-78tJZNIV",
        "colab": {
          "base_uri": "https://localhost:8080/"
        },
        "outputId": "4b731e56-4f4d-49bd-cc50-350c584deaf3"
      },
      "execution_count": null,
      "outputs": [
        {
          "output_type": "execute_result",
          "data": {
            "text/plain": [
              "['EU', 'rejects', 'German', 'call', 'to', 'boycott', 'British', 'lamb', '.']"
            ]
          },
          "metadata": {},
          "execution_count": 77
        }
      ]
    },
    {
      "cell_type": "markdown",
      "source": [
        "This is how a named entity recognition tag looks like:"
      ],
      "metadata": {
        "id": "BqLl8J2UZP46"
      }
    },
    {
      "cell_type": "code",
      "source": [
        "dataset[\"train\"][0][\"ner_tags\"]"
      ],
      "metadata": {
        "id": "SMlH_cDuZSj3",
        "colab": {
          "base_uri": "https://localhost:8080/"
        },
        "outputId": "9955a318-a4e0-43c2-bee4-e05d0efa14a9"
      },
      "execution_count": null,
      "outputs": [
        {
          "output_type": "execute_result",
          "data": {
            "text/plain": [
              "[3, 0, 7, 0, 0, 0, 7, 0, 0]"
            ]
          },
          "metadata": {},
          "execution_count": 78
        }
      ]
    },
    {
      "cell_type": "markdown",
      "source": [
        "These named entity recognition tags are integers that can be converted with a function back to ones that do have meaning. Let's try it:"
      ],
      "metadata": {
        "id": "BpFvZrMIZXOg"
      }
    },
    {
      "cell_type": "code",
      "source": [
        "ner_features = dataset[\"train\"].features[\"ner_tags\"].feature.names\n",
        "print(ner_features)"
      ],
      "metadata": {
        "id": "xyFiWarTZiyn",
        "colab": {
          "base_uri": "https://localhost:8080/"
        },
        "outputId": "8769685e-ed1b-4a53-c02a-6f9092a3e2ac"
      },
      "execution_count": null,
      "outputs": [
        {
          "output_type": "stream",
          "name": "stdout",
          "text": [
            "['O', 'B-PER', 'I-PER', 'B-ORG', 'I-ORG', 'B-LOC', 'I-LOC', 'B-MISC', 'I-MISC']\n"
          ]
        }
      ]
    },
    {
      "cell_type": "markdown",
      "source": [
        "So converting above pos tags means we just have to do this:"
      ],
      "metadata": {
        "id": "36e38bEiZpOF"
      }
    },
    {
      "cell_type": "code",
      "source": [
        "words = dataset[\"train\"][0][\"tokens\"]\n",
        "labels = dataset[\"train\"][0][\"ner_tags\"]\n",
        "line1 = \"\"\n",
        "line2 = \"\"\n",
        "for word, label in zip(words, labels):\n",
        "    full_label = ner_features[label]\n",
        "    max_length = max(len(word), len(full_label))\n",
        "    line1 += word + \" \" * (max_length - len(word) + 1)\n",
        "    line2 += full_label + \" \" * (max_length - len(full_label) + 1)\n",
        "\n",
        "print(line1)\n",
        "print(line2)"
      ],
      "metadata": {
        "id": "N2cw0jfcZr-L",
        "colab": {
          "base_uri": "https://localhost:8080/"
        },
        "outputId": "62afe1fd-b346-4cb6-e342-4b4b758b305c"
      },
      "execution_count": null,
      "outputs": [
        {
          "output_type": "stream",
          "name": "stdout",
          "text": [
            "EU    rejects German call to boycott British lamb . \n",
            "B-ORG O       B-MISC O    O  O       B-MISC  O    O \n"
          ]
        }
      ]
    },
    {
      "cell_type": "markdown",
      "source": [
        "Now lets use our tokenizer. We need whole words to perform classification. As we know, a transformers tokenizer splits its content into subwords or bytes. We can solve this with using `tokenizer` as usual and just add `is_split_into_words=True`. For example:\n"
      ],
      "metadata": {
        "id": "bWoWU0JJdZAL"
      }
    },
    {
      "cell_type": "code",
      "source": [
        "inputs = tokenizer(dataset[\"train\"][0][\"tokens\"], is_split_into_words=True)\n",
        "inputs.tokens()"
      ],
      "metadata": {
        "id": "WMDR7Fcre0_k",
        "colab": {
          "base_uri": "https://localhost:8080/"
        },
        "outputId": "bdb6bd51-6f2a-477f-d8bd-8470a5ecee17"
      },
      "execution_count": null,
      "outputs": [
        {
          "output_type": "execute_result",
          "data": {
            "text/plain": [
              "['[CLS]',\n",
              " 'eu',\n",
              " 'rejects',\n",
              " 'german',\n",
              " 'call',\n",
              " 'to',\n",
              " 'boycott',\n",
              " 'british',\n",
              " 'lamb',\n",
              " '.',\n",
              " '[SEP]']"
            ]
          },
          "metadata": {},
          "execution_count": 81
        }
      ]
    },
    {
      "cell_type": "markdown",
      "source": [
        "However, we immediately see a problem. As we can see, the tokenizer added the special tokens used by the model (`[CLS]` at the beginning and `[SEP]` at the end) and left most of the words untouched. The word lamb, however, was tokenized into two subwords, la and ##mb. This introduces a mismatch between our inputs and the labels: the list of labels has only 9 elements, whereas our input now has 11 tokens. Accounting for the special tokens is easy (we know they are at the beginning and the end), but we also need to make sure we align all the labels with the proper words.\n",
        "\n"
      ],
      "metadata": {
        "id": "27bd4_uhfYRE"
      }
    },
    {
      "cell_type": "code",
      "source": [
        "inputs.word_ids()"
      ],
      "metadata": {
        "id": "bs96TzPYfWUQ",
        "colab": {
          "base_uri": "https://localhost:8080/"
        },
        "outputId": "7fedbee4-9a78-44fb-870a-56f319497a02"
      },
      "execution_count": null,
      "outputs": [
        {
          "output_type": "execute_result",
          "data": {
            "text/plain": [
              "[None, 0, 1, 2, 3, 4, 5, 6, 7, 8, None]"
            ]
          },
          "metadata": {},
          "execution_count": 82
        }
      ]
    },
    {
      "cell_type": "markdown",
      "source": [
        "For the labels, we have the problem that the `CLS` token and `SEP` token are not really pos tags, and since the word ids are splitted up, we need to create a function that can map parts of words to tokens. We remove the two tokens and parts of subwords by changing them in the align function to `-100`:"
      ],
      "metadata": {
        "id": "do2ph-K71tGw"
      }
    },
    {
      "cell_type": "code",
      "source": [
        "def align_labels_with_tokens(labels, word_ids):\n",
        "    new_labels = []\n",
        "    current_word = None\n",
        "    for word_id in word_ids:\n",
        "        if word_id != current_word:\n",
        "            current_word = word_id\n",
        "            label = -100 if word_id is None else labels[word_id]\n",
        "            new_labels.append(label)\n",
        "        else:\n",
        "            new_labels.append(-100)\n",
        "\n",
        "    return new_labels"
      ],
      "metadata": {
        "id": "BrSRZt_A2BWe"
      },
      "execution_count": null,
      "outputs": []
    },
    {
      "cell_type": "code",
      "source": [
        "labels = dataset[\"train\"][0][\"ner_tags\"]\n",
        "word_ids = inputs.word_ids()\n",
        "print(labels)\n",
        "print(align_labels_with_tokens(labels, word_ids))"
      ],
      "metadata": {
        "id": "xMNKmfOT2mHv",
        "colab": {
          "base_uri": "https://localhost:8080/"
        },
        "outputId": "09e1214c-e5d1-4ea8-bab3-a1cd9df3f8cb"
      },
      "execution_count": null,
      "outputs": [
        {
          "output_type": "stream",
          "name": "stdout",
          "text": [
            "[3, 0, 7, 0, 0, 0, 7, 0, 0]\n",
            "[-100, 3, 0, 7, 0, 0, 0, 7, 0, 0, -100]\n"
          ]
        }
      ]
    },
    {
      "cell_type": "markdown",
      "source": [
        "To preprocess our whole dataset, we need to tokenize all the inputs and apply `align_labels_with_tokens()` on all the labels. To take advantage of the speed of our fast tokenizer, it’s best to tokenize lots of texts at the same time, so we’ll write a function that processes a list of examples and use the `Dataset.map()` method with the option `batched=True`. The only thing that is different from our previous example is that the `word_ids()` function needs to get the index of the example we want the word IDs of when the inputs to the tokenizer are lists of texts (or in our case, list of lists of words), so we add that too:"
      ],
      "metadata": {
        "id": "J0E5xmmM4tV9"
      }
    },
    {
      "cell_type": "code",
      "source": [
        "def align_labels(examples):\n",
        "    tokenized_inputs = tokenizer(examples[\"tokens\"], truncation=True, is_split_into_words=True)\n",
        "    new_labels = []\n",
        "    for i, labels in enumerate(examples[\"ner_tags\"]):\n",
        "        word_ids = tokenized_inputs.word_ids(i)\n",
        "        new_labels.append(align_labels_with_tokens(labels, word_ids))\n",
        "    tokenized_inputs[\"labels\"] = new_labels\n",
        "    return tokenized_inputs"
      ],
      "metadata": {
        "id": "vCYleGBF4uu7"
      },
      "execution_count": null,
      "outputs": []
    },
    {
      "cell_type": "markdown",
      "source": [
        "Note that we haven’t padded our inputs yet; we’ll do that later, when creating the batches with a data collator.\n",
        "\n",
        "We can now apply all that preprocessing in one go on the other splits of our dataset:\n",
        "\n",
        "Please note that the loading function does not fully load to 100%, and the loading bar shows a red color! This is due to a bug in the [datasets](https://github.com/huggingface/datasets/issues/5117) library."
      ],
      "metadata": {
        "id": "rkP1UF_s4y9G"
      }
    },
    {
      "cell_type": "code",
      "source": [
        "tokenized_datasets = dataset.map(align_labels, batched=True, remove_columns=dataset[\"train\"].column_names)"
      ],
      "metadata": {
        "id": "-6wOBUUh40X8",
        "colab": {
          "base_uri": "https://localhost:8080/",
          "height": 17,
          "referenced_widgets": [
            "6313a99741ba40e5b252e628beba1ca2",
            "49892885b1004dc99794e495a6ddfde6",
            "189a16f732b043cfa4994d0044e6edb4",
            "9b611d4856b24488aabb704d86ef5ff2",
            "94d530599f4f4b62867094d9022d8508",
            "fa42f5195bff452288b223452684cb80",
            "591c57776d834d22a4b43f0bde22b08a",
            "4fdf0b4d613245b484c0fb836a5c05cd",
            "1c76425a694646b3a1fba30e6e58f049",
            "ddadbb7cd92f47c3bd7011dda5e56181",
            "e6d577bf372e488fa7dd770e15cf0f20",
            "4116f674eedc43ee8d863b540c3cecf9",
            "c3b14fa52d3b4ec1a970b251a60accc5",
            "e4eb884a75324082bd79668b09f409d4",
            "9d5635dbd06242b6a1ad1d3b41aa3400",
            "85b7de25650a47749b1ebfce0e6a67ff",
            "1c6d5441e0d5495a8ce828869c8c33fc",
            "e47604f037e14e0cbe6e1fcf57b1b6a5",
            "537917a112ff402a95c0110ec62f47e0",
            "4d707909591d44bcb8b0d5b5b5dc0b14",
            "89326de101254097a0b5e6cc1d126e24",
            "eb3534b491ca4fb9a71032a020d0829c",
            "e289eff417e84d1e90d1348658911db6",
            "fa150777fbb540fa860a550242d5c31b",
            "3b6eabe4a3954183bc65c7d69c75d35e",
            "fb25b0cbce5a4be6bda8d8bc733dc467",
            "430a1f2dc17445eeb5d6795a1f112423",
            "dc313201c9c042a6a9bb30783d75c10f",
            "f046ca19b0344fe9ba6c39befb8dbc52",
            "07e3be06df784893b6d9ace7f4c02786",
            "e5eeaa82d23b402a967f71c635153ba7",
            "f5c05ee710574d1ea8fb68b11ae54eaa",
            "4da30b5652be4bd39276d4c9c7d04a29"
          ]
        },
        "outputId": "0b40f48c-3038-415f-aab2-cbe97912f9e3"
      },
      "execution_count": null,
      "outputs": [
        {
          "output_type": "display_data",
          "data": {
            "text/plain": [
              "Map:   0%|          | 0/14041 [00:00<?, ? examples/s]"
            ],
            "application/vnd.jupyter.widget-view+json": {
              "version_major": 2,
              "version_minor": 0,
              "model_id": "6313a99741ba40e5b252e628beba1ca2"
            }
          },
          "metadata": {}
        },
        {
          "output_type": "display_data",
          "data": {
            "text/plain": [
              "Map:   0%|          | 0/3250 [00:00<?, ? examples/s]"
            ],
            "application/vnd.jupyter.widget-view+json": {
              "version_major": 2,
              "version_minor": 0,
              "model_id": "4116f674eedc43ee8d863b540c3cecf9"
            }
          },
          "metadata": {}
        },
        {
          "output_type": "display_data",
          "data": {
            "text/plain": [
              "Map:   0%|          | 0/3453 [00:00<?, ? examples/s]"
            ],
            "application/vnd.jupyter.widget-view+json": {
              "version_major": 2,
              "version_minor": 0,
              "model_id": "e289eff417e84d1e90d1348658911db6"
            }
          },
          "metadata": {}
        }
      ]
    },
    {
      "cell_type": "markdown",
      "source": [
        "## Fine-tuning the model:"
      ],
      "metadata": {
        "id": "585lEPiy_qm4"
      }
    },
    {
      "cell_type": "markdown",
      "source": [
        "The actual code using the Trainer will be the same as before; the only changes are the way the data is collated into a batch and the metric computation function.\n",
        "\n",
        "With the data collator, our labels should be padded the exact same way as the inputs so that they stay the same size, using -100 as a value so that the corresponding predictions are ignored in the loss computation."
      ],
      "metadata": {
        "id": "R_zlIE-2AJHw"
      }
    },
    {
      "cell_type": "code",
      "source": [
        "from transformers import DataCollatorForTokenClassification\n",
        "data_collator = DataCollatorForTokenClassification(tokenizer=tokenizer)\n",
        "batch = data_collator([tokenized_datasets[\"train\"][i] for i in range(2)])\n",
        "print(\"Padded:\")\n",
        "print(batch[\"labels\"])\n",
        "print(\"Not padded:\")\n",
        "for i in range(2):\n",
        "    print(tokenized_datasets[\"train\"][i][\"labels\"])"
      ],
      "metadata": {
        "id": "HDp8FTwS_dqs",
        "colab": {
          "base_uri": "https://localhost:8080/"
        },
        "outputId": "dee7ec7c-57f3-421d-e55f-101da05e5b7a"
      },
      "execution_count": null,
      "outputs": [
        {
          "output_type": "stream",
          "name": "stderr",
          "text": [
            "You're using a BertTokenizerFast tokenizer. Please note that with a fast tokenizer, using the `__call__` method is faster than using a method to encode the text followed by a call to the `pad` method to get a padded encoding.\n"
          ]
        },
        {
          "output_type": "stream",
          "name": "stdout",
          "text": [
            "Padded:\n",
            "tensor([[-100,    3,    0,    7,    0,    0,    0,    7,    0,    0, -100],\n",
            "        [-100,    1,    2, -100, -100, -100, -100, -100, -100, -100, -100]])\n",
            "Not padded:\n",
            "[-100, 3, 0, 7, 0, 0, 0, 7, 0, 0, -100]\n",
            "[-100, 1, 2, -100]\n"
          ]
        }
      ]
    },
    {
      "cell_type": "markdown",
      "source": [
        "To have the `Trainer` compute a metric every epoch, we will need to define a `compute_metrics()` function that takes the arrays of predictions and labels, and returns a dictionary with the metric names and values.\n",
        "\n",
        "The traditional framework used to evaluate token classification prediction is [seqeval](https://github.com/chakki-works/seqeval). To use this metric, we first need to install the *seqeval* and the *evaluate* libraries and then load it in:"
      ],
      "metadata": {
        "id": "ScXYHsiKA5kY"
      }
    },
    {
      "cell_type": "code",
      "source": [
        "!pip install -qq seqeval evaluate\n",
        "import evaluate\n",
        "metric = evaluate.load(\"seqeval\")"
      ],
      "metadata": {
        "id": "gc6YNptoAlGm",
        "colab": {
          "base_uri": "https://localhost:8080/",
          "height": 117,
          "referenced_widgets": [
            "27881bd8575c4bf0991a4e2278c5ac04",
            "3fbccfbeaa744674b672bce49418c94b",
            "5dde6f0ecc024f3aaf0a949a81031fd5",
            "398f976c0e594f0f9761a13beebd6904",
            "82aac79b2d084553927172bae3637fe4",
            "97f475b8c89749f0ad21e76e9e353eff",
            "bb95536df2c6400f9a9bb270b03d453b",
            "45889e14887340fbb686a2dd6e58455e",
            "feffe59e0dfc4a09889c27aa03ca0f2b",
            "819c90d123cb4d0cb1ed8642b53493e9",
            "5749601f1ed04f3cb9b24afaf85e17ad"
          ]
        },
        "outputId": "cc7cfae2-544f-4984-90b4-c5287ab111b5"
      },
      "execution_count": null,
      "outputs": [
        {
          "output_type": "stream",
          "name": "stdout",
          "text": [
            "\u001b[?25l     \u001b[90m━━━━━━━━━━━━━━━━━━━━━━━━━━━━━━━━━━━━━━━━\u001b[0m \u001b[32m0.0/43.6 kB\u001b[0m \u001b[31m?\u001b[0m eta \u001b[36m-:--:--\u001b[0m\r\u001b[2K     \u001b[90m━━━━━━━━━━━━━━━━━━━━━━━━━━━━━━━━━━━━━━━━\u001b[0m \u001b[32m43.6/43.6 kB\u001b[0m \u001b[31m3.8 MB/s\u001b[0m eta \u001b[36m0:00:00\u001b[0m\n",
            "\u001b[?25h  Preparing metadata (setup.py) ... \u001b[?25l\u001b[?25hdone\n",
            "\u001b[2K     \u001b[90m━━━━━━━━━━━━━━━━━━━━━━━━━━━━━━━━━━━━━━━━\u001b[0m \u001b[32m81.4/81.4 kB\u001b[0m \u001b[31m9.4 MB/s\u001b[0m eta \u001b[36m0:00:00\u001b[0m\n",
            "\u001b[?25h  Building wheel for seqeval (setup.py) ... \u001b[?25l\u001b[?25hdone\n"
          ]
        },
        {
          "output_type": "display_data",
          "data": {
            "text/plain": [
              "Downloading builder script:   0%|          | 0.00/6.34k [00:00<?, ?B/s]"
            ],
            "application/vnd.jupyter.widget-view+json": {
              "version_major": 2,
              "version_minor": 0,
              "model_id": "27881bd8575c4bf0991a4e2278c5ac04"
            }
          },
          "metadata": {}
        }
      ]
    },
    {
      "cell_type": "markdown",
      "source": [
        "This metric does not behave like the standard accuracy: it will actually take the lists of labels as strings, not integers, so we will need to fully decode the predictions and labels before passing them to the metric. Let’s see how it works. First, we’ll get the labels for our first training example:"
      ],
      "metadata": {
        "id": "KpBNIFA_BggJ"
      }
    },
    {
      "cell_type": "code",
      "source": [
        "labels = dataset[\"train\"][0][\"ner_tags\"]\n",
        "labels = [ner_features[i] for i in labels]\n",
        "predictions = labels.copy()\n",
        "predictions[2] = \"O\"\n",
        "metric.compute(predictions=[predictions], references=[labels])\n"
      ],
      "metadata": {
        "id": "aVu2TdhTBjbz",
        "colab": {
          "base_uri": "https://localhost:8080/"
        },
        "outputId": "962b0190-8ae4-4521-9b0b-21cb9afc1a6f"
      },
      "execution_count": null,
      "outputs": [
        {
          "output_type": "execute_result",
          "data": {
            "text/plain": [
              "{'MISC': {'precision': 1.0,\n",
              "  'recall': 0.5,\n",
              "  'f1': 0.6666666666666666,\n",
              "  'number': 2},\n",
              " 'ORG': {'precision': 1.0, 'recall': 1.0, 'f1': 1.0, 'number': 1},\n",
              " 'overall_precision': 1.0,\n",
              " 'overall_recall': 0.6666666666666666,\n",
              " 'overall_f1': 0.8,\n",
              " 'overall_accuracy': 0.8888888888888888}"
            ]
          },
          "metadata": {},
          "execution_count": 89
        }
      ]
    },
    {
      "cell_type": "markdown",
      "source": [
        "Lets now define a `compute_metrics()` function:"
      ],
      "metadata": {
        "id": "gjBVicfSNngc"
      }
    },
    {
      "cell_type": "code",
      "source": [
        "def compute_metrics(eval_preds):\n",
        "    logits, labels = eval_preds\n",
        "    predictions = np.argmax(logits, axis=-1)\n",
        "\n",
        "    # Remove ignored index (special tokens) and convert to labels\n",
        "    true_labels = [[ner_features[l] for l in label if l != -100] for label in labels]\n",
        "    true_predictions = [\n",
        "        [ner_features[p] for (p, l) in zip(prediction, label) if l != -100]\n",
        "        for prediction, label in zip(predictions, labels)\n",
        "    ]\n",
        "    all_metrics = metric.compute(predictions=true_predictions, references=true_labels)\n",
        "    return {\n",
        "        \"precision\": all_metrics[\"overall_precision\"],\n",
        "        \"recall\": all_metrics[\"overall_recall\"],\n",
        "        \"f1\": all_metrics[\"overall_f1\"],\n",
        "        \"accuracy\": all_metrics[\"overall_accuracy\"],\n",
        "    }"
      ],
      "metadata": {
        "id": "kAswlNExKTq8"
      },
      "execution_count": null,
      "outputs": []
    },
    {
      "cell_type": "markdown",
      "source": [
        "Since we are working on a token classification problem, we will use the `AutoModelForTokenClassification` class. The main thing to remember when defining this model is to pass along some information on the number of labels we have. The easiest way to do this is to pass that number with the num_labels argument, but if we want a nice inference widget working like the one we saw at the beginning of this section, it’s better to set the correct label correspondences instead.\n",
        "\n",
        "They should be set by two dictionaries, `id2label` and `label2id`, which contain the mappings from ID to label and vice versa:"
      ],
      "metadata": {
        "id": "I8lYwZqkNymm"
      }
    },
    {
      "cell_type": "code",
      "source": [
        "from transformers import AutoModelForTokenClassification\n",
        "id2label = {i: label for i, label in enumerate(ner_features)}\n",
        "label2id = {v: k for k, v in id2label.items()}\n",
        "model = AutoModelForTokenClassification.from_pretrained(\n",
        "    \"bert-base-uncased\",\n",
        "    id2label=id2label,\n",
        "    label2id=label2id,\n",
        ")"
      ],
      "metadata": {
        "id": "JoQ3zkRjN4-E",
        "colab": {
          "base_uri": "https://localhost:8080/"
        },
        "outputId": "33dc1920-e999-48f0-e9e5-9c5de42816c6"
      },
      "execution_count": null,
      "outputs": [
        {
          "output_type": "stream",
          "name": "stderr",
          "text": [
            "Some weights of the model checkpoint at bert-base-uncased were not used when initializing BertForTokenClassification: ['cls.seq_relationship.bias', 'cls.predictions.transform.LayerNorm.weight', 'cls.predictions.transform.LayerNorm.bias', 'cls.predictions.bias', 'cls.predictions.transform.dense.bias', 'cls.predictions.decoder.weight', 'cls.seq_relationship.weight', 'cls.predictions.transform.dense.weight']\n",
            "- This IS expected if you are initializing BertForTokenClassification from the checkpoint of a model trained on another task or with another architecture (e.g. initializing a BertForSequenceClassification model from a BertForPreTraining model).\n",
            "- This IS NOT expected if you are initializing BertForTokenClassification from the checkpoint of a model that you expect to be exactly identical (initializing a BertForSequenceClassification model from a BertForSequenceClassification model).\n",
            "Some weights of BertForTokenClassification were not initialized from the model checkpoint at bert-base-uncased and are newly initialized: ['classifier.bias', 'classifier.weight']\n",
            "You should probably TRAIN this model on a down-stream task to be able to use it for predictions and inference.\n"
          ]
        }
      ]
    },
    {
      "cell_type": "markdown",
      "source": [
        "Lets run the model! Make sure you are on your GPU, otherwise it will take ages again."
      ],
      "metadata": {
        "id": "9qD_zj0VRSl2"
      }
    },
    {
      "cell_type": "code",
      "source": [
        "from transformers import TrainingArguments, Trainer\n",
        "\n",
        "args = TrainingArguments(\n",
        "    output_dir='./results',\n",
        "    num_train_epochs=2,\n",
        "    per_device_train_batch_size=16,\n",
        "    per_device_eval_batch_size=16,\n",
        "    weight_decay=0.01\n",
        ")\n",
        "\n",
        "trainer = Trainer(\n",
        "    model=model,\n",
        "    args=args,\n",
        "    train_dataset=tokenized_datasets[\"train\"],\n",
        "    eval_dataset=tokenized_datasets[\"validation\"],\n",
        "    data_collator=data_collator,\n",
        "    compute_metrics=compute_metrics,\n",
        "    tokenizer=tokenizer,\n",
        ")\n",
        "trainer.train()\n"
      ],
      "metadata": {
        "id": "frktK1AJOJ0D",
        "colab": {
          "base_uri": "https://localhost:8080/",
          "height": 273
        },
        "outputId": "08cd956a-270a-4a5d-cf2f-237e2e8e7a6d"
      },
      "execution_count": null,
      "outputs": [
        {
          "output_type": "stream",
          "name": "stderr",
          "text": [
            "/usr/local/lib/python3.10/dist-packages/transformers/optimization.py:391: FutureWarning: This implementation of AdamW is deprecated and will be removed in a future version. Use the PyTorch implementation torch.optim.AdamW instead, or set `no_deprecation_warning=True` to disable this warning\n",
            "  warnings.warn(\n"
          ]
        },
        {
          "output_type": "display_data",
          "data": {
            "text/plain": [
              "<IPython.core.display.HTML object>"
            ],
            "text/html": [
              "\n",
              "    <div>\n",
              "      \n",
              "      <progress value='1756' max='1756' style='width:300px; height:20px; vertical-align: middle;'></progress>\n",
              "      [1756/1756 05:08, Epoch 2/2]\n",
              "    </div>\n",
              "    <table border=\"1\" class=\"dataframe\">\n",
              "  <thead>\n",
              " <tr style=\"text-align: left;\">\n",
              "      <th>Step</th>\n",
              "      <th>Training Loss</th>\n",
              "    </tr>\n",
              "  </thead>\n",
              "  <tbody>\n",
              "    <tr>\n",
              "      <td>500</td>\n",
              "      <td>0.124700</td>\n",
              "    </tr>\n",
              "    <tr>\n",
              "      <td>1000</td>\n",
              "      <td>0.052400</td>\n",
              "    </tr>\n",
              "    <tr>\n",
              "      <td>1500</td>\n",
              "      <td>0.027200</td>\n",
              "    </tr>\n",
              "  </tbody>\n",
              "</table><p>"
            ]
          },
          "metadata": {}
        },
        {
          "output_type": "execute_result",
          "data": {
            "text/plain": [
              "TrainOutput(global_step=1756, training_loss=0.061367702375511916, metrics={'train_runtime': 308.8572, 'train_samples_per_second': 90.922, 'train_steps_per_second': 5.685, 'total_flos': 680334773290578.0, 'train_loss': 0.061367702375511916, 'epoch': 2.0})"
            ]
          },
          "metadata": {},
          "execution_count": 92
        }
      ]
    },
    {
      "cell_type": "code",
      "source": [
        "trainer.evaluate()"
      ],
      "metadata": {
        "id": "jAPpdDrrmABj",
        "colab": {
          "base_uri": "https://localhost:8080/",
          "height": 190
        },
        "outputId": "eb972be2-519a-47e0-985a-6f79400ecf15"
      },
      "execution_count": null,
      "outputs": [
        {
          "output_type": "display_data",
          "data": {
            "text/plain": [
              "<IPython.core.display.HTML object>"
            ],
            "text/html": [
              "\n",
              "    <div>\n",
              "      \n",
              "      <progress value='204' max='204' style='width:300px; height:20px; vertical-align: middle;'></progress>\n",
              "      [204/204 00:08]\n",
              "    </div>\n",
              "    "
            ]
          },
          "metadata": {}
        },
        {
          "output_type": "execute_result",
          "data": {
            "text/plain": [
              "{'eval_loss': 0.04362408071756363,\n",
              " 'eval_precision': 0.9423429428428596,\n",
              " 'eval_recall': 0.9516997643890945,\n",
              " 'eval_f1': 0.9469982416478272,\n",
              " 'eval_accuracy': 0.9893695728359487,\n",
              " 'eval_runtime': 10.1453,\n",
              " 'eval_samples_per_second': 320.344,\n",
              " 'eval_steps_per_second': 20.108,\n",
              " 'epoch': 2.0}"
            ]
          },
          "metadata": {},
          "execution_count": 93
        }
      ]
    },
    {
      "cell_type": "markdown",
      "source": [
        "### Exercise 4\n",
        "Now instead of named entity recognition, try finetuning a `bert-base-uncased` model on **part of speech (POS)** tagging. Use the code above, or base your model from the original source of this section from [chapter 7.2 of the HuggingFace Course](https://huggingface.co/course/chapter7/2). You should still use the same dataset, this time instead of the `ner_tags` you use the `pos_tags`. Evaluate also with the `seqeval` library like showed above. You will get errors like `UserWarning: ... seems not to be ...`, you should ignore these. Ignoring these totally you can do with something like:\n",
        "```python\n",
        "import warnings\n",
        "warnings.filterwarnings('ignore')\n",
        "```\n",
        "Train the model for 2 epochs and report the following metrics from the `seqeval` within the `compute_metrics` function on the validation set: `eval_precision`, `eval_recall` `eval_f1` and `eval_accuracy` (like above)."
      ],
      "metadata": {
        "id": "ddAaOVq6Oq-C"
      }
    },
    {
      "cell_type": "code",
      "source": [
        "import torch\n",
        "import numpy as np\n",
        "import evaluate\n",
        "from transformers import BertForTokenClassification, BertTokenizerFast, TrainingArguments, Trainer, DataCollatorForTokenClassification\n",
        "from datasets import load_dataset\n",
        "\n",
        "# Load the dataset\n",
        "dataset = load_dataset(\"conll2003\")\n",
        "\n",
        "# Define the label mappings\n",
        "pos_labels = dataset['train'].features['pos_tags'].feature.names\n",
        "id2label = {i: label for i, label in enumerate(pos_labels)}\n",
        "label2id = {label: i for i, label in enumerate(pos_labels)}\n",
        "\n",
        "# Load the tokenizer\n",
        "tokenizer = BertTokenizerFast.from_pretrained('bert-base-uncased')\n",
        "\n",
        "# Tokenize and align labels with tokens\n",
        "def preprocess_data(example):\n",
        "    tokenized_input = tokenizer(example['tokens'], truncation=True, is_split_into_words=True)\n",
        "    word_ids = tokenized_input.word_ids()\n",
        "    labels = example['pos_tags']\n",
        "    aligned_labels = align_labels_with_tokens(labels, word_ids)\n",
        "    tokenized_input['labels'] = aligned_labels\n",
        "    return tokenized_input\n",
        "\n",
        "def align_labels_with_tokens(labels, word_ids):\n",
        "    new_labels = []\n",
        "    current_word = None\n",
        "    for word_id in word_ids:\n",
        "        if word_id != current_word:\n",
        "            current_word = word_id\n",
        "            label = -100 if word_id is None else labels[word_id]\n",
        "            new_labels.append(label)\n",
        "        else:\n",
        "            new_labels.append(-100)\n",
        "    return new_labels\n",
        "\n",
        "tokenized_datasets = dataset.map(preprocess_data, batched=True, remove_columns=dataset['train'].column_names)\n",
        "\n",
        "# Define the model architecture\n",
        "model = BertForTokenClassification.from_pretrained('bert-base-uncased', num_labels=len(pos_labels), id2label=id2label, label2id=label2id)\n",
        "\n",
        "# Define the data collator\n",
        "data_collator = DataCollatorForTokenClassification(tokenizer=tokenizer)\n",
        "\n",
        "# Define the compute metrics function\n",
        "metric = evaluate.load(\"seqeval\")\n",
        "\n",
        "def compute_metrics(eval_preds):\n",
        "    logits, labels = eval_preds\n",
        "    predictions = np.argmax(logits, axis=-1)\n",
        "\n",
        "    true_labels = [[pos_labels[l] for l in label if l != -100] for label in labels]\n",
        "    true_predictions = [[pos_labels[p] for (p, l) in zip(prediction, label) if l != -100] for prediction, label in zip(predictions, labels)]\n",
        "\n",
        "    all_metrics = metric.compute(predictions=true_predictions, references=true_labels)\n",
        "    return {\n",
        "        \"eval_precision\": all_metrics[\"overall_precision\"],\n",
        "        \"eval_recall\": all_metrics[\"overall_recall\"],\n",
        "        \"eval_f1\": all_metrics[\"overall_f1\"],\n",
        "        \"eval_accuracy\": all_metrics[\"overall_accuracy\"],\n",
        "    }\n",
        "\n",
        "# Define the training arguments\n",
        "training_args = TrainingArguments(\n",
        "    output_dir='./results',\n",
        "    num_train_epochs=2,\n",
        "    per_device_train_batch_size=16,\n",
        "    per_device_eval_batch_size=16,\n",
        "    weight_decay=0.01,\n",
        ")\n",
        "\n",
        "# Create the Trainer\n",
        "trainer = Trainer(\n",
        "    model=model,\n",
        "    args=training_args,\n",
        "    train_dataset=tokenized_datasets['train'],\n",
        "    eval_dataset=tokenized_datasets['validation'],\n",
        "    data_collator=data_collator,\n",
        "    compute_metrics=compute_metrics,\n",
        ")\n",
        "\n",
        "# Train the model\n",
        "trainer.train()\n",
        "\n",
        "# Evaluate the model\n",
        "eval_results = trainer.evaluate()\n",
        "\n",
        "# Print the evaluation results\n",
        "for key, value in eval_results.items():\n",
        "    print(f\"{key}: {value}\")"
      ],
      "metadata": {
        "id": "tWMRaAfpMgbQ"
      },
      "execution_count": null,
      "outputs": []
    }
  ],
  "metadata": {
    "colab": {
      "toc_visible": true,
      "provenance": [],
      "gpuType": "T4",
      "include_colab_link": true
    },
    "kernelspec": {
      "display_name": "Python 3",
      "name": "python3"
    },
    "language_info": {
      "name": "python"
    },
    "accelerator": "GPU",
    "gpuClass": "standard",
    "widgets": {
      "application/vnd.jupyter.widget-state+json": {
        "b7af5cd7dd1745e9bedaab7ece8d06b4": {
          "model_module": "@jupyter-widgets/controls",
          "model_name": "HBoxModel",
          "model_module_version": "1.5.0",
          "state": {
            "_dom_classes": [],
            "_model_module": "@jupyter-widgets/controls",
            "_model_module_version": "1.5.0",
            "_model_name": "HBoxModel",
            "_view_count": null,
            "_view_module": "@jupyter-widgets/controls",
            "_view_module_version": "1.5.0",
            "_view_name": "HBoxView",
            "box_style": "",
            "children": [
              "IPY_MODEL_88b66cc8c0e5425bb5e08a5907f81a1b",
              "IPY_MODEL_1135666858fd4888888cb2b41bc8d434",
              "IPY_MODEL_6dca46fd369c4e9eac0875d171c2753a"
            ],
            "layout": "IPY_MODEL_2d3a0bec218643f3a87041cfb23d3e67"
          }
        },
        "88b66cc8c0e5425bb5e08a5907f81a1b": {
          "model_module": "@jupyter-widgets/controls",
          "model_name": "HTMLModel",
          "model_module_version": "1.5.0",
          "state": {
            "_dom_classes": [],
            "_model_module": "@jupyter-widgets/controls",
            "_model_module_version": "1.5.0",
            "_model_name": "HTMLModel",
            "_view_count": null,
            "_view_module": "@jupyter-widgets/controls",
            "_view_module_version": "1.5.0",
            "_view_name": "HTMLView",
            "description": "",
            "description_tooltip": null,
            "layout": "IPY_MODEL_24facc5a2ee94610b63fb1d937d70d75",
            "placeholder": "​",
            "style": "IPY_MODEL_e1cfcd0703ae469287080122e15c3677",
            "value": "Downloading (…)solve/main/vocab.txt: 100%"
          }
        },
        "1135666858fd4888888cb2b41bc8d434": {
          "model_module": "@jupyter-widgets/controls",
          "model_name": "FloatProgressModel",
          "model_module_version": "1.5.0",
          "state": {
            "_dom_classes": [],
            "_model_module": "@jupyter-widgets/controls",
            "_model_module_version": "1.5.0",
            "_model_name": "FloatProgressModel",
            "_view_count": null,
            "_view_module": "@jupyter-widgets/controls",
            "_view_module_version": "1.5.0",
            "_view_name": "ProgressView",
            "bar_style": "success",
            "description": "",
            "description_tooltip": null,
            "layout": "IPY_MODEL_6177f1aa1c0944768e21dce9ae211f79",
            "max": 231508,
            "min": 0,
            "orientation": "horizontal",
            "style": "IPY_MODEL_b8d1520d90e34115a7f9cce980260f99",
            "value": 231508
          }
        },
        "6dca46fd369c4e9eac0875d171c2753a": {
          "model_module": "@jupyter-widgets/controls",
          "model_name": "HTMLModel",
          "model_module_version": "1.5.0",
          "state": {
            "_dom_classes": [],
            "_model_module": "@jupyter-widgets/controls",
            "_model_module_version": "1.5.0",
            "_model_name": "HTMLModel",
            "_view_count": null,
            "_view_module": "@jupyter-widgets/controls",
            "_view_module_version": "1.5.0",
            "_view_name": "HTMLView",
            "description": "",
            "description_tooltip": null,
            "layout": "IPY_MODEL_00065ce715a744eaaf3af7814cab77e8",
            "placeholder": "​",
            "style": "IPY_MODEL_047c2cab0f434ca09c3586ab697f22de",
            "value": " 232k/232k [00:00&lt;00:00, 7.31MB/s]"
          }
        },
        "2d3a0bec218643f3a87041cfb23d3e67": {
          "model_module": "@jupyter-widgets/base",
          "model_name": "LayoutModel",
          "model_module_version": "1.2.0",
          "state": {
            "_model_module": "@jupyter-widgets/base",
            "_model_module_version": "1.2.0",
            "_model_name": "LayoutModel",
            "_view_count": null,
            "_view_module": "@jupyter-widgets/base",
            "_view_module_version": "1.2.0",
            "_view_name": "LayoutView",
            "align_content": null,
            "align_items": null,
            "align_self": null,
            "border": null,
            "bottom": null,
            "display": null,
            "flex": null,
            "flex_flow": null,
            "grid_area": null,
            "grid_auto_columns": null,
            "grid_auto_flow": null,
            "grid_auto_rows": null,
            "grid_column": null,
            "grid_gap": null,
            "grid_row": null,
            "grid_template_areas": null,
            "grid_template_columns": null,
            "grid_template_rows": null,
            "height": null,
            "justify_content": null,
            "justify_items": null,
            "left": null,
            "margin": null,
            "max_height": null,
            "max_width": null,
            "min_height": null,
            "min_width": null,
            "object_fit": null,
            "object_position": null,
            "order": null,
            "overflow": null,
            "overflow_x": null,
            "overflow_y": null,
            "padding": null,
            "right": null,
            "top": null,
            "visibility": null,
            "width": null
          }
        },
        "24facc5a2ee94610b63fb1d937d70d75": {
          "model_module": "@jupyter-widgets/base",
          "model_name": "LayoutModel",
          "model_module_version": "1.2.0",
          "state": {
            "_model_module": "@jupyter-widgets/base",
            "_model_module_version": "1.2.0",
            "_model_name": "LayoutModel",
            "_view_count": null,
            "_view_module": "@jupyter-widgets/base",
            "_view_module_version": "1.2.0",
            "_view_name": "LayoutView",
            "align_content": null,
            "align_items": null,
            "align_self": null,
            "border": null,
            "bottom": null,
            "display": null,
            "flex": null,
            "flex_flow": null,
            "grid_area": null,
            "grid_auto_columns": null,
            "grid_auto_flow": null,
            "grid_auto_rows": null,
            "grid_column": null,
            "grid_gap": null,
            "grid_row": null,
            "grid_template_areas": null,
            "grid_template_columns": null,
            "grid_template_rows": null,
            "height": null,
            "justify_content": null,
            "justify_items": null,
            "left": null,
            "margin": null,
            "max_height": null,
            "max_width": null,
            "min_height": null,
            "min_width": null,
            "object_fit": null,
            "object_position": null,
            "order": null,
            "overflow": null,
            "overflow_x": null,
            "overflow_y": null,
            "padding": null,
            "right": null,
            "top": null,
            "visibility": null,
            "width": null
          }
        },
        "e1cfcd0703ae469287080122e15c3677": {
          "model_module": "@jupyter-widgets/controls",
          "model_name": "DescriptionStyleModel",
          "model_module_version": "1.5.0",
          "state": {
            "_model_module": "@jupyter-widgets/controls",
            "_model_module_version": "1.5.0",
            "_model_name": "DescriptionStyleModel",
            "_view_count": null,
            "_view_module": "@jupyter-widgets/base",
            "_view_module_version": "1.2.0",
            "_view_name": "StyleView",
            "description_width": ""
          }
        },
        "6177f1aa1c0944768e21dce9ae211f79": {
          "model_module": "@jupyter-widgets/base",
          "model_name": "LayoutModel",
          "model_module_version": "1.2.0",
          "state": {
            "_model_module": "@jupyter-widgets/base",
            "_model_module_version": "1.2.0",
            "_model_name": "LayoutModel",
            "_view_count": null,
            "_view_module": "@jupyter-widgets/base",
            "_view_module_version": "1.2.0",
            "_view_name": "LayoutView",
            "align_content": null,
            "align_items": null,
            "align_self": null,
            "border": null,
            "bottom": null,
            "display": null,
            "flex": null,
            "flex_flow": null,
            "grid_area": null,
            "grid_auto_columns": null,
            "grid_auto_flow": null,
            "grid_auto_rows": null,
            "grid_column": null,
            "grid_gap": null,
            "grid_row": null,
            "grid_template_areas": null,
            "grid_template_columns": null,
            "grid_template_rows": null,
            "height": null,
            "justify_content": null,
            "justify_items": null,
            "left": null,
            "margin": null,
            "max_height": null,
            "max_width": null,
            "min_height": null,
            "min_width": null,
            "object_fit": null,
            "object_position": null,
            "order": null,
            "overflow": null,
            "overflow_x": null,
            "overflow_y": null,
            "padding": null,
            "right": null,
            "top": null,
            "visibility": null,
            "width": null
          }
        },
        "b8d1520d90e34115a7f9cce980260f99": {
          "model_module": "@jupyter-widgets/controls",
          "model_name": "ProgressStyleModel",
          "model_module_version": "1.5.0",
          "state": {
            "_model_module": "@jupyter-widgets/controls",
            "_model_module_version": "1.5.0",
            "_model_name": "ProgressStyleModel",
            "_view_count": null,
            "_view_module": "@jupyter-widgets/base",
            "_view_module_version": "1.2.0",
            "_view_name": "StyleView",
            "bar_color": null,
            "description_width": ""
          }
        },
        "00065ce715a744eaaf3af7814cab77e8": {
          "model_module": "@jupyter-widgets/base",
          "model_name": "LayoutModel",
          "model_module_version": "1.2.0",
          "state": {
            "_model_module": "@jupyter-widgets/base",
            "_model_module_version": "1.2.0",
            "_model_name": "LayoutModel",
            "_view_count": null,
            "_view_module": "@jupyter-widgets/base",
            "_view_module_version": "1.2.0",
            "_view_name": "LayoutView",
            "align_content": null,
            "align_items": null,
            "align_self": null,
            "border": null,
            "bottom": null,
            "display": null,
            "flex": null,
            "flex_flow": null,
            "grid_area": null,
            "grid_auto_columns": null,
            "grid_auto_flow": null,
            "grid_auto_rows": null,
            "grid_column": null,
            "grid_gap": null,
            "grid_row": null,
            "grid_template_areas": null,
            "grid_template_columns": null,
            "grid_template_rows": null,
            "height": null,
            "justify_content": null,
            "justify_items": null,
            "left": null,
            "margin": null,
            "max_height": null,
            "max_width": null,
            "min_height": null,
            "min_width": null,
            "object_fit": null,
            "object_position": null,
            "order": null,
            "overflow": null,
            "overflow_x": null,
            "overflow_y": null,
            "padding": null,
            "right": null,
            "top": null,
            "visibility": null,
            "width": null
          }
        },
        "047c2cab0f434ca09c3586ab697f22de": {
          "model_module": "@jupyter-widgets/controls",
          "model_name": "DescriptionStyleModel",
          "model_module_version": "1.5.0",
          "state": {
            "_model_module": "@jupyter-widgets/controls",
            "_model_module_version": "1.5.0",
            "_model_name": "DescriptionStyleModel",
            "_view_count": null,
            "_view_module": "@jupyter-widgets/base",
            "_view_module_version": "1.2.0",
            "_view_name": "StyleView",
            "description_width": ""
          }
        },
        "99d74ae460934b70b67369a69715bf14": {
          "model_module": "@jupyter-widgets/controls",
          "model_name": "HBoxModel",
          "model_module_version": "1.5.0",
          "state": {
            "_dom_classes": [],
            "_model_module": "@jupyter-widgets/controls",
            "_model_module_version": "1.5.0",
            "_model_name": "HBoxModel",
            "_view_count": null,
            "_view_module": "@jupyter-widgets/controls",
            "_view_module_version": "1.5.0",
            "_view_name": "HBoxView",
            "box_style": "",
            "children": [
              "IPY_MODEL_000d10875a8b459a8aabb527b9d316f9",
              "IPY_MODEL_8cb9936294e44e7aa38ef01ffeb8f3d0",
              "IPY_MODEL_bfa930cec3dc4dd2918c24fa47716b33"
            ],
            "layout": "IPY_MODEL_d138393d65f84e9786142da47f6a5894"
          }
        },
        "000d10875a8b459a8aabb527b9d316f9": {
          "model_module": "@jupyter-widgets/controls",
          "model_name": "HTMLModel",
          "model_module_version": "1.5.0",
          "state": {
            "_dom_classes": [],
            "_model_module": "@jupyter-widgets/controls",
            "_model_module_version": "1.5.0",
            "_model_name": "HTMLModel",
            "_view_count": null,
            "_view_module": "@jupyter-widgets/controls",
            "_view_module_version": "1.5.0",
            "_view_name": "HTMLView",
            "description": "",
            "description_tooltip": null,
            "layout": "IPY_MODEL_3a0f9200c3504d678843f4a800155b4e",
            "placeholder": "​",
            "style": "IPY_MODEL_e46e6330af904e5998e9ae71b6b9646f",
            "value": "Downloading (…)okenizer_config.json: 100%"
          }
        },
        "8cb9936294e44e7aa38ef01ffeb8f3d0": {
          "model_module": "@jupyter-widgets/controls",
          "model_name": "FloatProgressModel",
          "model_module_version": "1.5.0",
          "state": {
            "_dom_classes": [],
            "_model_module": "@jupyter-widgets/controls",
            "_model_module_version": "1.5.0",
            "_model_name": "FloatProgressModel",
            "_view_count": null,
            "_view_module": "@jupyter-widgets/controls",
            "_view_module_version": "1.5.0",
            "_view_name": "ProgressView",
            "bar_style": "success",
            "description": "",
            "description_tooltip": null,
            "layout": "IPY_MODEL_388d4d8d20aa4284a7630ab5a310176f",
            "max": 28,
            "min": 0,
            "orientation": "horizontal",
            "style": "IPY_MODEL_50a07007b40c48a8a294d7378c796ad2",
            "value": 28
          }
        },
        "bfa930cec3dc4dd2918c24fa47716b33": {
          "model_module": "@jupyter-widgets/controls",
          "model_name": "HTMLModel",
          "model_module_version": "1.5.0",
          "state": {
            "_dom_classes": [],
            "_model_module": "@jupyter-widgets/controls",
            "_model_module_version": "1.5.0",
            "_model_name": "HTMLModel",
            "_view_count": null,
            "_view_module": "@jupyter-widgets/controls",
            "_view_module_version": "1.5.0",
            "_view_name": "HTMLView",
            "description": "",
            "description_tooltip": null,
            "layout": "IPY_MODEL_683f2edaa4e44348b1efb3ef960fc6cc",
            "placeholder": "​",
            "style": "IPY_MODEL_828a3f201fe9489c92071565ad59a6e5",
            "value": " 28.0/28.0 [00:00&lt;00:00, 1.26kB/s]"
          }
        },
        "d138393d65f84e9786142da47f6a5894": {
          "model_module": "@jupyter-widgets/base",
          "model_name": "LayoutModel",
          "model_module_version": "1.2.0",
          "state": {
            "_model_module": "@jupyter-widgets/base",
            "_model_module_version": "1.2.0",
            "_model_name": "LayoutModel",
            "_view_count": null,
            "_view_module": "@jupyter-widgets/base",
            "_view_module_version": "1.2.0",
            "_view_name": "LayoutView",
            "align_content": null,
            "align_items": null,
            "align_self": null,
            "border": null,
            "bottom": null,
            "display": null,
            "flex": null,
            "flex_flow": null,
            "grid_area": null,
            "grid_auto_columns": null,
            "grid_auto_flow": null,
            "grid_auto_rows": null,
            "grid_column": null,
            "grid_gap": null,
            "grid_row": null,
            "grid_template_areas": null,
            "grid_template_columns": null,
            "grid_template_rows": null,
            "height": null,
            "justify_content": null,
            "justify_items": null,
            "left": null,
            "margin": null,
            "max_height": null,
            "max_width": null,
            "min_height": null,
            "min_width": null,
            "object_fit": null,
            "object_position": null,
            "order": null,
            "overflow": null,
            "overflow_x": null,
            "overflow_y": null,
            "padding": null,
            "right": null,
            "top": null,
            "visibility": null,
            "width": null
          }
        },
        "3a0f9200c3504d678843f4a800155b4e": {
          "model_module": "@jupyter-widgets/base",
          "model_name": "LayoutModel",
          "model_module_version": "1.2.0",
          "state": {
            "_model_module": "@jupyter-widgets/base",
            "_model_module_version": "1.2.0",
            "_model_name": "LayoutModel",
            "_view_count": null,
            "_view_module": "@jupyter-widgets/base",
            "_view_module_version": "1.2.0",
            "_view_name": "LayoutView",
            "align_content": null,
            "align_items": null,
            "align_self": null,
            "border": null,
            "bottom": null,
            "display": null,
            "flex": null,
            "flex_flow": null,
            "grid_area": null,
            "grid_auto_columns": null,
            "grid_auto_flow": null,
            "grid_auto_rows": null,
            "grid_column": null,
            "grid_gap": null,
            "grid_row": null,
            "grid_template_areas": null,
            "grid_template_columns": null,
            "grid_template_rows": null,
            "height": null,
            "justify_content": null,
            "justify_items": null,
            "left": null,
            "margin": null,
            "max_height": null,
            "max_width": null,
            "min_height": null,
            "min_width": null,
            "object_fit": null,
            "object_position": null,
            "order": null,
            "overflow": null,
            "overflow_x": null,
            "overflow_y": null,
            "padding": null,
            "right": null,
            "top": null,
            "visibility": null,
            "width": null
          }
        },
        "e46e6330af904e5998e9ae71b6b9646f": {
          "model_module": "@jupyter-widgets/controls",
          "model_name": "DescriptionStyleModel",
          "model_module_version": "1.5.0",
          "state": {
            "_model_module": "@jupyter-widgets/controls",
            "_model_module_version": "1.5.0",
            "_model_name": "DescriptionStyleModel",
            "_view_count": null,
            "_view_module": "@jupyter-widgets/base",
            "_view_module_version": "1.2.0",
            "_view_name": "StyleView",
            "description_width": ""
          }
        },
        "388d4d8d20aa4284a7630ab5a310176f": {
          "model_module": "@jupyter-widgets/base",
          "model_name": "LayoutModel",
          "model_module_version": "1.2.0",
          "state": {
            "_model_module": "@jupyter-widgets/base",
            "_model_module_version": "1.2.0",
            "_model_name": "LayoutModel",
            "_view_count": null,
            "_view_module": "@jupyter-widgets/base",
            "_view_module_version": "1.2.0",
            "_view_name": "LayoutView",
            "align_content": null,
            "align_items": null,
            "align_self": null,
            "border": null,
            "bottom": null,
            "display": null,
            "flex": null,
            "flex_flow": null,
            "grid_area": null,
            "grid_auto_columns": null,
            "grid_auto_flow": null,
            "grid_auto_rows": null,
            "grid_column": null,
            "grid_gap": null,
            "grid_row": null,
            "grid_template_areas": null,
            "grid_template_columns": null,
            "grid_template_rows": null,
            "height": null,
            "justify_content": null,
            "justify_items": null,
            "left": null,
            "margin": null,
            "max_height": null,
            "max_width": null,
            "min_height": null,
            "min_width": null,
            "object_fit": null,
            "object_position": null,
            "order": null,
            "overflow": null,
            "overflow_x": null,
            "overflow_y": null,
            "padding": null,
            "right": null,
            "top": null,
            "visibility": null,
            "width": null
          }
        },
        "50a07007b40c48a8a294d7378c796ad2": {
          "model_module": "@jupyter-widgets/controls",
          "model_name": "ProgressStyleModel",
          "model_module_version": "1.5.0",
          "state": {
            "_model_module": "@jupyter-widgets/controls",
            "_model_module_version": "1.5.0",
            "_model_name": "ProgressStyleModel",
            "_view_count": null,
            "_view_module": "@jupyter-widgets/base",
            "_view_module_version": "1.2.0",
            "_view_name": "StyleView",
            "bar_color": null,
            "description_width": ""
          }
        },
        "683f2edaa4e44348b1efb3ef960fc6cc": {
          "model_module": "@jupyter-widgets/base",
          "model_name": "LayoutModel",
          "model_module_version": "1.2.0",
          "state": {
            "_model_module": "@jupyter-widgets/base",
            "_model_module_version": "1.2.0",
            "_model_name": "LayoutModel",
            "_view_count": null,
            "_view_module": "@jupyter-widgets/base",
            "_view_module_version": "1.2.0",
            "_view_name": "LayoutView",
            "align_content": null,
            "align_items": null,
            "align_self": null,
            "border": null,
            "bottom": null,
            "display": null,
            "flex": null,
            "flex_flow": null,
            "grid_area": null,
            "grid_auto_columns": null,
            "grid_auto_flow": null,
            "grid_auto_rows": null,
            "grid_column": null,
            "grid_gap": null,
            "grid_row": null,
            "grid_template_areas": null,
            "grid_template_columns": null,
            "grid_template_rows": null,
            "height": null,
            "justify_content": null,
            "justify_items": null,
            "left": null,
            "margin": null,
            "max_height": null,
            "max_width": null,
            "min_height": null,
            "min_width": null,
            "object_fit": null,
            "object_position": null,
            "order": null,
            "overflow": null,
            "overflow_x": null,
            "overflow_y": null,
            "padding": null,
            "right": null,
            "top": null,
            "visibility": null,
            "width": null
          }
        },
        "828a3f201fe9489c92071565ad59a6e5": {
          "model_module": "@jupyter-widgets/controls",
          "model_name": "DescriptionStyleModel",
          "model_module_version": "1.5.0",
          "state": {
            "_model_module": "@jupyter-widgets/controls",
            "_model_module_version": "1.5.0",
            "_model_name": "DescriptionStyleModel",
            "_view_count": null,
            "_view_module": "@jupyter-widgets/base",
            "_view_module_version": "1.2.0",
            "_view_name": "StyleView",
            "description_width": ""
          }
        },
        "931888f89f974f2e8c93c352d4eeffb0": {
          "model_module": "@jupyter-widgets/controls",
          "model_name": "HBoxModel",
          "model_module_version": "1.5.0",
          "state": {
            "_dom_classes": [],
            "_model_module": "@jupyter-widgets/controls",
            "_model_module_version": "1.5.0",
            "_model_name": "HBoxModel",
            "_view_count": null,
            "_view_module": "@jupyter-widgets/controls",
            "_view_module_version": "1.5.0",
            "_view_name": "HBoxView",
            "box_style": "",
            "children": [
              "IPY_MODEL_b11fce96f1f6400dad8424308638b1f6",
              "IPY_MODEL_40d3c5389e0b4d78820d684479f0ae17",
              "IPY_MODEL_4fcd8230899c44c686ff8b09a1b14c8f"
            ],
            "layout": "IPY_MODEL_6876951942374a93b073a1db66265a99"
          }
        },
        "b11fce96f1f6400dad8424308638b1f6": {
          "model_module": "@jupyter-widgets/controls",
          "model_name": "HTMLModel",
          "model_module_version": "1.5.0",
          "state": {
            "_dom_classes": [],
            "_model_module": "@jupyter-widgets/controls",
            "_model_module_version": "1.5.0",
            "_model_name": "HTMLModel",
            "_view_count": null,
            "_view_module": "@jupyter-widgets/controls",
            "_view_module_version": "1.5.0",
            "_view_name": "HTMLView",
            "description": "",
            "description_tooltip": null,
            "layout": "IPY_MODEL_308986bb81434dfeb0fb6c5a1ef6e00e",
            "placeholder": "​",
            "style": "IPY_MODEL_5d83700becad496d8be2dde4c779d3ac",
            "value": "Downloading (…)lve/main/config.json: 100%"
          }
        },
        "40d3c5389e0b4d78820d684479f0ae17": {
          "model_module": "@jupyter-widgets/controls",
          "model_name": "FloatProgressModel",
          "model_module_version": "1.5.0",
          "state": {
            "_dom_classes": [],
            "_model_module": "@jupyter-widgets/controls",
            "_model_module_version": "1.5.0",
            "_model_name": "FloatProgressModel",
            "_view_count": null,
            "_view_module": "@jupyter-widgets/controls",
            "_view_module_version": "1.5.0",
            "_view_name": "ProgressView",
            "bar_style": "success",
            "description": "",
            "description_tooltip": null,
            "layout": "IPY_MODEL_82f872026f5f42f39e00d5ba295aa26e",
            "max": 570,
            "min": 0,
            "orientation": "horizontal",
            "style": "IPY_MODEL_b17e6dd2495c4bd599b391e65e7dca4d",
            "value": 570
          }
        },
        "4fcd8230899c44c686ff8b09a1b14c8f": {
          "model_module": "@jupyter-widgets/controls",
          "model_name": "HTMLModel",
          "model_module_version": "1.5.0",
          "state": {
            "_dom_classes": [],
            "_model_module": "@jupyter-widgets/controls",
            "_model_module_version": "1.5.0",
            "_model_name": "HTMLModel",
            "_view_count": null,
            "_view_module": "@jupyter-widgets/controls",
            "_view_module_version": "1.5.0",
            "_view_name": "HTMLView",
            "description": "",
            "description_tooltip": null,
            "layout": "IPY_MODEL_318974ca60ef48a89a4912c5e92d4874",
            "placeholder": "​",
            "style": "IPY_MODEL_a5c1e5d1b2494f59b5a637e5ad0b619a",
            "value": " 570/570 [00:00&lt;00:00, 22.7kB/s]"
          }
        },
        "6876951942374a93b073a1db66265a99": {
          "model_module": "@jupyter-widgets/base",
          "model_name": "LayoutModel",
          "model_module_version": "1.2.0",
          "state": {
            "_model_module": "@jupyter-widgets/base",
            "_model_module_version": "1.2.0",
            "_model_name": "LayoutModel",
            "_view_count": null,
            "_view_module": "@jupyter-widgets/base",
            "_view_module_version": "1.2.0",
            "_view_name": "LayoutView",
            "align_content": null,
            "align_items": null,
            "align_self": null,
            "border": null,
            "bottom": null,
            "display": null,
            "flex": null,
            "flex_flow": null,
            "grid_area": null,
            "grid_auto_columns": null,
            "grid_auto_flow": null,
            "grid_auto_rows": null,
            "grid_column": null,
            "grid_gap": null,
            "grid_row": null,
            "grid_template_areas": null,
            "grid_template_columns": null,
            "grid_template_rows": null,
            "height": null,
            "justify_content": null,
            "justify_items": null,
            "left": null,
            "margin": null,
            "max_height": null,
            "max_width": null,
            "min_height": null,
            "min_width": null,
            "object_fit": null,
            "object_position": null,
            "order": null,
            "overflow": null,
            "overflow_x": null,
            "overflow_y": null,
            "padding": null,
            "right": null,
            "top": null,
            "visibility": null,
            "width": null
          }
        },
        "308986bb81434dfeb0fb6c5a1ef6e00e": {
          "model_module": "@jupyter-widgets/base",
          "model_name": "LayoutModel",
          "model_module_version": "1.2.0",
          "state": {
            "_model_module": "@jupyter-widgets/base",
            "_model_module_version": "1.2.0",
            "_model_name": "LayoutModel",
            "_view_count": null,
            "_view_module": "@jupyter-widgets/base",
            "_view_module_version": "1.2.0",
            "_view_name": "LayoutView",
            "align_content": null,
            "align_items": null,
            "align_self": null,
            "border": null,
            "bottom": null,
            "display": null,
            "flex": null,
            "flex_flow": null,
            "grid_area": null,
            "grid_auto_columns": null,
            "grid_auto_flow": null,
            "grid_auto_rows": null,
            "grid_column": null,
            "grid_gap": null,
            "grid_row": null,
            "grid_template_areas": null,
            "grid_template_columns": null,
            "grid_template_rows": null,
            "height": null,
            "justify_content": null,
            "justify_items": null,
            "left": null,
            "margin": null,
            "max_height": null,
            "max_width": null,
            "min_height": null,
            "min_width": null,
            "object_fit": null,
            "object_position": null,
            "order": null,
            "overflow": null,
            "overflow_x": null,
            "overflow_y": null,
            "padding": null,
            "right": null,
            "top": null,
            "visibility": null,
            "width": null
          }
        },
        "5d83700becad496d8be2dde4c779d3ac": {
          "model_module": "@jupyter-widgets/controls",
          "model_name": "DescriptionStyleModel",
          "model_module_version": "1.5.0",
          "state": {
            "_model_module": "@jupyter-widgets/controls",
            "_model_module_version": "1.5.0",
            "_model_name": "DescriptionStyleModel",
            "_view_count": null,
            "_view_module": "@jupyter-widgets/base",
            "_view_module_version": "1.2.0",
            "_view_name": "StyleView",
            "description_width": ""
          }
        },
        "82f872026f5f42f39e00d5ba295aa26e": {
          "model_module": "@jupyter-widgets/base",
          "model_name": "LayoutModel",
          "model_module_version": "1.2.0",
          "state": {
            "_model_module": "@jupyter-widgets/base",
            "_model_module_version": "1.2.0",
            "_model_name": "LayoutModel",
            "_view_count": null,
            "_view_module": "@jupyter-widgets/base",
            "_view_module_version": "1.2.0",
            "_view_name": "LayoutView",
            "align_content": null,
            "align_items": null,
            "align_self": null,
            "border": null,
            "bottom": null,
            "display": null,
            "flex": null,
            "flex_flow": null,
            "grid_area": null,
            "grid_auto_columns": null,
            "grid_auto_flow": null,
            "grid_auto_rows": null,
            "grid_column": null,
            "grid_gap": null,
            "grid_row": null,
            "grid_template_areas": null,
            "grid_template_columns": null,
            "grid_template_rows": null,
            "height": null,
            "justify_content": null,
            "justify_items": null,
            "left": null,
            "margin": null,
            "max_height": null,
            "max_width": null,
            "min_height": null,
            "min_width": null,
            "object_fit": null,
            "object_position": null,
            "order": null,
            "overflow": null,
            "overflow_x": null,
            "overflow_y": null,
            "padding": null,
            "right": null,
            "top": null,
            "visibility": null,
            "width": null
          }
        },
        "b17e6dd2495c4bd599b391e65e7dca4d": {
          "model_module": "@jupyter-widgets/controls",
          "model_name": "ProgressStyleModel",
          "model_module_version": "1.5.0",
          "state": {
            "_model_module": "@jupyter-widgets/controls",
            "_model_module_version": "1.5.0",
            "_model_name": "ProgressStyleModel",
            "_view_count": null,
            "_view_module": "@jupyter-widgets/base",
            "_view_module_version": "1.2.0",
            "_view_name": "StyleView",
            "bar_color": null,
            "description_width": ""
          }
        },
        "318974ca60ef48a89a4912c5e92d4874": {
          "model_module": "@jupyter-widgets/base",
          "model_name": "LayoutModel",
          "model_module_version": "1.2.0",
          "state": {
            "_model_module": "@jupyter-widgets/base",
            "_model_module_version": "1.2.0",
            "_model_name": "LayoutModel",
            "_view_count": null,
            "_view_module": "@jupyter-widgets/base",
            "_view_module_version": "1.2.0",
            "_view_name": "LayoutView",
            "align_content": null,
            "align_items": null,
            "align_self": null,
            "border": null,
            "bottom": null,
            "display": null,
            "flex": null,
            "flex_flow": null,
            "grid_area": null,
            "grid_auto_columns": null,
            "grid_auto_flow": null,
            "grid_auto_rows": null,
            "grid_column": null,
            "grid_gap": null,
            "grid_row": null,
            "grid_template_areas": null,
            "grid_template_columns": null,
            "grid_template_rows": null,
            "height": null,
            "justify_content": null,
            "justify_items": null,
            "left": null,
            "margin": null,
            "max_height": null,
            "max_width": null,
            "min_height": null,
            "min_width": null,
            "object_fit": null,
            "object_position": null,
            "order": null,
            "overflow": null,
            "overflow_x": null,
            "overflow_y": null,
            "padding": null,
            "right": null,
            "top": null,
            "visibility": null,
            "width": null
          }
        },
        "a5c1e5d1b2494f59b5a637e5ad0b619a": {
          "model_module": "@jupyter-widgets/controls",
          "model_name": "DescriptionStyleModel",
          "model_module_version": "1.5.0",
          "state": {
            "_model_module": "@jupyter-widgets/controls",
            "_model_module_version": "1.5.0",
            "_model_name": "DescriptionStyleModel",
            "_view_count": null,
            "_view_module": "@jupyter-widgets/base",
            "_view_module_version": "1.2.0",
            "_view_name": "StyleView",
            "description_width": ""
          }
        },
        "a5657636b0a54bbf8477e08b271c8ae5": {
          "model_module": "@jupyter-widgets/controls",
          "model_name": "HBoxModel",
          "model_module_version": "1.5.0",
          "state": {
            "_dom_classes": [],
            "_model_module": "@jupyter-widgets/controls",
            "_model_module_version": "1.5.0",
            "_model_name": "HBoxModel",
            "_view_count": null,
            "_view_module": "@jupyter-widgets/controls",
            "_view_module_version": "1.5.0",
            "_view_name": "HBoxView",
            "box_style": "",
            "children": [
              "IPY_MODEL_130a00e3bf5248e6a44c3902c4f1864b",
              "IPY_MODEL_9cda80ee2189496895b042ae2c3c0885",
              "IPY_MODEL_5f4a87f4b4a543d9b18c1cfe4b3ab35d"
            ],
            "layout": "IPY_MODEL_021fa32c2bc94a9c97288542b6f66c73"
          }
        },
        "130a00e3bf5248e6a44c3902c4f1864b": {
          "model_module": "@jupyter-widgets/controls",
          "model_name": "HTMLModel",
          "model_module_version": "1.5.0",
          "state": {
            "_dom_classes": [],
            "_model_module": "@jupyter-widgets/controls",
            "_model_module_version": "1.5.0",
            "_model_name": "HTMLModel",
            "_view_count": null,
            "_view_module": "@jupyter-widgets/controls",
            "_view_module_version": "1.5.0",
            "_view_name": "HTMLView",
            "description": "",
            "description_tooltip": null,
            "layout": "IPY_MODEL_75728dd773484fe5b58411eb337f9ebb",
            "placeholder": "​",
            "style": "IPY_MODEL_bd0a5ddc62af441abe2345ba2cd26958",
            "value": "Downloading pytorch_model.bin: 100%"
          }
        },
        "9cda80ee2189496895b042ae2c3c0885": {
          "model_module": "@jupyter-widgets/controls",
          "model_name": "FloatProgressModel",
          "model_module_version": "1.5.0",
          "state": {
            "_dom_classes": [],
            "_model_module": "@jupyter-widgets/controls",
            "_model_module_version": "1.5.0",
            "_model_name": "FloatProgressModel",
            "_view_count": null,
            "_view_module": "@jupyter-widgets/controls",
            "_view_module_version": "1.5.0",
            "_view_name": "ProgressView",
            "bar_style": "success",
            "description": "",
            "description_tooltip": null,
            "layout": "IPY_MODEL_14c4560493c94057bfe239c1fbcbdd3b",
            "max": 440473133,
            "min": 0,
            "orientation": "horizontal",
            "style": "IPY_MODEL_74cba58870ee4cbc968115fadaa00340",
            "value": 440473133
          }
        },
        "5f4a87f4b4a543d9b18c1cfe4b3ab35d": {
          "model_module": "@jupyter-widgets/controls",
          "model_name": "HTMLModel",
          "model_module_version": "1.5.0",
          "state": {
            "_dom_classes": [],
            "_model_module": "@jupyter-widgets/controls",
            "_model_module_version": "1.5.0",
            "_model_name": "HTMLModel",
            "_view_count": null,
            "_view_module": "@jupyter-widgets/controls",
            "_view_module_version": "1.5.0",
            "_view_name": "HTMLView",
            "description": "",
            "description_tooltip": null,
            "layout": "IPY_MODEL_fa7cfa3171444a82a3557e0563256527",
            "placeholder": "​",
            "style": "IPY_MODEL_437113b3e45f40e787917b6fffcda26f",
            "value": " 440M/440M [00:01&lt;00:00, 343MB/s]"
          }
        },
        "021fa32c2bc94a9c97288542b6f66c73": {
          "model_module": "@jupyter-widgets/base",
          "model_name": "LayoutModel",
          "model_module_version": "1.2.0",
          "state": {
            "_model_module": "@jupyter-widgets/base",
            "_model_module_version": "1.2.0",
            "_model_name": "LayoutModel",
            "_view_count": null,
            "_view_module": "@jupyter-widgets/base",
            "_view_module_version": "1.2.0",
            "_view_name": "LayoutView",
            "align_content": null,
            "align_items": null,
            "align_self": null,
            "border": null,
            "bottom": null,
            "display": null,
            "flex": null,
            "flex_flow": null,
            "grid_area": null,
            "grid_auto_columns": null,
            "grid_auto_flow": null,
            "grid_auto_rows": null,
            "grid_column": null,
            "grid_gap": null,
            "grid_row": null,
            "grid_template_areas": null,
            "grid_template_columns": null,
            "grid_template_rows": null,
            "height": null,
            "justify_content": null,
            "justify_items": null,
            "left": null,
            "margin": null,
            "max_height": null,
            "max_width": null,
            "min_height": null,
            "min_width": null,
            "object_fit": null,
            "object_position": null,
            "order": null,
            "overflow": null,
            "overflow_x": null,
            "overflow_y": null,
            "padding": null,
            "right": null,
            "top": null,
            "visibility": null,
            "width": null
          }
        },
        "75728dd773484fe5b58411eb337f9ebb": {
          "model_module": "@jupyter-widgets/base",
          "model_name": "LayoutModel",
          "model_module_version": "1.2.0",
          "state": {
            "_model_module": "@jupyter-widgets/base",
            "_model_module_version": "1.2.0",
            "_model_name": "LayoutModel",
            "_view_count": null,
            "_view_module": "@jupyter-widgets/base",
            "_view_module_version": "1.2.0",
            "_view_name": "LayoutView",
            "align_content": null,
            "align_items": null,
            "align_self": null,
            "border": null,
            "bottom": null,
            "display": null,
            "flex": null,
            "flex_flow": null,
            "grid_area": null,
            "grid_auto_columns": null,
            "grid_auto_flow": null,
            "grid_auto_rows": null,
            "grid_column": null,
            "grid_gap": null,
            "grid_row": null,
            "grid_template_areas": null,
            "grid_template_columns": null,
            "grid_template_rows": null,
            "height": null,
            "justify_content": null,
            "justify_items": null,
            "left": null,
            "margin": null,
            "max_height": null,
            "max_width": null,
            "min_height": null,
            "min_width": null,
            "object_fit": null,
            "object_position": null,
            "order": null,
            "overflow": null,
            "overflow_x": null,
            "overflow_y": null,
            "padding": null,
            "right": null,
            "top": null,
            "visibility": null,
            "width": null
          }
        },
        "bd0a5ddc62af441abe2345ba2cd26958": {
          "model_module": "@jupyter-widgets/controls",
          "model_name": "DescriptionStyleModel",
          "model_module_version": "1.5.0",
          "state": {
            "_model_module": "@jupyter-widgets/controls",
            "_model_module_version": "1.5.0",
            "_model_name": "DescriptionStyleModel",
            "_view_count": null,
            "_view_module": "@jupyter-widgets/base",
            "_view_module_version": "1.2.0",
            "_view_name": "StyleView",
            "description_width": ""
          }
        },
        "14c4560493c94057bfe239c1fbcbdd3b": {
          "model_module": "@jupyter-widgets/base",
          "model_name": "LayoutModel",
          "model_module_version": "1.2.0",
          "state": {
            "_model_module": "@jupyter-widgets/base",
            "_model_module_version": "1.2.0",
            "_model_name": "LayoutModel",
            "_view_count": null,
            "_view_module": "@jupyter-widgets/base",
            "_view_module_version": "1.2.0",
            "_view_name": "LayoutView",
            "align_content": null,
            "align_items": null,
            "align_self": null,
            "border": null,
            "bottom": null,
            "display": null,
            "flex": null,
            "flex_flow": null,
            "grid_area": null,
            "grid_auto_columns": null,
            "grid_auto_flow": null,
            "grid_auto_rows": null,
            "grid_column": null,
            "grid_gap": null,
            "grid_row": null,
            "grid_template_areas": null,
            "grid_template_columns": null,
            "grid_template_rows": null,
            "height": null,
            "justify_content": null,
            "justify_items": null,
            "left": null,
            "margin": null,
            "max_height": null,
            "max_width": null,
            "min_height": null,
            "min_width": null,
            "object_fit": null,
            "object_position": null,
            "order": null,
            "overflow": null,
            "overflow_x": null,
            "overflow_y": null,
            "padding": null,
            "right": null,
            "top": null,
            "visibility": null,
            "width": null
          }
        },
        "74cba58870ee4cbc968115fadaa00340": {
          "model_module": "@jupyter-widgets/controls",
          "model_name": "ProgressStyleModel",
          "model_module_version": "1.5.0",
          "state": {
            "_model_module": "@jupyter-widgets/controls",
            "_model_module_version": "1.5.0",
            "_model_name": "ProgressStyleModel",
            "_view_count": null,
            "_view_module": "@jupyter-widgets/base",
            "_view_module_version": "1.2.0",
            "_view_name": "StyleView",
            "bar_color": null,
            "description_width": ""
          }
        },
        "fa7cfa3171444a82a3557e0563256527": {
          "model_module": "@jupyter-widgets/base",
          "model_name": "LayoutModel",
          "model_module_version": "1.2.0",
          "state": {
            "_model_module": "@jupyter-widgets/base",
            "_model_module_version": "1.2.0",
            "_model_name": "LayoutModel",
            "_view_count": null,
            "_view_module": "@jupyter-widgets/base",
            "_view_module_version": "1.2.0",
            "_view_name": "LayoutView",
            "align_content": null,
            "align_items": null,
            "align_self": null,
            "border": null,
            "bottom": null,
            "display": null,
            "flex": null,
            "flex_flow": null,
            "grid_area": null,
            "grid_auto_columns": null,
            "grid_auto_flow": null,
            "grid_auto_rows": null,
            "grid_column": null,
            "grid_gap": null,
            "grid_row": null,
            "grid_template_areas": null,
            "grid_template_columns": null,
            "grid_template_rows": null,
            "height": null,
            "justify_content": null,
            "justify_items": null,
            "left": null,
            "margin": null,
            "max_height": null,
            "max_width": null,
            "min_height": null,
            "min_width": null,
            "object_fit": null,
            "object_position": null,
            "order": null,
            "overflow": null,
            "overflow_x": null,
            "overflow_y": null,
            "padding": null,
            "right": null,
            "top": null,
            "visibility": null,
            "width": null
          }
        },
        "437113b3e45f40e787917b6fffcda26f": {
          "model_module": "@jupyter-widgets/controls",
          "model_name": "DescriptionStyleModel",
          "model_module_version": "1.5.0",
          "state": {
            "_model_module": "@jupyter-widgets/controls",
            "_model_module_version": "1.5.0",
            "_model_name": "DescriptionStyleModel",
            "_view_count": null,
            "_view_module": "@jupyter-widgets/base",
            "_view_module_version": "1.2.0",
            "_view_name": "StyleView",
            "description_width": ""
          }
        },
        "b0c0ff8d4f9f4a0b8c078eeb255e995b": {
          "model_module": "@jupyter-widgets/controls",
          "model_name": "HBoxModel",
          "model_module_version": "1.5.0",
          "state": {
            "_dom_classes": [],
            "_model_module": "@jupyter-widgets/controls",
            "_model_module_version": "1.5.0",
            "_model_name": "HBoxModel",
            "_view_count": null,
            "_view_module": "@jupyter-widgets/controls",
            "_view_module_version": "1.5.0",
            "_view_name": "HBoxView",
            "box_style": "",
            "children": [
              "IPY_MODEL_5499ebd482b94e60a1798c2edb9a528c",
              "IPY_MODEL_75080c0eb1db4a8db3170da08e0f18ba",
              "IPY_MODEL_46f728328cf54e0c813a94feabdf6a3d"
            ],
            "layout": "IPY_MODEL_763a8e5ac9904c5db024b7f72e3be0c0"
          }
        },
        "5499ebd482b94e60a1798c2edb9a528c": {
          "model_module": "@jupyter-widgets/controls",
          "model_name": "HTMLModel",
          "model_module_version": "1.5.0",
          "state": {
            "_dom_classes": [],
            "_model_module": "@jupyter-widgets/controls",
            "_model_module_version": "1.5.0",
            "_model_name": "HTMLModel",
            "_view_count": null,
            "_view_module": "@jupyter-widgets/controls",
            "_view_module_version": "1.5.0",
            "_view_name": "HTMLView",
            "description": "",
            "description_tooltip": null,
            "layout": "IPY_MODEL_e10e32d3b4c84a91bbc5d3961d0cb3b2",
            "placeholder": "​",
            "style": "IPY_MODEL_c04525ecbfe642a6842c5f16fe469889",
            "value": "Downloading builder script: 100%"
          }
        },
        "75080c0eb1db4a8db3170da08e0f18ba": {
          "model_module": "@jupyter-widgets/controls",
          "model_name": "FloatProgressModel",
          "model_module_version": "1.5.0",
          "state": {
            "_dom_classes": [],
            "_model_module": "@jupyter-widgets/controls",
            "_model_module_version": "1.5.0",
            "_model_name": "FloatProgressModel",
            "_view_count": null,
            "_view_module": "@jupyter-widgets/controls",
            "_view_module_version": "1.5.0",
            "_view_name": "ProgressView",
            "bar_style": "success",
            "description": "",
            "description_tooltip": null,
            "layout": "IPY_MODEL_98c4d92afb8e417bad5a612780ba1956",
            "max": 4314,
            "min": 0,
            "orientation": "horizontal",
            "style": "IPY_MODEL_63e54dab498046aab7333ee392f34458",
            "value": 4314
          }
        },
        "46f728328cf54e0c813a94feabdf6a3d": {
          "model_module": "@jupyter-widgets/controls",
          "model_name": "HTMLModel",
          "model_module_version": "1.5.0",
          "state": {
            "_dom_classes": [],
            "_model_module": "@jupyter-widgets/controls",
            "_model_module_version": "1.5.0",
            "_model_name": "HTMLModel",
            "_view_count": null,
            "_view_module": "@jupyter-widgets/controls",
            "_view_module_version": "1.5.0",
            "_view_name": "HTMLView",
            "description": "",
            "description_tooltip": null,
            "layout": "IPY_MODEL_71ace5bb8adf424290d5ed598e5c899d",
            "placeholder": "​",
            "style": "IPY_MODEL_a350439030fa4b4c98a76a7ed2cf27fd",
            "value": " 4.31k/4.31k [00:00&lt;00:00, 190kB/s]"
          }
        },
        "763a8e5ac9904c5db024b7f72e3be0c0": {
          "model_module": "@jupyter-widgets/base",
          "model_name": "LayoutModel",
          "model_module_version": "1.2.0",
          "state": {
            "_model_module": "@jupyter-widgets/base",
            "_model_module_version": "1.2.0",
            "_model_name": "LayoutModel",
            "_view_count": null,
            "_view_module": "@jupyter-widgets/base",
            "_view_module_version": "1.2.0",
            "_view_name": "LayoutView",
            "align_content": null,
            "align_items": null,
            "align_self": null,
            "border": null,
            "bottom": null,
            "display": null,
            "flex": null,
            "flex_flow": null,
            "grid_area": null,
            "grid_auto_columns": null,
            "grid_auto_flow": null,
            "grid_auto_rows": null,
            "grid_column": null,
            "grid_gap": null,
            "grid_row": null,
            "grid_template_areas": null,
            "grid_template_columns": null,
            "grid_template_rows": null,
            "height": null,
            "justify_content": null,
            "justify_items": null,
            "left": null,
            "margin": null,
            "max_height": null,
            "max_width": null,
            "min_height": null,
            "min_width": null,
            "object_fit": null,
            "object_position": null,
            "order": null,
            "overflow": null,
            "overflow_x": null,
            "overflow_y": null,
            "padding": null,
            "right": null,
            "top": null,
            "visibility": null,
            "width": null
          }
        },
        "e10e32d3b4c84a91bbc5d3961d0cb3b2": {
          "model_module": "@jupyter-widgets/base",
          "model_name": "LayoutModel",
          "model_module_version": "1.2.0",
          "state": {
            "_model_module": "@jupyter-widgets/base",
            "_model_module_version": "1.2.0",
            "_model_name": "LayoutModel",
            "_view_count": null,
            "_view_module": "@jupyter-widgets/base",
            "_view_module_version": "1.2.0",
            "_view_name": "LayoutView",
            "align_content": null,
            "align_items": null,
            "align_self": null,
            "border": null,
            "bottom": null,
            "display": null,
            "flex": null,
            "flex_flow": null,
            "grid_area": null,
            "grid_auto_columns": null,
            "grid_auto_flow": null,
            "grid_auto_rows": null,
            "grid_column": null,
            "grid_gap": null,
            "grid_row": null,
            "grid_template_areas": null,
            "grid_template_columns": null,
            "grid_template_rows": null,
            "height": null,
            "justify_content": null,
            "justify_items": null,
            "left": null,
            "margin": null,
            "max_height": null,
            "max_width": null,
            "min_height": null,
            "min_width": null,
            "object_fit": null,
            "object_position": null,
            "order": null,
            "overflow": null,
            "overflow_x": null,
            "overflow_y": null,
            "padding": null,
            "right": null,
            "top": null,
            "visibility": null,
            "width": null
          }
        },
        "c04525ecbfe642a6842c5f16fe469889": {
          "model_module": "@jupyter-widgets/controls",
          "model_name": "DescriptionStyleModel",
          "model_module_version": "1.5.0",
          "state": {
            "_model_module": "@jupyter-widgets/controls",
            "_model_module_version": "1.5.0",
            "_model_name": "DescriptionStyleModel",
            "_view_count": null,
            "_view_module": "@jupyter-widgets/base",
            "_view_module_version": "1.2.0",
            "_view_name": "StyleView",
            "description_width": ""
          }
        },
        "98c4d92afb8e417bad5a612780ba1956": {
          "model_module": "@jupyter-widgets/base",
          "model_name": "LayoutModel",
          "model_module_version": "1.2.0",
          "state": {
            "_model_module": "@jupyter-widgets/base",
            "_model_module_version": "1.2.0",
            "_model_name": "LayoutModel",
            "_view_count": null,
            "_view_module": "@jupyter-widgets/base",
            "_view_module_version": "1.2.0",
            "_view_name": "LayoutView",
            "align_content": null,
            "align_items": null,
            "align_self": null,
            "border": null,
            "bottom": null,
            "display": null,
            "flex": null,
            "flex_flow": null,
            "grid_area": null,
            "grid_auto_columns": null,
            "grid_auto_flow": null,
            "grid_auto_rows": null,
            "grid_column": null,
            "grid_gap": null,
            "grid_row": null,
            "grid_template_areas": null,
            "grid_template_columns": null,
            "grid_template_rows": null,
            "height": null,
            "justify_content": null,
            "justify_items": null,
            "left": null,
            "margin": null,
            "max_height": null,
            "max_width": null,
            "min_height": null,
            "min_width": null,
            "object_fit": null,
            "object_position": null,
            "order": null,
            "overflow": null,
            "overflow_x": null,
            "overflow_y": null,
            "padding": null,
            "right": null,
            "top": null,
            "visibility": null,
            "width": null
          }
        },
        "63e54dab498046aab7333ee392f34458": {
          "model_module": "@jupyter-widgets/controls",
          "model_name": "ProgressStyleModel",
          "model_module_version": "1.5.0",
          "state": {
            "_model_module": "@jupyter-widgets/controls",
            "_model_module_version": "1.5.0",
            "_model_name": "ProgressStyleModel",
            "_view_count": null,
            "_view_module": "@jupyter-widgets/base",
            "_view_module_version": "1.2.0",
            "_view_name": "StyleView",
            "bar_color": null,
            "description_width": ""
          }
        },
        "71ace5bb8adf424290d5ed598e5c899d": {
          "model_module": "@jupyter-widgets/base",
          "model_name": "LayoutModel",
          "model_module_version": "1.2.0",
          "state": {
            "_model_module": "@jupyter-widgets/base",
            "_model_module_version": "1.2.0",
            "_model_name": "LayoutModel",
            "_view_count": null,
            "_view_module": "@jupyter-widgets/base",
            "_view_module_version": "1.2.0",
            "_view_name": "LayoutView",
            "align_content": null,
            "align_items": null,
            "align_self": null,
            "border": null,
            "bottom": null,
            "display": null,
            "flex": null,
            "flex_flow": null,
            "grid_area": null,
            "grid_auto_columns": null,
            "grid_auto_flow": null,
            "grid_auto_rows": null,
            "grid_column": null,
            "grid_gap": null,
            "grid_row": null,
            "grid_template_areas": null,
            "grid_template_columns": null,
            "grid_template_rows": null,
            "height": null,
            "justify_content": null,
            "justify_items": null,
            "left": null,
            "margin": null,
            "max_height": null,
            "max_width": null,
            "min_height": null,
            "min_width": null,
            "object_fit": null,
            "object_position": null,
            "order": null,
            "overflow": null,
            "overflow_x": null,
            "overflow_y": null,
            "padding": null,
            "right": null,
            "top": null,
            "visibility": null,
            "width": null
          }
        },
        "a350439030fa4b4c98a76a7ed2cf27fd": {
          "model_module": "@jupyter-widgets/controls",
          "model_name": "DescriptionStyleModel",
          "model_module_version": "1.5.0",
          "state": {
            "_model_module": "@jupyter-widgets/controls",
            "_model_module_version": "1.5.0",
            "_model_name": "DescriptionStyleModel",
            "_view_count": null,
            "_view_module": "@jupyter-widgets/base",
            "_view_module_version": "1.2.0",
            "_view_name": "StyleView",
            "description_width": ""
          }
        },
        "91e869c60344410ca1982c91b55cb7c2": {
          "model_module": "@jupyter-widgets/controls",
          "model_name": "HBoxModel",
          "model_module_version": "1.5.0",
          "state": {
            "_dom_classes": [],
            "_model_module": "@jupyter-widgets/controls",
            "_model_module_version": "1.5.0",
            "_model_name": "HBoxModel",
            "_view_count": null,
            "_view_module": "@jupyter-widgets/controls",
            "_view_module_version": "1.5.0",
            "_view_name": "HBoxView",
            "box_style": "",
            "children": [
              "IPY_MODEL_cf4e91ca31354deea715424b65c44ef8",
              "IPY_MODEL_0b974f7eeb4640cca6200dd53aa972f5",
              "IPY_MODEL_4e87846f829846ca804b6322f75f44ea"
            ],
            "layout": "IPY_MODEL_86b320d30d8c495286499e038f243a94"
          }
        },
        "cf4e91ca31354deea715424b65c44ef8": {
          "model_module": "@jupyter-widgets/controls",
          "model_name": "HTMLModel",
          "model_module_version": "1.5.0",
          "state": {
            "_dom_classes": [],
            "_model_module": "@jupyter-widgets/controls",
            "_model_module_version": "1.5.0",
            "_model_name": "HTMLModel",
            "_view_count": null,
            "_view_module": "@jupyter-widgets/controls",
            "_view_module_version": "1.5.0",
            "_view_name": "HTMLView",
            "description": "",
            "description_tooltip": null,
            "layout": "IPY_MODEL_24f41ba909ed4c9ca0e8d0a65ceff153",
            "placeholder": "​",
            "style": "IPY_MODEL_7986408a5dc44559bd1a13ca48bbd2d9",
            "value": "Downloading metadata: 100%"
          }
        },
        "0b974f7eeb4640cca6200dd53aa972f5": {
          "model_module": "@jupyter-widgets/controls",
          "model_name": "FloatProgressModel",
          "model_module_version": "1.5.0",
          "state": {
            "_dom_classes": [],
            "_model_module": "@jupyter-widgets/controls",
            "_model_module_version": "1.5.0",
            "_model_name": "FloatProgressModel",
            "_view_count": null,
            "_view_module": "@jupyter-widgets/controls",
            "_view_module_version": "1.5.0",
            "_view_name": "ProgressView",
            "bar_style": "success",
            "description": "",
            "description_tooltip": null,
            "layout": "IPY_MODEL_3f1ebaf342ec4294b6c0c1c64cfe9603",
            "max": 2166,
            "min": 0,
            "orientation": "horizontal",
            "style": "IPY_MODEL_66d7377007fa46088136fcaa074b9f2d",
            "value": 2166
          }
        },
        "4e87846f829846ca804b6322f75f44ea": {
          "model_module": "@jupyter-widgets/controls",
          "model_name": "HTMLModel",
          "model_module_version": "1.5.0",
          "state": {
            "_dom_classes": [],
            "_model_module": "@jupyter-widgets/controls",
            "_model_module_version": "1.5.0",
            "_model_name": "HTMLModel",
            "_view_count": null,
            "_view_module": "@jupyter-widgets/controls",
            "_view_module_version": "1.5.0",
            "_view_name": "HTMLView",
            "description": "",
            "description_tooltip": null,
            "layout": "IPY_MODEL_f3caec0de71b41b1a35297454741bce7",
            "placeholder": "​",
            "style": "IPY_MODEL_91ccb76f794c4bd4a31d03f7585e33b8",
            "value": " 2.17k/2.17k [00:00&lt;00:00, 95.3kB/s]"
          }
        },
        "86b320d30d8c495286499e038f243a94": {
          "model_module": "@jupyter-widgets/base",
          "model_name": "LayoutModel",
          "model_module_version": "1.2.0",
          "state": {
            "_model_module": "@jupyter-widgets/base",
            "_model_module_version": "1.2.0",
            "_model_name": "LayoutModel",
            "_view_count": null,
            "_view_module": "@jupyter-widgets/base",
            "_view_module_version": "1.2.0",
            "_view_name": "LayoutView",
            "align_content": null,
            "align_items": null,
            "align_self": null,
            "border": null,
            "bottom": null,
            "display": null,
            "flex": null,
            "flex_flow": null,
            "grid_area": null,
            "grid_auto_columns": null,
            "grid_auto_flow": null,
            "grid_auto_rows": null,
            "grid_column": null,
            "grid_gap": null,
            "grid_row": null,
            "grid_template_areas": null,
            "grid_template_columns": null,
            "grid_template_rows": null,
            "height": null,
            "justify_content": null,
            "justify_items": null,
            "left": null,
            "margin": null,
            "max_height": null,
            "max_width": null,
            "min_height": null,
            "min_width": null,
            "object_fit": null,
            "object_position": null,
            "order": null,
            "overflow": null,
            "overflow_x": null,
            "overflow_y": null,
            "padding": null,
            "right": null,
            "top": null,
            "visibility": null,
            "width": null
          }
        },
        "24f41ba909ed4c9ca0e8d0a65ceff153": {
          "model_module": "@jupyter-widgets/base",
          "model_name": "LayoutModel",
          "model_module_version": "1.2.0",
          "state": {
            "_model_module": "@jupyter-widgets/base",
            "_model_module_version": "1.2.0",
            "_model_name": "LayoutModel",
            "_view_count": null,
            "_view_module": "@jupyter-widgets/base",
            "_view_module_version": "1.2.0",
            "_view_name": "LayoutView",
            "align_content": null,
            "align_items": null,
            "align_self": null,
            "border": null,
            "bottom": null,
            "display": null,
            "flex": null,
            "flex_flow": null,
            "grid_area": null,
            "grid_auto_columns": null,
            "grid_auto_flow": null,
            "grid_auto_rows": null,
            "grid_column": null,
            "grid_gap": null,
            "grid_row": null,
            "grid_template_areas": null,
            "grid_template_columns": null,
            "grid_template_rows": null,
            "height": null,
            "justify_content": null,
            "justify_items": null,
            "left": null,
            "margin": null,
            "max_height": null,
            "max_width": null,
            "min_height": null,
            "min_width": null,
            "object_fit": null,
            "object_position": null,
            "order": null,
            "overflow": null,
            "overflow_x": null,
            "overflow_y": null,
            "padding": null,
            "right": null,
            "top": null,
            "visibility": null,
            "width": null
          }
        },
        "7986408a5dc44559bd1a13ca48bbd2d9": {
          "model_module": "@jupyter-widgets/controls",
          "model_name": "DescriptionStyleModel",
          "model_module_version": "1.5.0",
          "state": {
            "_model_module": "@jupyter-widgets/controls",
            "_model_module_version": "1.5.0",
            "_model_name": "DescriptionStyleModel",
            "_view_count": null,
            "_view_module": "@jupyter-widgets/base",
            "_view_module_version": "1.2.0",
            "_view_name": "StyleView",
            "description_width": ""
          }
        },
        "3f1ebaf342ec4294b6c0c1c64cfe9603": {
          "model_module": "@jupyter-widgets/base",
          "model_name": "LayoutModel",
          "model_module_version": "1.2.0",
          "state": {
            "_model_module": "@jupyter-widgets/base",
            "_model_module_version": "1.2.0",
            "_model_name": "LayoutModel",
            "_view_count": null,
            "_view_module": "@jupyter-widgets/base",
            "_view_module_version": "1.2.0",
            "_view_name": "LayoutView",
            "align_content": null,
            "align_items": null,
            "align_self": null,
            "border": null,
            "bottom": null,
            "display": null,
            "flex": null,
            "flex_flow": null,
            "grid_area": null,
            "grid_auto_columns": null,
            "grid_auto_flow": null,
            "grid_auto_rows": null,
            "grid_column": null,
            "grid_gap": null,
            "grid_row": null,
            "grid_template_areas": null,
            "grid_template_columns": null,
            "grid_template_rows": null,
            "height": null,
            "justify_content": null,
            "justify_items": null,
            "left": null,
            "margin": null,
            "max_height": null,
            "max_width": null,
            "min_height": null,
            "min_width": null,
            "object_fit": null,
            "object_position": null,
            "order": null,
            "overflow": null,
            "overflow_x": null,
            "overflow_y": null,
            "padding": null,
            "right": null,
            "top": null,
            "visibility": null,
            "width": null
          }
        },
        "66d7377007fa46088136fcaa074b9f2d": {
          "model_module": "@jupyter-widgets/controls",
          "model_name": "ProgressStyleModel",
          "model_module_version": "1.5.0",
          "state": {
            "_model_module": "@jupyter-widgets/controls",
            "_model_module_version": "1.5.0",
            "_model_name": "ProgressStyleModel",
            "_view_count": null,
            "_view_module": "@jupyter-widgets/base",
            "_view_module_version": "1.2.0",
            "_view_name": "StyleView",
            "bar_color": null,
            "description_width": ""
          }
        },
        "f3caec0de71b41b1a35297454741bce7": {
          "model_module": "@jupyter-widgets/base",
          "model_name": "LayoutModel",
          "model_module_version": "1.2.0",
          "state": {
            "_model_module": "@jupyter-widgets/base",
            "_model_module_version": "1.2.0",
            "_model_name": "LayoutModel",
            "_view_count": null,
            "_view_module": "@jupyter-widgets/base",
            "_view_module_version": "1.2.0",
            "_view_name": "LayoutView",
            "align_content": null,
            "align_items": null,
            "align_self": null,
            "border": null,
            "bottom": null,
            "display": null,
            "flex": null,
            "flex_flow": null,
            "grid_area": null,
            "grid_auto_columns": null,
            "grid_auto_flow": null,
            "grid_auto_rows": null,
            "grid_column": null,
            "grid_gap": null,
            "grid_row": null,
            "grid_template_areas": null,
            "grid_template_columns": null,
            "grid_template_rows": null,
            "height": null,
            "justify_content": null,
            "justify_items": null,
            "left": null,
            "margin": null,
            "max_height": null,
            "max_width": null,
            "min_height": null,
            "min_width": null,
            "object_fit": null,
            "object_position": null,
            "order": null,
            "overflow": null,
            "overflow_x": null,
            "overflow_y": null,
            "padding": null,
            "right": null,
            "top": null,
            "visibility": null,
            "width": null
          }
        },
        "91ccb76f794c4bd4a31d03f7585e33b8": {
          "model_module": "@jupyter-widgets/controls",
          "model_name": "DescriptionStyleModel",
          "model_module_version": "1.5.0",
          "state": {
            "_model_module": "@jupyter-widgets/controls",
            "_model_module_version": "1.5.0",
            "_model_name": "DescriptionStyleModel",
            "_view_count": null,
            "_view_module": "@jupyter-widgets/base",
            "_view_module_version": "1.2.0",
            "_view_name": "StyleView",
            "description_width": ""
          }
        },
        "1adf102b5198464b8b315447f60c74f0": {
          "model_module": "@jupyter-widgets/controls",
          "model_name": "HBoxModel",
          "model_module_version": "1.5.0",
          "state": {
            "_dom_classes": [],
            "_model_module": "@jupyter-widgets/controls",
            "_model_module_version": "1.5.0",
            "_model_name": "HBoxModel",
            "_view_count": null,
            "_view_module": "@jupyter-widgets/controls",
            "_view_module_version": "1.5.0",
            "_view_name": "HBoxView",
            "box_style": "",
            "children": [
              "IPY_MODEL_3b33b2c9291f4c9693d18651951e875b",
              "IPY_MODEL_c915c7116d4a4d9fbfeaa767a48335b8",
              "IPY_MODEL_bcb815e558184e74ba602be7905edb1f"
            ],
            "layout": "IPY_MODEL_482e8b18f1a5408bb3b1a7e155498c9a"
          }
        },
        "3b33b2c9291f4c9693d18651951e875b": {
          "model_module": "@jupyter-widgets/controls",
          "model_name": "HTMLModel",
          "model_module_version": "1.5.0",
          "state": {
            "_dom_classes": [],
            "_model_module": "@jupyter-widgets/controls",
            "_model_module_version": "1.5.0",
            "_model_name": "HTMLModel",
            "_view_count": null,
            "_view_module": "@jupyter-widgets/controls",
            "_view_module_version": "1.5.0",
            "_view_name": "HTMLView",
            "description": "",
            "description_tooltip": null,
            "layout": "IPY_MODEL_6fa41a95d6f347e6b772558173eeac04",
            "placeholder": "​",
            "style": "IPY_MODEL_d1e67dab7ccc4536bdf1c1d32815dc99",
            "value": "Downloading readme: 100%"
          }
        },
        "c915c7116d4a4d9fbfeaa767a48335b8": {
          "model_module": "@jupyter-widgets/controls",
          "model_name": "FloatProgressModel",
          "model_module_version": "1.5.0",
          "state": {
            "_dom_classes": [],
            "_model_module": "@jupyter-widgets/controls",
            "_model_module_version": "1.5.0",
            "_model_name": "FloatProgressModel",
            "_view_count": null,
            "_view_module": "@jupyter-widgets/controls",
            "_view_module_version": "1.5.0",
            "_view_name": "ProgressView",
            "bar_style": "success",
            "description": "",
            "description_tooltip": null,
            "layout": "IPY_MODEL_9ef7fad250414d7aa762207cce780ed2",
            "max": 7590,
            "min": 0,
            "orientation": "horizontal",
            "style": "IPY_MODEL_e5dab037dfad480681076c6a9fb124e4",
            "value": 7590
          }
        },
        "bcb815e558184e74ba602be7905edb1f": {
          "model_module": "@jupyter-widgets/controls",
          "model_name": "HTMLModel",
          "model_module_version": "1.5.0",
          "state": {
            "_dom_classes": [],
            "_model_module": "@jupyter-widgets/controls",
            "_model_module_version": "1.5.0",
            "_model_name": "HTMLModel",
            "_view_count": null,
            "_view_module": "@jupyter-widgets/controls",
            "_view_module_version": "1.5.0",
            "_view_name": "HTMLView",
            "description": "",
            "description_tooltip": null,
            "layout": "IPY_MODEL_8cc4b364539248c9b0d61f477b3c876c",
            "placeholder": "​",
            "style": "IPY_MODEL_f225e3dc340e41848777684643b7c17b",
            "value": " 7.59k/7.59k [00:00&lt;00:00, 280kB/s]"
          }
        },
        "482e8b18f1a5408bb3b1a7e155498c9a": {
          "model_module": "@jupyter-widgets/base",
          "model_name": "LayoutModel",
          "model_module_version": "1.2.0",
          "state": {
            "_model_module": "@jupyter-widgets/base",
            "_model_module_version": "1.2.0",
            "_model_name": "LayoutModel",
            "_view_count": null,
            "_view_module": "@jupyter-widgets/base",
            "_view_module_version": "1.2.0",
            "_view_name": "LayoutView",
            "align_content": null,
            "align_items": null,
            "align_self": null,
            "border": null,
            "bottom": null,
            "display": null,
            "flex": null,
            "flex_flow": null,
            "grid_area": null,
            "grid_auto_columns": null,
            "grid_auto_flow": null,
            "grid_auto_rows": null,
            "grid_column": null,
            "grid_gap": null,
            "grid_row": null,
            "grid_template_areas": null,
            "grid_template_columns": null,
            "grid_template_rows": null,
            "height": null,
            "justify_content": null,
            "justify_items": null,
            "left": null,
            "margin": null,
            "max_height": null,
            "max_width": null,
            "min_height": null,
            "min_width": null,
            "object_fit": null,
            "object_position": null,
            "order": null,
            "overflow": null,
            "overflow_x": null,
            "overflow_y": null,
            "padding": null,
            "right": null,
            "top": null,
            "visibility": null,
            "width": null
          }
        },
        "6fa41a95d6f347e6b772558173eeac04": {
          "model_module": "@jupyter-widgets/base",
          "model_name": "LayoutModel",
          "model_module_version": "1.2.0",
          "state": {
            "_model_module": "@jupyter-widgets/base",
            "_model_module_version": "1.2.0",
            "_model_name": "LayoutModel",
            "_view_count": null,
            "_view_module": "@jupyter-widgets/base",
            "_view_module_version": "1.2.0",
            "_view_name": "LayoutView",
            "align_content": null,
            "align_items": null,
            "align_self": null,
            "border": null,
            "bottom": null,
            "display": null,
            "flex": null,
            "flex_flow": null,
            "grid_area": null,
            "grid_auto_columns": null,
            "grid_auto_flow": null,
            "grid_auto_rows": null,
            "grid_column": null,
            "grid_gap": null,
            "grid_row": null,
            "grid_template_areas": null,
            "grid_template_columns": null,
            "grid_template_rows": null,
            "height": null,
            "justify_content": null,
            "justify_items": null,
            "left": null,
            "margin": null,
            "max_height": null,
            "max_width": null,
            "min_height": null,
            "min_width": null,
            "object_fit": null,
            "object_position": null,
            "order": null,
            "overflow": null,
            "overflow_x": null,
            "overflow_y": null,
            "padding": null,
            "right": null,
            "top": null,
            "visibility": null,
            "width": null
          }
        },
        "d1e67dab7ccc4536bdf1c1d32815dc99": {
          "model_module": "@jupyter-widgets/controls",
          "model_name": "DescriptionStyleModel",
          "model_module_version": "1.5.0",
          "state": {
            "_model_module": "@jupyter-widgets/controls",
            "_model_module_version": "1.5.0",
            "_model_name": "DescriptionStyleModel",
            "_view_count": null,
            "_view_module": "@jupyter-widgets/base",
            "_view_module_version": "1.2.0",
            "_view_name": "StyleView",
            "description_width": ""
          }
        },
        "9ef7fad250414d7aa762207cce780ed2": {
          "model_module": "@jupyter-widgets/base",
          "model_name": "LayoutModel",
          "model_module_version": "1.2.0",
          "state": {
            "_model_module": "@jupyter-widgets/base",
            "_model_module_version": "1.2.0",
            "_model_name": "LayoutModel",
            "_view_count": null,
            "_view_module": "@jupyter-widgets/base",
            "_view_module_version": "1.2.0",
            "_view_name": "LayoutView",
            "align_content": null,
            "align_items": null,
            "align_self": null,
            "border": null,
            "bottom": null,
            "display": null,
            "flex": null,
            "flex_flow": null,
            "grid_area": null,
            "grid_auto_columns": null,
            "grid_auto_flow": null,
            "grid_auto_rows": null,
            "grid_column": null,
            "grid_gap": null,
            "grid_row": null,
            "grid_template_areas": null,
            "grid_template_columns": null,
            "grid_template_rows": null,
            "height": null,
            "justify_content": null,
            "justify_items": null,
            "left": null,
            "margin": null,
            "max_height": null,
            "max_width": null,
            "min_height": null,
            "min_width": null,
            "object_fit": null,
            "object_position": null,
            "order": null,
            "overflow": null,
            "overflow_x": null,
            "overflow_y": null,
            "padding": null,
            "right": null,
            "top": null,
            "visibility": null,
            "width": null
          }
        },
        "e5dab037dfad480681076c6a9fb124e4": {
          "model_module": "@jupyter-widgets/controls",
          "model_name": "ProgressStyleModel",
          "model_module_version": "1.5.0",
          "state": {
            "_model_module": "@jupyter-widgets/controls",
            "_model_module_version": "1.5.0",
            "_model_name": "ProgressStyleModel",
            "_view_count": null,
            "_view_module": "@jupyter-widgets/base",
            "_view_module_version": "1.2.0",
            "_view_name": "StyleView",
            "bar_color": null,
            "description_width": ""
          }
        },
        "8cc4b364539248c9b0d61f477b3c876c": {
          "model_module": "@jupyter-widgets/base",
          "model_name": "LayoutModel",
          "model_module_version": "1.2.0",
          "state": {
            "_model_module": "@jupyter-widgets/base",
            "_model_module_version": "1.2.0",
            "_model_name": "LayoutModel",
            "_view_count": null,
            "_view_module": "@jupyter-widgets/base",
            "_view_module_version": "1.2.0",
            "_view_name": "LayoutView",
            "align_content": null,
            "align_items": null,
            "align_self": null,
            "border": null,
            "bottom": null,
            "display": null,
            "flex": null,
            "flex_flow": null,
            "grid_area": null,
            "grid_auto_columns": null,
            "grid_auto_flow": null,
            "grid_auto_rows": null,
            "grid_column": null,
            "grid_gap": null,
            "grid_row": null,
            "grid_template_areas": null,
            "grid_template_columns": null,
            "grid_template_rows": null,
            "height": null,
            "justify_content": null,
            "justify_items": null,
            "left": null,
            "margin": null,
            "max_height": null,
            "max_width": null,
            "min_height": null,
            "min_width": null,
            "object_fit": null,
            "object_position": null,
            "order": null,
            "overflow": null,
            "overflow_x": null,
            "overflow_y": null,
            "padding": null,
            "right": null,
            "top": null,
            "visibility": null,
            "width": null
          }
        },
        "f225e3dc340e41848777684643b7c17b": {
          "model_module": "@jupyter-widgets/controls",
          "model_name": "DescriptionStyleModel",
          "model_module_version": "1.5.0",
          "state": {
            "_model_module": "@jupyter-widgets/controls",
            "_model_module_version": "1.5.0",
            "_model_name": "DescriptionStyleModel",
            "_view_count": null,
            "_view_module": "@jupyter-widgets/base",
            "_view_module_version": "1.2.0",
            "_view_name": "StyleView",
            "description_width": ""
          }
        },
        "5e0dc1aba17c4c759ec9527a2a585bed": {
          "model_module": "@jupyter-widgets/controls",
          "model_name": "HBoxModel",
          "model_module_version": "1.5.0",
          "state": {
            "_dom_classes": [],
            "_model_module": "@jupyter-widgets/controls",
            "_model_module_version": "1.5.0",
            "_model_name": "HBoxModel",
            "_view_count": null,
            "_view_module": "@jupyter-widgets/controls",
            "_view_module_version": "1.5.0",
            "_view_name": "HBoxView",
            "box_style": "",
            "children": [
              "IPY_MODEL_b6888e8e924b42309de04aadde618539",
              "IPY_MODEL_e060285cb1424ac88727ea053f8d79dc",
              "IPY_MODEL_2a92c45afc77497e93e9da4cec468799"
            ],
            "layout": "IPY_MODEL_387aaa8195f9471ea5e3c72c82cc1c10"
          }
        },
        "b6888e8e924b42309de04aadde618539": {
          "model_module": "@jupyter-widgets/controls",
          "model_name": "HTMLModel",
          "model_module_version": "1.5.0",
          "state": {
            "_dom_classes": [],
            "_model_module": "@jupyter-widgets/controls",
            "_model_module_version": "1.5.0",
            "_model_name": "HTMLModel",
            "_view_count": null,
            "_view_module": "@jupyter-widgets/controls",
            "_view_module_version": "1.5.0",
            "_view_name": "HTMLView",
            "description": "",
            "description_tooltip": null,
            "layout": "IPY_MODEL_8b861454a9344002886258784fe412fd",
            "placeholder": "​",
            "style": "IPY_MODEL_368a5cabdfd744eb9f3731d8fc10a6bf",
            "value": "Downloading data: 100%"
          }
        },
        "e060285cb1424ac88727ea053f8d79dc": {
          "model_module": "@jupyter-widgets/controls",
          "model_name": "FloatProgressModel",
          "model_module_version": "1.5.0",
          "state": {
            "_dom_classes": [],
            "_model_module": "@jupyter-widgets/controls",
            "_model_module_version": "1.5.0",
            "_model_name": "FloatProgressModel",
            "_view_count": null,
            "_view_module": "@jupyter-widgets/controls",
            "_view_module_version": "1.5.0",
            "_view_name": "ProgressView",
            "bar_style": "success",
            "description": "",
            "description_tooltip": null,
            "layout": "IPY_MODEL_6110b7bcd13f4b9facd0e06962f1de1f",
            "max": 84125825,
            "min": 0,
            "orientation": "horizontal",
            "style": "IPY_MODEL_a19f2ef17f7d4037a82a9aa6d2db8c96",
            "value": 84125825
          }
        },
        "2a92c45afc77497e93e9da4cec468799": {
          "model_module": "@jupyter-widgets/controls",
          "model_name": "HTMLModel",
          "model_module_version": "1.5.0",
          "state": {
            "_dom_classes": [],
            "_model_module": "@jupyter-widgets/controls",
            "_model_module_version": "1.5.0",
            "_model_name": "HTMLModel",
            "_view_count": null,
            "_view_module": "@jupyter-widgets/controls",
            "_view_module_version": "1.5.0",
            "_view_name": "HTMLView",
            "description": "",
            "description_tooltip": null,
            "layout": "IPY_MODEL_a874bf394d974dc28e56ee66517820d0",
            "placeholder": "​",
            "style": "IPY_MODEL_82d51f595b7542c08f182d9a0e3af1eb",
            "value": " 84.1M/84.1M [00:07&lt;00:00, 20.2MB/s]"
          }
        },
        "387aaa8195f9471ea5e3c72c82cc1c10": {
          "model_module": "@jupyter-widgets/base",
          "model_name": "LayoutModel",
          "model_module_version": "1.2.0",
          "state": {
            "_model_module": "@jupyter-widgets/base",
            "_model_module_version": "1.2.0",
            "_model_name": "LayoutModel",
            "_view_count": null,
            "_view_module": "@jupyter-widgets/base",
            "_view_module_version": "1.2.0",
            "_view_name": "LayoutView",
            "align_content": null,
            "align_items": null,
            "align_self": null,
            "border": null,
            "bottom": null,
            "display": null,
            "flex": null,
            "flex_flow": null,
            "grid_area": null,
            "grid_auto_columns": null,
            "grid_auto_flow": null,
            "grid_auto_rows": null,
            "grid_column": null,
            "grid_gap": null,
            "grid_row": null,
            "grid_template_areas": null,
            "grid_template_columns": null,
            "grid_template_rows": null,
            "height": null,
            "justify_content": null,
            "justify_items": null,
            "left": null,
            "margin": null,
            "max_height": null,
            "max_width": null,
            "min_height": null,
            "min_width": null,
            "object_fit": null,
            "object_position": null,
            "order": null,
            "overflow": null,
            "overflow_x": null,
            "overflow_y": null,
            "padding": null,
            "right": null,
            "top": null,
            "visibility": null,
            "width": null
          }
        },
        "8b861454a9344002886258784fe412fd": {
          "model_module": "@jupyter-widgets/base",
          "model_name": "LayoutModel",
          "model_module_version": "1.2.0",
          "state": {
            "_model_module": "@jupyter-widgets/base",
            "_model_module_version": "1.2.0",
            "_model_name": "LayoutModel",
            "_view_count": null,
            "_view_module": "@jupyter-widgets/base",
            "_view_module_version": "1.2.0",
            "_view_name": "LayoutView",
            "align_content": null,
            "align_items": null,
            "align_self": null,
            "border": null,
            "bottom": null,
            "display": null,
            "flex": null,
            "flex_flow": null,
            "grid_area": null,
            "grid_auto_columns": null,
            "grid_auto_flow": null,
            "grid_auto_rows": null,
            "grid_column": null,
            "grid_gap": null,
            "grid_row": null,
            "grid_template_areas": null,
            "grid_template_columns": null,
            "grid_template_rows": null,
            "height": null,
            "justify_content": null,
            "justify_items": null,
            "left": null,
            "margin": null,
            "max_height": null,
            "max_width": null,
            "min_height": null,
            "min_width": null,
            "object_fit": null,
            "object_position": null,
            "order": null,
            "overflow": null,
            "overflow_x": null,
            "overflow_y": null,
            "padding": null,
            "right": null,
            "top": null,
            "visibility": null,
            "width": null
          }
        },
        "368a5cabdfd744eb9f3731d8fc10a6bf": {
          "model_module": "@jupyter-widgets/controls",
          "model_name": "DescriptionStyleModel",
          "model_module_version": "1.5.0",
          "state": {
            "_model_module": "@jupyter-widgets/controls",
            "_model_module_version": "1.5.0",
            "_model_name": "DescriptionStyleModel",
            "_view_count": null,
            "_view_module": "@jupyter-widgets/base",
            "_view_module_version": "1.2.0",
            "_view_name": "StyleView",
            "description_width": ""
          }
        },
        "6110b7bcd13f4b9facd0e06962f1de1f": {
          "model_module": "@jupyter-widgets/base",
          "model_name": "LayoutModel",
          "model_module_version": "1.2.0",
          "state": {
            "_model_module": "@jupyter-widgets/base",
            "_model_module_version": "1.2.0",
            "_model_name": "LayoutModel",
            "_view_count": null,
            "_view_module": "@jupyter-widgets/base",
            "_view_module_version": "1.2.0",
            "_view_name": "LayoutView",
            "align_content": null,
            "align_items": null,
            "align_self": null,
            "border": null,
            "bottom": null,
            "display": null,
            "flex": null,
            "flex_flow": null,
            "grid_area": null,
            "grid_auto_columns": null,
            "grid_auto_flow": null,
            "grid_auto_rows": null,
            "grid_column": null,
            "grid_gap": null,
            "grid_row": null,
            "grid_template_areas": null,
            "grid_template_columns": null,
            "grid_template_rows": null,
            "height": null,
            "justify_content": null,
            "justify_items": null,
            "left": null,
            "margin": null,
            "max_height": null,
            "max_width": null,
            "min_height": null,
            "min_width": null,
            "object_fit": null,
            "object_position": null,
            "order": null,
            "overflow": null,
            "overflow_x": null,
            "overflow_y": null,
            "padding": null,
            "right": null,
            "top": null,
            "visibility": null,
            "width": null
          }
        },
        "a19f2ef17f7d4037a82a9aa6d2db8c96": {
          "model_module": "@jupyter-widgets/controls",
          "model_name": "ProgressStyleModel",
          "model_module_version": "1.5.0",
          "state": {
            "_model_module": "@jupyter-widgets/controls",
            "_model_module_version": "1.5.0",
            "_model_name": "ProgressStyleModel",
            "_view_count": null,
            "_view_module": "@jupyter-widgets/base",
            "_view_module_version": "1.2.0",
            "_view_name": "StyleView",
            "bar_color": null,
            "description_width": ""
          }
        },
        "a874bf394d974dc28e56ee66517820d0": {
          "model_module": "@jupyter-widgets/base",
          "model_name": "LayoutModel",
          "model_module_version": "1.2.0",
          "state": {
            "_model_module": "@jupyter-widgets/base",
            "_model_module_version": "1.2.0",
            "_model_name": "LayoutModel",
            "_view_count": null,
            "_view_module": "@jupyter-widgets/base",
            "_view_module_version": "1.2.0",
            "_view_name": "LayoutView",
            "align_content": null,
            "align_items": null,
            "align_self": null,
            "border": null,
            "bottom": null,
            "display": null,
            "flex": null,
            "flex_flow": null,
            "grid_area": null,
            "grid_auto_columns": null,
            "grid_auto_flow": null,
            "grid_auto_rows": null,
            "grid_column": null,
            "grid_gap": null,
            "grid_row": null,
            "grid_template_areas": null,
            "grid_template_columns": null,
            "grid_template_rows": null,
            "height": null,
            "justify_content": null,
            "justify_items": null,
            "left": null,
            "margin": null,
            "max_height": null,
            "max_width": null,
            "min_height": null,
            "min_width": null,
            "object_fit": null,
            "object_position": null,
            "order": null,
            "overflow": null,
            "overflow_x": null,
            "overflow_y": null,
            "padding": null,
            "right": null,
            "top": null,
            "visibility": null,
            "width": null
          }
        },
        "82d51f595b7542c08f182d9a0e3af1eb": {
          "model_module": "@jupyter-widgets/controls",
          "model_name": "DescriptionStyleModel",
          "model_module_version": "1.5.0",
          "state": {
            "_model_module": "@jupyter-widgets/controls",
            "_model_module_version": "1.5.0",
            "_model_name": "DescriptionStyleModel",
            "_view_count": null,
            "_view_module": "@jupyter-widgets/base",
            "_view_module_version": "1.2.0",
            "_view_name": "StyleView",
            "description_width": ""
          }
        },
        "8dfa52b09a1240959f8e8d1b10f27586": {
          "model_module": "@jupyter-widgets/controls",
          "model_name": "HBoxModel",
          "model_module_version": "1.5.0",
          "state": {
            "_dom_classes": [],
            "_model_module": "@jupyter-widgets/controls",
            "_model_module_version": "1.5.0",
            "_model_name": "HBoxModel",
            "_view_count": null,
            "_view_module": "@jupyter-widgets/controls",
            "_view_module_version": "1.5.0",
            "_view_name": "HBoxView",
            "box_style": "",
            "children": [
              "IPY_MODEL_2b13171b00e5456aadd7f24d9d8418b9",
              "IPY_MODEL_de94640b18cf4d38b778761a82c18dab",
              "IPY_MODEL_ed58b8cc90984206bdb2a3a2aa25e9e8"
            ],
            "layout": "IPY_MODEL_fc2e07ede0df4f5eae841dc181b4a89e"
          }
        },
        "2b13171b00e5456aadd7f24d9d8418b9": {
          "model_module": "@jupyter-widgets/controls",
          "model_name": "HTMLModel",
          "model_module_version": "1.5.0",
          "state": {
            "_dom_classes": [],
            "_model_module": "@jupyter-widgets/controls",
            "_model_module_version": "1.5.0",
            "_model_name": "HTMLModel",
            "_view_count": null,
            "_view_module": "@jupyter-widgets/controls",
            "_view_module_version": "1.5.0",
            "_view_name": "HTMLView",
            "description": "",
            "description_tooltip": null,
            "layout": "IPY_MODEL_2b2a45387bfa4ce0a7a347465ddb15d4",
            "placeholder": "​",
            "style": "IPY_MODEL_1129686182be4095a807fa7e6749b4f0",
            "value": "Generating train split:  99%"
          }
        },
        "de94640b18cf4d38b778761a82c18dab": {
          "model_module": "@jupyter-widgets/controls",
          "model_name": "FloatProgressModel",
          "model_module_version": "1.5.0",
          "state": {
            "_dom_classes": [],
            "_model_module": "@jupyter-widgets/controls",
            "_model_module_version": "1.5.0",
            "_model_name": "FloatProgressModel",
            "_view_count": null,
            "_view_module": "@jupyter-widgets/controls",
            "_view_module_version": "1.5.0",
            "_view_name": "ProgressView",
            "bar_style": "",
            "description": "",
            "description_tooltip": null,
            "layout": "IPY_MODEL_717620858422461b9323c8fcb7c42824",
            "max": 25000,
            "min": 0,
            "orientation": "horizontal",
            "style": "IPY_MODEL_f22d6111b74846e28c784ce34a484966",
            "value": 25000
          }
        },
        "ed58b8cc90984206bdb2a3a2aa25e9e8": {
          "model_module": "@jupyter-widgets/controls",
          "model_name": "HTMLModel",
          "model_module_version": "1.5.0",
          "state": {
            "_dom_classes": [],
            "_model_module": "@jupyter-widgets/controls",
            "_model_module_version": "1.5.0",
            "_model_name": "HTMLModel",
            "_view_count": null,
            "_view_module": "@jupyter-widgets/controls",
            "_view_module_version": "1.5.0",
            "_view_name": "HTMLView",
            "description": "",
            "description_tooltip": null,
            "layout": "IPY_MODEL_4b1ae9b09cd24964a7d715d787aa635a",
            "placeholder": "​",
            "style": "IPY_MODEL_b62d4590e3794f2e90dff447f146679b",
            "value": " 24817/25000 [00:05&lt;00:00, 6708.66 examples/s]"
          }
        },
        "fc2e07ede0df4f5eae841dc181b4a89e": {
          "model_module": "@jupyter-widgets/base",
          "model_name": "LayoutModel",
          "model_module_version": "1.2.0",
          "state": {
            "_model_module": "@jupyter-widgets/base",
            "_model_module_version": "1.2.0",
            "_model_name": "LayoutModel",
            "_view_count": null,
            "_view_module": "@jupyter-widgets/base",
            "_view_module_version": "1.2.0",
            "_view_name": "LayoutView",
            "align_content": null,
            "align_items": null,
            "align_self": null,
            "border": null,
            "bottom": null,
            "display": null,
            "flex": null,
            "flex_flow": null,
            "grid_area": null,
            "grid_auto_columns": null,
            "grid_auto_flow": null,
            "grid_auto_rows": null,
            "grid_column": null,
            "grid_gap": null,
            "grid_row": null,
            "grid_template_areas": null,
            "grid_template_columns": null,
            "grid_template_rows": null,
            "height": null,
            "justify_content": null,
            "justify_items": null,
            "left": null,
            "margin": null,
            "max_height": null,
            "max_width": null,
            "min_height": null,
            "min_width": null,
            "object_fit": null,
            "object_position": null,
            "order": null,
            "overflow": null,
            "overflow_x": null,
            "overflow_y": null,
            "padding": null,
            "right": null,
            "top": null,
            "visibility": "hidden",
            "width": null
          }
        },
        "2b2a45387bfa4ce0a7a347465ddb15d4": {
          "model_module": "@jupyter-widgets/base",
          "model_name": "LayoutModel",
          "model_module_version": "1.2.0",
          "state": {
            "_model_module": "@jupyter-widgets/base",
            "_model_module_version": "1.2.0",
            "_model_name": "LayoutModel",
            "_view_count": null,
            "_view_module": "@jupyter-widgets/base",
            "_view_module_version": "1.2.0",
            "_view_name": "LayoutView",
            "align_content": null,
            "align_items": null,
            "align_self": null,
            "border": null,
            "bottom": null,
            "display": null,
            "flex": null,
            "flex_flow": null,
            "grid_area": null,
            "grid_auto_columns": null,
            "grid_auto_flow": null,
            "grid_auto_rows": null,
            "grid_column": null,
            "grid_gap": null,
            "grid_row": null,
            "grid_template_areas": null,
            "grid_template_columns": null,
            "grid_template_rows": null,
            "height": null,
            "justify_content": null,
            "justify_items": null,
            "left": null,
            "margin": null,
            "max_height": null,
            "max_width": null,
            "min_height": null,
            "min_width": null,
            "object_fit": null,
            "object_position": null,
            "order": null,
            "overflow": null,
            "overflow_x": null,
            "overflow_y": null,
            "padding": null,
            "right": null,
            "top": null,
            "visibility": null,
            "width": null
          }
        },
        "1129686182be4095a807fa7e6749b4f0": {
          "model_module": "@jupyter-widgets/controls",
          "model_name": "DescriptionStyleModel",
          "model_module_version": "1.5.0",
          "state": {
            "_model_module": "@jupyter-widgets/controls",
            "_model_module_version": "1.5.0",
            "_model_name": "DescriptionStyleModel",
            "_view_count": null,
            "_view_module": "@jupyter-widgets/base",
            "_view_module_version": "1.2.0",
            "_view_name": "StyleView",
            "description_width": ""
          }
        },
        "717620858422461b9323c8fcb7c42824": {
          "model_module": "@jupyter-widgets/base",
          "model_name": "LayoutModel",
          "model_module_version": "1.2.0",
          "state": {
            "_model_module": "@jupyter-widgets/base",
            "_model_module_version": "1.2.0",
            "_model_name": "LayoutModel",
            "_view_count": null,
            "_view_module": "@jupyter-widgets/base",
            "_view_module_version": "1.2.0",
            "_view_name": "LayoutView",
            "align_content": null,
            "align_items": null,
            "align_self": null,
            "border": null,
            "bottom": null,
            "display": null,
            "flex": null,
            "flex_flow": null,
            "grid_area": null,
            "grid_auto_columns": null,
            "grid_auto_flow": null,
            "grid_auto_rows": null,
            "grid_column": null,
            "grid_gap": null,
            "grid_row": null,
            "grid_template_areas": null,
            "grid_template_columns": null,
            "grid_template_rows": null,
            "height": null,
            "justify_content": null,
            "justify_items": null,
            "left": null,
            "margin": null,
            "max_height": null,
            "max_width": null,
            "min_height": null,
            "min_width": null,
            "object_fit": null,
            "object_position": null,
            "order": null,
            "overflow": null,
            "overflow_x": null,
            "overflow_y": null,
            "padding": null,
            "right": null,
            "top": null,
            "visibility": null,
            "width": null
          }
        },
        "f22d6111b74846e28c784ce34a484966": {
          "model_module": "@jupyter-widgets/controls",
          "model_name": "ProgressStyleModel",
          "model_module_version": "1.5.0",
          "state": {
            "_model_module": "@jupyter-widgets/controls",
            "_model_module_version": "1.5.0",
            "_model_name": "ProgressStyleModel",
            "_view_count": null,
            "_view_module": "@jupyter-widgets/base",
            "_view_module_version": "1.2.0",
            "_view_name": "StyleView",
            "bar_color": null,
            "description_width": ""
          }
        },
        "4b1ae9b09cd24964a7d715d787aa635a": {
          "model_module": "@jupyter-widgets/base",
          "model_name": "LayoutModel",
          "model_module_version": "1.2.0",
          "state": {
            "_model_module": "@jupyter-widgets/base",
            "_model_module_version": "1.2.0",
            "_model_name": "LayoutModel",
            "_view_count": null,
            "_view_module": "@jupyter-widgets/base",
            "_view_module_version": "1.2.0",
            "_view_name": "LayoutView",
            "align_content": null,
            "align_items": null,
            "align_self": null,
            "border": null,
            "bottom": null,
            "display": null,
            "flex": null,
            "flex_flow": null,
            "grid_area": null,
            "grid_auto_columns": null,
            "grid_auto_flow": null,
            "grid_auto_rows": null,
            "grid_column": null,
            "grid_gap": null,
            "grid_row": null,
            "grid_template_areas": null,
            "grid_template_columns": null,
            "grid_template_rows": null,
            "height": null,
            "justify_content": null,
            "justify_items": null,
            "left": null,
            "margin": null,
            "max_height": null,
            "max_width": null,
            "min_height": null,
            "min_width": null,
            "object_fit": null,
            "object_position": null,
            "order": null,
            "overflow": null,
            "overflow_x": null,
            "overflow_y": null,
            "padding": null,
            "right": null,
            "top": null,
            "visibility": null,
            "width": null
          }
        },
        "b62d4590e3794f2e90dff447f146679b": {
          "model_module": "@jupyter-widgets/controls",
          "model_name": "DescriptionStyleModel",
          "model_module_version": "1.5.0",
          "state": {
            "_model_module": "@jupyter-widgets/controls",
            "_model_module_version": "1.5.0",
            "_model_name": "DescriptionStyleModel",
            "_view_count": null,
            "_view_module": "@jupyter-widgets/base",
            "_view_module_version": "1.2.0",
            "_view_name": "StyleView",
            "description_width": ""
          }
        },
        "50115663900549389fda110ebdb2f6ab": {
          "model_module": "@jupyter-widgets/controls",
          "model_name": "HBoxModel",
          "model_module_version": "1.5.0",
          "state": {
            "_dom_classes": [],
            "_model_module": "@jupyter-widgets/controls",
            "_model_module_version": "1.5.0",
            "_model_name": "HBoxModel",
            "_view_count": null,
            "_view_module": "@jupyter-widgets/controls",
            "_view_module_version": "1.5.0",
            "_view_name": "HBoxView",
            "box_style": "",
            "children": [
              "IPY_MODEL_ee1806a89f634018b2611d8605bac959",
              "IPY_MODEL_e4a37ae385c54ec092658da3f42c1586",
              "IPY_MODEL_a0979338924a4520a3b6a9b05d2c2eb9"
            ],
            "layout": "IPY_MODEL_0ecdc0c95f3a4ed18031adda923284e9"
          }
        },
        "ee1806a89f634018b2611d8605bac959": {
          "model_module": "@jupyter-widgets/controls",
          "model_name": "HTMLModel",
          "model_module_version": "1.5.0",
          "state": {
            "_dom_classes": [],
            "_model_module": "@jupyter-widgets/controls",
            "_model_module_version": "1.5.0",
            "_model_name": "HTMLModel",
            "_view_count": null,
            "_view_module": "@jupyter-widgets/controls",
            "_view_module_version": "1.5.0",
            "_view_name": "HTMLView",
            "description": "",
            "description_tooltip": null,
            "layout": "IPY_MODEL_cbd90459e186411bb4a1003ef71a4613",
            "placeholder": "​",
            "style": "IPY_MODEL_352bd1219d9e416a834d3c09d1eba2f6",
            "value": "Generating test split: 100%"
          }
        },
        "e4a37ae385c54ec092658da3f42c1586": {
          "model_module": "@jupyter-widgets/controls",
          "model_name": "FloatProgressModel",
          "model_module_version": "1.5.0",
          "state": {
            "_dom_classes": [],
            "_model_module": "@jupyter-widgets/controls",
            "_model_module_version": "1.5.0",
            "_model_name": "FloatProgressModel",
            "_view_count": null,
            "_view_module": "@jupyter-widgets/controls",
            "_view_module_version": "1.5.0",
            "_view_name": "ProgressView",
            "bar_style": "",
            "description": "",
            "description_tooltip": null,
            "layout": "IPY_MODEL_5fbcb8c082bd43ca882cb726c0824c17",
            "max": 25000,
            "min": 0,
            "orientation": "horizontal",
            "style": "IPY_MODEL_982cf546cd1d4ae78252f21437510eff",
            "value": 25000
          }
        },
        "a0979338924a4520a3b6a9b05d2c2eb9": {
          "model_module": "@jupyter-widgets/controls",
          "model_name": "HTMLModel",
          "model_module_version": "1.5.0",
          "state": {
            "_dom_classes": [],
            "_model_module": "@jupyter-widgets/controls",
            "_model_module_version": "1.5.0",
            "_model_name": "HTMLModel",
            "_view_count": null,
            "_view_module": "@jupyter-widgets/controls",
            "_view_module_version": "1.5.0",
            "_view_name": "HTMLView",
            "description": "",
            "description_tooltip": null,
            "layout": "IPY_MODEL_940d5e05cf6b4c1e8706547860408df9",
            "placeholder": "​",
            "style": "IPY_MODEL_450ed607f68440a09ed2152a7e6ccfa8",
            "value": " 24958/25000 [00:03&lt;00:00, 9280.82 examples/s]"
          }
        },
        "0ecdc0c95f3a4ed18031adda923284e9": {
          "model_module": "@jupyter-widgets/base",
          "model_name": "LayoutModel",
          "model_module_version": "1.2.0",
          "state": {
            "_model_module": "@jupyter-widgets/base",
            "_model_module_version": "1.2.0",
            "_model_name": "LayoutModel",
            "_view_count": null,
            "_view_module": "@jupyter-widgets/base",
            "_view_module_version": "1.2.0",
            "_view_name": "LayoutView",
            "align_content": null,
            "align_items": null,
            "align_self": null,
            "border": null,
            "bottom": null,
            "display": null,
            "flex": null,
            "flex_flow": null,
            "grid_area": null,
            "grid_auto_columns": null,
            "grid_auto_flow": null,
            "grid_auto_rows": null,
            "grid_column": null,
            "grid_gap": null,
            "grid_row": null,
            "grid_template_areas": null,
            "grid_template_columns": null,
            "grid_template_rows": null,
            "height": null,
            "justify_content": null,
            "justify_items": null,
            "left": null,
            "margin": null,
            "max_height": null,
            "max_width": null,
            "min_height": null,
            "min_width": null,
            "object_fit": null,
            "object_position": null,
            "order": null,
            "overflow": null,
            "overflow_x": null,
            "overflow_y": null,
            "padding": null,
            "right": null,
            "top": null,
            "visibility": "hidden",
            "width": null
          }
        },
        "cbd90459e186411bb4a1003ef71a4613": {
          "model_module": "@jupyter-widgets/base",
          "model_name": "LayoutModel",
          "model_module_version": "1.2.0",
          "state": {
            "_model_module": "@jupyter-widgets/base",
            "_model_module_version": "1.2.0",
            "_model_name": "LayoutModel",
            "_view_count": null,
            "_view_module": "@jupyter-widgets/base",
            "_view_module_version": "1.2.0",
            "_view_name": "LayoutView",
            "align_content": null,
            "align_items": null,
            "align_self": null,
            "border": null,
            "bottom": null,
            "display": null,
            "flex": null,
            "flex_flow": null,
            "grid_area": null,
            "grid_auto_columns": null,
            "grid_auto_flow": null,
            "grid_auto_rows": null,
            "grid_column": null,
            "grid_gap": null,
            "grid_row": null,
            "grid_template_areas": null,
            "grid_template_columns": null,
            "grid_template_rows": null,
            "height": null,
            "justify_content": null,
            "justify_items": null,
            "left": null,
            "margin": null,
            "max_height": null,
            "max_width": null,
            "min_height": null,
            "min_width": null,
            "object_fit": null,
            "object_position": null,
            "order": null,
            "overflow": null,
            "overflow_x": null,
            "overflow_y": null,
            "padding": null,
            "right": null,
            "top": null,
            "visibility": null,
            "width": null
          }
        },
        "352bd1219d9e416a834d3c09d1eba2f6": {
          "model_module": "@jupyter-widgets/controls",
          "model_name": "DescriptionStyleModel",
          "model_module_version": "1.5.0",
          "state": {
            "_model_module": "@jupyter-widgets/controls",
            "_model_module_version": "1.5.0",
            "_model_name": "DescriptionStyleModel",
            "_view_count": null,
            "_view_module": "@jupyter-widgets/base",
            "_view_module_version": "1.2.0",
            "_view_name": "StyleView",
            "description_width": ""
          }
        },
        "5fbcb8c082bd43ca882cb726c0824c17": {
          "model_module": "@jupyter-widgets/base",
          "model_name": "LayoutModel",
          "model_module_version": "1.2.0",
          "state": {
            "_model_module": "@jupyter-widgets/base",
            "_model_module_version": "1.2.0",
            "_model_name": "LayoutModel",
            "_view_count": null,
            "_view_module": "@jupyter-widgets/base",
            "_view_module_version": "1.2.0",
            "_view_name": "LayoutView",
            "align_content": null,
            "align_items": null,
            "align_self": null,
            "border": null,
            "bottom": null,
            "display": null,
            "flex": null,
            "flex_flow": null,
            "grid_area": null,
            "grid_auto_columns": null,
            "grid_auto_flow": null,
            "grid_auto_rows": null,
            "grid_column": null,
            "grid_gap": null,
            "grid_row": null,
            "grid_template_areas": null,
            "grid_template_columns": null,
            "grid_template_rows": null,
            "height": null,
            "justify_content": null,
            "justify_items": null,
            "left": null,
            "margin": null,
            "max_height": null,
            "max_width": null,
            "min_height": null,
            "min_width": null,
            "object_fit": null,
            "object_position": null,
            "order": null,
            "overflow": null,
            "overflow_x": null,
            "overflow_y": null,
            "padding": null,
            "right": null,
            "top": null,
            "visibility": null,
            "width": null
          }
        },
        "982cf546cd1d4ae78252f21437510eff": {
          "model_module": "@jupyter-widgets/controls",
          "model_name": "ProgressStyleModel",
          "model_module_version": "1.5.0",
          "state": {
            "_model_module": "@jupyter-widgets/controls",
            "_model_module_version": "1.5.0",
            "_model_name": "ProgressStyleModel",
            "_view_count": null,
            "_view_module": "@jupyter-widgets/base",
            "_view_module_version": "1.2.0",
            "_view_name": "StyleView",
            "bar_color": null,
            "description_width": ""
          }
        },
        "940d5e05cf6b4c1e8706547860408df9": {
          "model_module": "@jupyter-widgets/base",
          "model_name": "LayoutModel",
          "model_module_version": "1.2.0",
          "state": {
            "_model_module": "@jupyter-widgets/base",
            "_model_module_version": "1.2.0",
            "_model_name": "LayoutModel",
            "_view_count": null,
            "_view_module": "@jupyter-widgets/base",
            "_view_module_version": "1.2.0",
            "_view_name": "LayoutView",
            "align_content": null,
            "align_items": null,
            "align_self": null,
            "border": null,
            "bottom": null,
            "display": null,
            "flex": null,
            "flex_flow": null,
            "grid_area": null,
            "grid_auto_columns": null,
            "grid_auto_flow": null,
            "grid_auto_rows": null,
            "grid_column": null,
            "grid_gap": null,
            "grid_row": null,
            "grid_template_areas": null,
            "grid_template_columns": null,
            "grid_template_rows": null,
            "height": null,
            "justify_content": null,
            "justify_items": null,
            "left": null,
            "margin": null,
            "max_height": null,
            "max_width": null,
            "min_height": null,
            "min_width": null,
            "object_fit": null,
            "object_position": null,
            "order": null,
            "overflow": null,
            "overflow_x": null,
            "overflow_y": null,
            "padding": null,
            "right": null,
            "top": null,
            "visibility": null,
            "width": null
          }
        },
        "450ed607f68440a09ed2152a7e6ccfa8": {
          "model_module": "@jupyter-widgets/controls",
          "model_name": "DescriptionStyleModel",
          "model_module_version": "1.5.0",
          "state": {
            "_model_module": "@jupyter-widgets/controls",
            "_model_module_version": "1.5.0",
            "_model_name": "DescriptionStyleModel",
            "_view_count": null,
            "_view_module": "@jupyter-widgets/base",
            "_view_module_version": "1.2.0",
            "_view_name": "StyleView",
            "description_width": ""
          }
        },
        "8bee8d31389443b294ab06fffacddd84": {
          "model_module": "@jupyter-widgets/controls",
          "model_name": "HBoxModel",
          "model_module_version": "1.5.0",
          "state": {
            "_dom_classes": [],
            "_model_module": "@jupyter-widgets/controls",
            "_model_module_version": "1.5.0",
            "_model_name": "HBoxModel",
            "_view_count": null,
            "_view_module": "@jupyter-widgets/controls",
            "_view_module_version": "1.5.0",
            "_view_name": "HBoxView",
            "box_style": "",
            "children": [
              "IPY_MODEL_8a0f3bd40c0942eaa2c923e01436947c",
              "IPY_MODEL_7855dbd35db84bc6b00e4007dc8b4196",
              "IPY_MODEL_050455985c4648958abadedf27625910"
            ],
            "layout": "IPY_MODEL_b49c628e5f0343708348fc9a34ee1a8d"
          }
        },
        "8a0f3bd40c0942eaa2c923e01436947c": {
          "model_module": "@jupyter-widgets/controls",
          "model_name": "HTMLModel",
          "model_module_version": "1.5.0",
          "state": {
            "_dom_classes": [],
            "_model_module": "@jupyter-widgets/controls",
            "_model_module_version": "1.5.0",
            "_model_name": "HTMLModel",
            "_view_count": null,
            "_view_module": "@jupyter-widgets/controls",
            "_view_module_version": "1.5.0",
            "_view_name": "HTMLView",
            "description": "",
            "description_tooltip": null,
            "layout": "IPY_MODEL_07ae690c33204ab69bb1f9ff19d031a9",
            "placeholder": "​",
            "style": "IPY_MODEL_16f985f6079e4e9ca02b1d3440daaeda",
            "value": "Generating unsupervised split:  99%"
          }
        },
        "7855dbd35db84bc6b00e4007dc8b4196": {
          "model_module": "@jupyter-widgets/controls",
          "model_name": "FloatProgressModel",
          "model_module_version": "1.5.0",
          "state": {
            "_dom_classes": [],
            "_model_module": "@jupyter-widgets/controls",
            "_model_module_version": "1.5.0",
            "_model_name": "FloatProgressModel",
            "_view_count": null,
            "_view_module": "@jupyter-widgets/controls",
            "_view_module_version": "1.5.0",
            "_view_name": "ProgressView",
            "bar_style": "",
            "description": "",
            "description_tooltip": null,
            "layout": "IPY_MODEL_7c8a9063c6274ea1b389e05947b0e6fc",
            "max": 50000,
            "min": 0,
            "orientation": "horizontal",
            "style": "IPY_MODEL_e2805ca9809e4b08b519b0a65f997f2c",
            "value": 50000
          }
        },
        "050455985c4648958abadedf27625910": {
          "model_module": "@jupyter-widgets/controls",
          "model_name": "HTMLModel",
          "model_module_version": "1.5.0",
          "state": {
            "_dom_classes": [],
            "_model_module": "@jupyter-widgets/controls",
            "_model_module_version": "1.5.0",
            "_model_name": "HTMLModel",
            "_view_count": null,
            "_view_module": "@jupyter-widgets/controls",
            "_view_module_version": "1.5.0",
            "_view_name": "HTMLView",
            "description": "",
            "description_tooltip": null,
            "layout": "IPY_MODEL_cdfd2cbfa0e04321baecab623434aec1",
            "placeholder": "​",
            "style": "IPY_MODEL_d16d8ec9d37842bbab09cb7350c78fc3",
            "value": " 49702/50000 [00:09&lt;00:00, 9447.50 examples/s]"
          }
        },
        "b49c628e5f0343708348fc9a34ee1a8d": {
          "model_module": "@jupyter-widgets/base",
          "model_name": "LayoutModel",
          "model_module_version": "1.2.0",
          "state": {
            "_model_module": "@jupyter-widgets/base",
            "_model_module_version": "1.2.0",
            "_model_name": "LayoutModel",
            "_view_count": null,
            "_view_module": "@jupyter-widgets/base",
            "_view_module_version": "1.2.0",
            "_view_name": "LayoutView",
            "align_content": null,
            "align_items": null,
            "align_self": null,
            "border": null,
            "bottom": null,
            "display": null,
            "flex": null,
            "flex_flow": null,
            "grid_area": null,
            "grid_auto_columns": null,
            "grid_auto_flow": null,
            "grid_auto_rows": null,
            "grid_column": null,
            "grid_gap": null,
            "grid_row": null,
            "grid_template_areas": null,
            "grid_template_columns": null,
            "grid_template_rows": null,
            "height": null,
            "justify_content": null,
            "justify_items": null,
            "left": null,
            "margin": null,
            "max_height": null,
            "max_width": null,
            "min_height": null,
            "min_width": null,
            "object_fit": null,
            "object_position": null,
            "order": null,
            "overflow": null,
            "overflow_x": null,
            "overflow_y": null,
            "padding": null,
            "right": null,
            "top": null,
            "visibility": "hidden",
            "width": null
          }
        },
        "07ae690c33204ab69bb1f9ff19d031a9": {
          "model_module": "@jupyter-widgets/base",
          "model_name": "LayoutModel",
          "model_module_version": "1.2.0",
          "state": {
            "_model_module": "@jupyter-widgets/base",
            "_model_module_version": "1.2.0",
            "_model_name": "LayoutModel",
            "_view_count": null,
            "_view_module": "@jupyter-widgets/base",
            "_view_module_version": "1.2.0",
            "_view_name": "LayoutView",
            "align_content": null,
            "align_items": null,
            "align_self": null,
            "border": null,
            "bottom": null,
            "display": null,
            "flex": null,
            "flex_flow": null,
            "grid_area": null,
            "grid_auto_columns": null,
            "grid_auto_flow": null,
            "grid_auto_rows": null,
            "grid_column": null,
            "grid_gap": null,
            "grid_row": null,
            "grid_template_areas": null,
            "grid_template_columns": null,
            "grid_template_rows": null,
            "height": null,
            "justify_content": null,
            "justify_items": null,
            "left": null,
            "margin": null,
            "max_height": null,
            "max_width": null,
            "min_height": null,
            "min_width": null,
            "object_fit": null,
            "object_position": null,
            "order": null,
            "overflow": null,
            "overflow_x": null,
            "overflow_y": null,
            "padding": null,
            "right": null,
            "top": null,
            "visibility": null,
            "width": null
          }
        },
        "16f985f6079e4e9ca02b1d3440daaeda": {
          "model_module": "@jupyter-widgets/controls",
          "model_name": "DescriptionStyleModel",
          "model_module_version": "1.5.0",
          "state": {
            "_model_module": "@jupyter-widgets/controls",
            "_model_module_version": "1.5.0",
            "_model_name": "DescriptionStyleModel",
            "_view_count": null,
            "_view_module": "@jupyter-widgets/base",
            "_view_module_version": "1.2.0",
            "_view_name": "StyleView",
            "description_width": ""
          }
        },
        "7c8a9063c6274ea1b389e05947b0e6fc": {
          "model_module": "@jupyter-widgets/base",
          "model_name": "LayoutModel",
          "model_module_version": "1.2.0",
          "state": {
            "_model_module": "@jupyter-widgets/base",
            "_model_module_version": "1.2.0",
            "_model_name": "LayoutModel",
            "_view_count": null,
            "_view_module": "@jupyter-widgets/base",
            "_view_module_version": "1.2.0",
            "_view_name": "LayoutView",
            "align_content": null,
            "align_items": null,
            "align_self": null,
            "border": null,
            "bottom": null,
            "display": null,
            "flex": null,
            "flex_flow": null,
            "grid_area": null,
            "grid_auto_columns": null,
            "grid_auto_flow": null,
            "grid_auto_rows": null,
            "grid_column": null,
            "grid_gap": null,
            "grid_row": null,
            "grid_template_areas": null,
            "grid_template_columns": null,
            "grid_template_rows": null,
            "height": null,
            "justify_content": null,
            "justify_items": null,
            "left": null,
            "margin": null,
            "max_height": null,
            "max_width": null,
            "min_height": null,
            "min_width": null,
            "object_fit": null,
            "object_position": null,
            "order": null,
            "overflow": null,
            "overflow_x": null,
            "overflow_y": null,
            "padding": null,
            "right": null,
            "top": null,
            "visibility": null,
            "width": null
          }
        },
        "e2805ca9809e4b08b519b0a65f997f2c": {
          "model_module": "@jupyter-widgets/controls",
          "model_name": "ProgressStyleModel",
          "model_module_version": "1.5.0",
          "state": {
            "_model_module": "@jupyter-widgets/controls",
            "_model_module_version": "1.5.0",
            "_model_name": "ProgressStyleModel",
            "_view_count": null,
            "_view_module": "@jupyter-widgets/base",
            "_view_module_version": "1.2.0",
            "_view_name": "StyleView",
            "bar_color": null,
            "description_width": ""
          }
        },
        "cdfd2cbfa0e04321baecab623434aec1": {
          "model_module": "@jupyter-widgets/base",
          "model_name": "LayoutModel",
          "model_module_version": "1.2.0",
          "state": {
            "_model_module": "@jupyter-widgets/base",
            "_model_module_version": "1.2.0",
            "_model_name": "LayoutModel",
            "_view_count": null,
            "_view_module": "@jupyter-widgets/base",
            "_view_module_version": "1.2.0",
            "_view_name": "LayoutView",
            "align_content": null,
            "align_items": null,
            "align_self": null,
            "border": null,
            "bottom": null,
            "display": null,
            "flex": null,
            "flex_flow": null,
            "grid_area": null,
            "grid_auto_columns": null,
            "grid_auto_flow": null,
            "grid_auto_rows": null,
            "grid_column": null,
            "grid_gap": null,
            "grid_row": null,
            "grid_template_areas": null,
            "grid_template_columns": null,
            "grid_template_rows": null,
            "height": null,
            "justify_content": null,
            "justify_items": null,
            "left": null,
            "margin": null,
            "max_height": null,
            "max_width": null,
            "min_height": null,
            "min_width": null,
            "object_fit": null,
            "object_position": null,
            "order": null,
            "overflow": null,
            "overflow_x": null,
            "overflow_y": null,
            "padding": null,
            "right": null,
            "top": null,
            "visibility": null,
            "width": null
          }
        },
        "d16d8ec9d37842bbab09cb7350c78fc3": {
          "model_module": "@jupyter-widgets/controls",
          "model_name": "DescriptionStyleModel",
          "model_module_version": "1.5.0",
          "state": {
            "_model_module": "@jupyter-widgets/controls",
            "_model_module_version": "1.5.0",
            "_model_name": "DescriptionStyleModel",
            "_view_count": null,
            "_view_module": "@jupyter-widgets/base",
            "_view_module_version": "1.2.0",
            "_view_name": "StyleView",
            "description_width": ""
          }
        },
        "5bd7c8e05d544cf0b76a248514ddd635": {
          "model_module": "@jupyter-widgets/controls",
          "model_name": "HBoxModel",
          "model_module_version": "1.5.0",
          "state": {
            "_dom_classes": [],
            "_model_module": "@jupyter-widgets/controls",
            "_model_module_version": "1.5.0",
            "_model_name": "HBoxModel",
            "_view_count": null,
            "_view_module": "@jupyter-widgets/controls",
            "_view_module_version": "1.5.0",
            "_view_name": "HBoxView",
            "box_style": "",
            "children": [
              "IPY_MODEL_378fa98f1ab242ae8f5bb919784e7622",
              "IPY_MODEL_0d5ad89e2c894a17b3f35628908eb9bb",
              "IPY_MODEL_b5fd14d38c6d4f5e8fe665a30f4e0ab3"
            ],
            "layout": "IPY_MODEL_e0c0517a590c43878efbcdb2023ea4c4"
          }
        },
        "378fa98f1ab242ae8f5bb919784e7622": {
          "model_module": "@jupyter-widgets/controls",
          "model_name": "HTMLModel",
          "model_module_version": "1.5.0",
          "state": {
            "_dom_classes": [],
            "_model_module": "@jupyter-widgets/controls",
            "_model_module_version": "1.5.0",
            "_model_name": "HTMLModel",
            "_view_count": null,
            "_view_module": "@jupyter-widgets/controls",
            "_view_module_version": "1.5.0",
            "_view_name": "HTMLView",
            "description": "",
            "description_tooltip": null,
            "layout": "IPY_MODEL_031dca7afdfe483296147e255eb23e12",
            "placeholder": "​",
            "style": "IPY_MODEL_5623cbb7cb2b460387998e967182256c",
            "value": "Downloading (…)/main/tokenizer.json: 100%"
          }
        },
        "0d5ad89e2c894a17b3f35628908eb9bb": {
          "model_module": "@jupyter-widgets/controls",
          "model_name": "FloatProgressModel",
          "model_module_version": "1.5.0",
          "state": {
            "_dom_classes": [],
            "_model_module": "@jupyter-widgets/controls",
            "_model_module_version": "1.5.0",
            "_model_name": "FloatProgressModel",
            "_view_count": null,
            "_view_module": "@jupyter-widgets/controls",
            "_view_module_version": "1.5.0",
            "_view_name": "ProgressView",
            "bar_style": "success",
            "description": "",
            "description_tooltip": null,
            "layout": "IPY_MODEL_5c430af045fe4bcd87ad0c5281956055",
            "max": 466062,
            "min": 0,
            "orientation": "horizontal",
            "style": "IPY_MODEL_26e89d9fd4904181a9390440dbddf687",
            "value": 466062
          }
        },
        "b5fd14d38c6d4f5e8fe665a30f4e0ab3": {
          "model_module": "@jupyter-widgets/controls",
          "model_name": "HTMLModel",
          "model_module_version": "1.5.0",
          "state": {
            "_dom_classes": [],
            "_model_module": "@jupyter-widgets/controls",
            "_model_module_version": "1.5.0",
            "_model_name": "HTMLModel",
            "_view_count": null,
            "_view_module": "@jupyter-widgets/controls",
            "_view_module_version": "1.5.0",
            "_view_name": "HTMLView",
            "description": "",
            "description_tooltip": null,
            "layout": "IPY_MODEL_7579226c18574146bd4199e753c79a65",
            "placeholder": "​",
            "style": "IPY_MODEL_6d6988c31d574829bf1b301b6adec7aa",
            "value": " 466k/466k [00:00&lt;00:00, 1.92MB/s]"
          }
        },
        "e0c0517a590c43878efbcdb2023ea4c4": {
          "model_module": "@jupyter-widgets/base",
          "model_name": "LayoutModel",
          "model_module_version": "1.2.0",
          "state": {
            "_model_module": "@jupyter-widgets/base",
            "_model_module_version": "1.2.0",
            "_model_name": "LayoutModel",
            "_view_count": null,
            "_view_module": "@jupyter-widgets/base",
            "_view_module_version": "1.2.0",
            "_view_name": "LayoutView",
            "align_content": null,
            "align_items": null,
            "align_self": null,
            "border": null,
            "bottom": null,
            "display": null,
            "flex": null,
            "flex_flow": null,
            "grid_area": null,
            "grid_auto_columns": null,
            "grid_auto_flow": null,
            "grid_auto_rows": null,
            "grid_column": null,
            "grid_gap": null,
            "grid_row": null,
            "grid_template_areas": null,
            "grid_template_columns": null,
            "grid_template_rows": null,
            "height": null,
            "justify_content": null,
            "justify_items": null,
            "left": null,
            "margin": null,
            "max_height": null,
            "max_width": null,
            "min_height": null,
            "min_width": null,
            "object_fit": null,
            "object_position": null,
            "order": null,
            "overflow": null,
            "overflow_x": null,
            "overflow_y": null,
            "padding": null,
            "right": null,
            "top": null,
            "visibility": null,
            "width": null
          }
        },
        "031dca7afdfe483296147e255eb23e12": {
          "model_module": "@jupyter-widgets/base",
          "model_name": "LayoutModel",
          "model_module_version": "1.2.0",
          "state": {
            "_model_module": "@jupyter-widgets/base",
            "_model_module_version": "1.2.0",
            "_model_name": "LayoutModel",
            "_view_count": null,
            "_view_module": "@jupyter-widgets/base",
            "_view_module_version": "1.2.0",
            "_view_name": "LayoutView",
            "align_content": null,
            "align_items": null,
            "align_self": null,
            "border": null,
            "bottom": null,
            "display": null,
            "flex": null,
            "flex_flow": null,
            "grid_area": null,
            "grid_auto_columns": null,
            "grid_auto_flow": null,
            "grid_auto_rows": null,
            "grid_column": null,
            "grid_gap": null,
            "grid_row": null,
            "grid_template_areas": null,
            "grid_template_columns": null,
            "grid_template_rows": null,
            "height": null,
            "justify_content": null,
            "justify_items": null,
            "left": null,
            "margin": null,
            "max_height": null,
            "max_width": null,
            "min_height": null,
            "min_width": null,
            "object_fit": null,
            "object_position": null,
            "order": null,
            "overflow": null,
            "overflow_x": null,
            "overflow_y": null,
            "padding": null,
            "right": null,
            "top": null,
            "visibility": null,
            "width": null
          }
        },
        "5623cbb7cb2b460387998e967182256c": {
          "model_module": "@jupyter-widgets/controls",
          "model_name": "DescriptionStyleModel",
          "model_module_version": "1.5.0",
          "state": {
            "_model_module": "@jupyter-widgets/controls",
            "_model_module_version": "1.5.0",
            "_model_name": "DescriptionStyleModel",
            "_view_count": null,
            "_view_module": "@jupyter-widgets/base",
            "_view_module_version": "1.2.0",
            "_view_name": "StyleView",
            "description_width": ""
          }
        },
        "5c430af045fe4bcd87ad0c5281956055": {
          "model_module": "@jupyter-widgets/base",
          "model_name": "LayoutModel",
          "model_module_version": "1.2.0",
          "state": {
            "_model_module": "@jupyter-widgets/base",
            "_model_module_version": "1.2.0",
            "_model_name": "LayoutModel",
            "_view_count": null,
            "_view_module": "@jupyter-widgets/base",
            "_view_module_version": "1.2.0",
            "_view_name": "LayoutView",
            "align_content": null,
            "align_items": null,
            "align_self": null,
            "border": null,
            "bottom": null,
            "display": null,
            "flex": null,
            "flex_flow": null,
            "grid_area": null,
            "grid_auto_columns": null,
            "grid_auto_flow": null,
            "grid_auto_rows": null,
            "grid_column": null,
            "grid_gap": null,
            "grid_row": null,
            "grid_template_areas": null,
            "grid_template_columns": null,
            "grid_template_rows": null,
            "height": null,
            "justify_content": null,
            "justify_items": null,
            "left": null,
            "margin": null,
            "max_height": null,
            "max_width": null,
            "min_height": null,
            "min_width": null,
            "object_fit": null,
            "object_position": null,
            "order": null,
            "overflow": null,
            "overflow_x": null,
            "overflow_y": null,
            "padding": null,
            "right": null,
            "top": null,
            "visibility": null,
            "width": null
          }
        },
        "26e89d9fd4904181a9390440dbddf687": {
          "model_module": "@jupyter-widgets/controls",
          "model_name": "ProgressStyleModel",
          "model_module_version": "1.5.0",
          "state": {
            "_model_module": "@jupyter-widgets/controls",
            "_model_module_version": "1.5.0",
            "_model_name": "ProgressStyleModel",
            "_view_count": null,
            "_view_module": "@jupyter-widgets/base",
            "_view_module_version": "1.2.0",
            "_view_name": "StyleView",
            "bar_color": null,
            "description_width": ""
          }
        },
        "7579226c18574146bd4199e753c79a65": {
          "model_module": "@jupyter-widgets/base",
          "model_name": "LayoutModel",
          "model_module_version": "1.2.0",
          "state": {
            "_model_module": "@jupyter-widgets/base",
            "_model_module_version": "1.2.0",
            "_model_name": "LayoutModel",
            "_view_count": null,
            "_view_module": "@jupyter-widgets/base",
            "_view_module_version": "1.2.0",
            "_view_name": "LayoutView",
            "align_content": null,
            "align_items": null,
            "align_self": null,
            "border": null,
            "bottom": null,
            "display": null,
            "flex": null,
            "flex_flow": null,
            "grid_area": null,
            "grid_auto_columns": null,
            "grid_auto_flow": null,
            "grid_auto_rows": null,
            "grid_column": null,
            "grid_gap": null,
            "grid_row": null,
            "grid_template_areas": null,
            "grid_template_columns": null,
            "grid_template_rows": null,
            "height": null,
            "justify_content": null,
            "justify_items": null,
            "left": null,
            "margin": null,
            "max_height": null,
            "max_width": null,
            "min_height": null,
            "min_width": null,
            "object_fit": null,
            "object_position": null,
            "order": null,
            "overflow": null,
            "overflow_x": null,
            "overflow_y": null,
            "padding": null,
            "right": null,
            "top": null,
            "visibility": null,
            "width": null
          }
        },
        "6d6988c31d574829bf1b301b6adec7aa": {
          "model_module": "@jupyter-widgets/controls",
          "model_name": "DescriptionStyleModel",
          "model_module_version": "1.5.0",
          "state": {
            "_model_module": "@jupyter-widgets/controls",
            "_model_module_version": "1.5.0",
            "_model_name": "DescriptionStyleModel",
            "_view_count": null,
            "_view_module": "@jupyter-widgets/base",
            "_view_module_version": "1.2.0",
            "_view_name": "StyleView",
            "description_width": ""
          }
        },
        "81e2e814c40449cd92f665c770bd7a47": {
          "model_module": "@jupyter-widgets/controls",
          "model_name": "HBoxModel",
          "model_module_version": "1.5.0",
          "state": {
            "_dom_classes": [],
            "_model_module": "@jupyter-widgets/controls",
            "_model_module_version": "1.5.0",
            "_model_name": "HBoxModel",
            "_view_count": null,
            "_view_module": "@jupyter-widgets/controls",
            "_view_module_version": "1.5.0",
            "_view_name": "HBoxView",
            "box_style": "",
            "children": [
              "IPY_MODEL_e4e520282e5c454ba1436faad37fb69d",
              "IPY_MODEL_fcc5dc618b6f46b6ac9986c4e5f84c9e",
              "IPY_MODEL_5e02d52442c5481bbd18e53363f85bb5"
            ],
            "layout": "IPY_MODEL_bf6b4b3a42454d158973b3613cea6db0"
          }
        },
        "e4e520282e5c454ba1436faad37fb69d": {
          "model_module": "@jupyter-widgets/controls",
          "model_name": "HTMLModel",
          "model_module_version": "1.5.0",
          "state": {
            "_dom_classes": [],
            "_model_module": "@jupyter-widgets/controls",
            "_model_module_version": "1.5.0",
            "_model_name": "HTMLModel",
            "_view_count": null,
            "_view_module": "@jupyter-widgets/controls",
            "_view_module_version": "1.5.0",
            "_view_name": "HTMLView",
            "description": "",
            "description_tooltip": null,
            "layout": "IPY_MODEL_5d1d6ceeb12344c6a4b3f09b20e12b59",
            "placeholder": "​",
            "style": "IPY_MODEL_ce7befed2352440f89d88af3e36b655a",
            "value": "Map: 100%"
          }
        },
        "fcc5dc618b6f46b6ac9986c4e5f84c9e": {
          "model_module": "@jupyter-widgets/controls",
          "model_name": "FloatProgressModel",
          "model_module_version": "1.5.0",
          "state": {
            "_dom_classes": [],
            "_model_module": "@jupyter-widgets/controls",
            "_model_module_version": "1.5.0",
            "_model_name": "FloatProgressModel",
            "_view_count": null,
            "_view_module": "@jupyter-widgets/controls",
            "_view_module_version": "1.5.0",
            "_view_name": "ProgressView",
            "bar_style": "",
            "description": "",
            "description_tooltip": null,
            "layout": "IPY_MODEL_06b024941b3b46b5a5995976f5cb6762",
            "max": 6250,
            "min": 0,
            "orientation": "horizontal",
            "style": "IPY_MODEL_85464e4c69604250a554e454fdb55713",
            "value": 6250
          }
        },
        "5e02d52442c5481bbd18e53363f85bb5": {
          "model_module": "@jupyter-widgets/controls",
          "model_name": "HTMLModel",
          "model_module_version": "1.5.0",
          "state": {
            "_dom_classes": [],
            "_model_module": "@jupyter-widgets/controls",
            "_model_module_version": "1.5.0",
            "_model_name": "HTMLModel",
            "_view_count": null,
            "_view_module": "@jupyter-widgets/controls",
            "_view_module_version": "1.5.0",
            "_view_name": "HTMLView",
            "description": "",
            "description_tooltip": null,
            "layout": "IPY_MODEL_7759b4d58e91470c91a5a32c0332fc1a",
            "placeholder": "​",
            "style": "IPY_MODEL_3ebfc324636a46aca0e99cc2143c2bdd",
            "value": " 6250/6250 [00:05&lt;00:00, 1100.28 examples/s]"
          }
        },
        "bf6b4b3a42454d158973b3613cea6db0": {
          "model_module": "@jupyter-widgets/base",
          "model_name": "LayoutModel",
          "model_module_version": "1.2.0",
          "state": {
            "_model_module": "@jupyter-widgets/base",
            "_model_module_version": "1.2.0",
            "_model_name": "LayoutModel",
            "_view_count": null,
            "_view_module": "@jupyter-widgets/base",
            "_view_module_version": "1.2.0",
            "_view_name": "LayoutView",
            "align_content": null,
            "align_items": null,
            "align_self": null,
            "border": null,
            "bottom": null,
            "display": null,
            "flex": null,
            "flex_flow": null,
            "grid_area": null,
            "grid_auto_columns": null,
            "grid_auto_flow": null,
            "grid_auto_rows": null,
            "grid_column": null,
            "grid_gap": null,
            "grid_row": null,
            "grid_template_areas": null,
            "grid_template_columns": null,
            "grid_template_rows": null,
            "height": null,
            "justify_content": null,
            "justify_items": null,
            "left": null,
            "margin": null,
            "max_height": null,
            "max_width": null,
            "min_height": null,
            "min_width": null,
            "object_fit": null,
            "object_position": null,
            "order": null,
            "overflow": null,
            "overflow_x": null,
            "overflow_y": null,
            "padding": null,
            "right": null,
            "top": null,
            "visibility": "hidden",
            "width": null
          }
        },
        "5d1d6ceeb12344c6a4b3f09b20e12b59": {
          "model_module": "@jupyter-widgets/base",
          "model_name": "LayoutModel",
          "model_module_version": "1.2.0",
          "state": {
            "_model_module": "@jupyter-widgets/base",
            "_model_module_version": "1.2.0",
            "_model_name": "LayoutModel",
            "_view_count": null,
            "_view_module": "@jupyter-widgets/base",
            "_view_module_version": "1.2.0",
            "_view_name": "LayoutView",
            "align_content": null,
            "align_items": null,
            "align_self": null,
            "border": null,
            "bottom": null,
            "display": null,
            "flex": null,
            "flex_flow": null,
            "grid_area": null,
            "grid_auto_columns": null,
            "grid_auto_flow": null,
            "grid_auto_rows": null,
            "grid_column": null,
            "grid_gap": null,
            "grid_row": null,
            "grid_template_areas": null,
            "grid_template_columns": null,
            "grid_template_rows": null,
            "height": null,
            "justify_content": null,
            "justify_items": null,
            "left": null,
            "margin": null,
            "max_height": null,
            "max_width": null,
            "min_height": null,
            "min_width": null,
            "object_fit": null,
            "object_position": null,
            "order": null,
            "overflow": null,
            "overflow_x": null,
            "overflow_y": null,
            "padding": null,
            "right": null,
            "top": null,
            "visibility": null,
            "width": null
          }
        },
        "ce7befed2352440f89d88af3e36b655a": {
          "model_module": "@jupyter-widgets/controls",
          "model_name": "DescriptionStyleModel",
          "model_module_version": "1.5.0",
          "state": {
            "_model_module": "@jupyter-widgets/controls",
            "_model_module_version": "1.5.0",
            "_model_name": "DescriptionStyleModel",
            "_view_count": null,
            "_view_module": "@jupyter-widgets/base",
            "_view_module_version": "1.2.0",
            "_view_name": "StyleView",
            "description_width": ""
          }
        },
        "06b024941b3b46b5a5995976f5cb6762": {
          "model_module": "@jupyter-widgets/base",
          "model_name": "LayoutModel",
          "model_module_version": "1.2.0",
          "state": {
            "_model_module": "@jupyter-widgets/base",
            "_model_module_version": "1.2.0",
            "_model_name": "LayoutModel",
            "_view_count": null,
            "_view_module": "@jupyter-widgets/base",
            "_view_module_version": "1.2.0",
            "_view_name": "LayoutView",
            "align_content": null,
            "align_items": null,
            "align_self": null,
            "border": null,
            "bottom": null,
            "display": null,
            "flex": null,
            "flex_flow": null,
            "grid_area": null,
            "grid_auto_columns": null,
            "grid_auto_flow": null,
            "grid_auto_rows": null,
            "grid_column": null,
            "grid_gap": null,
            "grid_row": null,
            "grid_template_areas": null,
            "grid_template_columns": null,
            "grid_template_rows": null,
            "height": null,
            "justify_content": null,
            "justify_items": null,
            "left": null,
            "margin": null,
            "max_height": null,
            "max_width": null,
            "min_height": null,
            "min_width": null,
            "object_fit": null,
            "object_position": null,
            "order": null,
            "overflow": null,
            "overflow_x": null,
            "overflow_y": null,
            "padding": null,
            "right": null,
            "top": null,
            "visibility": null,
            "width": null
          }
        },
        "85464e4c69604250a554e454fdb55713": {
          "model_module": "@jupyter-widgets/controls",
          "model_name": "ProgressStyleModel",
          "model_module_version": "1.5.0",
          "state": {
            "_model_module": "@jupyter-widgets/controls",
            "_model_module_version": "1.5.0",
            "_model_name": "ProgressStyleModel",
            "_view_count": null,
            "_view_module": "@jupyter-widgets/base",
            "_view_module_version": "1.2.0",
            "_view_name": "StyleView",
            "bar_color": null,
            "description_width": ""
          }
        },
        "7759b4d58e91470c91a5a32c0332fc1a": {
          "model_module": "@jupyter-widgets/base",
          "model_name": "LayoutModel",
          "model_module_version": "1.2.0",
          "state": {
            "_model_module": "@jupyter-widgets/base",
            "_model_module_version": "1.2.0",
            "_model_name": "LayoutModel",
            "_view_count": null,
            "_view_module": "@jupyter-widgets/base",
            "_view_module_version": "1.2.0",
            "_view_name": "LayoutView",
            "align_content": null,
            "align_items": null,
            "align_self": null,
            "border": null,
            "bottom": null,
            "display": null,
            "flex": null,
            "flex_flow": null,
            "grid_area": null,
            "grid_auto_columns": null,
            "grid_auto_flow": null,
            "grid_auto_rows": null,
            "grid_column": null,
            "grid_gap": null,
            "grid_row": null,
            "grid_template_areas": null,
            "grid_template_columns": null,
            "grid_template_rows": null,
            "height": null,
            "justify_content": null,
            "justify_items": null,
            "left": null,
            "margin": null,
            "max_height": null,
            "max_width": null,
            "min_height": null,
            "min_width": null,
            "object_fit": null,
            "object_position": null,
            "order": null,
            "overflow": null,
            "overflow_x": null,
            "overflow_y": null,
            "padding": null,
            "right": null,
            "top": null,
            "visibility": null,
            "width": null
          }
        },
        "3ebfc324636a46aca0e99cc2143c2bdd": {
          "model_module": "@jupyter-widgets/controls",
          "model_name": "DescriptionStyleModel",
          "model_module_version": "1.5.0",
          "state": {
            "_model_module": "@jupyter-widgets/controls",
            "_model_module_version": "1.5.0",
            "_model_name": "DescriptionStyleModel",
            "_view_count": null,
            "_view_module": "@jupyter-widgets/base",
            "_view_module_version": "1.2.0",
            "_view_name": "StyleView",
            "description_width": ""
          }
        },
        "07d618bf758a439683ba1bef7bb4747e": {
          "model_module": "@jupyter-widgets/controls",
          "model_name": "HBoxModel",
          "model_module_version": "1.5.0",
          "state": {
            "_dom_classes": [],
            "_model_module": "@jupyter-widgets/controls",
            "_model_module_version": "1.5.0",
            "_model_name": "HBoxModel",
            "_view_count": null,
            "_view_module": "@jupyter-widgets/controls",
            "_view_module_version": "1.5.0",
            "_view_name": "HBoxView",
            "box_style": "",
            "children": [
              "IPY_MODEL_4c7fd458fca74cb29f7d61ef4d884446",
              "IPY_MODEL_26bb8fe8c3c4446f88fa9c2bab7c3919",
              "IPY_MODEL_a1c80345674e419fa42ad1b1429fba69"
            ],
            "layout": "IPY_MODEL_1f35313b58874ed6bcc869614edfb077"
          }
        },
        "4c7fd458fca74cb29f7d61ef4d884446": {
          "model_module": "@jupyter-widgets/controls",
          "model_name": "HTMLModel",
          "model_module_version": "1.5.0",
          "state": {
            "_dom_classes": [],
            "_model_module": "@jupyter-widgets/controls",
            "_model_module_version": "1.5.0",
            "_model_name": "HTMLModel",
            "_view_count": null,
            "_view_module": "@jupyter-widgets/controls",
            "_view_module_version": "1.5.0",
            "_view_name": "HTMLView",
            "description": "",
            "description_tooltip": null,
            "layout": "IPY_MODEL_22a9da9d20ff4fd3a3d4e9b48ee7b302",
            "placeholder": "​",
            "style": "IPY_MODEL_0a921980e79643419dfc6bad92c8c225",
            "value": "Map: 100%"
          }
        },
        "26bb8fe8c3c4446f88fa9c2bab7c3919": {
          "model_module": "@jupyter-widgets/controls",
          "model_name": "FloatProgressModel",
          "model_module_version": "1.5.0",
          "state": {
            "_dom_classes": [],
            "_model_module": "@jupyter-widgets/controls",
            "_model_module_version": "1.5.0",
            "_model_name": "FloatProgressModel",
            "_view_count": null,
            "_view_module": "@jupyter-widgets/controls",
            "_view_module_version": "1.5.0",
            "_view_name": "ProgressView",
            "bar_style": "",
            "description": "",
            "description_tooltip": null,
            "layout": "IPY_MODEL_9bfe43a0dd6548fc9d755d9e18502341",
            "max": 2500,
            "min": 0,
            "orientation": "horizontal",
            "style": "IPY_MODEL_684692385d0f45deba3354f723fb2387",
            "value": 2500
          }
        },
        "a1c80345674e419fa42ad1b1429fba69": {
          "model_module": "@jupyter-widgets/controls",
          "model_name": "HTMLModel",
          "model_module_version": "1.5.0",
          "state": {
            "_dom_classes": [],
            "_model_module": "@jupyter-widgets/controls",
            "_model_module_version": "1.5.0",
            "_model_name": "HTMLModel",
            "_view_count": null,
            "_view_module": "@jupyter-widgets/controls",
            "_view_module_version": "1.5.0",
            "_view_name": "HTMLView",
            "description": "",
            "description_tooltip": null,
            "layout": "IPY_MODEL_abc903ac86424d04b484c3eaebc2d18f",
            "placeholder": "​",
            "style": "IPY_MODEL_0d3c24ac6a3848c799e79cba530208b9",
            "value": " 2500/2500 [00:02&lt;00:00, 995.94 examples/s]"
          }
        },
        "1f35313b58874ed6bcc869614edfb077": {
          "model_module": "@jupyter-widgets/base",
          "model_name": "LayoutModel",
          "model_module_version": "1.2.0",
          "state": {
            "_model_module": "@jupyter-widgets/base",
            "_model_module_version": "1.2.0",
            "_model_name": "LayoutModel",
            "_view_count": null,
            "_view_module": "@jupyter-widgets/base",
            "_view_module_version": "1.2.0",
            "_view_name": "LayoutView",
            "align_content": null,
            "align_items": null,
            "align_self": null,
            "border": null,
            "bottom": null,
            "display": null,
            "flex": null,
            "flex_flow": null,
            "grid_area": null,
            "grid_auto_columns": null,
            "grid_auto_flow": null,
            "grid_auto_rows": null,
            "grid_column": null,
            "grid_gap": null,
            "grid_row": null,
            "grid_template_areas": null,
            "grid_template_columns": null,
            "grid_template_rows": null,
            "height": null,
            "justify_content": null,
            "justify_items": null,
            "left": null,
            "margin": null,
            "max_height": null,
            "max_width": null,
            "min_height": null,
            "min_width": null,
            "object_fit": null,
            "object_position": null,
            "order": null,
            "overflow": null,
            "overflow_x": null,
            "overflow_y": null,
            "padding": null,
            "right": null,
            "top": null,
            "visibility": "hidden",
            "width": null
          }
        },
        "22a9da9d20ff4fd3a3d4e9b48ee7b302": {
          "model_module": "@jupyter-widgets/base",
          "model_name": "LayoutModel",
          "model_module_version": "1.2.0",
          "state": {
            "_model_module": "@jupyter-widgets/base",
            "_model_module_version": "1.2.0",
            "_model_name": "LayoutModel",
            "_view_count": null,
            "_view_module": "@jupyter-widgets/base",
            "_view_module_version": "1.2.0",
            "_view_name": "LayoutView",
            "align_content": null,
            "align_items": null,
            "align_self": null,
            "border": null,
            "bottom": null,
            "display": null,
            "flex": null,
            "flex_flow": null,
            "grid_area": null,
            "grid_auto_columns": null,
            "grid_auto_flow": null,
            "grid_auto_rows": null,
            "grid_column": null,
            "grid_gap": null,
            "grid_row": null,
            "grid_template_areas": null,
            "grid_template_columns": null,
            "grid_template_rows": null,
            "height": null,
            "justify_content": null,
            "justify_items": null,
            "left": null,
            "margin": null,
            "max_height": null,
            "max_width": null,
            "min_height": null,
            "min_width": null,
            "object_fit": null,
            "object_position": null,
            "order": null,
            "overflow": null,
            "overflow_x": null,
            "overflow_y": null,
            "padding": null,
            "right": null,
            "top": null,
            "visibility": null,
            "width": null
          }
        },
        "0a921980e79643419dfc6bad92c8c225": {
          "model_module": "@jupyter-widgets/controls",
          "model_name": "DescriptionStyleModel",
          "model_module_version": "1.5.0",
          "state": {
            "_model_module": "@jupyter-widgets/controls",
            "_model_module_version": "1.5.0",
            "_model_name": "DescriptionStyleModel",
            "_view_count": null,
            "_view_module": "@jupyter-widgets/base",
            "_view_module_version": "1.2.0",
            "_view_name": "StyleView",
            "description_width": ""
          }
        },
        "9bfe43a0dd6548fc9d755d9e18502341": {
          "model_module": "@jupyter-widgets/base",
          "model_name": "LayoutModel",
          "model_module_version": "1.2.0",
          "state": {
            "_model_module": "@jupyter-widgets/base",
            "_model_module_version": "1.2.0",
            "_model_name": "LayoutModel",
            "_view_count": null,
            "_view_module": "@jupyter-widgets/base",
            "_view_module_version": "1.2.0",
            "_view_name": "LayoutView",
            "align_content": null,
            "align_items": null,
            "align_self": null,
            "border": null,
            "bottom": null,
            "display": null,
            "flex": null,
            "flex_flow": null,
            "grid_area": null,
            "grid_auto_columns": null,
            "grid_auto_flow": null,
            "grid_auto_rows": null,
            "grid_column": null,
            "grid_gap": null,
            "grid_row": null,
            "grid_template_areas": null,
            "grid_template_columns": null,
            "grid_template_rows": null,
            "height": null,
            "justify_content": null,
            "justify_items": null,
            "left": null,
            "margin": null,
            "max_height": null,
            "max_width": null,
            "min_height": null,
            "min_width": null,
            "object_fit": null,
            "object_position": null,
            "order": null,
            "overflow": null,
            "overflow_x": null,
            "overflow_y": null,
            "padding": null,
            "right": null,
            "top": null,
            "visibility": null,
            "width": null
          }
        },
        "684692385d0f45deba3354f723fb2387": {
          "model_module": "@jupyter-widgets/controls",
          "model_name": "ProgressStyleModel",
          "model_module_version": "1.5.0",
          "state": {
            "_model_module": "@jupyter-widgets/controls",
            "_model_module_version": "1.5.0",
            "_model_name": "ProgressStyleModel",
            "_view_count": null,
            "_view_module": "@jupyter-widgets/base",
            "_view_module_version": "1.2.0",
            "_view_name": "StyleView",
            "bar_color": null,
            "description_width": ""
          }
        },
        "abc903ac86424d04b484c3eaebc2d18f": {
          "model_module": "@jupyter-widgets/base",
          "model_name": "LayoutModel",
          "model_module_version": "1.2.0",
          "state": {
            "_model_module": "@jupyter-widgets/base",
            "_model_module_version": "1.2.0",
            "_model_name": "LayoutModel",
            "_view_count": null,
            "_view_module": "@jupyter-widgets/base",
            "_view_module_version": "1.2.0",
            "_view_name": "LayoutView",
            "align_content": null,
            "align_items": null,
            "align_self": null,
            "border": null,
            "bottom": null,
            "display": null,
            "flex": null,
            "flex_flow": null,
            "grid_area": null,
            "grid_auto_columns": null,
            "grid_auto_flow": null,
            "grid_auto_rows": null,
            "grid_column": null,
            "grid_gap": null,
            "grid_row": null,
            "grid_template_areas": null,
            "grid_template_columns": null,
            "grid_template_rows": null,
            "height": null,
            "justify_content": null,
            "justify_items": null,
            "left": null,
            "margin": null,
            "max_height": null,
            "max_width": null,
            "min_height": null,
            "min_width": null,
            "object_fit": null,
            "object_position": null,
            "order": null,
            "overflow": null,
            "overflow_x": null,
            "overflow_y": null,
            "padding": null,
            "right": null,
            "top": null,
            "visibility": null,
            "width": null
          }
        },
        "0d3c24ac6a3848c799e79cba530208b9": {
          "model_module": "@jupyter-widgets/controls",
          "model_name": "DescriptionStyleModel",
          "model_module_version": "1.5.0",
          "state": {
            "_model_module": "@jupyter-widgets/controls",
            "_model_module_version": "1.5.0",
            "_model_name": "DescriptionStyleModel",
            "_view_count": null,
            "_view_module": "@jupyter-widgets/base",
            "_view_module_version": "1.2.0",
            "_view_name": "StyleView",
            "description_width": ""
          }
        },
        "026e75ed4c174862a360e4906ebcf733": {
          "model_module": "@jupyter-widgets/controls",
          "model_name": "HBoxModel",
          "model_module_version": "1.5.0",
          "state": {
            "_dom_classes": [],
            "_model_module": "@jupyter-widgets/controls",
            "_model_module_version": "1.5.0",
            "_model_name": "HBoxModel",
            "_view_count": null,
            "_view_module": "@jupyter-widgets/controls",
            "_view_module_version": "1.5.0",
            "_view_name": "HBoxView",
            "box_style": "",
            "children": [
              "IPY_MODEL_890bbf6e504a45dc9093fdb29f6b3a32",
              "IPY_MODEL_290ea8f0e55245a293b1329bdf6fde2d",
              "IPY_MODEL_bd500fd4ae454123b2f6a34981ff8f2c"
            ],
            "layout": "IPY_MODEL_680ce956ed084122980d9ea1c17a7b7d"
          }
        },
        "890bbf6e504a45dc9093fdb29f6b3a32": {
          "model_module": "@jupyter-widgets/controls",
          "model_name": "HTMLModel",
          "model_module_version": "1.5.0",
          "state": {
            "_dom_classes": [],
            "_model_module": "@jupyter-widgets/controls",
            "_model_module_version": "1.5.0",
            "_model_name": "HTMLModel",
            "_view_count": null,
            "_view_module": "@jupyter-widgets/controls",
            "_view_module_version": "1.5.0",
            "_view_name": "HTMLView",
            "description": "",
            "description_tooltip": null,
            "layout": "IPY_MODEL_eab79648409f40ed9bf09b7210165720",
            "placeholder": "​",
            "style": "IPY_MODEL_74f4ee1478ac422c8a8e10f6cefca4be",
            "value": "Downloading builder script: 100%"
          }
        },
        "290ea8f0e55245a293b1329bdf6fde2d": {
          "model_module": "@jupyter-widgets/controls",
          "model_name": "FloatProgressModel",
          "model_module_version": "1.5.0",
          "state": {
            "_dom_classes": [],
            "_model_module": "@jupyter-widgets/controls",
            "_model_module_version": "1.5.0",
            "_model_name": "FloatProgressModel",
            "_view_count": null,
            "_view_module": "@jupyter-widgets/controls",
            "_view_module_version": "1.5.0",
            "_view_name": "ProgressView",
            "bar_style": "success",
            "description": "",
            "description_tooltip": null,
            "layout": "IPY_MODEL_d6d6c2da805348f29c99c26de7738347",
            "max": 9570,
            "min": 0,
            "orientation": "horizontal",
            "style": "IPY_MODEL_7b23e53ff508451193cc30e4c5f04cac",
            "value": 9570
          }
        },
        "bd500fd4ae454123b2f6a34981ff8f2c": {
          "model_module": "@jupyter-widgets/controls",
          "model_name": "HTMLModel",
          "model_module_version": "1.5.0",
          "state": {
            "_dom_classes": [],
            "_model_module": "@jupyter-widgets/controls",
            "_model_module_version": "1.5.0",
            "_model_name": "HTMLModel",
            "_view_count": null,
            "_view_module": "@jupyter-widgets/controls",
            "_view_module_version": "1.5.0",
            "_view_name": "HTMLView",
            "description": "",
            "description_tooltip": null,
            "layout": "IPY_MODEL_a1f9730c68ee40688b84a34e258e2df0",
            "placeholder": "​",
            "style": "IPY_MODEL_0ec1a9126b12493c968aaaed2751310f",
            "value": " 9.57k/9.57k [00:00&lt;00:00, 460kB/s]"
          }
        },
        "680ce956ed084122980d9ea1c17a7b7d": {
          "model_module": "@jupyter-widgets/base",
          "model_name": "LayoutModel",
          "model_module_version": "1.2.0",
          "state": {
            "_model_module": "@jupyter-widgets/base",
            "_model_module_version": "1.2.0",
            "_model_name": "LayoutModel",
            "_view_count": null,
            "_view_module": "@jupyter-widgets/base",
            "_view_module_version": "1.2.0",
            "_view_name": "LayoutView",
            "align_content": null,
            "align_items": null,
            "align_self": null,
            "border": null,
            "bottom": null,
            "display": null,
            "flex": null,
            "flex_flow": null,
            "grid_area": null,
            "grid_auto_columns": null,
            "grid_auto_flow": null,
            "grid_auto_rows": null,
            "grid_column": null,
            "grid_gap": null,
            "grid_row": null,
            "grid_template_areas": null,
            "grid_template_columns": null,
            "grid_template_rows": null,
            "height": null,
            "justify_content": null,
            "justify_items": null,
            "left": null,
            "margin": null,
            "max_height": null,
            "max_width": null,
            "min_height": null,
            "min_width": null,
            "object_fit": null,
            "object_position": null,
            "order": null,
            "overflow": null,
            "overflow_x": null,
            "overflow_y": null,
            "padding": null,
            "right": null,
            "top": null,
            "visibility": null,
            "width": null
          }
        },
        "eab79648409f40ed9bf09b7210165720": {
          "model_module": "@jupyter-widgets/base",
          "model_name": "LayoutModel",
          "model_module_version": "1.2.0",
          "state": {
            "_model_module": "@jupyter-widgets/base",
            "_model_module_version": "1.2.0",
            "_model_name": "LayoutModel",
            "_view_count": null,
            "_view_module": "@jupyter-widgets/base",
            "_view_module_version": "1.2.0",
            "_view_name": "LayoutView",
            "align_content": null,
            "align_items": null,
            "align_self": null,
            "border": null,
            "bottom": null,
            "display": null,
            "flex": null,
            "flex_flow": null,
            "grid_area": null,
            "grid_auto_columns": null,
            "grid_auto_flow": null,
            "grid_auto_rows": null,
            "grid_column": null,
            "grid_gap": null,
            "grid_row": null,
            "grid_template_areas": null,
            "grid_template_columns": null,
            "grid_template_rows": null,
            "height": null,
            "justify_content": null,
            "justify_items": null,
            "left": null,
            "margin": null,
            "max_height": null,
            "max_width": null,
            "min_height": null,
            "min_width": null,
            "object_fit": null,
            "object_position": null,
            "order": null,
            "overflow": null,
            "overflow_x": null,
            "overflow_y": null,
            "padding": null,
            "right": null,
            "top": null,
            "visibility": null,
            "width": null
          }
        },
        "74f4ee1478ac422c8a8e10f6cefca4be": {
          "model_module": "@jupyter-widgets/controls",
          "model_name": "DescriptionStyleModel",
          "model_module_version": "1.5.0",
          "state": {
            "_model_module": "@jupyter-widgets/controls",
            "_model_module_version": "1.5.0",
            "_model_name": "DescriptionStyleModel",
            "_view_count": null,
            "_view_module": "@jupyter-widgets/base",
            "_view_module_version": "1.2.0",
            "_view_name": "StyleView",
            "description_width": ""
          }
        },
        "d6d6c2da805348f29c99c26de7738347": {
          "model_module": "@jupyter-widgets/base",
          "model_name": "LayoutModel",
          "model_module_version": "1.2.0",
          "state": {
            "_model_module": "@jupyter-widgets/base",
            "_model_module_version": "1.2.0",
            "_model_name": "LayoutModel",
            "_view_count": null,
            "_view_module": "@jupyter-widgets/base",
            "_view_module_version": "1.2.0",
            "_view_name": "LayoutView",
            "align_content": null,
            "align_items": null,
            "align_self": null,
            "border": null,
            "bottom": null,
            "display": null,
            "flex": null,
            "flex_flow": null,
            "grid_area": null,
            "grid_auto_columns": null,
            "grid_auto_flow": null,
            "grid_auto_rows": null,
            "grid_column": null,
            "grid_gap": null,
            "grid_row": null,
            "grid_template_areas": null,
            "grid_template_columns": null,
            "grid_template_rows": null,
            "height": null,
            "justify_content": null,
            "justify_items": null,
            "left": null,
            "margin": null,
            "max_height": null,
            "max_width": null,
            "min_height": null,
            "min_width": null,
            "object_fit": null,
            "object_position": null,
            "order": null,
            "overflow": null,
            "overflow_x": null,
            "overflow_y": null,
            "padding": null,
            "right": null,
            "top": null,
            "visibility": null,
            "width": null
          }
        },
        "7b23e53ff508451193cc30e4c5f04cac": {
          "model_module": "@jupyter-widgets/controls",
          "model_name": "ProgressStyleModel",
          "model_module_version": "1.5.0",
          "state": {
            "_model_module": "@jupyter-widgets/controls",
            "_model_module_version": "1.5.0",
            "_model_name": "ProgressStyleModel",
            "_view_count": null,
            "_view_module": "@jupyter-widgets/base",
            "_view_module_version": "1.2.0",
            "_view_name": "StyleView",
            "bar_color": null,
            "description_width": ""
          }
        },
        "a1f9730c68ee40688b84a34e258e2df0": {
          "model_module": "@jupyter-widgets/base",
          "model_name": "LayoutModel",
          "model_module_version": "1.2.0",
          "state": {
            "_model_module": "@jupyter-widgets/base",
            "_model_module_version": "1.2.0",
            "_model_name": "LayoutModel",
            "_view_count": null,
            "_view_module": "@jupyter-widgets/base",
            "_view_module_version": "1.2.0",
            "_view_name": "LayoutView",
            "align_content": null,
            "align_items": null,
            "align_self": null,
            "border": null,
            "bottom": null,
            "display": null,
            "flex": null,
            "flex_flow": null,
            "grid_area": null,
            "grid_auto_columns": null,
            "grid_auto_flow": null,
            "grid_auto_rows": null,
            "grid_column": null,
            "grid_gap": null,
            "grid_row": null,
            "grid_template_areas": null,
            "grid_template_columns": null,
            "grid_template_rows": null,
            "height": null,
            "justify_content": null,
            "justify_items": null,
            "left": null,
            "margin": null,
            "max_height": null,
            "max_width": null,
            "min_height": null,
            "min_width": null,
            "object_fit": null,
            "object_position": null,
            "order": null,
            "overflow": null,
            "overflow_x": null,
            "overflow_y": null,
            "padding": null,
            "right": null,
            "top": null,
            "visibility": null,
            "width": null
          }
        },
        "0ec1a9126b12493c968aaaed2751310f": {
          "model_module": "@jupyter-widgets/controls",
          "model_name": "DescriptionStyleModel",
          "model_module_version": "1.5.0",
          "state": {
            "_model_module": "@jupyter-widgets/controls",
            "_model_module_version": "1.5.0",
            "_model_name": "DescriptionStyleModel",
            "_view_count": null,
            "_view_module": "@jupyter-widgets/base",
            "_view_module_version": "1.2.0",
            "_view_name": "StyleView",
            "description_width": ""
          }
        },
        "7a709e11503648398bd7747e71318bcc": {
          "model_module": "@jupyter-widgets/controls",
          "model_name": "HBoxModel",
          "model_module_version": "1.5.0",
          "state": {
            "_dom_classes": [],
            "_model_module": "@jupyter-widgets/controls",
            "_model_module_version": "1.5.0",
            "_model_name": "HBoxModel",
            "_view_count": null,
            "_view_module": "@jupyter-widgets/controls",
            "_view_module_version": "1.5.0",
            "_view_name": "HBoxView",
            "box_style": "",
            "children": [
              "IPY_MODEL_8b840d3f5f85453980c48de5869eefff",
              "IPY_MODEL_78be5884453a429491b8bb7b921c69b2",
              "IPY_MODEL_d4a2d03613504bb98121e0b81f42cc8b"
            ],
            "layout": "IPY_MODEL_f907051be45b43c8bc5313164fa9b40a"
          }
        },
        "8b840d3f5f85453980c48de5869eefff": {
          "model_module": "@jupyter-widgets/controls",
          "model_name": "HTMLModel",
          "model_module_version": "1.5.0",
          "state": {
            "_dom_classes": [],
            "_model_module": "@jupyter-widgets/controls",
            "_model_module_version": "1.5.0",
            "_model_name": "HTMLModel",
            "_view_count": null,
            "_view_module": "@jupyter-widgets/controls",
            "_view_module_version": "1.5.0",
            "_view_name": "HTMLView",
            "description": "",
            "description_tooltip": null,
            "layout": "IPY_MODEL_0c8777ec12ac47379843528e6a28ea87",
            "placeholder": "​",
            "style": "IPY_MODEL_dcef10e267654262af586e05c5d76ec5",
            "value": "Downloading metadata: 100%"
          }
        },
        "78be5884453a429491b8bb7b921c69b2": {
          "model_module": "@jupyter-widgets/controls",
          "model_name": "FloatProgressModel",
          "model_module_version": "1.5.0",
          "state": {
            "_dom_classes": [],
            "_model_module": "@jupyter-widgets/controls",
            "_model_module_version": "1.5.0",
            "_model_name": "FloatProgressModel",
            "_view_count": null,
            "_view_module": "@jupyter-widgets/controls",
            "_view_module_version": "1.5.0",
            "_view_name": "ProgressView",
            "bar_style": "success",
            "description": "",
            "description_tooltip": null,
            "layout": "IPY_MODEL_a40da394494e41ef86ee575d2e76b249",
            "max": 3735,
            "min": 0,
            "orientation": "horizontal",
            "style": "IPY_MODEL_7542fe75020943f8976b6e57794a56fb",
            "value": 3735
          }
        },
        "d4a2d03613504bb98121e0b81f42cc8b": {
          "model_module": "@jupyter-widgets/controls",
          "model_name": "HTMLModel",
          "model_module_version": "1.5.0",
          "state": {
            "_dom_classes": [],
            "_model_module": "@jupyter-widgets/controls",
            "_model_module_version": "1.5.0",
            "_model_name": "HTMLModel",
            "_view_count": null,
            "_view_module": "@jupyter-widgets/controls",
            "_view_module_version": "1.5.0",
            "_view_name": "HTMLView",
            "description": "",
            "description_tooltip": null,
            "layout": "IPY_MODEL_55c92e384f794008a03587327c44cd4f",
            "placeholder": "​",
            "style": "IPY_MODEL_2cbc5c199b8645b09367cd2859fbe816",
            "value": " 3.73k/3.73k [00:00&lt;00:00, 285kB/s]"
          }
        },
        "f907051be45b43c8bc5313164fa9b40a": {
          "model_module": "@jupyter-widgets/base",
          "model_name": "LayoutModel",
          "model_module_version": "1.2.0",
          "state": {
            "_model_module": "@jupyter-widgets/base",
            "_model_module_version": "1.2.0",
            "_model_name": "LayoutModel",
            "_view_count": null,
            "_view_module": "@jupyter-widgets/base",
            "_view_module_version": "1.2.0",
            "_view_name": "LayoutView",
            "align_content": null,
            "align_items": null,
            "align_self": null,
            "border": null,
            "bottom": null,
            "display": null,
            "flex": null,
            "flex_flow": null,
            "grid_area": null,
            "grid_auto_columns": null,
            "grid_auto_flow": null,
            "grid_auto_rows": null,
            "grid_column": null,
            "grid_gap": null,
            "grid_row": null,
            "grid_template_areas": null,
            "grid_template_columns": null,
            "grid_template_rows": null,
            "height": null,
            "justify_content": null,
            "justify_items": null,
            "left": null,
            "margin": null,
            "max_height": null,
            "max_width": null,
            "min_height": null,
            "min_width": null,
            "object_fit": null,
            "object_position": null,
            "order": null,
            "overflow": null,
            "overflow_x": null,
            "overflow_y": null,
            "padding": null,
            "right": null,
            "top": null,
            "visibility": null,
            "width": null
          }
        },
        "0c8777ec12ac47379843528e6a28ea87": {
          "model_module": "@jupyter-widgets/base",
          "model_name": "LayoutModel",
          "model_module_version": "1.2.0",
          "state": {
            "_model_module": "@jupyter-widgets/base",
            "_model_module_version": "1.2.0",
            "_model_name": "LayoutModel",
            "_view_count": null,
            "_view_module": "@jupyter-widgets/base",
            "_view_module_version": "1.2.0",
            "_view_name": "LayoutView",
            "align_content": null,
            "align_items": null,
            "align_self": null,
            "border": null,
            "bottom": null,
            "display": null,
            "flex": null,
            "flex_flow": null,
            "grid_area": null,
            "grid_auto_columns": null,
            "grid_auto_flow": null,
            "grid_auto_rows": null,
            "grid_column": null,
            "grid_gap": null,
            "grid_row": null,
            "grid_template_areas": null,
            "grid_template_columns": null,
            "grid_template_rows": null,
            "height": null,
            "justify_content": null,
            "justify_items": null,
            "left": null,
            "margin": null,
            "max_height": null,
            "max_width": null,
            "min_height": null,
            "min_width": null,
            "object_fit": null,
            "object_position": null,
            "order": null,
            "overflow": null,
            "overflow_x": null,
            "overflow_y": null,
            "padding": null,
            "right": null,
            "top": null,
            "visibility": null,
            "width": null
          }
        },
        "dcef10e267654262af586e05c5d76ec5": {
          "model_module": "@jupyter-widgets/controls",
          "model_name": "DescriptionStyleModel",
          "model_module_version": "1.5.0",
          "state": {
            "_model_module": "@jupyter-widgets/controls",
            "_model_module_version": "1.5.0",
            "_model_name": "DescriptionStyleModel",
            "_view_count": null,
            "_view_module": "@jupyter-widgets/base",
            "_view_module_version": "1.2.0",
            "_view_name": "StyleView",
            "description_width": ""
          }
        },
        "a40da394494e41ef86ee575d2e76b249": {
          "model_module": "@jupyter-widgets/base",
          "model_name": "LayoutModel",
          "model_module_version": "1.2.0",
          "state": {
            "_model_module": "@jupyter-widgets/base",
            "_model_module_version": "1.2.0",
            "_model_name": "LayoutModel",
            "_view_count": null,
            "_view_module": "@jupyter-widgets/base",
            "_view_module_version": "1.2.0",
            "_view_name": "LayoutView",
            "align_content": null,
            "align_items": null,
            "align_self": null,
            "border": null,
            "bottom": null,
            "display": null,
            "flex": null,
            "flex_flow": null,
            "grid_area": null,
            "grid_auto_columns": null,
            "grid_auto_flow": null,
            "grid_auto_rows": null,
            "grid_column": null,
            "grid_gap": null,
            "grid_row": null,
            "grid_template_areas": null,
            "grid_template_columns": null,
            "grid_template_rows": null,
            "height": null,
            "justify_content": null,
            "justify_items": null,
            "left": null,
            "margin": null,
            "max_height": null,
            "max_width": null,
            "min_height": null,
            "min_width": null,
            "object_fit": null,
            "object_position": null,
            "order": null,
            "overflow": null,
            "overflow_x": null,
            "overflow_y": null,
            "padding": null,
            "right": null,
            "top": null,
            "visibility": null,
            "width": null
          }
        },
        "7542fe75020943f8976b6e57794a56fb": {
          "model_module": "@jupyter-widgets/controls",
          "model_name": "ProgressStyleModel",
          "model_module_version": "1.5.0",
          "state": {
            "_model_module": "@jupyter-widgets/controls",
            "_model_module_version": "1.5.0",
            "_model_name": "ProgressStyleModel",
            "_view_count": null,
            "_view_module": "@jupyter-widgets/base",
            "_view_module_version": "1.2.0",
            "_view_name": "StyleView",
            "bar_color": null,
            "description_width": ""
          }
        },
        "55c92e384f794008a03587327c44cd4f": {
          "model_module": "@jupyter-widgets/base",
          "model_name": "LayoutModel",
          "model_module_version": "1.2.0",
          "state": {
            "_model_module": "@jupyter-widgets/base",
            "_model_module_version": "1.2.0",
            "_model_name": "LayoutModel",
            "_view_count": null,
            "_view_module": "@jupyter-widgets/base",
            "_view_module_version": "1.2.0",
            "_view_name": "LayoutView",
            "align_content": null,
            "align_items": null,
            "align_self": null,
            "border": null,
            "bottom": null,
            "display": null,
            "flex": null,
            "flex_flow": null,
            "grid_area": null,
            "grid_auto_columns": null,
            "grid_auto_flow": null,
            "grid_auto_rows": null,
            "grid_column": null,
            "grid_gap": null,
            "grid_row": null,
            "grid_template_areas": null,
            "grid_template_columns": null,
            "grid_template_rows": null,
            "height": null,
            "justify_content": null,
            "justify_items": null,
            "left": null,
            "margin": null,
            "max_height": null,
            "max_width": null,
            "min_height": null,
            "min_width": null,
            "object_fit": null,
            "object_position": null,
            "order": null,
            "overflow": null,
            "overflow_x": null,
            "overflow_y": null,
            "padding": null,
            "right": null,
            "top": null,
            "visibility": null,
            "width": null
          }
        },
        "2cbc5c199b8645b09367cd2859fbe816": {
          "model_module": "@jupyter-widgets/controls",
          "model_name": "DescriptionStyleModel",
          "model_module_version": "1.5.0",
          "state": {
            "_model_module": "@jupyter-widgets/controls",
            "_model_module_version": "1.5.0",
            "_model_name": "DescriptionStyleModel",
            "_view_count": null,
            "_view_module": "@jupyter-widgets/base",
            "_view_module_version": "1.2.0",
            "_view_name": "StyleView",
            "description_width": ""
          }
        },
        "5537790a8e384c8e9406e69f8b8093dc": {
          "model_module": "@jupyter-widgets/controls",
          "model_name": "HBoxModel",
          "model_module_version": "1.5.0",
          "state": {
            "_dom_classes": [],
            "_model_module": "@jupyter-widgets/controls",
            "_model_module_version": "1.5.0",
            "_model_name": "HBoxModel",
            "_view_count": null,
            "_view_module": "@jupyter-widgets/controls",
            "_view_module_version": "1.5.0",
            "_view_name": "HBoxView",
            "box_style": "",
            "children": [
              "IPY_MODEL_a65562dd5f5a4f5faee6e4f7409973c6",
              "IPY_MODEL_5b479642df774930b11e3b3c6b7ab853",
              "IPY_MODEL_298c4e5a500f4b21a23269fea9e90947"
            ],
            "layout": "IPY_MODEL_f56b8488862d4a2fbb58d30fa0003f4d"
          }
        },
        "a65562dd5f5a4f5faee6e4f7409973c6": {
          "model_module": "@jupyter-widgets/controls",
          "model_name": "HTMLModel",
          "model_module_version": "1.5.0",
          "state": {
            "_dom_classes": [],
            "_model_module": "@jupyter-widgets/controls",
            "_model_module_version": "1.5.0",
            "_model_name": "HTMLModel",
            "_view_count": null,
            "_view_module": "@jupyter-widgets/controls",
            "_view_module_version": "1.5.0",
            "_view_name": "HTMLView",
            "description": "",
            "description_tooltip": null,
            "layout": "IPY_MODEL_296533797c0848ce80bc88c6a64fcd7c",
            "placeholder": "​",
            "style": "IPY_MODEL_c2e4830369974bb18cbdaee5422f4fac",
            "value": "Downloading readme: 100%"
          }
        },
        "5b479642df774930b11e3b3c6b7ab853": {
          "model_module": "@jupyter-widgets/controls",
          "model_name": "FloatProgressModel",
          "model_module_version": "1.5.0",
          "state": {
            "_dom_classes": [],
            "_model_module": "@jupyter-widgets/controls",
            "_model_module_version": "1.5.0",
            "_model_name": "FloatProgressModel",
            "_view_count": null,
            "_view_module": "@jupyter-widgets/controls",
            "_view_module_version": "1.5.0",
            "_view_name": "ProgressView",
            "bar_style": "success",
            "description": "",
            "description_tooltip": null,
            "layout": "IPY_MODEL_c79c64b98b854ccc82194b1f33de75f3",
            "max": 12330,
            "min": 0,
            "orientation": "horizontal",
            "style": "IPY_MODEL_a1b65c87002f486691b8dfa4aac99917",
            "value": 12330
          }
        },
        "298c4e5a500f4b21a23269fea9e90947": {
          "model_module": "@jupyter-widgets/controls",
          "model_name": "HTMLModel",
          "model_module_version": "1.5.0",
          "state": {
            "_dom_classes": [],
            "_model_module": "@jupyter-widgets/controls",
            "_model_module_version": "1.5.0",
            "_model_name": "HTMLModel",
            "_view_count": null,
            "_view_module": "@jupyter-widgets/controls",
            "_view_module_version": "1.5.0",
            "_view_name": "HTMLView",
            "description": "",
            "description_tooltip": null,
            "layout": "IPY_MODEL_ec2b576b95854e248623e523c77fa315",
            "placeholder": "​",
            "style": "IPY_MODEL_b3f955e4e9884b6085e79de8e8c0b8b3",
            "value": " 12.3k/12.3k [00:00&lt;00:00, 617kB/s]"
          }
        },
        "f56b8488862d4a2fbb58d30fa0003f4d": {
          "model_module": "@jupyter-widgets/base",
          "model_name": "LayoutModel",
          "model_module_version": "1.2.0",
          "state": {
            "_model_module": "@jupyter-widgets/base",
            "_model_module_version": "1.2.0",
            "_model_name": "LayoutModel",
            "_view_count": null,
            "_view_module": "@jupyter-widgets/base",
            "_view_module_version": "1.2.0",
            "_view_name": "LayoutView",
            "align_content": null,
            "align_items": null,
            "align_self": null,
            "border": null,
            "bottom": null,
            "display": null,
            "flex": null,
            "flex_flow": null,
            "grid_area": null,
            "grid_auto_columns": null,
            "grid_auto_flow": null,
            "grid_auto_rows": null,
            "grid_column": null,
            "grid_gap": null,
            "grid_row": null,
            "grid_template_areas": null,
            "grid_template_columns": null,
            "grid_template_rows": null,
            "height": null,
            "justify_content": null,
            "justify_items": null,
            "left": null,
            "margin": null,
            "max_height": null,
            "max_width": null,
            "min_height": null,
            "min_width": null,
            "object_fit": null,
            "object_position": null,
            "order": null,
            "overflow": null,
            "overflow_x": null,
            "overflow_y": null,
            "padding": null,
            "right": null,
            "top": null,
            "visibility": null,
            "width": null
          }
        },
        "296533797c0848ce80bc88c6a64fcd7c": {
          "model_module": "@jupyter-widgets/base",
          "model_name": "LayoutModel",
          "model_module_version": "1.2.0",
          "state": {
            "_model_module": "@jupyter-widgets/base",
            "_model_module_version": "1.2.0",
            "_model_name": "LayoutModel",
            "_view_count": null,
            "_view_module": "@jupyter-widgets/base",
            "_view_module_version": "1.2.0",
            "_view_name": "LayoutView",
            "align_content": null,
            "align_items": null,
            "align_self": null,
            "border": null,
            "bottom": null,
            "display": null,
            "flex": null,
            "flex_flow": null,
            "grid_area": null,
            "grid_auto_columns": null,
            "grid_auto_flow": null,
            "grid_auto_rows": null,
            "grid_column": null,
            "grid_gap": null,
            "grid_row": null,
            "grid_template_areas": null,
            "grid_template_columns": null,
            "grid_template_rows": null,
            "height": null,
            "justify_content": null,
            "justify_items": null,
            "left": null,
            "margin": null,
            "max_height": null,
            "max_width": null,
            "min_height": null,
            "min_width": null,
            "object_fit": null,
            "object_position": null,
            "order": null,
            "overflow": null,
            "overflow_x": null,
            "overflow_y": null,
            "padding": null,
            "right": null,
            "top": null,
            "visibility": null,
            "width": null
          }
        },
        "c2e4830369974bb18cbdaee5422f4fac": {
          "model_module": "@jupyter-widgets/controls",
          "model_name": "DescriptionStyleModel",
          "model_module_version": "1.5.0",
          "state": {
            "_model_module": "@jupyter-widgets/controls",
            "_model_module_version": "1.5.0",
            "_model_name": "DescriptionStyleModel",
            "_view_count": null,
            "_view_module": "@jupyter-widgets/base",
            "_view_module_version": "1.2.0",
            "_view_name": "StyleView",
            "description_width": ""
          }
        },
        "c79c64b98b854ccc82194b1f33de75f3": {
          "model_module": "@jupyter-widgets/base",
          "model_name": "LayoutModel",
          "model_module_version": "1.2.0",
          "state": {
            "_model_module": "@jupyter-widgets/base",
            "_model_module_version": "1.2.0",
            "_model_name": "LayoutModel",
            "_view_count": null,
            "_view_module": "@jupyter-widgets/base",
            "_view_module_version": "1.2.0",
            "_view_name": "LayoutView",
            "align_content": null,
            "align_items": null,
            "align_self": null,
            "border": null,
            "bottom": null,
            "display": null,
            "flex": null,
            "flex_flow": null,
            "grid_area": null,
            "grid_auto_columns": null,
            "grid_auto_flow": null,
            "grid_auto_rows": null,
            "grid_column": null,
            "grid_gap": null,
            "grid_row": null,
            "grid_template_areas": null,
            "grid_template_columns": null,
            "grid_template_rows": null,
            "height": null,
            "justify_content": null,
            "justify_items": null,
            "left": null,
            "margin": null,
            "max_height": null,
            "max_width": null,
            "min_height": null,
            "min_width": null,
            "object_fit": null,
            "object_position": null,
            "order": null,
            "overflow": null,
            "overflow_x": null,
            "overflow_y": null,
            "padding": null,
            "right": null,
            "top": null,
            "visibility": null,
            "width": null
          }
        },
        "a1b65c87002f486691b8dfa4aac99917": {
          "model_module": "@jupyter-widgets/controls",
          "model_name": "ProgressStyleModel",
          "model_module_version": "1.5.0",
          "state": {
            "_model_module": "@jupyter-widgets/controls",
            "_model_module_version": "1.5.0",
            "_model_name": "ProgressStyleModel",
            "_view_count": null,
            "_view_module": "@jupyter-widgets/base",
            "_view_module_version": "1.2.0",
            "_view_name": "StyleView",
            "bar_color": null,
            "description_width": ""
          }
        },
        "ec2b576b95854e248623e523c77fa315": {
          "model_module": "@jupyter-widgets/base",
          "model_name": "LayoutModel",
          "model_module_version": "1.2.0",
          "state": {
            "_model_module": "@jupyter-widgets/base",
            "_model_module_version": "1.2.0",
            "_model_name": "LayoutModel",
            "_view_count": null,
            "_view_module": "@jupyter-widgets/base",
            "_view_module_version": "1.2.0",
            "_view_name": "LayoutView",
            "align_content": null,
            "align_items": null,
            "align_self": null,
            "border": null,
            "bottom": null,
            "display": null,
            "flex": null,
            "flex_flow": null,
            "grid_area": null,
            "grid_auto_columns": null,
            "grid_auto_flow": null,
            "grid_auto_rows": null,
            "grid_column": null,
            "grid_gap": null,
            "grid_row": null,
            "grid_template_areas": null,
            "grid_template_columns": null,
            "grid_template_rows": null,
            "height": null,
            "justify_content": null,
            "justify_items": null,
            "left": null,
            "margin": null,
            "max_height": null,
            "max_width": null,
            "min_height": null,
            "min_width": null,
            "object_fit": null,
            "object_position": null,
            "order": null,
            "overflow": null,
            "overflow_x": null,
            "overflow_y": null,
            "padding": null,
            "right": null,
            "top": null,
            "visibility": null,
            "width": null
          }
        },
        "b3f955e4e9884b6085e79de8e8c0b8b3": {
          "model_module": "@jupyter-widgets/controls",
          "model_name": "DescriptionStyleModel",
          "model_module_version": "1.5.0",
          "state": {
            "_model_module": "@jupyter-widgets/controls",
            "_model_module_version": "1.5.0",
            "_model_name": "DescriptionStyleModel",
            "_view_count": null,
            "_view_module": "@jupyter-widgets/base",
            "_view_module_version": "1.2.0",
            "_view_name": "StyleView",
            "description_width": ""
          }
        },
        "b700cfc6aa384b66879bcd069e9fd0bf": {
          "model_module": "@jupyter-widgets/controls",
          "model_name": "HBoxModel",
          "model_module_version": "1.5.0",
          "state": {
            "_dom_classes": [],
            "_model_module": "@jupyter-widgets/controls",
            "_model_module_version": "1.5.0",
            "_model_name": "HBoxModel",
            "_view_count": null,
            "_view_module": "@jupyter-widgets/controls",
            "_view_module_version": "1.5.0",
            "_view_name": "HBoxView",
            "box_style": "",
            "children": [
              "IPY_MODEL_7f8dacf2ae6542d09ed4129ba45d44e6",
              "IPY_MODEL_6f073dc911df467fa57b75e4c6d663c7",
              "IPY_MODEL_cd0a110f6c1847d1b15862ef1ab65eb7"
            ],
            "layout": "IPY_MODEL_a5dc5bbf29644c0d95253c71e39c5ad2"
          }
        },
        "7f8dacf2ae6542d09ed4129ba45d44e6": {
          "model_module": "@jupyter-widgets/controls",
          "model_name": "HTMLModel",
          "model_module_version": "1.5.0",
          "state": {
            "_dom_classes": [],
            "_model_module": "@jupyter-widgets/controls",
            "_model_module_version": "1.5.0",
            "_model_name": "HTMLModel",
            "_view_count": null,
            "_view_module": "@jupyter-widgets/controls",
            "_view_module_version": "1.5.0",
            "_view_name": "HTMLView",
            "description": "",
            "description_tooltip": null,
            "layout": "IPY_MODEL_d570cde7e3cf4cbcbc01b05f660aa5ff",
            "placeholder": "​",
            "style": "IPY_MODEL_ce99926790494194863720c1a4c0b10d",
            "value": "Downloading data: 100%"
          }
        },
        "6f073dc911df467fa57b75e4c6d663c7": {
          "model_module": "@jupyter-widgets/controls",
          "model_name": "FloatProgressModel",
          "model_module_version": "1.5.0",
          "state": {
            "_dom_classes": [],
            "_model_module": "@jupyter-widgets/controls",
            "_model_module_version": "1.5.0",
            "_model_name": "FloatProgressModel",
            "_view_count": null,
            "_view_module": "@jupyter-widgets/controls",
            "_view_module_version": "1.5.0",
            "_view_name": "ProgressView",
            "bar_style": "success",
            "description": "",
            "description_tooltip": null,
            "layout": "IPY_MODEL_9c4768b6aa7542b29c4ef62eb0123983",
            "max": 982975,
            "min": 0,
            "orientation": "horizontal",
            "style": "IPY_MODEL_e9ba36c6fd3c445fb8ee5089957ddca6",
            "value": 982975
          }
        },
        "cd0a110f6c1847d1b15862ef1ab65eb7": {
          "model_module": "@jupyter-widgets/controls",
          "model_name": "HTMLModel",
          "model_module_version": "1.5.0",
          "state": {
            "_dom_classes": [],
            "_model_module": "@jupyter-widgets/controls",
            "_model_module_version": "1.5.0",
            "_model_name": "HTMLModel",
            "_view_count": null,
            "_view_module": "@jupyter-widgets/controls",
            "_view_module_version": "1.5.0",
            "_view_name": "HTMLView",
            "description": "",
            "description_tooltip": null,
            "layout": "IPY_MODEL_4b20d64cdeac423680698c36c8e5e0d8",
            "placeholder": "​",
            "style": "IPY_MODEL_58ff7f2af7854305b013b6675f674d30",
            "value": " 983k/983k [00:00&lt;00:00, 5.11MB/s]"
          }
        },
        "a5dc5bbf29644c0d95253c71e39c5ad2": {
          "model_module": "@jupyter-widgets/base",
          "model_name": "LayoutModel",
          "model_module_version": "1.2.0",
          "state": {
            "_model_module": "@jupyter-widgets/base",
            "_model_module_version": "1.2.0",
            "_model_name": "LayoutModel",
            "_view_count": null,
            "_view_module": "@jupyter-widgets/base",
            "_view_module_version": "1.2.0",
            "_view_name": "LayoutView",
            "align_content": null,
            "align_items": null,
            "align_self": null,
            "border": null,
            "bottom": null,
            "display": null,
            "flex": null,
            "flex_flow": null,
            "grid_area": null,
            "grid_auto_columns": null,
            "grid_auto_flow": null,
            "grid_auto_rows": null,
            "grid_column": null,
            "grid_gap": null,
            "grid_row": null,
            "grid_template_areas": null,
            "grid_template_columns": null,
            "grid_template_rows": null,
            "height": null,
            "justify_content": null,
            "justify_items": null,
            "left": null,
            "margin": null,
            "max_height": null,
            "max_width": null,
            "min_height": null,
            "min_width": null,
            "object_fit": null,
            "object_position": null,
            "order": null,
            "overflow": null,
            "overflow_x": null,
            "overflow_y": null,
            "padding": null,
            "right": null,
            "top": null,
            "visibility": null,
            "width": null
          }
        },
        "d570cde7e3cf4cbcbc01b05f660aa5ff": {
          "model_module": "@jupyter-widgets/base",
          "model_name": "LayoutModel",
          "model_module_version": "1.2.0",
          "state": {
            "_model_module": "@jupyter-widgets/base",
            "_model_module_version": "1.2.0",
            "_model_name": "LayoutModel",
            "_view_count": null,
            "_view_module": "@jupyter-widgets/base",
            "_view_module_version": "1.2.0",
            "_view_name": "LayoutView",
            "align_content": null,
            "align_items": null,
            "align_self": null,
            "border": null,
            "bottom": null,
            "display": null,
            "flex": null,
            "flex_flow": null,
            "grid_area": null,
            "grid_auto_columns": null,
            "grid_auto_flow": null,
            "grid_auto_rows": null,
            "grid_column": null,
            "grid_gap": null,
            "grid_row": null,
            "grid_template_areas": null,
            "grid_template_columns": null,
            "grid_template_rows": null,
            "height": null,
            "justify_content": null,
            "justify_items": null,
            "left": null,
            "margin": null,
            "max_height": null,
            "max_width": null,
            "min_height": null,
            "min_width": null,
            "object_fit": null,
            "object_position": null,
            "order": null,
            "overflow": null,
            "overflow_x": null,
            "overflow_y": null,
            "padding": null,
            "right": null,
            "top": null,
            "visibility": null,
            "width": null
          }
        },
        "ce99926790494194863720c1a4c0b10d": {
          "model_module": "@jupyter-widgets/controls",
          "model_name": "DescriptionStyleModel",
          "model_module_version": "1.5.0",
          "state": {
            "_model_module": "@jupyter-widgets/controls",
            "_model_module_version": "1.5.0",
            "_model_name": "DescriptionStyleModel",
            "_view_count": null,
            "_view_module": "@jupyter-widgets/base",
            "_view_module_version": "1.2.0",
            "_view_name": "StyleView",
            "description_width": ""
          }
        },
        "9c4768b6aa7542b29c4ef62eb0123983": {
          "model_module": "@jupyter-widgets/base",
          "model_name": "LayoutModel",
          "model_module_version": "1.2.0",
          "state": {
            "_model_module": "@jupyter-widgets/base",
            "_model_module_version": "1.2.0",
            "_model_name": "LayoutModel",
            "_view_count": null,
            "_view_module": "@jupyter-widgets/base",
            "_view_module_version": "1.2.0",
            "_view_name": "LayoutView",
            "align_content": null,
            "align_items": null,
            "align_self": null,
            "border": null,
            "bottom": null,
            "display": null,
            "flex": null,
            "flex_flow": null,
            "grid_area": null,
            "grid_auto_columns": null,
            "grid_auto_flow": null,
            "grid_auto_rows": null,
            "grid_column": null,
            "grid_gap": null,
            "grid_row": null,
            "grid_template_areas": null,
            "grid_template_columns": null,
            "grid_template_rows": null,
            "height": null,
            "justify_content": null,
            "justify_items": null,
            "left": null,
            "margin": null,
            "max_height": null,
            "max_width": null,
            "min_height": null,
            "min_width": null,
            "object_fit": null,
            "object_position": null,
            "order": null,
            "overflow": null,
            "overflow_x": null,
            "overflow_y": null,
            "padding": null,
            "right": null,
            "top": null,
            "visibility": null,
            "width": null
          }
        },
        "e9ba36c6fd3c445fb8ee5089957ddca6": {
          "model_module": "@jupyter-widgets/controls",
          "model_name": "ProgressStyleModel",
          "model_module_version": "1.5.0",
          "state": {
            "_model_module": "@jupyter-widgets/controls",
            "_model_module_version": "1.5.0",
            "_model_name": "ProgressStyleModel",
            "_view_count": null,
            "_view_module": "@jupyter-widgets/base",
            "_view_module_version": "1.2.0",
            "_view_name": "StyleView",
            "bar_color": null,
            "description_width": ""
          }
        },
        "4b20d64cdeac423680698c36c8e5e0d8": {
          "model_module": "@jupyter-widgets/base",
          "model_name": "LayoutModel",
          "model_module_version": "1.2.0",
          "state": {
            "_model_module": "@jupyter-widgets/base",
            "_model_module_version": "1.2.0",
            "_model_name": "LayoutModel",
            "_view_count": null,
            "_view_module": "@jupyter-widgets/base",
            "_view_module_version": "1.2.0",
            "_view_name": "LayoutView",
            "align_content": null,
            "align_items": null,
            "align_self": null,
            "border": null,
            "bottom": null,
            "display": null,
            "flex": null,
            "flex_flow": null,
            "grid_area": null,
            "grid_auto_columns": null,
            "grid_auto_flow": null,
            "grid_auto_rows": null,
            "grid_column": null,
            "grid_gap": null,
            "grid_row": null,
            "grid_template_areas": null,
            "grid_template_columns": null,
            "grid_template_rows": null,
            "height": null,
            "justify_content": null,
            "justify_items": null,
            "left": null,
            "margin": null,
            "max_height": null,
            "max_width": null,
            "min_height": null,
            "min_width": null,
            "object_fit": null,
            "object_position": null,
            "order": null,
            "overflow": null,
            "overflow_x": null,
            "overflow_y": null,
            "padding": null,
            "right": null,
            "top": null,
            "visibility": null,
            "width": null
          }
        },
        "58ff7f2af7854305b013b6675f674d30": {
          "model_module": "@jupyter-widgets/controls",
          "model_name": "DescriptionStyleModel",
          "model_module_version": "1.5.0",
          "state": {
            "_model_module": "@jupyter-widgets/controls",
            "_model_module_version": "1.5.0",
            "_model_name": "DescriptionStyleModel",
            "_view_count": null,
            "_view_module": "@jupyter-widgets/base",
            "_view_module_version": "1.2.0",
            "_view_name": "StyleView",
            "description_width": ""
          }
        },
        "04cabf0f28e94754a376bdcd519826e4": {
          "model_module": "@jupyter-widgets/controls",
          "model_name": "HBoxModel",
          "model_module_version": "1.5.0",
          "state": {
            "_dom_classes": [],
            "_model_module": "@jupyter-widgets/controls",
            "_model_module_version": "1.5.0",
            "_model_name": "HBoxModel",
            "_view_count": null,
            "_view_module": "@jupyter-widgets/controls",
            "_view_module_version": "1.5.0",
            "_view_name": "HBoxView",
            "box_style": "",
            "children": [
              "IPY_MODEL_258505c84ea94ce4b1d86e454d9330b4",
              "IPY_MODEL_515817ee584747b4b53e900c37452cf5",
              "IPY_MODEL_44ebf137cdd8441189d22da364ca9dad"
            ],
            "layout": "IPY_MODEL_57ec12b8a3f14d5b860e7357a424ebbd"
          }
        },
        "258505c84ea94ce4b1d86e454d9330b4": {
          "model_module": "@jupyter-widgets/controls",
          "model_name": "HTMLModel",
          "model_module_version": "1.5.0",
          "state": {
            "_dom_classes": [],
            "_model_module": "@jupyter-widgets/controls",
            "_model_module_version": "1.5.0",
            "_model_name": "HTMLModel",
            "_view_count": null,
            "_view_module": "@jupyter-widgets/controls",
            "_view_module_version": "1.5.0",
            "_view_name": "HTMLView",
            "description": "",
            "description_tooltip": null,
            "layout": "IPY_MODEL_f48c45f390964318af48306d45add798",
            "placeholder": "​",
            "style": "IPY_MODEL_82189f3efb5547fcaabcc0aaf5cac51c",
            "value": "Generating train split: 100%"
          }
        },
        "515817ee584747b4b53e900c37452cf5": {
          "model_module": "@jupyter-widgets/controls",
          "model_name": "FloatProgressModel",
          "model_module_version": "1.5.0",
          "state": {
            "_dom_classes": [],
            "_model_module": "@jupyter-widgets/controls",
            "_model_module_version": "1.5.0",
            "_model_name": "FloatProgressModel",
            "_view_count": null,
            "_view_module": "@jupyter-widgets/controls",
            "_view_module_version": "1.5.0",
            "_view_name": "ProgressView",
            "bar_style": "",
            "description": "",
            "description_tooltip": null,
            "layout": "IPY_MODEL_0e1de789116b4d6b99abf6bd39d5c003",
            "max": 14041,
            "min": 0,
            "orientation": "horizontal",
            "style": "IPY_MODEL_605814adef284d4b85740fabce6c315d",
            "value": 14041
          }
        },
        "44ebf137cdd8441189d22da364ca9dad": {
          "model_module": "@jupyter-widgets/controls",
          "model_name": "HTMLModel",
          "model_module_version": "1.5.0",
          "state": {
            "_dom_classes": [],
            "_model_module": "@jupyter-widgets/controls",
            "_model_module_version": "1.5.0",
            "_model_name": "HTMLModel",
            "_view_count": null,
            "_view_module": "@jupyter-widgets/controls",
            "_view_module_version": "1.5.0",
            "_view_name": "HTMLView",
            "description": "",
            "description_tooltip": null,
            "layout": "IPY_MODEL_491971abac924b5d9d904a81bc295e1a",
            "placeholder": "​",
            "style": "IPY_MODEL_1abb47d2f4f24c4797cf41e8eea35c7c",
            "value": " 14041/14041 [00:03&lt;00:00, 4551.21 examples/s]"
          }
        },
        "57ec12b8a3f14d5b860e7357a424ebbd": {
          "model_module": "@jupyter-widgets/base",
          "model_name": "LayoutModel",
          "model_module_version": "1.2.0",
          "state": {
            "_model_module": "@jupyter-widgets/base",
            "_model_module_version": "1.2.0",
            "_model_name": "LayoutModel",
            "_view_count": null,
            "_view_module": "@jupyter-widgets/base",
            "_view_module_version": "1.2.0",
            "_view_name": "LayoutView",
            "align_content": null,
            "align_items": null,
            "align_self": null,
            "border": null,
            "bottom": null,
            "display": null,
            "flex": null,
            "flex_flow": null,
            "grid_area": null,
            "grid_auto_columns": null,
            "grid_auto_flow": null,
            "grid_auto_rows": null,
            "grid_column": null,
            "grid_gap": null,
            "grid_row": null,
            "grid_template_areas": null,
            "grid_template_columns": null,
            "grid_template_rows": null,
            "height": null,
            "justify_content": null,
            "justify_items": null,
            "left": null,
            "margin": null,
            "max_height": null,
            "max_width": null,
            "min_height": null,
            "min_width": null,
            "object_fit": null,
            "object_position": null,
            "order": null,
            "overflow": null,
            "overflow_x": null,
            "overflow_y": null,
            "padding": null,
            "right": null,
            "top": null,
            "visibility": "hidden",
            "width": null
          }
        },
        "f48c45f390964318af48306d45add798": {
          "model_module": "@jupyter-widgets/base",
          "model_name": "LayoutModel",
          "model_module_version": "1.2.0",
          "state": {
            "_model_module": "@jupyter-widgets/base",
            "_model_module_version": "1.2.0",
            "_model_name": "LayoutModel",
            "_view_count": null,
            "_view_module": "@jupyter-widgets/base",
            "_view_module_version": "1.2.0",
            "_view_name": "LayoutView",
            "align_content": null,
            "align_items": null,
            "align_self": null,
            "border": null,
            "bottom": null,
            "display": null,
            "flex": null,
            "flex_flow": null,
            "grid_area": null,
            "grid_auto_columns": null,
            "grid_auto_flow": null,
            "grid_auto_rows": null,
            "grid_column": null,
            "grid_gap": null,
            "grid_row": null,
            "grid_template_areas": null,
            "grid_template_columns": null,
            "grid_template_rows": null,
            "height": null,
            "justify_content": null,
            "justify_items": null,
            "left": null,
            "margin": null,
            "max_height": null,
            "max_width": null,
            "min_height": null,
            "min_width": null,
            "object_fit": null,
            "object_position": null,
            "order": null,
            "overflow": null,
            "overflow_x": null,
            "overflow_y": null,
            "padding": null,
            "right": null,
            "top": null,
            "visibility": null,
            "width": null
          }
        },
        "82189f3efb5547fcaabcc0aaf5cac51c": {
          "model_module": "@jupyter-widgets/controls",
          "model_name": "DescriptionStyleModel",
          "model_module_version": "1.5.0",
          "state": {
            "_model_module": "@jupyter-widgets/controls",
            "_model_module_version": "1.5.0",
            "_model_name": "DescriptionStyleModel",
            "_view_count": null,
            "_view_module": "@jupyter-widgets/base",
            "_view_module_version": "1.2.0",
            "_view_name": "StyleView",
            "description_width": ""
          }
        },
        "0e1de789116b4d6b99abf6bd39d5c003": {
          "model_module": "@jupyter-widgets/base",
          "model_name": "LayoutModel",
          "model_module_version": "1.2.0",
          "state": {
            "_model_module": "@jupyter-widgets/base",
            "_model_module_version": "1.2.0",
            "_model_name": "LayoutModel",
            "_view_count": null,
            "_view_module": "@jupyter-widgets/base",
            "_view_module_version": "1.2.0",
            "_view_name": "LayoutView",
            "align_content": null,
            "align_items": null,
            "align_self": null,
            "border": null,
            "bottom": null,
            "display": null,
            "flex": null,
            "flex_flow": null,
            "grid_area": null,
            "grid_auto_columns": null,
            "grid_auto_flow": null,
            "grid_auto_rows": null,
            "grid_column": null,
            "grid_gap": null,
            "grid_row": null,
            "grid_template_areas": null,
            "grid_template_columns": null,
            "grid_template_rows": null,
            "height": null,
            "justify_content": null,
            "justify_items": null,
            "left": null,
            "margin": null,
            "max_height": null,
            "max_width": null,
            "min_height": null,
            "min_width": null,
            "object_fit": null,
            "object_position": null,
            "order": null,
            "overflow": null,
            "overflow_x": null,
            "overflow_y": null,
            "padding": null,
            "right": null,
            "top": null,
            "visibility": null,
            "width": null
          }
        },
        "605814adef284d4b85740fabce6c315d": {
          "model_module": "@jupyter-widgets/controls",
          "model_name": "ProgressStyleModel",
          "model_module_version": "1.5.0",
          "state": {
            "_model_module": "@jupyter-widgets/controls",
            "_model_module_version": "1.5.0",
            "_model_name": "ProgressStyleModel",
            "_view_count": null,
            "_view_module": "@jupyter-widgets/base",
            "_view_module_version": "1.2.0",
            "_view_name": "StyleView",
            "bar_color": null,
            "description_width": ""
          }
        },
        "491971abac924b5d9d904a81bc295e1a": {
          "model_module": "@jupyter-widgets/base",
          "model_name": "LayoutModel",
          "model_module_version": "1.2.0",
          "state": {
            "_model_module": "@jupyter-widgets/base",
            "_model_module_version": "1.2.0",
            "_model_name": "LayoutModel",
            "_view_count": null,
            "_view_module": "@jupyter-widgets/base",
            "_view_module_version": "1.2.0",
            "_view_name": "LayoutView",
            "align_content": null,
            "align_items": null,
            "align_self": null,
            "border": null,
            "bottom": null,
            "display": null,
            "flex": null,
            "flex_flow": null,
            "grid_area": null,
            "grid_auto_columns": null,
            "grid_auto_flow": null,
            "grid_auto_rows": null,
            "grid_column": null,
            "grid_gap": null,
            "grid_row": null,
            "grid_template_areas": null,
            "grid_template_columns": null,
            "grid_template_rows": null,
            "height": null,
            "justify_content": null,
            "justify_items": null,
            "left": null,
            "margin": null,
            "max_height": null,
            "max_width": null,
            "min_height": null,
            "min_width": null,
            "object_fit": null,
            "object_position": null,
            "order": null,
            "overflow": null,
            "overflow_x": null,
            "overflow_y": null,
            "padding": null,
            "right": null,
            "top": null,
            "visibility": null,
            "width": null
          }
        },
        "1abb47d2f4f24c4797cf41e8eea35c7c": {
          "model_module": "@jupyter-widgets/controls",
          "model_name": "DescriptionStyleModel",
          "model_module_version": "1.5.0",
          "state": {
            "_model_module": "@jupyter-widgets/controls",
            "_model_module_version": "1.5.0",
            "_model_name": "DescriptionStyleModel",
            "_view_count": null,
            "_view_module": "@jupyter-widgets/base",
            "_view_module_version": "1.2.0",
            "_view_name": "StyleView",
            "description_width": ""
          }
        },
        "f41475e1cae746269cadab465089ea4a": {
          "model_module": "@jupyter-widgets/controls",
          "model_name": "HBoxModel",
          "model_module_version": "1.5.0",
          "state": {
            "_dom_classes": [],
            "_model_module": "@jupyter-widgets/controls",
            "_model_module_version": "1.5.0",
            "_model_name": "HBoxModel",
            "_view_count": null,
            "_view_module": "@jupyter-widgets/controls",
            "_view_module_version": "1.5.0",
            "_view_name": "HBoxView",
            "box_style": "",
            "children": [
              "IPY_MODEL_69e960b0370142d389cee7c68a83ec42",
              "IPY_MODEL_bab1e53623444b7eb2cea3ae2afeb4a3",
              "IPY_MODEL_44ea828f286f423eace6253a9f979bce"
            ],
            "layout": "IPY_MODEL_569c56ca47394d6db8ccf25de17092a1"
          }
        },
        "69e960b0370142d389cee7c68a83ec42": {
          "model_module": "@jupyter-widgets/controls",
          "model_name": "HTMLModel",
          "model_module_version": "1.5.0",
          "state": {
            "_dom_classes": [],
            "_model_module": "@jupyter-widgets/controls",
            "_model_module_version": "1.5.0",
            "_model_name": "HTMLModel",
            "_view_count": null,
            "_view_module": "@jupyter-widgets/controls",
            "_view_module_version": "1.5.0",
            "_view_name": "HTMLView",
            "description": "",
            "description_tooltip": null,
            "layout": "IPY_MODEL_93a2e66cd8254fa2954508cbe0240f6f",
            "placeholder": "​",
            "style": "IPY_MODEL_d5c11501e809491792a8c051f8352e62",
            "value": "Generating validation split:  97%"
          }
        },
        "bab1e53623444b7eb2cea3ae2afeb4a3": {
          "model_module": "@jupyter-widgets/controls",
          "model_name": "FloatProgressModel",
          "model_module_version": "1.5.0",
          "state": {
            "_dom_classes": [],
            "_model_module": "@jupyter-widgets/controls",
            "_model_module_version": "1.5.0",
            "_model_name": "FloatProgressModel",
            "_view_count": null,
            "_view_module": "@jupyter-widgets/controls",
            "_view_module_version": "1.5.0",
            "_view_name": "ProgressView",
            "bar_style": "",
            "description": "",
            "description_tooltip": null,
            "layout": "IPY_MODEL_d003012da5764e71942033aaf6562850",
            "max": 3250,
            "min": 0,
            "orientation": "horizontal",
            "style": "IPY_MODEL_6b8c9c4ea44640518c12618806c7caad",
            "value": 3250
          }
        },
        "44ea828f286f423eace6253a9f979bce": {
          "model_module": "@jupyter-widgets/controls",
          "model_name": "HTMLModel",
          "model_module_version": "1.5.0",
          "state": {
            "_dom_classes": [],
            "_model_module": "@jupyter-widgets/controls",
            "_model_module_version": "1.5.0",
            "_model_name": "HTMLModel",
            "_view_count": null,
            "_view_module": "@jupyter-widgets/controls",
            "_view_module_version": "1.5.0",
            "_view_name": "HTMLView",
            "description": "",
            "description_tooltip": null,
            "layout": "IPY_MODEL_02cfde49b6c54bc58decb5b62a728e11",
            "placeholder": "​",
            "style": "IPY_MODEL_82eac52b4fba4fb5b30c7eb6acdc204c",
            "value": " 3142/3250 [00:00&lt;00:00, 2540.41 examples/s]"
          }
        },
        "569c56ca47394d6db8ccf25de17092a1": {
          "model_module": "@jupyter-widgets/base",
          "model_name": "LayoutModel",
          "model_module_version": "1.2.0",
          "state": {
            "_model_module": "@jupyter-widgets/base",
            "_model_module_version": "1.2.0",
            "_model_name": "LayoutModel",
            "_view_count": null,
            "_view_module": "@jupyter-widgets/base",
            "_view_module_version": "1.2.0",
            "_view_name": "LayoutView",
            "align_content": null,
            "align_items": null,
            "align_self": null,
            "border": null,
            "bottom": null,
            "display": null,
            "flex": null,
            "flex_flow": null,
            "grid_area": null,
            "grid_auto_columns": null,
            "grid_auto_flow": null,
            "grid_auto_rows": null,
            "grid_column": null,
            "grid_gap": null,
            "grid_row": null,
            "grid_template_areas": null,
            "grid_template_columns": null,
            "grid_template_rows": null,
            "height": null,
            "justify_content": null,
            "justify_items": null,
            "left": null,
            "margin": null,
            "max_height": null,
            "max_width": null,
            "min_height": null,
            "min_width": null,
            "object_fit": null,
            "object_position": null,
            "order": null,
            "overflow": null,
            "overflow_x": null,
            "overflow_y": null,
            "padding": null,
            "right": null,
            "top": null,
            "visibility": "hidden",
            "width": null
          }
        },
        "93a2e66cd8254fa2954508cbe0240f6f": {
          "model_module": "@jupyter-widgets/base",
          "model_name": "LayoutModel",
          "model_module_version": "1.2.0",
          "state": {
            "_model_module": "@jupyter-widgets/base",
            "_model_module_version": "1.2.0",
            "_model_name": "LayoutModel",
            "_view_count": null,
            "_view_module": "@jupyter-widgets/base",
            "_view_module_version": "1.2.0",
            "_view_name": "LayoutView",
            "align_content": null,
            "align_items": null,
            "align_self": null,
            "border": null,
            "bottom": null,
            "display": null,
            "flex": null,
            "flex_flow": null,
            "grid_area": null,
            "grid_auto_columns": null,
            "grid_auto_flow": null,
            "grid_auto_rows": null,
            "grid_column": null,
            "grid_gap": null,
            "grid_row": null,
            "grid_template_areas": null,
            "grid_template_columns": null,
            "grid_template_rows": null,
            "height": null,
            "justify_content": null,
            "justify_items": null,
            "left": null,
            "margin": null,
            "max_height": null,
            "max_width": null,
            "min_height": null,
            "min_width": null,
            "object_fit": null,
            "object_position": null,
            "order": null,
            "overflow": null,
            "overflow_x": null,
            "overflow_y": null,
            "padding": null,
            "right": null,
            "top": null,
            "visibility": null,
            "width": null
          }
        },
        "d5c11501e809491792a8c051f8352e62": {
          "model_module": "@jupyter-widgets/controls",
          "model_name": "DescriptionStyleModel",
          "model_module_version": "1.5.0",
          "state": {
            "_model_module": "@jupyter-widgets/controls",
            "_model_module_version": "1.5.0",
            "_model_name": "DescriptionStyleModel",
            "_view_count": null,
            "_view_module": "@jupyter-widgets/base",
            "_view_module_version": "1.2.0",
            "_view_name": "StyleView",
            "description_width": ""
          }
        },
        "d003012da5764e71942033aaf6562850": {
          "model_module": "@jupyter-widgets/base",
          "model_name": "LayoutModel",
          "model_module_version": "1.2.0",
          "state": {
            "_model_module": "@jupyter-widgets/base",
            "_model_module_version": "1.2.0",
            "_model_name": "LayoutModel",
            "_view_count": null,
            "_view_module": "@jupyter-widgets/base",
            "_view_module_version": "1.2.0",
            "_view_name": "LayoutView",
            "align_content": null,
            "align_items": null,
            "align_self": null,
            "border": null,
            "bottom": null,
            "display": null,
            "flex": null,
            "flex_flow": null,
            "grid_area": null,
            "grid_auto_columns": null,
            "grid_auto_flow": null,
            "grid_auto_rows": null,
            "grid_column": null,
            "grid_gap": null,
            "grid_row": null,
            "grid_template_areas": null,
            "grid_template_columns": null,
            "grid_template_rows": null,
            "height": null,
            "justify_content": null,
            "justify_items": null,
            "left": null,
            "margin": null,
            "max_height": null,
            "max_width": null,
            "min_height": null,
            "min_width": null,
            "object_fit": null,
            "object_position": null,
            "order": null,
            "overflow": null,
            "overflow_x": null,
            "overflow_y": null,
            "padding": null,
            "right": null,
            "top": null,
            "visibility": null,
            "width": null
          }
        },
        "6b8c9c4ea44640518c12618806c7caad": {
          "model_module": "@jupyter-widgets/controls",
          "model_name": "ProgressStyleModel",
          "model_module_version": "1.5.0",
          "state": {
            "_model_module": "@jupyter-widgets/controls",
            "_model_module_version": "1.5.0",
            "_model_name": "ProgressStyleModel",
            "_view_count": null,
            "_view_module": "@jupyter-widgets/base",
            "_view_module_version": "1.2.0",
            "_view_name": "StyleView",
            "bar_color": null,
            "description_width": ""
          }
        },
        "02cfde49b6c54bc58decb5b62a728e11": {
          "model_module": "@jupyter-widgets/base",
          "model_name": "LayoutModel",
          "model_module_version": "1.2.0",
          "state": {
            "_model_module": "@jupyter-widgets/base",
            "_model_module_version": "1.2.0",
            "_model_name": "LayoutModel",
            "_view_count": null,
            "_view_module": "@jupyter-widgets/base",
            "_view_module_version": "1.2.0",
            "_view_name": "LayoutView",
            "align_content": null,
            "align_items": null,
            "align_self": null,
            "border": null,
            "bottom": null,
            "display": null,
            "flex": null,
            "flex_flow": null,
            "grid_area": null,
            "grid_auto_columns": null,
            "grid_auto_flow": null,
            "grid_auto_rows": null,
            "grid_column": null,
            "grid_gap": null,
            "grid_row": null,
            "grid_template_areas": null,
            "grid_template_columns": null,
            "grid_template_rows": null,
            "height": null,
            "justify_content": null,
            "justify_items": null,
            "left": null,
            "margin": null,
            "max_height": null,
            "max_width": null,
            "min_height": null,
            "min_width": null,
            "object_fit": null,
            "object_position": null,
            "order": null,
            "overflow": null,
            "overflow_x": null,
            "overflow_y": null,
            "padding": null,
            "right": null,
            "top": null,
            "visibility": null,
            "width": null
          }
        },
        "82eac52b4fba4fb5b30c7eb6acdc204c": {
          "model_module": "@jupyter-widgets/controls",
          "model_name": "DescriptionStyleModel",
          "model_module_version": "1.5.0",
          "state": {
            "_model_module": "@jupyter-widgets/controls",
            "_model_module_version": "1.5.0",
            "_model_name": "DescriptionStyleModel",
            "_view_count": null,
            "_view_module": "@jupyter-widgets/base",
            "_view_module_version": "1.2.0",
            "_view_name": "StyleView",
            "description_width": ""
          }
        },
        "cb461e9300904e558d95c607ac034077": {
          "model_module": "@jupyter-widgets/controls",
          "model_name": "HBoxModel",
          "model_module_version": "1.5.0",
          "state": {
            "_dom_classes": [],
            "_model_module": "@jupyter-widgets/controls",
            "_model_module_version": "1.5.0",
            "_model_name": "HBoxModel",
            "_view_count": null,
            "_view_module": "@jupyter-widgets/controls",
            "_view_module_version": "1.5.0",
            "_view_name": "HBoxView",
            "box_style": "",
            "children": [
              "IPY_MODEL_5a4a31a396d3445b88a29255325a4eb1",
              "IPY_MODEL_e37fee1d21624d97893c4eedcd4e9ec3",
              "IPY_MODEL_f54d7f4a343c4c1fbc32831a5b71fe60"
            ],
            "layout": "IPY_MODEL_56f0666ae158432ca5116dec8c295dd1"
          }
        },
        "5a4a31a396d3445b88a29255325a4eb1": {
          "model_module": "@jupyter-widgets/controls",
          "model_name": "HTMLModel",
          "model_module_version": "1.5.0",
          "state": {
            "_dom_classes": [],
            "_model_module": "@jupyter-widgets/controls",
            "_model_module_version": "1.5.0",
            "_model_name": "HTMLModel",
            "_view_count": null,
            "_view_module": "@jupyter-widgets/controls",
            "_view_module_version": "1.5.0",
            "_view_name": "HTMLView",
            "description": "",
            "description_tooltip": null,
            "layout": "IPY_MODEL_fe88896c3ee34e2fbce7c3642282e852",
            "placeholder": "​",
            "style": "IPY_MODEL_7ac32af335a94590a3cb8e5c4ae2b88a",
            "value": "Generating test split:  91%"
          }
        },
        "e37fee1d21624d97893c4eedcd4e9ec3": {
          "model_module": "@jupyter-widgets/controls",
          "model_name": "FloatProgressModel",
          "model_module_version": "1.5.0",
          "state": {
            "_dom_classes": [],
            "_model_module": "@jupyter-widgets/controls",
            "_model_module_version": "1.5.0",
            "_model_name": "FloatProgressModel",
            "_view_count": null,
            "_view_module": "@jupyter-widgets/controls",
            "_view_module_version": "1.5.0",
            "_view_name": "ProgressView",
            "bar_style": "",
            "description": "",
            "description_tooltip": null,
            "layout": "IPY_MODEL_e6b01ecb509e4660b846a8457e5d61cb",
            "max": 3453,
            "min": 0,
            "orientation": "horizontal",
            "style": "IPY_MODEL_cec274a774ec4365ab32bbaf5f712713",
            "value": 3453
          }
        },
        "f54d7f4a343c4c1fbc32831a5b71fe60": {
          "model_module": "@jupyter-widgets/controls",
          "model_name": "HTMLModel",
          "model_module_version": "1.5.0",
          "state": {
            "_dom_classes": [],
            "_model_module": "@jupyter-widgets/controls",
            "_model_module_version": "1.5.0",
            "_model_name": "HTMLModel",
            "_view_count": null,
            "_view_module": "@jupyter-widgets/controls",
            "_view_module_version": "1.5.0",
            "_view_name": "HTMLView",
            "description": "",
            "description_tooltip": null,
            "layout": "IPY_MODEL_1617f491622c4b42bd5f30c8df600623",
            "placeholder": "​",
            "style": "IPY_MODEL_94e793962ddf4c57a0fe40f5d4ced861",
            "value": " 3125/3453 [00:00&lt;00:00, 5310.71 examples/s]"
          }
        },
        "56f0666ae158432ca5116dec8c295dd1": {
          "model_module": "@jupyter-widgets/base",
          "model_name": "LayoutModel",
          "model_module_version": "1.2.0",
          "state": {
            "_model_module": "@jupyter-widgets/base",
            "_model_module_version": "1.2.0",
            "_model_name": "LayoutModel",
            "_view_count": null,
            "_view_module": "@jupyter-widgets/base",
            "_view_module_version": "1.2.0",
            "_view_name": "LayoutView",
            "align_content": null,
            "align_items": null,
            "align_self": null,
            "border": null,
            "bottom": null,
            "display": null,
            "flex": null,
            "flex_flow": null,
            "grid_area": null,
            "grid_auto_columns": null,
            "grid_auto_flow": null,
            "grid_auto_rows": null,
            "grid_column": null,
            "grid_gap": null,
            "grid_row": null,
            "grid_template_areas": null,
            "grid_template_columns": null,
            "grid_template_rows": null,
            "height": null,
            "justify_content": null,
            "justify_items": null,
            "left": null,
            "margin": null,
            "max_height": null,
            "max_width": null,
            "min_height": null,
            "min_width": null,
            "object_fit": null,
            "object_position": null,
            "order": null,
            "overflow": null,
            "overflow_x": null,
            "overflow_y": null,
            "padding": null,
            "right": null,
            "top": null,
            "visibility": "hidden",
            "width": null
          }
        },
        "fe88896c3ee34e2fbce7c3642282e852": {
          "model_module": "@jupyter-widgets/base",
          "model_name": "LayoutModel",
          "model_module_version": "1.2.0",
          "state": {
            "_model_module": "@jupyter-widgets/base",
            "_model_module_version": "1.2.0",
            "_model_name": "LayoutModel",
            "_view_count": null,
            "_view_module": "@jupyter-widgets/base",
            "_view_module_version": "1.2.0",
            "_view_name": "LayoutView",
            "align_content": null,
            "align_items": null,
            "align_self": null,
            "border": null,
            "bottom": null,
            "display": null,
            "flex": null,
            "flex_flow": null,
            "grid_area": null,
            "grid_auto_columns": null,
            "grid_auto_flow": null,
            "grid_auto_rows": null,
            "grid_column": null,
            "grid_gap": null,
            "grid_row": null,
            "grid_template_areas": null,
            "grid_template_columns": null,
            "grid_template_rows": null,
            "height": null,
            "justify_content": null,
            "justify_items": null,
            "left": null,
            "margin": null,
            "max_height": null,
            "max_width": null,
            "min_height": null,
            "min_width": null,
            "object_fit": null,
            "object_position": null,
            "order": null,
            "overflow": null,
            "overflow_x": null,
            "overflow_y": null,
            "padding": null,
            "right": null,
            "top": null,
            "visibility": null,
            "width": null
          }
        },
        "7ac32af335a94590a3cb8e5c4ae2b88a": {
          "model_module": "@jupyter-widgets/controls",
          "model_name": "DescriptionStyleModel",
          "model_module_version": "1.5.0",
          "state": {
            "_model_module": "@jupyter-widgets/controls",
            "_model_module_version": "1.5.0",
            "_model_name": "DescriptionStyleModel",
            "_view_count": null,
            "_view_module": "@jupyter-widgets/base",
            "_view_module_version": "1.2.0",
            "_view_name": "StyleView",
            "description_width": ""
          }
        },
        "e6b01ecb509e4660b846a8457e5d61cb": {
          "model_module": "@jupyter-widgets/base",
          "model_name": "LayoutModel",
          "model_module_version": "1.2.0",
          "state": {
            "_model_module": "@jupyter-widgets/base",
            "_model_module_version": "1.2.0",
            "_model_name": "LayoutModel",
            "_view_count": null,
            "_view_module": "@jupyter-widgets/base",
            "_view_module_version": "1.2.0",
            "_view_name": "LayoutView",
            "align_content": null,
            "align_items": null,
            "align_self": null,
            "border": null,
            "bottom": null,
            "display": null,
            "flex": null,
            "flex_flow": null,
            "grid_area": null,
            "grid_auto_columns": null,
            "grid_auto_flow": null,
            "grid_auto_rows": null,
            "grid_column": null,
            "grid_gap": null,
            "grid_row": null,
            "grid_template_areas": null,
            "grid_template_columns": null,
            "grid_template_rows": null,
            "height": null,
            "justify_content": null,
            "justify_items": null,
            "left": null,
            "margin": null,
            "max_height": null,
            "max_width": null,
            "min_height": null,
            "min_width": null,
            "object_fit": null,
            "object_position": null,
            "order": null,
            "overflow": null,
            "overflow_x": null,
            "overflow_y": null,
            "padding": null,
            "right": null,
            "top": null,
            "visibility": null,
            "width": null
          }
        },
        "cec274a774ec4365ab32bbaf5f712713": {
          "model_module": "@jupyter-widgets/controls",
          "model_name": "ProgressStyleModel",
          "model_module_version": "1.5.0",
          "state": {
            "_model_module": "@jupyter-widgets/controls",
            "_model_module_version": "1.5.0",
            "_model_name": "ProgressStyleModel",
            "_view_count": null,
            "_view_module": "@jupyter-widgets/base",
            "_view_module_version": "1.2.0",
            "_view_name": "StyleView",
            "bar_color": null,
            "description_width": ""
          }
        },
        "1617f491622c4b42bd5f30c8df600623": {
          "model_module": "@jupyter-widgets/base",
          "model_name": "LayoutModel",
          "model_module_version": "1.2.0",
          "state": {
            "_model_module": "@jupyter-widgets/base",
            "_model_module_version": "1.2.0",
            "_model_name": "LayoutModel",
            "_view_count": null,
            "_view_module": "@jupyter-widgets/base",
            "_view_module_version": "1.2.0",
            "_view_name": "LayoutView",
            "align_content": null,
            "align_items": null,
            "align_self": null,
            "border": null,
            "bottom": null,
            "display": null,
            "flex": null,
            "flex_flow": null,
            "grid_area": null,
            "grid_auto_columns": null,
            "grid_auto_flow": null,
            "grid_auto_rows": null,
            "grid_column": null,
            "grid_gap": null,
            "grid_row": null,
            "grid_template_areas": null,
            "grid_template_columns": null,
            "grid_template_rows": null,
            "height": null,
            "justify_content": null,
            "justify_items": null,
            "left": null,
            "margin": null,
            "max_height": null,
            "max_width": null,
            "min_height": null,
            "min_width": null,
            "object_fit": null,
            "object_position": null,
            "order": null,
            "overflow": null,
            "overflow_x": null,
            "overflow_y": null,
            "padding": null,
            "right": null,
            "top": null,
            "visibility": null,
            "width": null
          }
        },
        "94e793962ddf4c57a0fe40f5d4ced861": {
          "model_module": "@jupyter-widgets/controls",
          "model_name": "DescriptionStyleModel",
          "model_module_version": "1.5.0",
          "state": {
            "_model_module": "@jupyter-widgets/controls",
            "_model_module_version": "1.5.0",
            "_model_name": "DescriptionStyleModel",
            "_view_count": null,
            "_view_module": "@jupyter-widgets/base",
            "_view_module_version": "1.2.0",
            "_view_name": "StyleView",
            "description_width": ""
          }
        },
        "04b6723c0ba14a2ab3654f155eb8a50a": {
          "model_module": "@jupyter-widgets/controls",
          "model_name": "HBoxModel",
          "model_module_version": "1.5.0",
          "state": {
            "_dom_classes": [],
            "_model_module": "@jupyter-widgets/controls",
            "_model_module_version": "1.5.0",
            "_model_name": "HBoxModel",
            "_view_count": null,
            "_view_module": "@jupyter-widgets/controls",
            "_view_module_version": "1.5.0",
            "_view_name": "HBoxView",
            "box_style": "",
            "children": [
              "IPY_MODEL_be2087b1fcb947bda79536b6701bd38b",
              "IPY_MODEL_ab4fe1841ef24be19bc48c55169e5f63",
              "IPY_MODEL_9e1569ab3d6746b197228fff8803f3cd"
            ],
            "layout": "IPY_MODEL_942fa74599224aa195feb9c7ccb1b8e7"
          }
        },
        "be2087b1fcb947bda79536b6701bd38b": {
          "model_module": "@jupyter-widgets/controls",
          "model_name": "HTMLModel",
          "model_module_version": "1.5.0",
          "state": {
            "_dom_classes": [],
            "_model_module": "@jupyter-widgets/controls",
            "_model_module_version": "1.5.0",
            "_model_name": "HTMLModel",
            "_view_count": null,
            "_view_module": "@jupyter-widgets/controls",
            "_view_module_version": "1.5.0",
            "_view_name": "HTMLView",
            "description": "",
            "description_tooltip": null,
            "layout": "IPY_MODEL_c34c0ddb4a584ab18876604566a4a550",
            "placeholder": "​",
            "style": "IPY_MODEL_4ac87da526ca4517b5a89684f16bfd6f",
            "value": "100%"
          }
        },
        "ab4fe1841ef24be19bc48c55169e5f63": {
          "model_module": "@jupyter-widgets/controls",
          "model_name": "FloatProgressModel",
          "model_module_version": "1.5.0",
          "state": {
            "_dom_classes": [],
            "_model_module": "@jupyter-widgets/controls",
            "_model_module_version": "1.5.0",
            "_model_name": "FloatProgressModel",
            "_view_count": null,
            "_view_module": "@jupyter-widgets/controls",
            "_view_module_version": "1.5.0",
            "_view_name": "ProgressView",
            "bar_style": "success",
            "description": "",
            "description_tooltip": null,
            "layout": "IPY_MODEL_11a34921112140ffa13807d30e87bfd4",
            "max": 3,
            "min": 0,
            "orientation": "horizontal",
            "style": "IPY_MODEL_65439c263aac4fec94b616058c99111d",
            "value": 3
          }
        },
        "9e1569ab3d6746b197228fff8803f3cd": {
          "model_module": "@jupyter-widgets/controls",
          "model_name": "HTMLModel",
          "model_module_version": "1.5.0",
          "state": {
            "_dom_classes": [],
            "_model_module": "@jupyter-widgets/controls",
            "_model_module_version": "1.5.0",
            "_model_name": "HTMLModel",
            "_view_count": null,
            "_view_module": "@jupyter-widgets/controls",
            "_view_module_version": "1.5.0",
            "_view_name": "HTMLView",
            "description": "",
            "description_tooltip": null,
            "layout": "IPY_MODEL_b575a760297a47069acb764e942b1d25",
            "placeholder": "​",
            "style": "IPY_MODEL_2c6f0349b7cf4a9ea77f3e3624fd7b71",
            "value": " 3/3 [00:00&lt;00:00, 115.52it/s]"
          }
        },
        "942fa74599224aa195feb9c7ccb1b8e7": {
          "model_module": "@jupyter-widgets/base",
          "model_name": "LayoutModel",
          "model_module_version": "1.2.0",
          "state": {
            "_model_module": "@jupyter-widgets/base",
            "_model_module_version": "1.2.0",
            "_model_name": "LayoutModel",
            "_view_count": null,
            "_view_module": "@jupyter-widgets/base",
            "_view_module_version": "1.2.0",
            "_view_name": "LayoutView",
            "align_content": null,
            "align_items": null,
            "align_self": null,
            "border": null,
            "bottom": null,
            "display": null,
            "flex": null,
            "flex_flow": null,
            "grid_area": null,
            "grid_auto_columns": null,
            "grid_auto_flow": null,
            "grid_auto_rows": null,
            "grid_column": null,
            "grid_gap": null,
            "grid_row": null,
            "grid_template_areas": null,
            "grid_template_columns": null,
            "grid_template_rows": null,
            "height": null,
            "justify_content": null,
            "justify_items": null,
            "left": null,
            "margin": null,
            "max_height": null,
            "max_width": null,
            "min_height": null,
            "min_width": null,
            "object_fit": null,
            "object_position": null,
            "order": null,
            "overflow": null,
            "overflow_x": null,
            "overflow_y": null,
            "padding": null,
            "right": null,
            "top": null,
            "visibility": null,
            "width": null
          }
        },
        "c34c0ddb4a584ab18876604566a4a550": {
          "model_module": "@jupyter-widgets/base",
          "model_name": "LayoutModel",
          "model_module_version": "1.2.0",
          "state": {
            "_model_module": "@jupyter-widgets/base",
            "_model_module_version": "1.2.0",
            "_model_name": "LayoutModel",
            "_view_count": null,
            "_view_module": "@jupyter-widgets/base",
            "_view_module_version": "1.2.0",
            "_view_name": "LayoutView",
            "align_content": null,
            "align_items": null,
            "align_self": null,
            "border": null,
            "bottom": null,
            "display": null,
            "flex": null,
            "flex_flow": null,
            "grid_area": null,
            "grid_auto_columns": null,
            "grid_auto_flow": null,
            "grid_auto_rows": null,
            "grid_column": null,
            "grid_gap": null,
            "grid_row": null,
            "grid_template_areas": null,
            "grid_template_columns": null,
            "grid_template_rows": null,
            "height": null,
            "justify_content": null,
            "justify_items": null,
            "left": null,
            "margin": null,
            "max_height": null,
            "max_width": null,
            "min_height": null,
            "min_width": null,
            "object_fit": null,
            "object_position": null,
            "order": null,
            "overflow": null,
            "overflow_x": null,
            "overflow_y": null,
            "padding": null,
            "right": null,
            "top": null,
            "visibility": null,
            "width": null
          }
        },
        "4ac87da526ca4517b5a89684f16bfd6f": {
          "model_module": "@jupyter-widgets/controls",
          "model_name": "DescriptionStyleModel",
          "model_module_version": "1.5.0",
          "state": {
            "_model_module": "@jupyter-widgets/controls",
            "_model_module_version": "1.5.0",
            "_model_name": "DescriptionStyleModel",
            "_view_count": null,
            "_view_module": "@jupyter-widgets/base",
            "_view_module_version": "1.2.0",
            "_view_name": "StyleView",
            "description_width": ""
          }
        },
        "11a34921112140ffa13807d30e87bfd4": {
          "model_module": "@jupyter-widgets/base",
          "model_name": "LayoutModel",
          "model_module_version": "1.2.0",
          "state": {
            "_model_module": "@jupyter-widgets/base",
            "_model_module_version": "1.2.0",
            "_model_name": "LayoutModel",
            "_view_count": null,
            "_view_module": "@jupyter-widgets/base",
            "_view_module_version": "1.2.0",
            "_view_name": "LayoutView",
            "align_content": null,
            "align_items": null,
            "align_self": null,
            "border": null,
            "bottom": null,
            "display": null,
            "flex": null,
            "flex_flow": null,
            "grid_area": null,
            "grid_auto_columns": null,
            "grid_auto_flow": null,
            "grid_auto_rows": null,
            "grid_column": null,
            "grid_gap": null,
            "grid_row": null,
            "grid_template_areas": null,
            "grid_template_columns": null,
            "grid_template_rows": null,
            "height": null,
            "justify_content": null,
            "justify_items": null,
            "left": null,
            "margin": null,
            "max_height": null,
            "max_width": null,
            "min_height": null,
            "min_width": null,
            "object_fit": null,
            "object_position": null,
            "order": null,
            "overflow": null,
            "overflow_x": null,
            "overflow_y": null,
            "padding": null,
            "right": null,
            "top": null,
            "visibility": null,
            "width": null
          }
        },
        "65439c263aac4fec94b616058c99111d": {
          "model_module": "@jupyter-widgets/controls",
          "model_name": "ProgressStyleModel",
          "model_module_version": "1.5.0",
          "state": {
            "_model_module": "@jupyter-widgets/controls",
            "_model_module_version": "1.5.0",
            "_model_name": "ProgressStyleModel",
            "_view_count": null,
            "_view_module": "@jupyter-widgets/base",
            "_view_module_version": "1.2.0",
            "_view_name": "StyleView",
            "bar_color": null,
            "description_width": ""
          }
        },
        "b575a760297a47069acb764e942b1d25": {
          "model_module": "@jupyter-widgets/base",
          "model_name": "LayoutModel",
          "model_module_version": "1.2.0",
          "state": {
            "_model_module": "@jupyter-widgets/base",
            "_model_module_version": "1.2.0",
            "_model_name": "LayoutModel",
            "_view_count": null,
            "_view_module": "@jupyter-widgets/base",
            "_view_module_version": "1.2.0",
            "_view_name": "LayoutView",
            "align_content": null,
            "align_items": null,
            "align_self": null,
            "border": null,
            "bottom": null,
            "display": null,
            "flex": null,
            "flex_flow": null,
            "grid_area": null,
            "grid_auto_columns": null,
            "grid_auto_flow": null,
            "grid_auto_rows": null,
            "grid_column": null,
            "grid_gap": null,
            "grid_row": null,
            "grid_template_areas": null,
            "grid_template_columns": null,
            "grid_template_rows": null,
            "height": null,
            "justify_content": null,
            "justify_items": null,
            "left": null,
            "margin": null,
            "max_height": null,
            "max_width": null,
            "min_height": null,
            "min_width": null,
            "object_fit": null,
            "object_position": null,
            "order": null,
            "overflow": null,
            "overflow_x": null,
            "overflow_y": null,
            "padding": null,
            "right": null,
            "top": null,
            "visibility": null,
            "width": null
          }
        },
        "2c6f0349b7cf4a9ea77f3e3624fd7b71": {
          "model_module": "@jupyter-widgets/controls",
          "model_name": "DescriptionStyleModel",
          "model_module_version": "1.5.0",
          "state": {
            "_model_module": "@jupyter-widgets/controls",
            "_model_module_version": "1.5.0",
            "_model_name": "DescriptionStyleModel",
            "_view_count": null,
            "_view_module": "@jupyter-widgets/base",
            "_view_module_version": "1.2.0",
            "_view_name": "StyleView",
            "description_width": ""
          }
        },
        "6313a99741ba40e5b252e628beba1ca2": {
          "model_module": "@jupyter-widgets/controls",
          "model_name": "HBoxModel",
          "model_module_version": "1.5.0",
          "state": {
            "_dom_classes": [],
            "_model_module": "@jupyter-widgets/controls",
            "_model_module_version": "1.5.0",
            "_model_name": "HBoxModel",
            "_view_count": null,
            "_view_module": "@jupyter-widgets/controls",
            "_view_module_version": "1.5.0",
            "_view_name": "HBoxView",
            "box_style": "",
            "children": [
              "IPY_MODEL_49892885b1004dc99794e495a6ddfde6",
              "IPY_MODEL_189a16f732b043cfa4994d0044e6edb4",
              "IPY_MODEL_9b611d4856b24488aabb704d86ef5ff2"
            ],
            "layout": "IPY_MODEL_94d530599f4f4b62867094d9022d8508"
          }
        },
        "49892885b1004dc99794e495a6ddfde6": {
          "model_module": "@jupyter-widgets/controls",
          "model_name": "HTMLModel",
          "model_module_version": "1.5.0",
          "state": {
            "_dom_classes": [],
            "_model_module": "@jupyter-widgets/controls",
            "_model_module_version": "1.5.0",
            "_model_name": "HTMLModel",
            "_view_count": null,
            "_view_module": "@jupyter-widgets/controls",
            "_view_module_version": "1.5.0",
            "_view_name": "HTMLView",
            "description": "",
            "description_tooltip": null,
            "layout": "IPY_MODEL_fa42f5195bff452288b223452684cb80",
            "placeholder": "​",
            "style": "IPY_MODEL_591c57776d834d22a4b43f0bde22b08a",
            "value": "Map: 100%"
          }
        },
        "189a16f732b043cfa4994d0044e6edb4": {
          "model_module": "@jupyter-widgets/controls",
          "model_name": "FloatProgressModel",
          "model_module_version": "1.5.0",
          "state": {
            "_dom_classes": [],
            "_model_module": "@jupyter-widgets/controls",
            "_model_module_version": "1.5.0",
            "_model_name": "FloatProgressModel",
            "_view_count": null,
            "_view_module": "@jupyter-widgets/controls",
            "_view_module_version": "1.5.0",
            "_view_name": "ProgressView",
            "bar_style": "",
            "description": "",
            "description_tooltip": null,
            "layout": "IPY_MODEL_4fdf0b4d613245b484c0fb836a5c05cd",
            "max": 14041,
            "min": 0,
            "orientation": "horizontal",
            "style": "IPY_MODEL_1c76425a694646b3a1fba30e6e58f049",
            "value": 14041
          }
        },
        "9b611d4856b24488aabb704d86ef5ff2": {
          "model_module": "@jupyter-widgets/controls",
          "model_name": "HTMLModel",
          "model_module_version": "1.5.0",
          "state": {
            "_dom_classes": [],
            "_model_module": "@jupyter-widgets/controls",
            "_model_module_version": "1.5.0",
            "_model_name": "HTMLModel",
            "_view_count": null,
            "_view_module": "@jupyter-widgets/controls",
            "_view_module_version": "1.5.0",
            "_view_name": "HTMLView",
            "description": "",
            "description_tooltip": null,
            "layout": "IPY_MODEL_ddadbb7cd92f47c3bd7011dda5e56181",
            "placeholder": "​",
            "style": "IPY_MODEL_e6d577bf372e488fa7dd770e15cf0f20",
            "value": " 14000/14041 [00:02&lt;00:00, 6510.71 examples/s]"
          }
        },
        "94d530599f4f4b62867094d9022d8508": {
          "model_module": "@jupyter-widgets/base",
          "model_name": "LayoutModel",
          "model_module_version": "1.2.0",
          "state": {
            "_model_module": "@jupyter-widgets/base",
            "_model_module_version": "1.2.0",
            "_model_name": "LayoutModel",
            "_view_count": null,
            "_view_module": "@jupyter-widgets/base",
            "_view_module_version": "1.2.0",
            "_view_name": "LayoutView",
            "align_content": null,
            "align_items": null,
            "align_self": null,
            "border": null,
            "bottom": null,
            "display": null,
            "flex": null,
            "flex_flow": null,
            "grid_area": null,
            "grid_auto_columns": null,
            "grid_auto_flow": null,
            "grid_auto_rows": null,
            "grid_column": null,
            "grid_gap": null,
            "grid_row": null,
            "grid_template_areas": null,
            "grid_template_columns": null,
            "grid_template_rows": null,
            "height": null,
            "justify_content": null,
            "justify_items": null,
            "left": null,
            "margin": null,
            "max_height": null,
            "max_width": null,
            "min_height": null,
            "min_width": null,
            "object_fit": null,
            "object_position": null,
            "order": null,
            "overflow": null,
            "overflow_x": null,
            "overflow_y": null,
            "padding": null,
            "right": null,
            "top": null,
            "visibility": "hidden",
            "width": null
          }
        },
        "fa42f5195bff452288b223452684cb80": {
          "model_module": "@jupyter-widgets/base",
          "model_name": "LayoutModel",
          "model_module_version": "1.2.0",
          "state": {
            "_model_module": "@jupyter-widgets/base",
            "_model_module_version": "1.2.0",
            "_model_name": "LayoutModel",
            "_view_count": null,
            "_view_module": "@jupyter-widgets/base",
            "_view_module_version": "1.2.0",
            "_view_name": "LayoutView",
            "align_content": null,
            "align_items": null,
            "align_self": null,
            "border": null,
            "bottom": null,
            "display": null,
            "flex": null,
            "flex_flow": null,
            "grid_area": null,
            "grid_auto_columns": null,
            "grid_auto_flow": null,
            "grid_auto_rows": null,
            "grid_column": null,
            "grid_gap": null,
            "grid_row": null,
            "grid_template_areas": null,
            "grid_template_columns": null,
            "grid_template_rows": null,
            "height": null,
            "justify_content": null,
            "justify_items": null,
            "left": null,
            "margin": null,
            "max_height": null,
            "max_width": null,
            "min_height": null,
            "min_width": null,
            "object_fit": null,
            "object_position": null,
            "order": null,
            "overflow": null,
            "overflow_x": null,
            "overflow_y": null,
            "padding": null,
            "right": null,
            "top": null,
            "visibility": null,
            "width": null
          }
        },
        "591c57776d834d22a4b43f0bde22b08a": {
          "model_module": "@jupyter-widgets/controls",
          "model_name": "DescriptionStyleModel",
          "model_module_version": "1.5.0",
          "state": {
            "_model_module": "@jupyter-widgets/controls",
            "_model_module_version": "1.5.0",
            "_model_name": "DescriptionStyleModel",
            "_view_count": null,
            "_view_module": "@jupyter-widgets/base",
            "_view_module_version": "1.2.0",
            "_view_name": "StyleView",
            "description_width": ""
          }
        },
        "4fdf0b4d613245b484c0fb836a5c05cd": {
          "model_module": "@jupyter-widgets/base",
          "model_name": "LayoutModel",
          "model_module_version": "1.2.0",
          "state": {
            "_model_module": "@jupyter-widgets/base",
            "_model_module_version": "1.2.0",
            "_model_name": "LayoutModel",
            "_view_count": null,
            "_view_module": "@jupyter-widgets/base",
            "_view_module_version": "1.2.0",
            "_view_name": "LayoutView",
            "align_content": null,
            "align_items": null,
            "align_self": null,
            "border": null,
            "bottom": null,
            "display": null,
            "flex": null,
            "flex_flow": null,
            "grid_area": null,
            "grid_auto_columns": null,
            "grid_auto_flow": null,
            "grid_auto_rows": null,
            "grid_column": null,
            "grid_gap": null,
            "grid_row": null,
            "grid_template_areas": null,
            "grid_template_columns": null,
            "grid_template_rows": null,
            "height": null,
            "justify_content": null,
            "justify_items": null,
            "left": null,
            "margin": null,
            "max_height": null,
            "max_width": null,
            "min_height": null,
            "min_width": null,
            "object_fit": null,
            "object_position": null,
            "order": null,
            "overflow": null,
            "overflow_x": null,
            "overflow_y": null,
            "padding": null,
            "right": null,
            "top": null,
            "visibility": null,
            "width": null
          }
        },
        "1c76425a694646b3a1fba30e6e58f049": {
          "model_module": "@jupyter-widgets/controls",
          "model_name": "ProgressStyleModel",
          "model_module_version": "1.5.0",
          "state": {
            "_model_module": "@jupyter-widgets/controls",
            "_model_module_version": "1.5.0",
            "_model_name": "ProgressStyleModel",
            "_view_count": null,
            "_view_module": "@jupyter-widgets/base",
            "_view_module_version": "1.2.0",
            "_view_name": "StyleView",
            "bar_color": null,
            "description_width": ""
          }
        },
        "ddadbb7cd92f47c3bd7011dda5e56181": {
          "model_module": "@jupyter-widgets/base",
          "model_name": "LayoutModel",
          "model_module_version": "1.2.0",
          "state": {
            "_model_module": "@jupyter-widgets/base",
            "_model_module_version": "1.2.0",
            "_model_name": "LayoutModel",
            "_view_count": null,
            "_view_module": "@jupyter-widgets/base",
            "_view_module_version": "1.2.0",
            "_view_name": "LayoutView",
            "align_content": null,
            "align_items": null,
            "align_self": null,
            "border": null,
            "bottom": null,
            "display": null,
            "flex": null,
            "flex_flow": null,
            "grid_area": null,
            "grid_auto_columns": null,
            "grid_auto_flow": null,
            "grid_auto_rows": null,
            "grid_column": null,
            "grid_gap": null,
            "grid_row": null,
            "grid_template_areas": null,
            "grid_template_columns": null,
            "grid_template_rows": null,
            "height": null,
            "justify_content": null,
            "justify_items": null,
            "left": null,
            "margin": null,
            "max_height": null,
            "max_width": null,
            "min_height": null,
            "min_width": null,
            "object_fit": null,
            "object_position": null,
            "order": null,
            "overflow": null,
            "overflow_x": null,
            "overflow_y": null,
            "padding": null,
            "right": null,
            "top": null,
            "visibility": null,
            "width": null
          }
        },
        "e6d577bf372e488fa7dd770e15cf0f20": {
          "model_module": "@jupyter-widgets/controls",
          "model_name": "DescriptionStyleModel",
          "model_module_version": "1.5.0",
          "state": {
            "_model_module": "@jupyter-widgets/controls",
            "_model_module_version": "1.5.0",
            "_model_name": "DescriptionStyleModel",
            "_view_count": null,
            "_view_module": "@jupyter-widgets/base",
            "_view_module_version": "1.2.0",
            "_view_name": "StyleView",
            "description_width": ""
          }
        },
        "4116f674eedc43ee8d863b540c3cecf9": {
          "model_module": "@jupyter-widgets/controls",
          "model_name": "HBoxModel",
          "model_module_version": "1.5.0",
          "state": {
            "_dom_classes": [],
            "_model_module": "@jupyter-widgets/controls",
            "_model_module_version": "1.5.0",
            "_model_name": "HBoxModel",
            "_view_count": null,
            "_view_module": "@jupyter-widgets/controls",
            "_view_module_version": "1.5.0",
            "_view_name": "HBoxView",
            "box_style": "",
            "children": [
              "IPY_MODEL_c3b14fa52d3b4ec1a970b251a60accc5",
              "IPY_MODEL_e4eb884a75324082bd79668b09f409d4",
              "IPY_MODEL_9d5635dbd06242b6a1ad1d3b41aa3400"
            ],
            "layout": "IPY_MODEL_85b7de25650a47749b1ebfce0e6a67ff"
          }
        },
        "c3b14fa52d3b4ec1a970b251a60accc5": {
          "model_module": "@jupyter-widgets/controls",
          "model_name": "HTMLModel",
          "model_module_version": "1.5.0",
          "state": {
            "_dom_classes": [],
            "_model_module": "@jupyter-widgets/controls",
            "_model_module_version": "1.5.0",
            "_model_name": "HTMLModel",
            "_view_count": null,
            "_view_module": "@jupyter-widgets/controls",
            "_view_module_version": "1.5.0",
            "_view_name": "HTMLView",
            "description": "",
            "description_tooltip": null,
            "layout": "IPY_MODEL_1c6d5441e0d5495a8ce828869c8c33fc",
            "placeholder": "​",
            "style": "IPY_MODEL_e47604f037e14e0cbe6e1fcf57b1b6a5",
            "value": "Map:  92%"
          }
        },
        "e4eb884a75324082bd79668b09f409d4": {
          "model_module": "@jupyter-widgets/controls",
          "model_name": "FloatProgressModel",
          "model_module_version": "1.5.0",
          "state": {
            "_dom_classes": [],
            "_model_module": "@jupyter-widgets/controls",
            "_model_module_version": "1.5.0",
            "_model_name": "FloatProgressModel",
            "_view_count": null,
            "_view_module": "@jupyter-widgets/controls",
            "_view_module_version": "1.5.0",
            "_view_name": "ProgressView",
            "bar_style": "",
            "description": "",
            "description_tooltip": null,
            "layout": "IPY_MODEL_537917a112ff402a95c0110ec62f47e0",
            "max": 3250,
            "min": 0,
            "orientation": "horizontal",
            "style": "IPY_MODEL_4d707909591d44bcb8b0d5b5b5dc0b14",
            "value": 3250
          }
        },
        "9d5635dbd06242b6a1ad1d3b41aa3400": {
          "model_module": "@jupyter-widgets/controls",
          "model_name": "HTMLModel",
          "model_module_version": "1.5.0",
          "state": {
            "_dom_classes": [],
            "_model_module": "@jupyter-widgets/controls",
            "_model_module_version": "1.5.0",
            "_model_name": "HTMLModel",
            "_view_count": null,
            "_view_module": "@jupyter-widgets/controls",
            "_view_module_version": "1.5.0",
            "_view_name": "HTMLView",
            "description": "",
            "description_tooltip": null,
            "layout": "IPY_MODEL_89326de101254097a0b5e6cc1d126e24",
            "placeholder": "​",
            "style": "IPY_MODEL_eb3534b491ca4fb9a71032a020d0829c",
            "value": " 3000/3250 [00:00&lt;00:00, 6440.54 examples/s]"
          }
        },
        "85b7de25650a47749b1ebfce0e6a67ff": {
          "model_module": "@jupyter-widgets/base",
          "model_name": "LayoutModel",
          "model_module_version": "1.2.0",
          "state": {
            "_model_module": "@jupyter-widgets/base",
            "_model_module_version": "1.2.0",
            "_model_name": "LayoutModel",
            "_view_count": null,
            "_view_module": "@jupyter-widgets/base",
            "_view_module_version": "1.2.0",
            "_view_name": "LayoutView",
            "align_content": null,
            "align_items": null,
            "align_self": null,
            "border": null,
            "bottom": null,
            "display": null,
            "flex": null,
            "flex_flow": null,
            "grid_area": null,
            "grid_auto_columns": null,
            "grid_auto_flow": null,
            "grid_auto_rows": null,
            "grid_column": null,
            "grid_gap": null,
            "grid_row": null,
            "grid_template_areas": null,
            "grid_template_columns": null,
            "grid_template_rows": null,
            "height": null,
            "justify_content": null,
            "justify_items": null,
            "left": null,
            "margin": null,
            "max_height": null,
            "max_width": null,
            "min_height": null,
            "min_width": null,
            "object_fit": null,
            "object_position": null,
            "order": null,
            "overflow": null,
            "overflow_x": null,
            "overflow_y": null,
            "padding": null,
            "right": null,
            "top": null,
            "visibility": "hidden",
            "width": null
          }
        },
        "1c6d5441e0d5495a8ce828869c8c33fc": {
          "model_module": "@jupyter-widgets/base",
          "model_name": "LayoutModel",
          "model_module_version": "1.2.0",
          "state": {
            "_model_module": "@jupyter-widgets/base",
            "_model_module_version": "1.2.0",
            "_model_name": "LayoutModel",
            "_view_count": null,
            "_view_module": "@jupyter-widgets/base",
            "_view_module_version": "1.2.0",
            "_view_name": "LayoutView",
            "align_content": null,
            "align_items": null,
            "align_self": null,
            "border": null,
            "bottom": null,
            "display": null,
            "flex": null,
            "flex_flow": null,
            "grid_area": null,
            "grid_auto_columns": null,
            "grid_auto_flow": null,
            "grid_auto_rows": null,
            "grid_column": null,
            "grid_gap": null,
            "grid_row": null,
            "grid_template_areas": null,
            "grid_template_columns": null,
            "grid_template_rows": null,
            "height": null,
            "justify_content": null,
            "justify_items": null,
            "left": null,
            "margin": null,
            "max_height": null,
            "max_width": null,
            "min_height": null,
            "min_width": null,
            "object_fit": null,
            "object_position": null,
            "order": null,
            "overflow": null,
            "overflow_x": null,
            "overflow_y": null,
            "padding": null,
            "right": null,
            "top": null,
            "visibility": null,
            "width": null
          }
        },
        "e47604f037e14e0cbe6e1fcf57b1b6a5": {
          "model_module": "@jupyter-widgets/controls",
          "model_name": "DescriptionStyleModel",
          "model_module_version": "1.5.0",
          "state": {
            "_model_module": "@jupyter-widgets/controls",
            "_model_module_version": "1.5.0",
            "_model_name": "DescriptionStyleModel",
            "_view_count": null,
            "_view_module": "@jupyter-widgets/base",
            "_view_module_version": "1.2.0",
            "_view_name": "StyleView",
            "description_width": ""
          }
        },
        "537917a112ff402a95c0110ec62f47e0": {
          "model_module": "@jupyter-widgets/base",
          "model_name": "LayoutModel",
          "model_module_version": "1.2.0",
          "state": {
            "_model_module": "@jupyter-widgets/base",
            "_model_module_version": "1.2.0",
            "_model_name": "LayoutModel",
            "_view_count": null,
            "_view_module": "@jupyter-widgets/base",
            "_view_module_version": "1.2.0",
            "_view_name": "LayoutView",
            "align_content": null,
            "align_items": null,
            "align_self": null,
            "border": null,
            "bottom": null,
            "display": null,
            "flex": null,
            "flex_flow": null,
            "grid_area": null,
            "grid_auto_columns": null,
            "grid_auto_flow": null,
            "grid_auto_rows": null,
            "grid_column": null,
            "grid_gap": null,
            "grid_row": null,
            "grid_template_areas": null,
            "grid_template_columns": null,
            "grid_template_rows": null,
            "height": null,
            "justify_content": null,
            "justify_items": null,
            "left": null,
            "margin": null,
            "max_height": null,
            "max_width": null,
            "min_height": null,
            "min_width": null,
            "object_fit": null,
            "object_position": null,
            "order": null,
            "overflow": null,
            "overflow_x": null,
            "overflow_y": null,
            "padding": null,
            "right": null,
            "top": null,
            "visibility": null,
            "width": null
          }
        },
        "4d707909591d44bcb8b0d5b5b5dc0b14": {
          "model_module": "@jupyter-widgets/controls",
          "model_name": "ProgressStyleModel",
          "model_module_version": "1.5.0",
          "state": {
            "_model_module": "@jupyter-widgets/controls",
            "_model_module_version": "1.5.0",
            "_model_name": "ProgressStyleModel",
            "_view_count": null,
            "_view_module": "@jupyter-widgets/base",
            "_view_module_version": "1.2.0",
            "_view_name": "StyleView",
            "bar_color": null,
            "description_width": ""
          }
        },
        "89326de101254097a0b5e6cc1d126e24": {
          "model_module": "@jupyter-widgets/base",
          "model_name": "LayoutModel",
          "model_module_version": "1.2.0",
          "state": {
            "_model_module": "@jupyter-widgets/base",
            "_model_module_version": "1.2.0",
            "_model_name": "LayoutModel",
            "_view_count": null,
            "_view_module": "@jupyter-widgets/base",
            "_view_module_version": "1.2.0",
            "_view_name": "LayoutView",
            "align_content": null,
            "align_items": null,
            "align_self": null,
            "border": null,
            "bottom": null,
            "display": null,
            "flex": null,
            "flex_flow": null,
            "grid_area": null,
            "grid_auto_columns": null,
            "grid_auto_flow": null,
            "grid_auto_rows": null,
            "grid_column": null,
            "grid_gap": null,
            "grid_row": null,
            "grid_template_areas": null,
            "grid_template_columns": null,
            "grid_template_rows": null,
            "height": null,
            "justify_content": null,
            "justify_items": null,
            "left": null,
            "margin": null,
            "max_height": null,
            "max_width": null,
            "min_height": null,
            "min_width": null,
            "object_fit": null,
            "object_position": null,
            "order": null,
            "overflow": null,
            "overflow_x": null,
            "overflow_y": null,
            "padding": null,
            "right": null,
            "top": null,
            "visibility": null,
            "width": null
          }
        },
        "eb3534b491ca4fb9a71032a020d0829c": {
          "model_module": "@jupyter-widgets/controls",
          "model_name": "DescriptionStyleModel",
          "model_module_version": "1.5.0",
          "state": {
            "_model_module": "@jupyter-widgets/controls",
            "_model_module_version": "1.5.0",
            "_model_name": "DescriptionStyleModel",
            "_view_count": null,
            "_view_module": "@jupyter-widgets/base",
            "_view_module_version": "1.2.0",
            "_view_name": "StyleView",
            "description_width": ""
          }
        },
        "e289eff417e84d1e90d1348658911db6": {
          "model_module": "@jupyter-widgets/controls",
          "model_name": "HBoxModel",
          "model_module_version": "1.5.0",
          "state": {
            "_dom_classes": [],
            "_model_module": "@jupyter-widgets/controls",
            "_model_module_version": "1.5.0",
            "_model_name": "HBoxModel",
            "_view_count": null,
            "_view_module": "@jupyter-widgets/controls",
            "_view_module_version": "1.5.0",
            "_view_name": "HBoxView",
            "box_style": "",
            "children": [
              "IPY_MODEL_fa150777fbb540fa860a550242d5c31b",
              "IPY_MODEL_3b6eabe4a3954183bc65c7d69c75d35e",
              "IPY_MODEL_fb25b0cbce5a4be6bda8d8bc733dc467"
            ],
            "layout": "IPY_MODEL_430a1f2dc17445eeb5d6795a1f112423"
          }
        },
        "fa150777fbb540fa860a550242d5c31b": {
          "model_module": "@jupyter-widgets/controls",
          "model_name": "HTMLModel",
          "model_module_version": "1.5.0",
          "state": {
            "_dom_classes": [],
            "_model_module": "@jupyter-widgets/controls",
            "_model_module_version": "1.5.0",
            "_model_name": "HTMLModel",
            "_view_count": null,
            "_view_module": "@jupyter-widgets/controls",
            "_view_module_version": "1.5.0",
            "_view_name": "HTMLView",
            "description": "",
            "description_tooltip": null,
            "layout": "IPY_MODEL_dc313201c9c042a6a9bb30783d75c10f",
            "placeholder": "​",
            "style": "IPY_MODEL_f046ca19b0344fe9ba6c39befb8dbc52",
            "value": "Map:  87%"
          }
        },
        "3b6eabe4a3954183bc65c7d69c75d35e": {
          "model_module": "@jupyter-widgets/controls",
          "model_name": "FloatProgressModel",
          "model_module_version": "1.5.0",
          "state": {
            "_dom_classes": [],
            "_model_module": "@jupyter-widgets/controls",
            "_model_module_version": "1.5.0",
            "_model_name": "FloatProgressModel",
            "_view_count": null,
            "_view_module": "@jupyter-widgets/controls",
            "_view_module_version": "1.5.0",
            "_view_name": "ProgressView",
            "bar_style": "",
            "description": "",
            "description_tooltip": null,
            "layout": "IPY_MODEL_07e3be06df784893b6d9ace7f4c02786",
            "max": 3453,
            "min": 0,
            "orientation": "horizontal",
            "style": "IPY_MODEL_e5eeaa82d23b402a967f71c635153ba7",
            "value": 3453
          }
        },
        "fb25b0cbce5a4be6bda8d8bc733dc467": {
          "model_module": "@jupyter-widgets/controls",
          "model_name": "HTMLModel",
          "model_module_version": "1.5.0",
          "state": {
            "_dom_classes": [],
            "_model_module": "@jupyter-widgets/controls",
            "_model_module_version": "1.5.0",
            "_model_name": "HTMLModel",
            "_view_count": null,
            "_view_module": "@jupyter-widgets/controls",
            "_view_module_version": "1.5.0",
            "_view_name": "HTMLView",
            "description": "",
            "description_tooltip": null,
            "layout": "IPY_MODEL_f5c05ee710574d1ea8fb68b11ae54eaa",
            "placeholder": "​",
            "style": "IPY_MODEL_4da30b5652be4bd39276d4c9c7d04a29",
            "value": " 3000/3453 [00:00&lt;00:00, 7043.56 examples/s]"
          }
        },
        "430a1f2dc17445eeb5d6795a1f112423": {
          "model_module": "@jupyter-widgets/base",
          "model_name": "LayoutModel",
          "model_module_version": "1.2.0",
          "state": {
            "_model_module": "@jupyter-widgets/base",
            "_model_module_version": "1.2.0",
            "_model_name": "LayoutModel",
            "_view_count": null,
            "_view_module": "@jupyter-widgets/base",
            "_view_module_version": "1.2.0",
            "_view_name": "LayoutView",
            "align_content": null,
            "align_items": null,
            "align_self": null,
            "border": null,
            "bottom": null,
            "display": null,
            "flex": null,
            "flex_flow": null,
            "grid_area": null,
            "grid_auto_columns": null,
            "grid_auto_flow": null,
            "grid_auto_rows": null,
            "grid_column": null,
            "grid_gap": null,
            "grid_row": null,
            "grid_template_areas": null,
            "grid_template_columns": null,
            "grid_template_rows": null,
            "height": null,
            "justify_content": null,
            "justify_items": null,
            "left": null,
            "margin": null,
            "max_height": null,
            "max_width": null,
            "min_height": null,
            "min_width": null,
            "object_fit": null,
            "object_position": null,
            "order": null,
            "overflow": null,
            "overflow_x": null,
            "overflow_y": null,
            "padding": null,
            "right": null,
            "top": null,
            "visibility": "hidden",
            "width": null
          }
        },
        "dc313201c9c042a6a9bb30783d75c10f": {
          "model_module": "@jupyter-widgets/base",
          "model_name": "LayoutModel",
          "model_module_version": "1.2.0",
          "state": {
            "_model_module": "@jupyter-widgets/base",
            "_model_module_version": "1.2.0",
            "_model_name": "LayoutModel",
            "_view_count": null,
            "_view_module": "@jupyter-widgets/base",
            "_view_module_version": "1.2.0",
            "_view_name": "LayoutView",
            "align_content": null,
            "align_items": null,
            "align_self": null,
            "border": null,
            "bottom": null,
            "display": null,
            "flex": null,
            "flex_flow": null,
            "grid_area": null,
            "grid_auto_columns": null,
            "grid_auto_flow": null,
            "grid_auto_rows": null,
            "grid_column": null,
            "grid_gap": null,
            "grid_row": null,
            "grid_template_areas": null,
            "grid_template_columns": null,
            "grid_template_rows": null,
            "height": null,
            "justify_content": null,
            "justify_items": null,
            "left": null,
            "margin": null,
            "max_height": null,
            "max_width": null,
            "min_height": null,
            "min_width": null,
            "object_fit": null,
            "object_position": null,
            "order": null,
            "overflow": null,
            "overflow_x": null,
            "overflow_y": null,
            "padding": null,
            "right": null,
            "top": null,
            "visibility": null,
            "width": null
          }
        },
        "f046ca19b0344fe9ba6c39befb8dbc52": {
          "model_module": "@jupyter-widgets/controls",
          "model_name": "DescriptionStyleModel",
          "model_module_version": "1.5.0",
          "state": {
            "_model_module": "@jupyter-widgets/controls",
            "_model_module_version": "1.5.0",
            "_model_name": "DescriptionStyleModel",
            "_view_count": null,
            "_view_module": "@jupyter-widgets/base",
            "_view_module_version": "1.2.0",
            "_view_name": "StyleView",
            "description_width": ""
          }
        },
        "07e3be06df784893b6d9ace7f4c02786": {
          "model_module": "@jupyter-widgets/base",
          "model_name": "LayoutModel",
          "model_module_version": "1.2.0",
          "state": {
            "_model_module": "@jupyter-widgets/base",
            "_model_module_version": "1.2.0",
            "_model_name": "LayoutModel",
            "_view_count": null,
            "_view_module": "@jupyter-widgets/base",
            "_view_module_version": "1.2.0",
            "_view_name": "LayoutView",
            "align_content": null,
            "align_items": null,
            "align_self": null,
            "border": null,
            "bottom": null,
            "display": null,
            "flex": null,
            "flex_flow": null,
            "grid_area": null,
            "grid_auto_columns": null,
            "grid_auto_flow": null,
            "grid_auto_rows": null,
            "grid_column": null,
            "grid_gap": null,
            "grid_row": null,
            "grid_template_areas": null,
            "grid_template_columns": null,
            "grid_template_rows": null,
            "height": null,
            "justify_content": null,
            "justify_items": null,
            "left": null,
            "margin": null,
            "max_height": null,
            "max_width": null,
            "min_height": null,
            "min_width": null,
            "object_fit": null,
            "object_position": null,
            "order": null,
            "overflow": null,
            "overflow_x": null,
            "overflow_y": null,
            "padding": null,
            "right": null,
            "top": null,
            "visibility": null,
            "width": null
          }
        },
        "e5eeaa82d23b402a967f71c635153ba7": {
          "model_module": "@jupyter-widgets/controls",
          "model_name": "ProgressStyleModel",
          "model_module_version": "1.5.0",
          "state": {
            "_model_module": "@jupyter-widgets/controls",
            "_model_module_version": "1.5.0",
            "_model_name": "ProgressStyleModel",
            "_view_count": null,
            "_view_module": "@jupyter-widgets/base",
            "_view_module_version": "1.2.0",
            "_view_name": "StyleView",
            "bar_color": null,
            "description_width": ""
          }
        },
        "f5c05ee710574d1ea8fb68b11ae54eaa": {
          "model_module": "@jupyter-widgets/base",
          "model_name": "LayoutModel",
          "model_module_version": "1.2.0",
          "state": {
            "_model_module": "@jupyter-widgets/base",
            "_model_module_version": "1.2.0",
            "_model_name": "LayoutModel",
            "_view_count": null,
            "_view_module": "@jupyter-widgets/base",
            "_view_module_version": "1.2.0",
            "_view_name": "LayoutView",
            "align_content": null,
            "align_items": null,
            "align_self": null,
            "border": null,
            "bottom": null,
            "display": null,
            "flex": null,
            "flex_flow": null,
            "grid_area": null,
            "grid_auto_columns": null,
            "grid_auto_flow": null,
            "grid_auto_rows": null,
            "grid_column": null,
            "grid_gap": null,
            "grid_row": null,
            "grid_template_areas": null,
            "grid_template_columns": null,
            "grid_template_rows": null,
            "height": null,
            "justify_content": null,
            "justify_items": null,
            "left": null,
            "margin": null,
            "max_height": null,
            "max_width": null,
            "min_height": null,
            "min_width": null,
            "object_fit": null,
            "object_position": null,
            "order": null,
            "overflow": null,
            "overflow_x": null,
            "overflow_y": null,
            "padding": null,
            "right": null,
            "top": null,
            "visibility": null,
            "width": null
          }
        },
        "4da30b5652be4bd39276d4c9c7d04a29": {
          "model_module": "@jupyter-widgets/controls",
          "model_name": "DescriptionStyleModel",
          "model_module_version": "1.5.0",
          "state": {
            "_model_module": "@jupyter-widgets/controls",
            "_model_module_version": "1.5.0",
            "_model_name": "DescriptionStyleModel",
            "_view_count": null,
            "_view_module": "@jupyter-widgets/base",
            "_view_module_version": "1.2.0",
            "_view_name": "StyleView",
            "description_width": ""
          }
        },
        "27881bd8575c4bf0991a4e2278c5ac04": {
          "model_module": "@jupyter-widgets/controls",
          "model_name": "HBoxModel",
          "model_module_version": "1.5.0",
          "state": {
            "_dom_classes": [],
            "_model_module": "@jupyter-widgets/controls",
            "_model_module_version": "1.5.0",
            "_model_name": "HBoxModel",
            "_view_count": null,
            "_view_module": "@jupyter-widgets/controls",
            "_view_module_version": "1.5.0",
            "_view_name": "HBoxView",
            "box_style": "",
            "children": [
              "IPY_MODEL_3fbccfbeaa744674b672bce49418c94b",
              "IPY_MODEL_5dde6f0ecc024f3aaf0a949a81031fd5",
              "IPY_MODEL_398f976c0e594f0f9761a13beebd6904"
            ],
            "layout": "IPY_MODEL_82aac79b2d084553927172bae3637fe4"
          }
        },
        "3fbccfbeaa744674b672bce49418c94b": {
          "model_module": "@jupyter-widgets/controls",
          "model_name": "HTMLModel",
          "model_module_version": "1.5.0",
          "state": {
            "_dom_classes": [],
            "_model_module": "@jupyter-widgets/controls",
            "_model_module_version": "1.5.0",
            "_model_name": "HTMLModel",
            "_view_count": null,
            "_view_module": "@jupyter-widgets/controls",
            "_view_module_version": "1.5.0",
            "_view_name": "HTMLView",
            "description": "",
            "description_tooltip": null,
            "layout": "IPY_MODEL_97f475b8c89749f0ad21e76e9e353eff",
            "placeholder": "​",
            "style": "IPY_MODEL_bb95536df2c6400f9a9bb270b03d453b",
            "value": "Downloading builder script: 100%"
          }
        },
        "5dde6f0ecc024f3aaf0a949a81031fd5": {
          "model_module": "@jupyter-widgets/controls",
          "model_name": "FloatProgressModel",
          "model_module_version": "1.5.0",
          "state": {
            "_dom_classes": [],
            "_model_module": "@jupyter-widgets/controls",
            "_model_module_version": "1.5.0",
            "_model_name": "FloatProgressModel",
            "_view_count": null,
            "_view_module": "@jupyter-widgets/controls",
            "_view_module_version": "1.5.0",
            "_view_name": "ProgressView",
            "bar_style": "success",
            "description": "",
            "description_tooltip": null,
            "layout": "IPY_MODEL_45889e14887340fbb686a2dd6e58455e",
            "max": 6338,
            "min": 0,
            "orientation": "horizontal",
            "style": "IPY_MODEL_feffe59e0dfc4a09889c27aa03ca0f2b",
            "value": 6338
          }
        },
        "398f976c0e594f0f9761a13beebd6904": {
          "model_module": "@jupyter-widgets/controls",
          "model_name": "HTMLModel",
          "model_module_version": "1.5.0",
          "state": {
            "_dom_classes": [],
            "_model_module": "@jupyter-widgets/controls",
            "_model_module_version": "1.5.0",
            "_model_name": "HTMLModel",
            "_view_count": null,
            "_view_module": "@jupyter-widgets/controls",
            "_view_module_version": "1.5.0",
            "_view_name": "HTMLView",
            "description": "",
            "description_tooltip": null,
            "layout": "IPY_MODEL_819c90d123cb4d0cb1ed8642b53493e9",
            "placeholder": "​",
            "style": "IPY_MODEL_5749601f1ed04f3cb9b24afaf85e17ad",
            "value": " 6.34k/6.34k [00:00&lt;00:00, 397kB/s]"
          }
        },
        "82aac79b2d084553927172bae3637fe4": {
          "model_module": "@jupyter-widgets/base",
          "model_name": "LayoutModel",
          "model_module_version": "1.2.0",
          "state": {
            "_model_module": "@jupyter-widgets/base",
            "_model_module_version": "1.2.0",
            "_model_name": "LayoutModel",
            "_view_count": null,
            "_view_module": "@jupyter-widgets/base",
            "_view_module_version": "1.2.0",
            "_view_name": "LayoutView",
            "align_content": null,
            "align_items": null,
            "align_self": null,
            "border": null,
            "bottom": null,
            "display": null,
            "flex": null,
            "flex_flow": null,
            "grid_area": null,
            "grid_auto_columns": null,
            "grid_auto_flow": null,
            "grid_auto_rows": null,
            "grid_column": null,
            "grid_gap": null,
            "grid_row": null,
            "grid_template_areas": null,
            "grid_template_columns": null,
            "grid_template_rows": null,
            "height": null,
            "justify_content": null,
            "justify_items": null,
            "left": null,
            "margin": null,
            "max_height": null,
            "max_width": null,
            "min_height": null,
            "min_width": null,
            "object_fit": null,
            "object_position": null,
            "order": null,
            "overflow": null,
            "overflow_x": null,
            "overflow_y": null,
            "padding": null,
            "right": null,
            "top": null,
            "visibility": null,
            "width": null
          }
        },
        "97f475b8c89749f0ad21e76e9e353eff": {
          "model_module": "@jupyter-widgets/base",
          "model_name": "LayoutModel",
          "model_module_version": "1.2.0",
          "state": {
            "_model_module": "@jupyter-widgets/base",
            "_model_module_version": "1.2.0",
            "_model_name": "LayoutModel",
            "_view_count": null,
            "_view_module": "@jupyter-widgets/base",
            "_view_module_version": "1.2.0",
            "_view_name": "LayoutView",
            "align_content": null,
            "align_items": null,
            "align_self": null,
            "border": null,
            "bottom": null,
            "display": null,
            "flex": null,
            "flex_flow": null,
            "grid_area": null,
            "grid_auto_columns": null,
            "grid_auto_flow": null,
            "grid_auto_rows": null,
            "grid_column": null,
            "grid_gap": null,
            "grid_row": null,
            "grid_template_areas": null,
            "grid_template_columns": null,
            "grid_template_rows": null,
            "height": null,
            "justify_content": null,
            "justify_items": null,
            "left": null,
            "margin": null,
            "max_height": null,
            "max_width": null,
            "min_height": null,
            "min_width": null,
            "object_fit": null,
            "object_position": null,
            "order": null,
            "overflow": null,
            "overflow_x": null,
            "overflow_y": null,
            "padding": null,
            "right": null,
            "top": null,
            "visibility": null,
            "width": null
          }
        },
        "bb95536df2c6400f9a9bb270b03d453b": {
          "model_module": "@jupyter-widgets/controls",
          "model_name": "DescriptionStyleModel",
          "model_module_version": "1.5.0",
          "state": {
            "_model_module": "@jupyter-widgets/controls",
            "_model_module_version": "1.5.0",
            "_model_name": "DescriptionStyleModel",
            "_view_count": null,
            "_view_module": "@jupyter-widgets/base",
            "_view_module_version": "1.2.0",
            "_view_name": "StyleView",
            "description_width": ""
          }
        },
        "45889e14887340fbb686a2dd6e58455e": {
          "model_module": "@jupyter-widgets/base",
          "model_name": "LayoutModel",
          "model_module_version": "1.2.0",
          "state": {
            "_model_module": "@jupyter-widgets/base",
            "_model_module_version": "1.2.0",
            "_model_name": "LayoutModel",
            "_view_count": null,
            "_view_module": "@jupyter-widgets/base",
            "_view_module_version": "1.2.0",
            "_view_name": "LayoutView",
            "align_content": null,
            "align_items": null,
            "align_self": null,
            "border": null,
            "bottom": null,
            "display": null,
            "flex": null,
            "flex_flow": null,
            "grid_area": null,
            "grid_auto_columns": null,
            "grid_auto_flow": null,
            "grid_auto_rows": null,
            "grid_column": null,
            "grid_gap": null,
            "grid_row": null,
            "grid_template_areas": null,
            "grid_template_columns": null,
            "grid_template_rows": null,
            "height": null,
            "justify_content": null,
            "justify_items": null,
            "left": null,
            "margin": null,
            "max_height": null,
            "max_width": null,
            "min_height": null,
            "min_width": null,
            "object_fit": null,
            "object_position": null,
            "order": null,
            "overflow": null,
            "overflow_x": null,
            "overflow_y": null,
            "padding": null,
            "right": null,
            "top": null,
            "visibility": null,
            "width": null
          }
        },
        "feffe59e0dfc4a09889c27aa03ca0f2b": {
          "model_module": "@jupyter-widgets/controls",
          "model_name": "ProgressStyleModel",
          "model_module_version": "1.5.0",
          "state": {
            "_model_module": "@jupyter-widgets/controls",
            "_model_module_version": "1.5.0",
            "_model_name": "ProgressStyleModel",
            "_view_count": null,
            "_view_module": "@jupyter-widgets/base",
            "_view_module_version": "1.2.0",
            "_view_name": "StyleView",
            "bar_color": null,
            "description_width": ""
          }
        },
        "819c90d123cb4d0cb1ed8642b53493e9": {
          "model_module": "@jupyter-widgets/base",
          "model_name": "LayoutModel",
          "model_module_version": "1.2.0",
          "state": {
            "_model_module": "@jupyter-widgets/base",
            "_model_module_version": "1.2.0",
            "_model_name": "LayoutModel",
            "_view_count": null,
            "_view_module": "@jupyter-widgets/base",
            "_view_module_version": "1.2.0",
            "_view_name": "LayoutView",
            "align_content": null,
            "align_items": null,
            "align_self": null,
            "border": null,
            "bottom": null,
            "display": null,
            "flex": null,
            "flex_flow": null,
            "grid_area": null,
            "grid_auto_columns": null,
            "grid_auto_flow": null,
            "grid_auto_rows": null,
            "grid_column": null,
            "grid_gap": null,
            "grid_row": null,
            "grid_template_areas": null,
            "grid_template_columns": null,
            "grid_template_rows": null,
            "height": null,
            "justify_content": null,
            "justify_items": null,
            "left": null,
            "margin": null,
            "max_height": null,
            "max_width": null,
            "min_height": null,
            "min_width": null,
            "object_fit": null,
            "object_position": null,
            "order": null,
            "overflow": null,
            "overflow_x": null,
            "overflow_y": null,
            "padding": null,
            "right": null,
            "top": null,
            "visibility": null,
            "width": null
          }
        },
        "5749601f1ed04f3cb9b24afaf85e17ad": {
          "model_module": "@jupyter-widgets/controls",
          "model_name": "DescriptionStyleModel",
          "model_module_version": "1.5.0",
          "state": {
            "_model_module": "@jupyter-widgets/controls",
            "_model_module_version": "1.5.0",
            "_model_name": "DescriptionStyleModel",
            "_view_count": null,
            "_view_module": "@jupyter-widgets/base",
            "_view_module_version": "1.2.0",
            "_view_name": "StyleView",
            "description_width": ""
          }
        }
      }
    }
  },
  "nbformat": 4,
  "nbformat_minor": 0
}