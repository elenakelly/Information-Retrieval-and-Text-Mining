{
  "cells": [
    {
      "cell_type": "markdown",
      "metadata": {
        "id": "view-in-github",
        "colab_type": "text"
      },
      "source": [
        "<a href=\"https://colab.research.google.com/github/elenakelly/Information-Retrieval-and-Text-Mining/blob/main/02_1_IRTM_Tutorial_intro.ipynb\" target=\"_parent\"><img src=\"https://colab.research.google.com/assets/colab-badge.svg\" alt=\"Open In Colab\"/></a>"
      ]
    },
    {
      "cell_type": "markdown",
      "source": [
        "Start by copying this into your Google Drive!!"
      ],
      "metadata": {
        "id": "67gvAR3cwicV"
      }
    },
    {
      "cell_type": "markdown",
      "source": [
        "# Information Retrieval & Text Mining 2023\n",
        "![maastricht-university-logo.jpeg](data:image/jpeg;base64,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)\n",
        "## Tutorial 2 - Notebook 1 \n",
        "Adapted and updated from [here](https://github.com/castorini/anserini-notebooks-afirm2020)"
      ],
      "metadata": {
        "id": "GLCp-dUnuMdJ"
      }
    },
    {
      "cell_type": "markdown",
      "metadata": {
        "id": "_t_PXQgXiABV"
      },
      "source": [
        "# Quick Introduction to Google Colaboratory\n",
        "\n",
        "The Google Colaboratory (commmonly abbreviated as Google Colab) is a development environment that runs in the browser using Google Cloud.\n",
        "\n",
        "The [official notebooks](https://colab.research.google.com/notebooks/) provided by Google Colab are a good place to start learning about the functionalities.\n",
        "\n",
        "## Notebooks\n",
        "\n",
        "A notebook represents the source file in Colab.\n",
        "It is essentially a web application that contains live code, equations, visualizations or text.\n",
        "The Colab kernel officially supports Python and Swift.\n",
        "Kernels can also be installed for other languages such as Scala or R.\n",
        "\n",
        "A Colab notebook constitutes two types of `cells`: `run` and `markdown`.\n",
        "A run cell is an executable unit that expresses the action to be carried out.\n",
        "\n",
        "You may run a cell either by clicking the button on the far left of the cell or with `SHIFT + Enter`.\n",
        "The button on the left also signifies whether a cell is currently running, or if it has finished, its running order.\n",
        "\n",
        "Here is a Python cell that outputs `Hello world!`:"
      ]
    },
    {
      "cell_type": "code",
      "metadata": {
        "id": "4hGXtteM1YZf",
        "colab": {
          "base_uri": "https://localhost:8080/"
        },
        "outputId": "f38c1de2-8245-4dd6-c688-a2213058788b"
      },
      "source": [
        "print('Hello world!')"
      ],
      "execution_count": 110,
      "outputs": [
        {
          "output_type": "stream",
          "name": "stdout",
          "text": [
            "Hello world!\n"
          ]
        }
      ]
    },
    {
      "cell_type": "markdown",
      "metadata": {
        "id": "mU4j9xukf-ei"
      },
      "source": [
        "### Exercise #1\n",
        "Change `world` in the above line with your name and re-run the cell."
      ]
    },
    {
      "cell_type": "code",
      "metadata": {
        "id": "GrzLSt5Gb36R",
        "colab": {
          "base_uri": "https://localhost:8080/"
        },
        "outputId": "923c0078-15a8-4168-a31d-dfd72e9e8348"
      },
      "source": [
        "print('Hello Elena!')"
      ],
      "execution_count": 111,
      "outputs": [
        {
          "output_type": "stream",
          "name": "stdout",
          "text": [
            "Hello Elena!\n"
          ]
        }
      ]
    },
    {
      "cell_type": "markdown",
      "metadata": {
        "id": "uZo5L-B52jNs"
      },
      "source": [
        "## Shell\n",
        "\n",
        "Check out this [interactive tutorial](https://www.learnshell.org/) to brush up on shell scripting.\n",
        "\n",
        "Shell scripts/commands can also be executed in a cell.\n",
        "However, unlike Python code, each line has to be prepended with an exclamation mark, `!`, so that the notebook recognizes the Shell command.\n",
        "\n",
        "For example, let's check our working directory:"
      ]
    },
    {
      "cell_type": "code",
      "metadata": {
        "id": "6c3jeY5j2p85",
        "colab": {
          "base_uri": "https://localhost:8080/"
        },
        "outputId": "4a28d5b3-78a4-41aa-bec4-c3a34b65b579"
      },
      "source": [
        "!pwd\n",
        "!ls"
      ],
      "execution_count": 112,
      "outputs": [
        {
          "output_type": "stream",
          "name": "stdout",
          "text": [
            "/content\n",
            "drive  elena_kane.txt  sample_data\n"
          ]
        }
      ]
    },
    {
      "cell_type": "markdown",
      "metadata": {
        "id": "TDKAXzNbfaN8"
      },
      "source": [
        "As you can see, we are currently in `/content`, which only contains the `sample_data` directory.\n",
        "To confirm this in the user interface, click on the bottom file icon in the leftmost panel of your browser, and look at the current status of your filesystem."
      ]
    },
    {
      "cell_type": "markdown",
      "metadata": {
        "id": "0P1AxzxxdYnM"
      },
      "source": [
        "###Exercise #2\n",
        "Create a file called `your_name.txt` that contains your name with `echo`.\n",
        "Make sure to change the filename as you need a unique identifier to create a file in the bucket.\n",
        "Confirm the creation of the file in your environment."
      ]
    },
    {
      "cell_type": "code",
      "metadata": {
        "id": "vTpua9BcesM4",
        "colab": {
          "base_uri": "https://localhost:8080/"
        },
        "outputId": "3e6bb9c9-cc4d-4546-e254-c8be091303af"
      },
      "source": [
        "!echo \"elena_kane\" > elena_kane.txt\n",
        "!ls"
      ],
      "execution_count": 113,
      "outputs": [
        {
          "output_type": "stream",
          "name": "stdout",
          "text": [
            "drive  elena_kane.txt  sample_data\n"
          ]
        }
      ]
    },
    {
      "cell_type": "markdown",
      "metadata": {
        "id": "koBQ_o130ZMl"
      },
      "source": [
        "## Magics\n",
        "\n",
        "Notebooks define a set of system commands called `magics`.\n",
        "Line magics are prepended with a single `%` character and only affect the line that they are on.\n",
        "More commonly, cell magics are expressed with `%%` and govern the whole cell that they precede.\n",
        "\n",
        "A cell magic that is used often in the following notebooks is `%%capture`, which suppresses the output of the respective cell.\n",
        "It is especially useful when running a cell with verbose logging, e.g., downloading or processing many files.\n",
        "\n",
        "Some of the other magics include:\n",
        "- `%timeit`: automatically determines the execution time of a single-line Python statement\n",
        "- `%%html`: treats the entire cell as an HTML block\n",
        "- `%%bash`: treats the entire cell as a Bash script\n",
        "\n",
        "For others, check out the [Jupyter documentation](https://nbviewer.jupyter.org/github/ipython/ipython/blob/1.x/examples/notebooks/Cell%20Magics.ipynb)."
      ]
    },
    {
      "cell_type": "markdown",
      "metadata": {
        "id": "pCbNxnAihJPr"
      },
      "source": [
        "### Exercise #3\n",
        "Suppress the output of the `Hello World` Python example with `%%capture`."
      ]
    },
    {
      "cell_type": "code",
      "metadata": {
        "id": "HWsrW9Z91tvN"
      },
      "source": [
        "%%capture\n",
        "print(\"Hello, World!\")\n"
      ],
      "execution_count": 114,
      "outputs": []
    },
    {
      "cell_type": "markdown",
      "metadata": {
        "id": "WdL7Vnit1Zv6"
      },
      "source": [
        "## Data\n",
        "\n",
        "Colab keeps a temporary storage space for data and other intermediate files.\n",
        "However, it is also possible to persist external data stored on your local file system, Google Drive or Google Cloud Storage (GCS).\n",
        "To learn more about different storage options, please visit [this webpage](https://colab.research.google.com/notebooks/io.ipynb).\n",
        "\n",
        "For these tutorials, we will work with Google Drive for storage. Let's first mount Google Drive to Colab. We do this by running the following. We see a popup with the title: \"Permit this notebook to access your Google Drive files?\". You should click on \"Connect to Google Drive\". Then click on your Google Account, fill in your password if needed, and click \"Allow\"."
      ]
    },
    {
      "cell_type": "code",
      "source": [
        "from google.colab import drive\n",
        "drive.mount('/content/drive')"
      ],
      "metadata": {
        "id": "4NbNCb7rHcr8",
        "colab": {
          "base_uri": "https://localhost:8080/"
        },
        "outputId": "2a19dfbb-6c75-437a-b070-4c90ecf79429"
      },
      "execution_count": 115,
      "outputs": [
        {
          "output_type": "stream",
          "name": "stdout",
          "text": [
            "Drive already mounted at /content/drive; to attempt to forcibly remount, call drive.mount(\"/content/drive\", force_remount=True).\n"
          ]
        }
      ]
    },
    {
      "cell_type": "markdown",
      "source": [
        "We can display what's in our Drive by listing the path '/content/drive/MyDrive/'"
      ],
      "metadata": {
        "id": "d0SIu55N8ZL1"
      }
    },
    {
      "cell_type": "code",
      "metadata": {
        "id": "F8YYACoqylOf",
        "colab": {
          "base_uri": "https://localhost:8080/"
        },
        "outputId": "cef96966-843d-466f-dd4d-521a54ae9e1c"
      },
      "source": [
        "!ls /content/drive/MyDrive/"
      ],
      "execution_count": 116,
      "outputs": [
        {
          "output_type": "stream",
          "name": "stdout",
          "text": [
            " archive\t\t\t      KG\n",
            "'booking confirmation DH62KR.pdf'     lab8_Rule_mining_AMIE_AnyBURL.ipynb\n",
            "'Colab Notebooks'\t\t     \"Layman's Description v2.docx\"\n",
            " CV\t\t\t\t     'Print '\n",
            " DeepLearningCNN2.ipynb\t\t      python\n",
            " DeepLearningCNN3.ipynb\t\t      research\n",
            " E1-2018.gdoc\t\t\t      video\n",
            "'E2-2016 (1).gdoc'\t\t     'Έγγραφο PDF.pdf'\n",
            "\"Elena's January.xlsx\"\t\t      ΚΑΝΕ.pdf\n",
            "'Exam KEN4154 ACML 15-12-2020.gdoc'  'ΚΑΝΕ ΑΒ (1).pdf'\n",
            " gantt-chart_L.xlsx\t\t     'ΚΑΝΕ ΑΒ.pdf'\n",
            " homework5--Solution.zip\t      ΜΗΥΣ_ΠΕΙΡΑΙΑ_ΑΡΧΕΙΑ\n",
            " IRTM\n"
          ]
        }
      ]
    },
    {
      "cell_type": "markdown",
      "metadata": {
        "id": "ncYYJAU4yi55"
      },
      "source": [
        "Colab notebooks are automatically saved in a folder named `Colab Notebooks` in your Google Drive.\n",
        "You may also trigger this action at any time with the keyboard shortcut `CTRL+S`.\n",
        "It is also possible to save a copy of your notebook to a Github repo through the Colab interface: `File -> Save a copy in Github...`\n",
        "\n",
        "### Exercise #4\n",
        "1. Make a folder for this course on your drive using a shell command.\n",
        "2. Copy the file `your_name.txt` that you created earlier to that folder with a shell command. "
      ]
    },
    {
      "cell_type": "code",
      "metadata": {
        "id": "e6dGIEWHh0_t"
      },
      "source": [
        "!mkdir -p \"/content/drive/My Drive/Colab Notebooks/Course\"\n",
        "!cp \"elena_kane.txt\" \"/content/drive/My Drive/Colab Notebooks/Course/\"\n"
      ],
      "execution_count": 117,
      "outputs": []
    },
    {
      "cell_type": "markdown",
      "metadata": {
        "id": "BHrQ4LUWydFQ"
      },
      "source": [
        "### Restarting the Shell\n",
        "\n",
        "Sometimes you may want to revert an unintended side-effect or simply start from scratch.\n",
        "In this case, you may reset the Python shell through: `Runtime -> Restart runtime...`.\n",
        "To reset the Colab image completely, do `Runtime -> Restart all runtimes...`.\n",
        "\n",
        "### Using GPUs\n",
        "\n",
        "Colab gives access to a GPU \n",
        "Unfortunately, it is common for your session to time out after ~12 hours.\n",
        "For this reason, a good practice is to save your checkpoints to Google Drive so that you can resume your training easily.\n",
        "\n",
        "You may enable the GPU runtime through `Runtime -> Change runtime type -> Hardware accelerator -> GPU`.\n",
        "We will need the GPU runtime for the final activity, and learn how to enable it programmatically."
      ]
    },
    {
      "cell_type": "markdown",
      "metadata": {
        "id": "zVMO1KWthSZB"
      },
      "source": [
        "# Text Processing with Python\n",
        "\n",
        "[Python]() is an interpreted, high level programming language:\n",
        "\n",
        "- **Strongly typed:** types are enforced\n",
        "- **Dynamically implicitly typed:** you don't have to explicitly specify the type of a variable (unlike languages like Java or C)\n",
        "- **Case sensitive:** `afirm` and `AFIRM` represent different variables\n",
        "- **Object-oriented:** everything is an object!\n",
        "\n",
        "Now we will go through basic a few basic steps of text processing to introduce Python, and finish this notebook with a TF-IDF exercise.\n",
        "As you will see, the Python syntax is quite clean and intuitive, which makes it the ideal choice for data manipulation.\n"
      ]
    },
    {
      "cell_type": "markdown",
      "metadata": {
        "id": "z9r8Zwir_RCE"
      },
      "source": [
        "For the purposes of this activity, let's take a sample query and passage pair from the [MS MARCO passage ranking collection](https://microsoft.github.io/msmarco/):"
      ]
    },
    {
      "cell_type": "code",
      "metadata": {
        "id": "puVYdaXy4agr"
      },
      "source": [
        "query = 'Why did the US make the atomic bomb?'\n",
        "passage = '''\n",
        "The presence of communication amid scientific minds was equally important \\\n",
        "to the success of the Manhattan Project as scientific intellect was. The \\\n",
        "only cloud hanging over the impressive achievement of the atomic researchers \\\n",
        "and engineers is what their success truly meant; hundreds of thousands of \\\n",
        "innocent lives obliterated.\n",
        "'''"
      ],
      "execution_count": 118,
      "outputs": []
    },
    {
      "cell_type": "markdown",
      "metadata": {
        "id": "mjvnVqdv4hC3"
      },
      "source": [
        "Comments start with the hash sign, `#`, and are ignored during interpretation.\n",
        "\n",
        "A string in Python are enclosed in single or double quotes.\n",
        "On the other hand, a multiline string has triple quotes around it.\n",
        "If it is too long, a multiline string can be dispersed over multiple lines with the `\\` character."
      ]
    },
    {
      "cell_type": "markdown",
      "metadata": {
        "id": "O9Z9z68y7JUB"
      },
      "source": [
        "Let's first normalize the case with the built-in Python function `lower()`:"
      ]
    },
    {
      "cell_type": "code",
      "metadata": {
        "id": "Xiiy_VeF5UCP",
        "colab": {
          "base_uri": "https://localhost:8080/"
        },
        "outputId": "7a480a9f-9447-4864-a600-f369ee2aef1a"
      },
      "source": [
        "query = query.lower()\n",
        "passage = passage.lower()\n",
        "\n",
        "print('{q}: {p}'.format(q=query, p=passage))"
      ],
      "execution_count": 119,
      "outputs": [
        {
          "output_type": "stream",
          "name": "stdout",
          "text": [
            "why did the us make the atomic bomb?: \n",
            "the presence of communication amid scientific minds was equally important to the success of the manhattan project as scientific intellect was. the only cloud hanging over the impressive achievement of the atomic researchers and engineers is what their success truly meant; hundreds of thousands of innocent lives obliterated.\n",
            "\n"
          ]
        }
      ]
    },
    {
      "cell_type": "markdown",
      "metadata": {
        "id": "HD-V2C_1ixrz"
      },
      "source": [
        "### Exercise #5\n",
        "Note that `query` and `passage` are attached to the variables in the formatted print statement.\n",
        "Try reversing the order of variables inside `format` and see if the output changes."
      ]
    },
    {
      "cell_type": "code",
      "metadata": {
        "id": "hnfvZtlqb-Fs",
        "colab": {
          "base_uri": "https://localhost:8080/"
        },
        "outputId": "57073ae1-7b8b-4984-f04d-c229b3c12963"
      },
      "source": [
        "print('{p}: {q}'.format(p=passage, q=query))\n"
      ],
      "execution_count": 120,
      "outputs": [
        {
          "output_type": "stream",
          "name": "stdout",
          "text": [
            "\n",
            "the presence of communication amid scientific minds was equally important to the success of the manhattan project as scientific intellect was. the only cloud hanging over the impressive achievement of the atomic researchers and engineers is what their success truly meant; hundreds of thousands of innocent lives obliterated.\n",
            ": why did the us make the atomic bomb?\n"
          ]
        }
      ]
    },
    {
      "cell_type": "markdown",
      "metadata": {
        "id": "LxH2cSCsBFut"
      },
      "source": [
        "The output of `print` can be formatted as above where curly braces denote the variables inside parantheses.\n",
        "\n",
        "Now, let's split `passage` into individual tokens."
      ]
    },
    {
      "cell_type": "code",
      "metadata": {
        "id": "sIZw9g-OCCt5",
        "colab": {
          "base_uri": "https://localhost:8080/"
        },
        "outputId": "3366bf7f-e73e-48c9-bc85-d6fbf8b39018"
      },
      "source": [
        "tokens = passage.split()\n",
        "print(tokens)"
      ],
      "execution_count": 121,
      "outputs": [
        {
          "output_type": "stream",
          "name": "stdout",
          "text": [
            "['the', 'presence', 'of', 'communication', 'amid', 'scientific', 'minds', 'was', 'equally', 'important', 'to', 'the', 'success', 'of', 'the', 'manhattan', 'project', 'as', 'scientific', 'intellect', 'was.', 'the', 'only', 'cloud', 'hanging', 'over', 'the', 'impressive', 'achievement', 'of', 'the', 'atomic', 'researchers', 'and', 'engineers', 'is', 'what', 'their', 'success', 'truly', 'meant;', 'hundreds', 'of', 'thousands', 'of', 'innocent', 'lives', 'obliterated.']\n"
          ]
        }
      ]
    },
    {
      "cell_type": "markdown",
      "metadata": {
        "id": "ggwCk2KOj175"
      },
      "source": [
        "### Exercise #6\n",
        "Split query into tokens.\n",
        "Find the tokens shared between the query and the passage."
      ]
    },
    {
      "cell_type": "code",
      "metadata": {
        "id": "8wFe-P33kCrz",
        "colab": {
          "base_uri": "https://localhost:8080/"
        },
        "outputId": "176fa4fc-10c9-4cbb-ac97-74199718f71f"
      },
      "source": [
        "# Split the query into tokens\n",
        "query_tokens = query.split()\n",
        "print(\"Query tokens:\", query_tokens)\n",
        "\n",
        "# Find the tokens shared between the query and the passage\n",
        "shared_tokens = set(query_tokens).intersection(set(tokens))\n",
        "print(\"Shared tokens:\", shared_tokens)"
      ],
      "execution_count": 122,
      "outputs": [
        {
          "output_type": "stream",
          "name": "stdout",
          "text": [
            "Query tokens: ['why', 'did', 'the', 'us', 'make', 'the', 'atomic', 'bomb?']\n",
            "Shared tokens: {'the', 'atomic'}\n"
          ]
        }
      ]
    },
    {
      "cell_type": "markdown",
      "metadata": {
        "id": "8M1pBqEAC2kp"
      },
      "source": [
        "The resulting variable is a Python list.\n",
        "Let's check the number of tokens (equivalent to the length of the list):"
      ]
    },
    {
      "cell_type": "code",
      "metadata": {
        "id": "XS67ccJsC-UE",
        "colab": {
          "base_uri": "https://localhost:8080/"
        },
        "outputId": "27c171b1-2d2d-4a98-976a-ee1c2e4a2710"
      },
      "source": [
        "len(tokens)"
      ],
      "execution_count": 123,
      "outputs": [
        {
          "output_type": "execute_result",
          "data": {
            "text/plain": [
              "48"
            ]
          },
          "metadata": {},
          "execution_count": 123
        }
      ]
    },
    {
      "cell_type": "markdown",
      "metadata": {
        "id": "NtUoQCoU5FYE"
      },
      "source": [
        "Indexing in Python starts with 0.\n",
        "Let's search for the 7th (index 6) token of the query in the passage:"
      ]
    },
    {
      "cell_type": "code",
      "metadata": {
        "id": "0TUdAaZO5XQj",
        "colab": {
          "base_uri": "https://localhost:8080/"
        },
        "outputId": "193b2edc-161a-4294-cd92-28d483c0c76f"
      },
      "source": [
        "query[6]\n",
        "query[6] in passage"
      ],
      "execution_count": 124,
      "outputs": [
        {
          "output_type": "execute_result",
          "data": {
            "text/plain": [
              "True"
            ]
          },
          "metadata": {},
          "execution_count": 124
        }
      ]
    },
    {
      "cell_type": "markdown",
      "metadata": {
        "id": "IZiBsmB-kaUP"
      },
      "source": [
        "### Exercise #7\n",
        "Extract the first 5 tokens of the passage."
      ]
    },
    {
      "cell_type": "code",
      "metadata": {
        "id": "QvFhQH8Ikl8b",
        "colab": {
          "base_uri": "https://localhost:8080/"
        },
        "outputId": "62e26f3c-50fc-4a15-f6d2-50d82b0a62f6"
      },
      "source": [
        "first_five_tokens = tokens[:5]\n",
        "print(\"First five tokens:\", first_five_tokens)"
      ],
      "execution_count": 125,
      "outputs": [
        {
          "output_type": "stream",
          "name": "stdout",
          "text": [
            "First five tokens: ['the', 'presence', 'of', 'communication', 'amid']\n"
          ]
        }
      ]
    },
    {
      "cell_type": "markdown",
      "metadata": {
        "id": "xZcEJXGaCbfq"
      },
      "source": [
        "We can count the frequency of each token with `Counter`.\n",
        "This function is defined in the `collections` module, which we need to import before using `Counter`.\n",
        "Note that the output of `Counter` is a Python dictionary where the key is the token and the value is the number of occurrences."
      ]
    },
    {
      "cell_type": "code",
      "metadata": {
        "id": "b1XK1HvRCIo1",
        "colab": {
          "base_uri": "https://localhost:8080/"
        },
        "outputId": "b607d675-812d-4dde-efd4-68f8b667954b"
      },
      "source": [
        "import collections\n",
        "\n",
        "counts = collections.Counter(tokens)\n",
        "counts"
      ],
      "execution_count": 126,
      "outputs": [
        {
          "output_type": "execute_result",
          "data": {
            "text/plain": [
              "Counter({'the': 6,\n",
              "         'presence': 1,\n",
              "         'of': 5,\n",
              "         'communication': 1,\n",
              "         'amid': 1,\n",
              "         'scientific': 2,\n",
              "         'minds': 1,\n",
              "         'was': 1,\n",
              "         'equally': 1,\n",
              "         'important': 1,\n",
              "         'to': 1,\n",
              "         'success': 2,\n",
              "         'manhattan': 1,\n",
              "         'project': 1,\n",
              "         'as': 1,\n",
              "         'intellect': 1,\n",
              "         'was.': 1,\n",
              "         'only': 1,\n",
              "         'cloud': 1,\n",
              "         'hanging': 1,\n",
              "         'over': 1,\n",
              "         'impressive': 1,\n",
              "         'achievement': 1,\n",
              "         'atomic': 1,\n",
              "         'researchers': 1,\n",
              "         'and': 1,\n",
              "         'engineers': 1,\n",
              "         'is': 1,\n",
              "         'what': 1,\n",
              "         'their': 1,\n",
              "         'truly': 1,\n",
              "         'meant;': 1,\n",
              "         'hundreds': 1,\n",
              "         'thousands': 1,\n",
              "         'innocent': 1,\n",
              "         'lives': 1,\n",
              "         'obliterated.': 1})"
            ]
          },
          "metadata": {},
          "execution_count": 126
        }
      ]
    },
    {
      "cell_type": "markdown",
      "metadata": {
        "id": "G3mMWlDPe9K8"
      },
      "source": [
        "Note that Python does not have a statement termination character, such as `;`.\n",
        "Instead, blocks are specified by indentation.\n",
        "\n",
        "Let's traverse the dictionary and only output terms that appear more than once:"
      ]
    },
    {
      "cell_type": "code",
      "metadata": {
        "id": "PfbmH6cMCWii",
        "colab": {
          "base_uri": "https://localhost:8080/"
        },
        "outputId": "51443393-4fd1-42a8-a7f1-8ef7b00cd845"
      },
      "source": [
        "for (k, v) in counts.items():\n",
        "  if v > 1:\n",
        "    print(k)"
      ],
      "execution_count": 127,
      "outputs": [
        {
          "output_type": "stream",
          "name": "stdout",
          "text": [
            "the\n",
            "of\n",
            "scientific\n",
            "success\n"
          ]
        }
      ]
    },
    {
      "cell_type": "markdown",
      "metadata": {
        "id": "pl9kIB_viUPv"
      },
      "source": [
        "### Exercise #8\n",
        "Combine query and passage into a single text, and count its tokens."
      ]
    },
    {
      "cell_type": "code",
      "metadata": {
        "id": "8cn71blRcERR",
        "colab": {
          "base_uri": "https://localhost:8080/"
        },
        "outputId": "0f17094c-0a57-4f16-cece-7e014a7a9fec"
      },
      "source": [
        "# Combine the query and passage into a single text\n",
        "text = query.lower() + ' ' + passage.lower()\n",
        "\n",
        "# Split the text into tokens and count them\n",
        "tokens = text.split()\n",
        "num_tokens = len(tokens)\n",
        "\n",
        "# Print the number of tokens\n",
        "print(\"Number of tokens:\", num_tokens)"
      ],
      "execution_count": 128,
      "outputs": [
        {
          "output_type": "stream",
          "name": "stdout",
          "text": [
            "Number of tokens: 56\n"
          ]
        }
      ]
    },
    {
      "cell_type": "markdown",
      "metadata": {
        "id": "tBMI7PD10UzC"
      },
      "source": [
        "### Exercise #9\n",
        "Implement [TF-IDF](http://www.tfidf.com/) in Python over the toy collection provided below (corresponding to the first 10 passages of MS MARCO).\n",
        "In other words, we will compute the TF-IDF scores for each unique term in the collection.\n",
        "For the purposes of this exercise, assume that a token is case-insensitive, i.e., normalize the case, and remove the stopwords (hint: you can use NLTK's `nltk.corpus.stopwords`). Don't use an imported package for computing tf-idf scores.\n",
        "\n",
        "```\n",
        "0\tThe presence of communication amid scientific minds was equally important to the success of the Manhattan Project as scientific intellect was. The only cloud hanging over the impressive achievement of the atomic researchers and engineers is what their success truly meant; hundreds of thousands of innocent lives obliterated.\n",
        "1\tThe Manhattan Project and its atomic bomb helped bring an end to World War II. Its legacy of peaceful uses of atomic energy continues to have an impact on history and science.\n",
        "2\tEssay on The Manhattan Project - The Manhattan Project The Manhattan Project was to see if making an atomic bomb possible. The success of this project would forever change the world forever making it known that something this powerful can be manmade.\n",
        "3\tThe Manhattan Project was the name for a project conducted during World War II, to develop the first atomic bomb. It refers specifically to the period of the project from 194 â¦ 2-1946 under the control of the U.S. Army Corps of Engineers, under the administration of General Leslie R. Groves.\n",
        "4\tversions of each volume as well as complementary websites. The first websiteâThe Manhattan Project: An Interactive Historyâis available on the Office of History and Heritage Resources website, http://www.cfo. doe.gov/me70/history. The Office of History and Heritage Resources and the National Nuclear Security\n",
        "5\tThe Manhattan Project. This once classified photograph features the first atomic bomb â a weapon that atomic scientists had nicknamed Gadget.. The nuclear age began on July 16, 1945, when it was detonated in the New Mexico desert.\n",
        "6\tNor will it attempt to substitute for the extraordinarily rich literature on the atomic bombs and the end of World War II. This collection does not attempt to document the origins and development of the Manhattan Project.\n",
        "7\tManhattan Project. The Manhattan Project was a research and development undertaking during World War II that produced the first nuclear weapons. It was led by the United States with the support of the United Kingdom and Canada. From 1942 to 1946, the project was under the direction of Major General Leslie Groves of the U.S. Army Corps of Engineers. Nuclear physicist Robert Oppenheimer was the director of the Los Alamos Laboratory that designed the actual bombs. The Army component of the project was designated the\n",
        "8\tIn June 1942, the United States Army Corps of Engineersbegan the Manhattan Project- The secret name for the 2 atomic bombs.\n",
        "9\tOne of the main reasons Hanford was selected as a site for the Manhattan Project's B Reactor was its proximity to the Columbia River, the largest river flowing into the Pacific Ocean from the North American coast.\n",
        "```\n",
        "\n",
        "You may start by building a dictionary where each key, e.g., a term in the collection, is mapped to pairs of passage IDs and term frequencies.\n",
        "The keys in the dictionary will be the unique terms in the collection, and values lists of tuples; for example:\n",
        "\n",
        "`manhattan -> (0, 1), (1, 1), (2, 3), (3, 1), (4, 1), (5, 1), (6, 1), (7, 2), (8, 1), (9, 1)`"
      ]
    },
    {
      "cell_type": "code",
      "metadata": {
        "id": "Ek8TxEmqcFLF"
      },
      "source": [
        "doc0 = 'The presence of communication amid scientific minds was equally important to the success of the Manhattan Project as scientific intellect was. The only cloud hanging over the impressive achievement of the atomic researchers and engineers is what their success truly meant; hundreds of thousands of innocent lives obliterated.'\n",
        "doc1 = 'The Manhattan Project and its atomic bomb helped bring an end to World War II. Its legacy of peaceful uses of atomic energy continues to have an impact on history and science.'\n",
        "doc2 = 'Essay on The Manhattan Project - The Manhattan Project The Manhattan Project was to see if making an atomic bomb possible. The success of this project would forever change the world forever making it known that something this powerful can be manmade.'\n",
        "doc3 = 'The Manhattan Project was the name for a project conducted during World War II, to develop the first atomic bomb. It refers specifically to the period of the project from 194 â¦ 2-1946 under the control of the U.S. Army Corps of Engineers, under the administration of General Leslie R. Groves.'\n",
        "doc4 = 'versions of each volume as well as complementary websites. The first websiteâThe Manhattan Project: An Interactive Historyâis available on the Office of History and Heritage Resources website, http://www.cfo. doe.gov/me70/history. The Office of History and Heritage Resources and the National Nuclear Security'\n",
        "doc5 = 'The Manhattan Project. This once classified photograph features the first atomic bomb â a weapon that atomic scientists had nicknamed Gadget.. The nuclear age began on July 16, 1945, when it was detonated in the New Mexico desert.'\n",
        "doc6 = 'Nor will it attempt to substitute for the extraordinarily rich literature on the atomic bombs and the end of World War II. This collection does not attempt to document the origins and development of the Manhattan Project.'\n",
        "doc7 = 'Manhattan Project. The Manhattan Project was a research and development undertaking during World War II that produced the first nuclear weapons. It was led by the United States with the support of the United Kingdom and Canada. From 1942 to 1946, the project was under the direction of Major General Leslie Groves of the U.S. Army Corps of Engineers. Nuclear physicist Robert Oppenheimer was the director of the Los Alamos Laboratory that designed the actual bombs. The Army component of the project was designated the'\n",
        "doc8 = 'In June 1942, the United States Army Corps of Engineersbegan the Manhattan Project- The secret name for the 2 atomic bombs.'\n",
        "doc9 = 'One of the main reasons Hanford was selected as a site for the Manhattan Project\\'s B Reactor was its proximity to the Columbia River, the largest river flowing into the Pacific Ocean from the North American coast.'"
      ],
      "execution_count": 129,
      "outputs": []
    },
    {
      "cell_type": "code",
      "source": [
        "import nltk\n",
        "from collections import defaultdict\n",
        "from math import log\n",
        "\n",
        "# Load the NLTK stopwords\n",
        "nltk.download('stopwords')\n",
        "stopwords = set(nltk.corpus.stopwords.words('english'))"
      ],
      "metadata": {
        "colab": {
          "base_uri": "https://localhost:8080/"
        },
        "id": "ov_C7zxn1KcA",
        "outputId": "050fb5de-a4fa-432a-dc0b-738504d1845a"
      },
      "execution_count": 130,
      "outputs": [
        {
          "output_type": "stream",
          "name": "stderr",
          "text": [
            "[nltk_data] Downloading package stopwords to /root/nltk_data...\n",
            "[nltk_data]   Package stopwords is already up-to-date!\n"
          ]
        }
      ]
    },
    {
      "cell_type": "code",
      "source": [
        "# Define the collection of documents\n",
        "docs = [doc0, doc1, doc2, doc3, doc4, doc5, doc6, doc7, doc8, doc9]\n",
        "\n",
        "# Define a dictionary to store the term frequencies for each document\n",
        "term_freqs = [defaultdict(int) for _ in range(len(docs))]\n",
        "\n",
        "# Define a dictionary to store the document frequencies for each term\n",
        "doc_freqs = defaultdict(int)"
      ],
      "metadata": {
        "id": "jGTiPyIneBgZ"
      },
      "execution_count": 131,
      "outputs": []
    },
    {
      "cell_type": "code",
      "source": [
        "# Tokenize the documents and compute the term frequencies\n",
        "for i, doc in enumerate(docs):\n",
        "    tokens = nltk.word_tokenize(doc.lower())\n",
        "    for token in tokens:\n",
        "        if token not in stopwords:\n",
        "            term_freqs[i][token] += 1\n",
        "            doc_freqs[token] += 1"
      ],
      "metadata": {
        "id": "hnAkDGsXioCs"
      },
      "execution_count": 132,
      "outputs": []
    },
    {
      "cell_type": "markdown",
      "metadata": {
        "id": "83aR6YESenB9"
      },
      "source": [
        "Finally transform term frequencies into TF-IDF scores.\n",
        "Now that you have the term frequency for each passage, you can compute the total term frequency for each token in the entire collection.\n",
        "Likewise, you can calculate the document frequency from the previous step."
      ]
    },
    {
      "cell_type": "code",
      "source": [
        "# Define a dictionary to store the TF-IDF scores for each term\n",
        "tfidf_scores = defaultdict(list)\n",
        "\n",
        "# Compute the TF-IDF scores for each term\n",
        "for i, doc in enumerate(docs):\n",
        "    tokens = nltk.word_tokenize(doc.lower())\n",
        "    for token in set(tokens):\n",
        "        if token not in stopwords:\n",
        "            tf = term_freqs[i][token] / len(tokens)\n",
        "            idf = log(len(docs) / doc_freqs[token])\n",
        "            tfidf_scores[token].append((i, tf * idf))\n",
        "\n",
        "# Print the TF-IDF scores for each term\n",
        "for term, scores in tfidf_scores.items():\n",
        "    print(term + ':', scores)\n"
      ],
      "metadata": {
        "colab": {
          "base_uri": "https://localhost:8080/"
        },
        "id": "IYgjzK8MdwmM",
        "outputId": "484535ec-22bd-4400-f1d5-e8191d1e5b3f"
      },
      "execution_count": 133,
      "outputs": [
        {
          "output_type": "stream",
          "name": "stdout",
          "text": [
            "atomic: [(0, 0.002065892463878948), (1, 0.006197677391636844), (2, 0.002394557174041508), (3, 0.0019156457392332062), (5, 0.004900489100364017), (6, 0.002701551683534009), (8, 0.0045808919851228844)]\n",
            "success: [(0, 0.04721461977748769), (2, 0.02736301828013491)]\n",
            "project: [(0, -0.010404475511022948), (1, -0.015606713266534422), (2, -0.04823893191474276), (3, -0.028943359148845656), (4, -0.011054755230461882), (5, -0.012340191885166753), (6, -0.013605852591337701), (7, -0.02332431872800749), (9, -0.01326570627655426)]\n",
            ".: [(0, -0.030919896484873338), (1, -0.04637984472731001), (2, -0.035838970925648646), (3, -0.028671176740518913), (4, -0.049278585022766885), (5, -0.03667243536578001), (6, -0.04043371078791129), (7, -0.04332183298704781), (8, -0.03428075479844653), (9, -0.019711434009106757)]\n",
            "intellect: [(0, 0.04514872731360874)]\n",
            "scientific: [(0, 0.06311521225231766)]\n",
            "engineers: [(0, 0.023607309888743846), (3, 0.02189041462410793), (7, 0.01323047037720809)]\n",
            "thousands: [(0, 0.04514872731360874)]\n",
            "truly: [(0, 0.04514872731360874)]\n",
            "communication: [(0, 0.04514872731360874)]\n",
            "achievement: [(0, 0.04514872731360874)]\n",
            "researchers: [(0, 0.04514872731360874)]\n",
            "hanging: [(0, 0.04514872731360874)]\n",
            "minds: [(0, 0.04514872731360874)]\n",
            "presence: [(0, 0.04514872731360874)]\n",
            "obliterated: [(0, 0.04514872731360874)]\n",
            "cloud: [(0, 0.04514872731360874)]\n",
            "meant: [(0, 0.04514872731360874)]\n",
            "impressive: [(0, 0.04514872731360874)]\n",
            ";: [(0, 0.04514872731360874)]\n",
            "hundreds: [(0, 0.04514872731360874)]\n",
            "manhattan: [(0, -0.005144397342499824), (1, -0.007716596013749735), (2, -0.01788847257732893), (3, -0.004770259353954382), (4, -0.005465922176406062), (5, -0.006101494522499791), (6, -0.006727288832499769), (7, -0.005766247570714088), (8, -0.011407141933369174), (9, -0.006559106611687276)]\n",
            "innocent: [(0, 0.04514872731360874)]\n",
            "amid: [(0, 0.04514872731360874)]\n",
            "lives: [(0, 0.04514872731360874)]\n",
            "equally: [(0, 0.04514872731360874)]\n",
            "important: [(0, 0.04514872731360874)]\n",
            "ii: [(1, 0.026949727408063385), (3, 0.016659831488621), (6, 0.02349463415061936), (7, 0.010069128921694013)]\n",
            "peaceful: [(1, 0.06772309097041311)]\n",
            "war: [(1, 0.026949727408063385), (3, 0.016659831488621), (6, 0.02349463415061936), (7, 0.010069128921694013)]\n",
            "history: [(1, 0.03541096483311577), (4, 0.05016553351358067)]\n",
            "helped: [(1, 0.06772309097041311)]\n",
            "legacy: [(1, 0.06772309097041311)]\n",
            "continues: [(1, 0.06772309097041311)]\n",
            "world: [(1, 0.02038668178117486), (2, 0.01575334501272603), (3, 0.012602676010180823), (6, 0.017773004629742187), (7, 0.007617001984175224)]\n",
            "science: [(1, 0.06772309097041311)]\n",
            "impact: [(1, 0.06772309097041311)]\n",
            "bring: [(1, 0.06772309097041311)]\n",
            "uses: [(1, 0.06772309097041311)]\n",
            "energy: [(1, 0.06772309097041311)]\n",
            "end: [(1, 0.047336409189238246), (6, 0.04126763878036154)]\n",
            "bomb: [(1, 0.026949727408063385), (2, 0.020824789360776252), (3, 0.016659831488621), (5, 0.021309086787771048)]\n",
            "known: [(2, 0.05233147938622832)]\n",
            "manmade: [(2, 0.05233147938622832)]\n",
            "would: [(2, 0.05233147938622832)]\n",
            "powerful: [(2, 0.05233147938622832)]\n",
            "possible: [(2, 0.05233147938622832)]\n",
            "-: [(2, 0.05233147938622832)]\n",
            "forever: [(2, 0.07315626874700457)]\n",
            "essay: [(2, 0.05233147938622832)]\n",
            "something: [(2, 0.05233147938622832)]\n",
            "making: [(2, 0.07315626874700457)]\n",
            "change: [(2, 0.05233147938622832)]\n",
            "see: [(2, 0.05233147938622832)]\n",
            "conducted: [(3, 0.04186518350898265)]\n",
            "control: [(3, 0.04186518350898265)]\n",
            "develop: [(3, 0.04186518350898265)]\n",
            "groves: [(3, 0.029262507498801823), (7, 0.017686130905869235)]\n",
            "corps: [(3, 0.02189041462410793), (7, 0.01323047037720809), (8, 0.05234664366634505)]\n",
            "leslie: [(3, 0.029262507498801823), (7, 0.017686130905869235)]\n",
            "administration: [(3, 0.04186518350898265)]\n",
            "refers: [(3, 0.04186518350898265)]\n",
            "194: [(3, 0.04186518350898265)]\n",
            "r.: [(3, 0.04186518350898265)]\n",
            "u.s.: [(3, 0.029262507498801823), (7, 0.017686130905869235)]\n",
            "period: [(3, 0.04186518350898265)]\n",
            "army: [(3, 0.016659831488621), (7, 0.020138257843388026), (8, 0.039838727472789354)]\n",
            "name: [(3, 0.029262507498801823), (8, 0.06997556141017827)]\n",
            ",: [(3, 0.008114310956880354), (4, 0.004648823985712703), (5, 0.010378769828567896), (7, 0.002452126937518789), (8, 0.009701893535400425), (9, 0.005578588782855245)]\n",
            "general: [(3, 0.029262507498801823), (7, 0.017686130905869235)]\n",
            "2-1946: [(3, 0.04186518350898265)]\n",
            "â¦: [(3, 0.04186518350898265)]\n",
            "specifically: [(3, 0.04186518350898265)]\n",
            "first: [(3, 0.016659831488621), (4, 0.01908939024737823), (5, 0.021309086787771048), (7, 0.010069128921694013)]\n",
            ":: [(4, 0.0670599130180875)]\n",
            "volume: [(4, 0.04797052277070929)]\n",
            "available: [(4, 0.04797052277070929)]\n",
            "interactive: [(4, 0.04797052277070929)]\n",
            "historyâis: [(4, 0.04797052277070929)]\n",
            "office: [(4, 0.0670599130180875)]\n",
            "resources: [(4, 0.0670599130180875)]\n",
            "security: [(4, 0.04797052277070929)]\n",
            "doe.gov/me70/history: [(4, 0.04797052277070929)]\n",
            "nuclear: [(4, 0.01908939024737823), (5, 0.021309086787771048), (7, 0.020138257843388026)]\n",
            "well: [(4, 0.04797052277070929)]\n",
            "http: [(4, 0.04797052277070929)]\n",
            "national: [(4, 0.04797052277070929)]\n",
            "websiteâthe: [(4, 0.04797052277070929)]\n",
            "complementary: [(4, 0.04797052277070929)]\n",
            "websites: [(4, 0.04797052277070929)]\n",
            "versions: [(4, 0.04797052277070929)]\n",
            "heritage: [(4, 0.0670599130180875)]\n",
            "//www.cfo: [(4, 0.04797052277070929)]\n",
            "website: [(4, 0.04797052277070929)]\n",
            "gadget: [(5, 0.05354849053474525)]\n",
            "â: [(5, 0.05354849053474525)]\n",
            "16: [(5, 0.05354849053474525)]\n",
            "classified: [(5, 0.05354849053474525)]\n",
            "weapon: [(5, 0.05354849053474525)]\n",
            "detonated: [(5, 0.05354849053474525)]\n",
            "nicknamed: [(5, 0.05354849053474525)]\n",
            "1945: [(5, 0.05354849053474525)]\n",
            "..: [(5, 0.05354849053474525)]\n",
            "began: [(5, 0.05354849053474525)]\n",
            "scientists: [(5, 0.05354849053474525)]\n",
            "photograph: [(5, 0.05354849053474525)]\n",
            "new: [(5, 0.05354849053474525)]\n",
            "features: [(5, 0.05354849053474525)]\n",
            "mexico: [(5, 0.05354849053474525)]\n",
            "age: [(5, 0.05354849053474525)]\n",
            "july: [(5, 0.05354849053474525)]\n",
            "desert: [(5, 0.05354849053474525)]\n",
            "bombs: [(6, 0.030871097546818875), (7, 0.01323047037720809), (8, 0.05234664366634505)]\n",
            "development: [(6, 0.04126763878036154), (7, 0.017686130905869235)]\n",
            "extraordinarily: [(6, 0.05904064341010374)]\n",
            "origins: [(6, 0.05904064341010374)]\n",
            "substitute: [(6, 0.05904064341010374)]\n",
            "literature: [(6, 0.05904064341010374)]\n",
            "attempt: [(6, 0.08253527756072308)]\n",
            "document: [(6, 0.05904064341010374)]\n",
            "rich: [(6, 0.05904064341010374)]\n",
            "collection: [(6, 0.05904064341010374)]\n",
            "kingdom: [(7, 0.02530313289004446)]\n",
            "physicist: [(7, 0.02530313289004446)]\n",
            "oppenheimer: [(7, 0.02530313289004446)]\n",
            "undertaking: [(7, 0.02530313289004446)]\n",
            "robert: [(7, 0.02530313289004446)]\n",
            "united: [(7, 0.02646094075441618), (8, 0.05234664366634505)]\n",
            "director: [(7, 0.02530313289004446)]\n",
            "produced: [(7, 0.02530313289004446)]\n",
            "component: [(7, 0.02530313289004446)]\n",
            "research: [(7, 0.02530313289004446)]\n",
            "1942: [(7, 0.017686130905869235), (8, 0.06997556141017827)]\n",
            "canada: [(7, 0.02530313289004446)]\n",
            "led: [(7, 0.02530313289004446)]\n",
            "los: [(7, 0.02530313289004446)]\n",
            "designed: [(7, 0.02530313289004446)]\n",
            "major: [(7, 0.02530313289004446)]\n",
            "actual: [(7, 0.02530313289004446)]\n",
            "designated: [(7, 0.02530313289004446)]\n",
            "alamos: [(7, 0.02530313289004446)]\n",
            "weapons: [(7, 0.02530313289004446)]\n",
            "states: [(7, 0.017686130905869235), (8, 0.06997556141017827)]\n",
            "support: [(7, 0.02530313289004446)]\n",
            "laboratory: [(7, 0.02530313289004446)]\n",
            "direction: [(7, 0.02530313289004446)]\n",
            "1946: [(7, 0.02530313289004446)]\n",
            "project-: [(8, 0.1001123953475672)]\n",
            "engineersbegan: [(8, 0.1001123953475672)]\n",
            "2: [(8, 0.1001123953475672)]\n",
            "june: [(8, 0.1001123953475672)]\n",
            "secret: [(8, 0.1001123953475672)]\n",
            "river: [(9, 0.08047189562170502)]\n",
            "b: [(9, 0.05756462732485115)]\n",
            "columbia: [(9, 0.05756462732485115)]\n",
            "ocean: [(9, 0.05756462732485115)]\n",
            "coast: [(9, 0.05756462732485115)]\n",
            "one: [(9, 0.05756462732485115)]\n",
            "'s: [(9, 0.05756462732485115)]\n",
            "pacific: [(9, 0.05756462732485115)]\n",
            "proximity: [(9, 0.05756462732485115)]\n",
            "selected: [(9, 0.05756462732485115)]\n",
            "american: [(9, 0.05756462732485115)]\n",
            "largest: [(9, 0.05756462732485115)]\n",
            "north: [(9, 0.05756462732485115)]\n",
            "main: [(9, 0.05756462732485115)]\n",
            "hanford: [(9, 0.05756462732485115)]\n",
            "reasons: [(9, 0.05756462732485115)]\n",
            "flowing: [(9, 0.05756462732485115)]\n",
            "site: [(9, 0.05756462732485115)]\n",
            "reactor: [(9, 0.05756462732485115)]\n"
          ]
        }
      ]
    },
    {
      "cell_type": "markdown",
      "metadata": {
        "id": "NaC_xUHP_LMI"
      },
      "source": [
        "## Packages\n",
        "\n",
        "Many Python packages come pre-installed in a new Colab notebook.\n",
        "You may install any additional packages that you need through [pip](https://pypi.org/project/pip/), Python's de facto package management system.\n",
        "\n",
        "Let's install `matplotlib` and `numpy` to plot the histogram of tokens in `passage`:"
      ]
    },
    {
      "cell_type": "code",
      "metadata": {
        "id": "tBZaOBmxiBcd",
        "colab": {
          "base_uri": "https://localhost:8080/"
        },
        "outputId": "997c96ad-2d31-44f0-be98-d2a0ea0d64ab"
      },
      "source": [
        "!pip install matplotlib\n",
        "!pip install numpy"
      ],
      "execution_count": 134,
      "outputs": [
        {
          "output_type": "stream",
          "name": "stdout",
          "text": [
            "Looking in indexes: https://pypi.org/simple, https://us-python.pkg.dev/colab-wheels/public/simple/\n",
            "Requirement already satisfied: matplotlib in /usr/local/lib/python3.9/dist-packages (3.7.1)\n",
            "Requirement already satisfied: pyparsing>=2.3.1 in /usr/local/lib/python3.9/dist-packages (from matplotlib) (3.0.9)\n",
            "Requirement already satisfied: cycler>=0.10 in /usr/local/lib/python3.9/dist-packages (from matplotlib) (0.11.0)\n",
            "Requirement already satisfied: python-dateutil>=2.7 in /usr/local/lib/python3.9/dist-packages (from matplotlib) (2.8.2)\n",
            "Requirement already satisfied: packaging>=20.0 in /usr/local/lib/python3.9/dist-packages (from matplotlib) (23.1)\n",
            "Requirement already satisfied: importlib-resources>=3.2.0 in /usr/local/lib/python3.9/dist-packages (from matplotlib) (5.12.0)\n",
            "Requirement already satisfied: pillow>=6.2.0 in /usr/local/lib/python3.9/dist-packages (from matplotlib) (8.4.0)\n",
            "Requirement already satisfied: fonttools>=4.22.0 in /usr/local/lib/python3.9/dist-packages (from matplotlib) (4.39.3)\n",
            "Requirement already satisfied: numpy>=1.20 in /usr/local/lib/python3.9/dist-packages (from matplotlib) (1.22.4)\n",
            "Requirement already satisfied: kiwisolver>=1.0.1 in /usr/local/lib/python3.9/dist-packages (from matplotlib) (1.4.4)\n",
            "Requirement already satisfied: contourpy>=1.0.1 in /usr/local/lib/python3.9/dist-packages (from matplotlib) (1.0.7)\n",
            "Requirement already satisfied: zipp>=3.1.0 in /usr/local/lib/python3.9/dist-packages (from importlib-resources>=3.2.0->matplotlib) (3.15.0)\n",
            "Requirement already satisfied: six>=1.5 in /usr/local/lib/python3.9/dist-packages (from python-dateutil>=2.7->matplotlib) (1.16.0)\n",
            "Looking in indexes: https://pypi.org/simple, https://us-python.pkg.dev/colab-wheels/public/simple/\n",
            "Requirement already satisfied: numpy in /usr/local/lib/python3.9/dist-packages (1.22.4)\n"
          ]
        }
      ]
    },
    {
      "cell_type": "code",
      "metadata": {
        "id": "mJwTr_2_2h93",
        "colab": {
          "base_uri": "https://localhost:8080/",
          "height": 523
        },
        "outputId": "179171b3-a71b-456e-e619-c3aee7244f49"
      },
      "source": [
        "import matplotlib.pyplot as plt\n",
        "import numpy as np\n",
        "\n",
        "%matplotlib inline\n",
        "x = np.arange(len(counts))\n",
        "y = list(counts.values())\n",
        "\n",
        "plt.bar(x, y, align='center', alpha=0.5)\n",
        "plt.xticks(x, list(counts.keys()), rotation='vertical')\n",
        "plt.ylabel('Term Frequency')\n",
        "plt.show()"
      ],
      "execution_count": 135,
      "outputs": [
        {
          "output_type": "display_data",
          "data": {
            "text/plain": [
              "<Figure size 640x480 with 1 Axes>"
            ],
            "image/png": "[encoded data removed]"
          },
          "metadata": {}
        }
      ]
    },
    {
      "cell_type": "markdown",
      "metadata": {
        "id": "kybDd4HiiDO7"
      },
      "source": [
        "### Exercise #10\n",
        "Create a bar graph for the TF-IDF values that you computed earlier for the toy collection."
      ]
    },
    {
      "cell_type": "code",
      "source": [
        "# Create a bar graph of all the terms and their TF-IDF scores\n",
        "\n",
        "terms = [term for term, tfidf in term_tfidfs]\n",
        "tfidfs = [tfidf for term, tfidf in term_tfidfs]\n",
        "plt.bar(terms, tfidfs)\n",
        "plt.xticks(rotation='vertical')\n",
        "plt.title('All terms by TF-IDF score')\n"
      ],
      "metadata": {
        "colab": {
          "base_uri": "https://localhost:8080/",
          "height": 608
        },
        "id": "n_JU1i7djOiN",
        "outputId": "a733d7ae-2ec8-441a-f8d5-fc51a1ce2fdf"
      },
      "execution_count": 136,
      "outputs": [
        {
          "output_type": "execute_result",
          "data": {
            "text/plain": [
              "Text(0.5, 1.0, 'All terms by TF-IDF score')"
            ]
          },
          "metadata": {},
          "execution_count": 136
        },
        {
          "output_type": "display_data",
          "data": {
            "text/plain": [
              "<Figure size 640x480 with 1 Axes>"
            ],
            "image/png": "[encoded data removed]"
          },
          "metadata": {}
        }
      ]
    },
    {
      "cell_type": "code",
      "metadata": {
        "id": "otg0XeD1MPHC",
        "colab": {
          "base_uri": "https://localhost:8080/",
          "height": 570
        },
        "outputId": "252471ed-b0db-4c84-8ed3-a965191297c0"
      },
      "source": [
        "# Sort the terms by their average TF-IDF score\n",
        "term_tfidfs = []\n",
        "for term, scores in tfidf_scores.items():\n",
        "    avg_tfidf = sum([score[1] for score in scores]) / len(scores)\n",
        "    term_tfidfs.append((term, avg_tfidf))\n",
        "term_tfidfs = sorted(term_tfidfs, key=lambda x: x[1], reverse=True)\n",
        "\n",
        "# Create a bar graph of the top 20 terms with the highest TF-IDF scores\n",
        "top_terms = term_tfidfs[:20]\n",
        "terms = [term for term, tfidf in top_terms]\n",
        "tfidfs = [tfidf for term, tfidf in top_terms]\n",
        "plt.bar(terms, tfidfs)\n",
        "plt.xticks(rotation='vertical')\n",
        "plt.title('Top 20 terms by TF-IDF score')\n",
        "plt.xlabel('Term')\n",
        "plt.ylabel('TF-IDF score')\n",
        "plt.show()\n"
      ],
      "execution_count": 137,
      "outputs": [
        {
          "output_type": "display_data",
          "data": {
            "text/plain": [
              "<Figure size 640x480 with 1 Axes>"
            ],
            "image/png": "[encoded data removed]"
          },
          "metadata": {}
        }
      ]
    }
  ],
  "metadata": {
    "colab": {
      "provenance": [],
      "collapsed_sections": [
        "BHrQ4LUWydFQ"
      ],
      "toc_visible": true,
      "include_colab_link": true
    },
    "kernelspec": {
      "display_name": "Python 3",
      "language": "python",
      "name": "python3"
    },
    "language_info": {
      "codemirror_mode": {
        "name": "ipython",
        "version": 3
      },
      "file_extension": ".py",
      "mimetype": "text/x-python",
      "name": "python",
      "nbconvert_exporter": "python",
      "pygments_lexer": "ipython3",
      "version": "3.7.2"
    }
  },
  "nbformat": 4,
  "nbformat_minor": 0
}
